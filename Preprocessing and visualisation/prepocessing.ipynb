{
  "nbformat": 4,
  "nbformat_minor": 0,
  "metadata": {
    "colab": {
      "name": "prepocessing.ipynb",
      "provenance": [],
      "collapsed_sections": []
    },
    "kernelspec": {
      "name": "python3",
      "display_name": "Python 3"
    }
  },
  "cells": [
    {
      "cell_type": "code",
      "metadata": {
        "id": "dCtmxb3fqGhj",
        "colab": {
          "base_uri": "https://localhost:8080/"
        },
        "outputId": "f730af01-f843-4ae4-a6f3-6791ebc56a3f"
      },
      "source": [
        "from google.colab import drive\n",
        "drive.mount('/content/drive')"
      ],
      "execution_count": null,
      "outputs": [
        {
          "output_type": "stream",
          "text": [
            "Mounted at /content/drive\n"
          ],
          "name": "stdout"
        }
      ]
    },
    {
      "cell_type": "code",
      "metadata": {
        "id": "LCvbgcjkbCte"
      },
      "source": [
        "import pandas as pd\n",
        "import numpy as np"
      ],
      "execution_count": null,
      "outputs": []
    },
    {
      "cell_type": "code",
      "metadata": {
        "id": "rwQSNLvureZM"
      },
      "source": [
        ""
      ],
      "execution_count": null,
      "outputs": []
    },
    {
      "cell_type": "markdown",
      "metadata": {
        "id": "yen5LbUQrfdQ"
      },
      "source": [
        "# Importing dataset"
      ]
    },
    {
      "cell_type": "code",
      "metadata": {
        "id": "zE1MGHq4qel1",
        "colab": {
          "base_uri": "https://localhost:8080/",
          "height": 195
        },
        "outputId": "8dd653ea-6176-4346-d009-3797c027faa3"
      },
      "source": [
        "df=pd.read_csv('/content/drive/My Drive/case study fods/master.csv')\n",
        "df.head(5)"
      ],
      "execution_count": null,
      "outputs": [
        {
          "output_type": "execute_result",
          "data": {
            "text/html": [
              "<div>\n",
              "<style scoped>\n",
              "    .dataframe tbody tr th:only-of-type {\n",
              "        vertical-align: middle;\n",
              "    }\n",
              "\n",
              "    .dataframe tbody tr th {\n",
              "        vertical-align: top;\n",
              "    }\n",
              "\n",
              "    .dataframe thead th {\n",
              "        text-align: right;\n",
              "    }\n",
              "</style>\n",
              "<table border=\"1\" class=\"dataframe\">\n",
              "  <thead>\n",
              "    <tr style=\"text-align: right;\">\n",
              "      <th></th>\n",
              "      <th>country</th>\n",
              "      <th>year</th>\n",
              "      <th>sex</th>\n",
              "      <th>age</th>\n",
              "      <th>suicides_no</th>\n",
              "      <th>population</th>\n",
              "      <th>suicides/100k pop</th>\n",
              "      <th>country-year</th>\n",
              "      <th>HDI for year</th>\n",
              "      <th>gdp_for_year ($)</th>\n",
              "      <th>gdp_per_capita ($)</th>\n",
              "      <th>generation</th>\n",
              "    </tr>\n",
              "  </thead>\n",
              "  <tbody>\n",
              "    <tr>\n",
              "      <th>0</th>\n",
              "      <td>Albania</td>\n",
              "      <td>1987</td>\n",
              "      <td>male</td>\n",
              "      <td>15-24 years</td>\n",
              "      <td>21</td>\n",
              "      <td>312900</td>\n",
              "      <td>6.71</td>\n",
              "      <td>Albania1987</td>\n",
              "      <td>NaN</td>\n",
              "      <td>2,156,624,900</td>\n",
              "      <td>796</td>\n",
              "      <td>Generation X</td>\n",
              "    </tr>\n",
              "    <tr>\n",
              "      <th>1</th>\n",
              "      <td>Albania</td>\n",
              "      <td>1987</td>\n",
              "      <td>male</td>\n",
              "      <td>35-54 years</td>\n",
              "      <td>16</td>\n",
              "      <td>308000</td>\n",
              "      <td>5.19</td>\n",
              "      <td>Albania1987</td>\n",
              "      <td>NaN</td>\n",
              "      <td>2,156,624,900</td>\n",
              "      <td>796</td>\n",
              "      <td>Silent</td>\n",
              "    </tr>\n",
              "    <tr>\n",
              "      <th>2</th>\n",
              "      <td>Albania</td>\n",
              "      <td>1987</td>\n",
              "      <td>female</td>\n",
              "      <td>15-24 years</td>\n",
              "      <td>14</td>\n",
              "      <td>289700</td>\n",
              "      <td>4.83</td>\n",
              "      <td>Albania1987</td>\n",
              "      <td>NaN</td>\n",
              "      <td>2,156,624,900</td>\n",
              "      <td>796</td>\n",
              "      <td>Generation X</td>\n",
              "    </tr>\n",
              "    <tr>\n",
              "      <th>3</th>\n",
              "      <td>Albania</td>\n",
              "      <td>1987</td>\n",
              "      <td>male</td>\n",
              "      <td>75+ years</td>\n",
              "      <td>1</td>\n",
              "      <td>21800</td>\n",
              "      <td>4.59</td>\n",
              "      <td>Albania1987</td>\n",
              "      <td>NaN</td>\n",
              "      <td>2,156,624,900</td>\n",
              "      <td>796</td>\n",
              "      <td>G.I. Generation</td>\n",
              "    </tr>\n",
              "    <tr>\n",
              "      <th>4</th>\n",
              "      <td>Albania</td>\n",
              "      <td>1987</td>\n",
              "      <td>male</td>\n",
              "      <td>25-34 years</td>\n",
              "      <td>9</td>\n",
              "      <td>274300</td>\n",
              "      <td>3.28</td>\n",
              "      <td>Albania1987</td>\n",
              "      <td>NaN</td>\n",
              "      <td>2,156,624,900</td>\n",
              "      <td>796</td>\n",
              "      <td>Boomers</td>\n",
              "    </tr>\n",
              "  </tbody>\n",
              "</table>\n",
              "</div>"
            ],
            "text/plain": [
              "   country  year  ... gdp_per_capita ($)       generation\n",
              "0  Albania  1987  ...                796     Generation X\n",
              "1  Albania  1987  ...                796           Silent\n",
              "2  Albania  1987  ...                796     Generation X\n",
              "3  Albania  1987  ...                796  G.I. Generation\n",
              "4  Albania  1987  ...                796          Boomers\n",
              "\n",
              "[5 rows x 12 columns]"
            ]
          },
          "metadata": {
            "tags": []
          },
          "execution_count": 3
        }
      ]
    },
    {
      "cell_type": "code",
      "metadata": {
        "id": "z3M8IJOwCC_m",
        "colab": {
          "base_uri": "https://localhost:8080/"
        },
        "outputId": "16ddf760-ff78-4423-af1e-64b75067bc6b"
      },
      "source": [
        "df.shape"
      ],
      "execution_count": null,
      "outputs": [
        {
          "output_type": "execute_result",
          "data": {
            "text/plain": [
              "(27820, 12)"
            ]
          },
          "metadata": {
            "tags": []
          },
          "execution_count": 4
        }
      ]
    },
    {
      "cell_type": "markdown",
      "metadata": {
        "id": "lxv5jdtV29q4"
      },
      "source": [
        "27820 rows of data are available"
      ]
    },
    {
      "cell_type": "code",
      "metadata": {
        "id": "QLDV2guiCDEW",
        "colab": {
          "base_uri": "https://localhost:8080/"
        },
        "outputId": "7ec76eb4-7638-46ab-842a-ece07e00bd30"
      },
      "source": [
        "df.columns"
      ],
      "execution_count": null,
      "outputs": [
        {
          "output_type": "execute_result",
          "data": {
            "text/plain": [
              "Index(['country', 'year', 'sex', 'age', 'suicides_no', 'population',\n",
              "       'suicides/100k pop', 'country-year', 'HDI for year',\n",
              "       ' gdp_for_year ($) ', 'gdp_per_capita ($)', 'generation'],\n",
              "      dtype='object')"
            ]
          },
          "metadata": {
            "tags": []
          },
          "execution_count": 5
        }
      ]
    },
    {
      "cell_type": "markdown",
      "metadata": {
        "id": "GE6-ZBc53FWS"
      },
      "source": [
        "12 columns to describe the data are available"
      ]
    },
    {
      "cell_type": "code",
      "metadata": {
        "id": "smYT4ZngCIGH",
        "colab": {
          "base_uri": "https://localhost:8080/"
        },
        "outputId": "4e9ace07-9a96-4c07-ea76-c917015b3d12"
      },
      "source": [
        "df.info()"
      ],
      "execution_count": null,
      "outputs": [
        {
          "output_type": "stream",
          "text": [
            "<class 'pandas.core.frame.DataFrame'>\n",
            "RangeIndex: 27820 entries, 0 to 27819\n",
            "Data columns (total 12 columns):\n",
            " #   Column              Non-Null Count  Dtype  \n",
            "---  ------              --------------  -----  \n",
            " 0   country             27820 non-null  object \n",
            " 1   year                27820 non-null  int64  \n",
            " 2   sex                 27820 non-null  object \n",
            " 3   age                 27820 non-null  object \n",
            " 4   suicides_no         27820 non-null  int64  \n",
            " 5   population          27820 non-null  int64  \n",
            " 6   suicides/100k pop   27820 non-null  float64\n",
            " 7   country-year        27820 non-null  object \n",
            " 8   HDI for year        8364 non-null   float64\n",
            " 9    gdp_for_year ($)   27820 non-null  object \n",
            " 10  gdp_per_capita ($)  27820 non-null  int64  \n",
            " 11  generation          27820 non-null  object \n",
            "dtypes: float64(2), int64(4), object(6)\n",
            "memory usage: 2.5+ MB\n"
          ],
          "name": "stdout"
        }
      ]
    },
    {
      "cell_type": "code",
      "metadata": {
        "id": "Evu8l2hQqJIP",
        "colab": {
          "base_uri": "https://localhost:8080/"
        },
        "outputId": "ce8bd5d5-25ba-449e-a995-8241165daa7a"
      },
      "source": [
        "df.dtypes"
      ],
      "execution_count": null,
      "outputs": [
        {
          "output_type": "execute_result",
          "data": {
            "text/plain": [
              "country                object\n",
              "year                    int64\n",
              "sex                    object\n",
              "age                    object\n",
              "suicides_no             int64\n",
              "population              int64\n",
              "suicides/100k pop     float64\n",
              "country-year           object\n",
              "HDI for year          float64\n",
              " gdp_for_year ($)      object\n",
              "gdp_per_capita ($)      int64\n",
              "generation             object\n",
              "dtype: object"
            ]
          },
          "metadata": {
            "tags": []
          },
          "execution_count": 7
        }
      ]
    },
    {
      "cell_type": "markdown",
      "metadata": {
        "id": "dPWSfzzUe6q0"
      },
      "source": [
        "The gdp_for_year is given as object type(because of the commas)."
      ]
    },
    {
      "cell_type": "code",
      "metadata": {
        "id": "giX1nFByqkK_",
        "colab": {
          "base_uri": "https://localhost:8080/",
          "height": 284
        },
        "outputId": "32ab7829-e0b4-4514-8446-6d0989883501"
      },
      "source": [
        "df.describe()"
      ],
      "execution_count": null,
      "outputs": [
        {
          "output_type": "execute_result",
          "data": {
            "text/html": [
              "<div>\n",
              "<style scoped>\n",
              "    .dataframe tbody tr th:only-of-type {\n",
              "        vertical-align: middle;\n",
              "    }\n",
              "\n",
              "    .dataframe tbody tr th {\n",
              "        vertical-align: top;\n",
              "    }\n",
              "\n",
              "    .dataframe thead th {\n",
              "        text-align: right;\n",
              "    }\n",
              "</style>\n",
              "<table border=\"1\" class=\"dataframe\">\n",
              "  <thead>\n",
              "    <tr style=\"text-align: right;\">\n",
              "      <th></th>\n",
              "      <th>year</th>\n",
              "      <th>suicides_no</th>\n",
              "      <th>population</th>\n",
              "      <th>suicides/100k pop</th>\n",
              "      <th>HDI for year</th>\n",
              "      <th>gdp_per_capita ($)</th>\n",
              "    </tr>\n",
              "  </thead>\n",
              "  <tbody>\n",
              "    <tr>\n",
              "      <th>count</th>\n",
              "      <td>27820.000000</td>\n",
              "      <td>27820.000000</td>\n",
              "      <td>2.782000e+04</td>\n",
              "      <td>27820.000000</td>\n",
              "      <td>8364.000000</td>\n",
              "      <td>27820.000000</td>\n",
              "    </tr>\n",
              "    <tr>\n",
              "      <th>mean</th>\n",
              "      <td>2001.258375</td>\n",
              "      <td>242.574407</td>\n",
              "      <td>1.844794e+06</td>\n",
              "      <td>12.816097</td>\n",
              "      <td>0.776601</td>\n",
              "      <td>16866.464414</td>\n",
              "    </tr>\n",
              "    <tr>\n",
              "      <th>std</th>\n",
              "      <td>8.469055</td>\n",
              "      <td>902.047917</td>\n",
              "      <td>3.911779e+06</td>\n",
              "      <td>18.961511</td>\n",
              "      <td>0.093367</td>\n",
              "      <td>18887.576472</td>\n",
              "    </tr>\n",
              "    <tr>\n",
              "      <th>min</th>\n",
              "      <td>1985.000000</td>\n",
              "      <td>0.000000</td>\n",
              "      <td>2.780000e+02</td>\n",
              "      <td>0.000000</td>\n",
              "      <td>0.483000</td>\n",
              "      <td>251.000000</td>\n",
              "    </tr>\n",
              "    <tr>\n",
              "      <th>25%</th>\n",
              "      <td>1995.000000</td>\n",
              "      <td>3.000000</td>\n",
              "      <td>9.749850e+04</td>\n",
              "      <td>0.920000</td>\n",
              "      <td>0.713000</td>\n",
              "      <td>3447.000000</td>\n",
              "    </tr>\n",
              "    <tr>\n",
              "      <th>50%</th>\n",
              "      <td>2002.000000</td>\n",
              "      <td>25.000000</td>\n",
              "      <td>4.301500e+05</td>\n",
              "      <td>5.990000</td>\n",
              "      <td>0.779000</td>\n",
              "      <td>9372.000000</td>\n",
              "    </tr>\n",
              "    <tr>\n",
              "      <th>75%</th>\n",
              "      <td>2008.000000</td>\n",
              "      <td>131.000000</td>\n",
              "      <td>1.486143e+06</td>\n",
              "      <td>16.620000</td>\n",
              "      <td>0.855000</td>\n",
              "      <td>24874.000000</td>\n",
              "    </tr>\n",
              "    <tr>\n",
              "      <th>max</th>\n",
              "      <td>2016.000000</td>\n",
              "      <td>22338.000000</td>\n",
              "      <td>4.380521e+07</td>\n",
              "      <td>224.970000</td>\n",
              "      <td>0.944000</td>\n",
              "      <td>126352.000000</td>\n",
              "    </tr>\n",
              "  </tbody>\n",
              "</table>\n",
              "</div>"
            ],
            "text/plain": [
              "               year   suicides_no  ...  HDI for year  gdp_per_capita ($)\n",
              "count  27820.000000  27820.000000  ...   8364.000000        27820.000000\n",
              "mean    2001.258375    242.574407  ...      0.776601        16866.464414\n",
              "std        8.469055    902.047917  ...      0.093367        18887.576472\n",
              "min     1985.000000      0.000000  ...      0.483000          251.000000\n",
              "25%     1995.000000      3.000000  ...      0.713000         3447.000000\n",
              "50%     2002.000000     25.000000  ...      0.779000         9372.000000\n",
              "75%     2008.000000    131.000000  ...      0.855000        24874.000000\n",
              "max     2016.000000  22338.000000  ...      0.944000       126352.000000\n",
              "\n",
              "[8 rows x 6 columns]"
            ]
          },
          "metadata": {
            "tags": []
          },
          "execution_count": 8
        }
      ]
    },
    {
      "cell_type": "code",
      "metadata": {
        "id": "VRg39wDAuvP-"
      },
      "source": [
        ""
      ],
      "execution_count": null,
      "outputs": []
    },
    {
      "cell_type": "code",
      "metadata": {
        "id": "iXBW79tOuvW8"
      },
      "source": [
        ""
      ],
      "execution_count": null,
      "outputs": []
    },
    {
      "cell_type": "code",
      "metadata": {
        "id": "n7SDNTcGuvae"
      },
      "source": [
        ""
      ],
      "execution_count": null,
      "outputs": []
    },
    {
      "cell_type": "code",
      "metadata": {
        "id": "9E3PL6jtuvdm"
      },
      "source": [
        ""
      ],
      "execution_count": null,
      "outputs": []
    },
    {
      "cell_type": "code",
      "metadata": {
        "id": "0_Dei6-Auvg5"
      },
      "source": [
        ""
      ],
      "execution_count": null,
      "outputs": []
    },
    {
      "cell_type": "markdown",
      "metadata": {
        "id": "MkefM9ZbrkoX"
      },
      "source": [
        "# **Checking for null values**"
      ]
    },
    {
      "cell_type": "code",
      "metadata": {
        "id": "fni3EYrbqtKj",
        "colab": {
          "base_uri": "https://localhost:8080/"
        },
        "outputId": "10b0f1df-1d5c-4c68-96ea-9fa571d76d7d"
      },
      "source": [
        "df.isnull().sum()"
      ],
      "execution_count": null,
      "outputs": [
        {
          "output_type": "execute_result",
          "data": {
            "text/plain": [
              "country                   0\n",
              "year                      0\n",
              "sex                       0\n",
              "age                       0\n",
              "suicides_no               0\n",
              "population                0\n",
              "suicides/100k pop         0\n",
              "country-year              0\n",
              "HDI for year          19456\n",
              " gdp_for_year ($)         0\n",
              "gdp_per_capita ($)        0\n",
              "generation                0\n",
              "dtype: int64"
            ]
          },
          "metadata": {
            "tags": []
          },
          "execution_count": 98
        }
      ]
    },
    {
      "cell_type": "markdown",
      "metadata": {
        "id": "NkDnWpuQhzZc"
      },
      "source": [
        "*The HDI_for_year contains null values*"
      ]
    },
    {
      "cell_type": "code",
      "metadata": {
        "id": "MISWyS0Zq4zG",
        "colab": {
          "base_uri": "https://localhost:8080/"
        },
        "outputId": "124fd8bc-241e-48ce-a6a0-15f81a09dc77"
      },
      "source": [
        "df['HDI for year'].value_counts()"
      ],
      "execution_count": null,
      "outputs": [
        {
          "output_type": "execute_result",
          "data": {
            "text/plain": [
              "0.888    84\n",
              "0.772    84\n",
              "0.713    84\n",
              "0.830    72\n",
              "0.793    72\n",
              "         ..\n",
              "0.614    12\n",
              "0.728    12\n",
              "0.522    12\n",
              "0.879    12\n",
              "0.924    12\n",
              "Name: HDI for year, Length: 305, dtype: int64"
            ]
          },
          "metadata": {
            "tags": []
          },
          "execution_count": 10
        }
      ]
    },
    {
      "cell_type": "markdown",
      "metadata": {
        "id": "obrgAAAMiC2V"
      },
      "source": [
        "*Count of each value in HDI column is determined*"
      ]
    },
    {
      "cell_type": "code",
      "metadata": {
        "id": "OYxuJe1_q_mS",
        "colab": {
          "base_uri": "https://localhost:8080/",
          "height": 195
        },
        "outputId": "4385a4bb-0aff-4ec7-dcfc-3947c9c80ef6"
      },
      "source": [
        "df=df.fillna(df['HDI for year'].mean())\n",
        "df.head()"
      ],
      "execution_count": null,
      "outputs": [
        {
          "output_type": "execute_result",
          "data": {
            "text/html": [
              "<div>\n",
              "<style scoped>\n",
              "    .dataframe tbody tr th:only-of-type {\n",
              "        vertical-align: middle;\n",
              "    }\n",
              "\n",
              "    .dataframe tbody tr th {\n",
              "        vertical-align: top;\n",
              "    }\n",
              "\n",
              "    .dataframe thead th {\n",
              "        text-align: right;\n",
              "    }\n",
              "</style>\n",
              "<table border=\"1\" class=\"dataframe\">\n",
              "  <thead>\n",
              "    <tr style=\"text-align: right;\">\n",
              "      <th></th>\n",
              "      <th>country</th>\n",
              "      <th>year</th>\n",
              "      <th>sex</th>\n",
              "      <th>age</th>\n",
              "      <th>suicides_no</th>\n",
              "      <th>population</th>\n",
              "      <th>suicides/100k pop</th>\n",
              "      <th>country-year</th>\n",
              "      <th>HDI for year</th>\n",
              "      <th>gdp_for_year ($)</th>\n",
              "      <th>gdp_per_capita ($)</th>\n",
              "      <th>generation</th>\n",
              "    </tr>\n",
              "  </thead>\n",
              "  <tbody>\n",
              "    <tr>\n",
              "      <th>0</th>\n",
              "      <td>Albania</td>\n",
              "      <td>1987</td>\n",
              "      <td>male</td>\n",
              "      <td>15-24 years</td>\n",
              "      <td>21</td>\n",
              "      <td>312900</td>\n",
              "      <td>6.71</td>\n",
              "      <td>Albania1987</td>\n",
              "      <td>0.776601</td>\n",
              "      <td>2,156,624,900</td>\n",
              "      <td>796</td>\n",
              "      <td>Generation X</td>\n",
              "    </tr>\n",
              "    <tr>\n",
              "      <th>1</th>\n",
              "      <td>Albania</td>\n",
              "      <td>1987</td>\n",
              "      <td>male</td>\n",
              "      <td>35-54 years</td>\n",
              "      <td>16</td>\n",
              "      <td>308000</td>\n",
              "      <td>5.19</td>\n",
              "      <td>Albania1987</td>\n",
              "      <td>0.776601</td>\n",
              "      <td>2,156,624,900</td>\n",
              "      <td>796</td>\n",
              "      <td>Silent</td>\n",
              "    </tr>\n",
              "    <tr>\n",
              "      <th>2</th>\n",
              "      <td>Albania</td>\n",
              "      <td>1987</td>\n",
              "      <td>female</td>\n",
              "      <td>15-24 years</td>\n",
              "      <td>14</td>\n",
              "      <td>289700</td>\n",
              "      <td>4.83</td>\n",
              "      <td>Albania1987</td>\n",
              "      <td>0.776601</td>\n",
              "      <td>2,156,624,900</td>\n",
              "      <td>796</td>\n",
              "      <td>Generation X</td>\n",
              "    </tr>\n",
              "    <tr>\n",
              "      <th>3</th>\n",
              "      <td>Albania</td>\n",
              "      <td>1987</td>\n",
              "      <td>male</td>\n",
              "      <td>75+ years</td>\n",
              "      <td>1</td>\n",
              "      <td>21800</td>\n",
              "      <td>4.59</td>\n",
              "      <td>Albania1987</td>\n",
              "      <td>0.776601</td>\n",
              "      <td>2,156,624,900</td>\n",
              "      <td>796</td>\n",
              "      <td>G.I. Generation</td>\n",
              "    </tr>\n",
              "    <tr>\n",
              "      <th>4</th>\n",
              "      <td>Albania</td>\n",
              "      <td>1987</td>\n",
              "      <td>male</td>\n",
              "      <td>25-34 years</td>\n",
              "      <td>9</td>\n",
              "      <td>274300</td>\n",
              "      <td>3.28</td>\n",
              "      <td>Albania1987</td>\n",
              "      <td>0.776601</td>\n",
              "      <td>2,156,624,900</td>\n",
              "      <td>796</td>\n",
              "      <td>Boomers</td>\n",
              "    </tr>\n",
              "  </tbody>\n",
              "</table>\n",
              "</div>"
            ],
            "text/plain": [
              "   country  year  ... gdp_per_capita ($)       generation\n",
              "0  Albania  1987  ...                796     Generation X\n",
              "1  Albania  1987  ...                796           Silent\n",
              "2  Albania  1987  ...                796     Generation X\n",
              "3  Albania  1987  ...                796  G.I. Generation\n",
              "4  Albania  1987  ...                796          Boomers\n",
              "\n",
              "[5 rows x 12 columns]"
            ]
          },
          "metadata": {
            "tags": []
          },
          "execution_count": 4
        }
      ]
    },
    {
      "cell_type": "markdown",
      "metadata": {
        "id": "S9niZhJtid6b"
      },
      "source": [
        "*The null values are filled with mean of the HDI column*"
      ]
    },
    {
      "cell_type": "code",
      "metadata": {
        "id": "RFXRWCYh9cYR",
        "colab": {
          "base_uri": "https://localhost:8080/"
        },
        "outputId": "f9558794-28d7-41a7-c691-528578c5e366"
      },
      "source": [
        "df.isnull().sum().sum()"
      ],
      "execution_count": null,
      "outputs": [
        {
          "output_type": "execute_result",
          "data": {
            "text/plain": [
              "0"
            ]
          },
          "metadata": {
            "tags": []
          },
          "execution_count": 177
        }
      ]
    },
    {
      "cell_type": "code",
      "metadata": {
        "id": "WGxs6l8nrESe",
        "colab": {
          "base_uri": "https://localhost:8080/",
          "height": 195
        },
        "outputId": "1e49138f-856a-4bf8-ea49-e0b2460c9045"
      },
      "source": [
        "df[' gdp_for_year ($) ']=df[' gdp_for_year ($) '].str.replace(',','',regex=True)\n",
        "df[' gdp_for_year ($) ']=df[' gdp_for_year ($) '].astype(int)\n",
        "df.head(5)"
      ],
      "execution_count": null,
      "outputs": [
        {
          "output_type": "execute_result",
          "data": {
            "text/html": [
              "<div>\n",
              "<style scoped>\n",
              "    .dataframe tbody tr th:only-of-type {\n",
              "        vertical-align: middle;\n",
              "    }\n",
              "\n",
              "    .dataframe tbody tr th {\n",
              "        vertical-align: top;\n",
              "    }\n",
              "\n",
              "    .dataframe thead th {\n",
              "        text-align: right;\n",
              "    }\n",
              "</style>\n",
              "<table border=\"1\" class=\"dataframe\">\n",
              "  <thead>\n",
              "    <tr style=\"text-align: right;\">\n",
              "      <th></th>\n",
              "      <th>country</th>\n",
              "      <th>year</th>\n",
              "      <th>sex</th>\n",
              "      <th>age</th>\n",
              "      <th>suicides_no</th>\n",
              "      <th>population</th>\n",
              "      <th>suicides/100k pop</th>\n",
              "      <th>country-year</th>\n",
              "      <th>HDI for year</th>\n",
              "      <th>gdp_for_year ($)</th>\n",
              "      <th>gdp_per_capita ($)</th>\n",
              "      <th>generation</th>\n",
              "    </tr>\n",
              "  </thead>\n",
              "  <tbody>\n",
              "    <tr>\n",
              "      <th>0</th>\n",
              "      <td>Albania</td>\n",
              "      <td>1987</td>\n",
              "      <td>male</td>\n",
              "      <td>15-24 years</td>\n",
              "      <td>21</td>\n",
              "      <td>312900</td>\n",
              "      <td>6.71</td>\n",
              "      <td>Albania1987</td>\n",
              "      <td>0.776601</td>\n",
              "      <td>2156624900</td>\n",
              "      <td>796</td>\n",
              "      <td>Generation X</td>\n",
              "    </tr>\n",
              "    <tr>\n",
              "      <th>1</th>\n",
              "      <td>Albania</td>\n",
              "      <td>1987</td>\n",
              "      <td>male</td>\n",
              "      <td>35-54 years</td>\n",
              "      <td>16</td>\n",
              "      <td>308000</td>\n",
              "      <td>5.19</td>\n",
              "      <td>Albania1987</td>\n",
              "      <td>0.776601</td>\n",
              "      <td>2156624900</td>\n",
              "      <td>796</td>\n",
              "      <td>Silent</td>\n",
              "    </tr>\n",
              "    <tr>\n",
              "      <th>2</th>\n",
              "      <td>Albania</td>\n",
              "      <td>1987</td>\n",
              "      <td>female</td>\n",
              "      <td>15-24 years</td>\n",
              "      <td>14</td>\n",
              "      <td>289700</td>\n",
              "      <td>4.83</td>\n",
              "      <td>Albania1987</td>\n",
              "      <td>0.776601</td>\n",
              "      <td>2156624900</td>\n",
              "      <td>796</td>\n",
              "      <td>Generation X</td>\n",
              "    </tr>\n",
              "    <tr>\n",
              "      <th>3</th>\n",
              "      <td>Albania</td>\n",
              "      <td>1987</td>\n",
              "      <td>male</td>\n",
              "      <td>75+ years</td>\n",
              "      <td>1</td>\n",
              "      <td>21800</td>\n",
              "      <td>4.59</td>\n",
              "      <td>Albania1987</td>\n",
              "      <td>0.776601</td>\n",
              "      <td>2156624900</td>\n",
              "      <td>796</td>\n",
              "      <td>G.I. Generation</td>\n",
              "    </tr>\n",
              "    <tr>\n",
              "      <th>4</th>\n",
              "      <td>Albania</td>\n",
              "      <td>1987</td>\n",
              "      <td>male</td>\n",
              "      <td>25-34 years</td>\n",
              "      <td>9</td>\n",
              "      <td>274300</td>\n",
              "      <td>3.28</td>\n",
              "      <td>Albania1987</td>\n",
              "      <td>0.776601</td>\n",
              "      <td>2156624900</td>\n",
              "      <td>796</td>\n",
              "      <td>Boomers</td>\n",
              "    </tr>\n",
              "  </tbody>\n",
              "</table>\n",
              "</div>"
            ],
            "text/plain": [
              "   country  year  ... gdp_per_capita ($)       generation\n",
              "0  Albania  1987  ...                796     Generation X\n",
              "1  Albania  1987  ...                796           Silent\n",
              "2  Albania  1987  ...                796     Generation X\n",
              "3  Albania  1987  ...                796  G.I. Generation\n",
              "4  Albania  1987  ...                796          Boomers\n",
              "\n",
              "[5 rows x 12 columns]"
            ]
          },
          "metadata": {
            "tags": []
          },
          "execution_count": 5
        }
      ]
    },
    {
      "cell_type": "markdown",
      "metadata": {
        "id": "QiGBwAVfiryx"
      },
      "source": [
        "*Removing commas from the gdp value and converting it into integer values*"
      ]
    },
    {
      "cell_type": "code",
      "metadata": {
        "id": "jMdnpjAw54_z"
      },
      "source": [
        ""
      ],
      "execution_count": null,
      "outputs": []
    },
    {
      "cell_type": "code",
      "metadata": {
        "id": "YCjLppHV7b1k"
      },
      "source": [
        ""
      ],
      "execution_count": null,
      "outputs": []
    },
    {
      "cell_type": "code",
      "metadata": {
        "id": "pCEkp0r-7gy_"
      },
      "source": [
        ""
      ],
      "execution_count": null,
      "outputs": []
    },
    {
      "cell_type": "code",
      "metadata": {
        "id": "fdQt1FAbpXR7"
      },
      "source": [
        ""
      ],
      "execution_count": null,
      "outputs": []
    },
    {
      "cell_type": "markdown",
      "metadata": {
        "id": "Wf1XwK6-ruTn"
      },
      "source": [
        "# Dropping unwanted columns"
      ]
    },
    {
      "cell_type": "code",
      "metadata": {
        "id": "gLuDe1fLqCD8"
      },
      "source": [
        "df=df.drop(['country-year'],axis=1)"
      ],
      "execution_count": null,
      "outputs": []
    },
    {
      "cell_type": "code",
      "metadata": {
        "id": "jmS6igue77xk",
        "colab": {
          "base_uri": "https://localhost:8080/",
          "height": 195
        },
        "outputId": "45e4ec66-d0aa-4085-fea5-7f6bf9f25235"
      },
      "source": [
        "df['age']=df['age'].str.replace('years','',regex=True)\n",
        "df.head(5)"
      ],
      "execution_count": null,
      "outputs": [
        {
          "output_type": "execute_result",
          "data": {
            "text/html": [
              "<div>\n",
              "<style scoped>\n",
              "    .dataframe tbody tr th:only-of-type {\n",
              "        vertical-align: middle;\n",
              "    }\n",
              "\n",
              "    .dataframe tbody tr th {\n",
              "        vertical-align: top;\n",
              "    }\n",
              "\n",
              "    .dataframe thead th {\n",
              "        text-align: right;\n",
              "    }\n",
              "</style>\n",
              "<table border=\"1\" class=\"dataframe\">\n",
              "  <thead>\n",
              "    <tr style=\"text-align: right;\">\n",
              "      <th></th>\n",
              "      <th>country</th>\n",
              "      <th>year</th>\n",
              "      <th>sex</th>\n",
              "      <th>age</th>\n",
              "      <th>suicides_no</th>\n",
              "      <th>population</th>\n",
              "      <th>suicides/100k pop</th>\n",
              "      <th>country-year</th>\n",
              "      <th>HDI for year</th>\n",
              "      <th>gdp_for_year ($)</th>\n",
              "      <th>gdp_per_capita ($)</th>\n",
              "      <th>generation</th>\n",
              "    </tr>\n",
              "  </thead>\n",
              "  <tbody>\n",
              "    <tr>\n",
              "      <th>0</th>\n",
              "      <td>Albania</td>\n",
              "      <td>1987</td>\n",
              "      <td>male</td>\n",
              "      <td>15-24</td>\n",
              "      <td>21</td>\n",
              "      <td>312900</td>\n",
              "      <td>6.71</td>\n",
              "      <td>Albania1987</td>\n",
              "      <td>0.776601</td>\n",
              "      <td>2156624900</td>\n",
              "      <td>796</td>\n",
              "      <td>Generation X</td>\n",
              "    </tr>\n",
              "    <tr>\n",
              "      <th>1</th>\n",
              "      <td>Albania</td>\n",
              "      <td>1987</td>\n",
              "      <td>male</td>\n",
              "      <td>35-54</td>\n",
              "      <td>16</td>\n",
              "      <td>308000</td>\n",
              "      <td>5.19</td>\n",
              "      <td>Albania1987</td>\n",
              "      <td>0.776601</td>\n",
              "      <td>2156624900</td>\n",
              "      <td>796</td>\n",
              "      <td>Silent</td>\n",
              "    </tr>\n",
              "    <tr>\n",
              "      <th>2</th>\n",
              "      <td>Albania</td>\n",
              "      <td>1987</td>\n",
              "      <td>female</td>\n",
              "      <td>15-24</td>\n",
              "      <td>14</td>\n",
              "      <td>289700</td>\n",
              "      <td>4.83</td>\n",
              "      <td>Albania1987</td>\n",
              "      <td>0.776601</td>\n",
              "      <td>2156624900</td>\n",
              "      <td>796</td>\n",
              "      <td>Generation X</td>\n",
              "    </tr>\n",
              "    <tr>\n",
              "      <th>3</th>\n",
              "      <td>Albania</td>\n",
              "      <td>1987</td>\n",
              "      <td>male</td>\n",
              "      <td>75+</td>\n",
              "      <td>1</td>\n",
              "      <td>21800</td>\n",
              "      <td>4.59</td>\n",
              "      <td>Albania1987</td>\n",
              "      <td>0.776601</td>\n",
              "      <td>2156624900</td>\n",
              "      <td>796</td>\n",
              "      <td>G.I. Generation</td>\n",
              "    </tr>\n",
              "    <tr>\n",
              "      <th>4</th>\n",
              "      <td>Albania</td>\n",
              "      <td>1987</td>\n",
              "      <td>male</td>\n",
              "      <td>25-34</td>\n",
              "      <td>9</td>\n",
              "      <td>274300</td>\n",
              "      <td>3.28</td>\n",
              "      <td>Albania1987</td>\n",
              "      <td>0.776601</td>\n",
              "      <td>2156624900</td>\n",
              "      <td>796</td>\n",
              "      <td>Boomers</td>\n",
              "    </tr>\n",
              "  </tbody>\n",
              "</table>\n",
              "</div>"
            ],
            "text/plain": [
              "   country  year  ... gdp_per_capita ($)       generation\n",
              "0  Albania  1987  ...                796     Generation X\n",
              "1  Albania  1987  ...                796           Silent\n",
              "2  Albania  1987  ...                796     Generation X\n",
              "3  Albania  1987  ...                796  G.I. Generation\n",
              "4  Albania  1987  ...                796          Boomers\n",
              "\n",
              "[5 rows x 12 columns]"
            ]
          },
          "metadata": {
            "tags": []
          },
          "execution_count": 6
        }
      ]
    },
    {
      "cell_type": "code",
      "metadata": {
        "id": "hFLDNkyEqREj"
      },
      "source": [
        ""
      ],
      "execution_count": null,
      "outputs": []
    },
    {
      "cell_type": "code",
      "metadata": {
        "id": "yz2gtOtjqU8E"
      },
      "source": [
        "df.describe()\n",
        "df['year']=df['year'].astype(object)"
      ],
      "execution_count": null,
      "outputs": []
    },
    {
      "cell_type": "markdown",
      "metadata": {
        "id": "IfCvIgAt5eFn"
      },
      "source": [
        "# Using pivot table to find country wise average suicide rates in particular year"
      ]
    },
    {
      "cell_type": "code",
      "metadata": {
        "id": "Xjjnwr6l6g2g"
      },
      "source": [
        ""
      ],
      "execution_count": null,
      "outputs": []
    },
    {
      "cell_type": "code",
      "metadata": {
        "id": "NBpujw0jXAzw",
        "colab": {
          "base_uri": "https://localhost:8080/",
          "height": 994
        },
        "outputId": "486d377e-70f5-4315-a78e-931a7da04133"
      },
      "source": [
        "p=df.pivot_table(index='year',columns='country',values='suicides_no')\n",
        "p=p.dropna(axis=1)\n",
        "p.index.name=None\n",
        "p.columns.name=None\n",
        "p"
      ],
      "execution_count": null,
      "outputs": [
        {
          "output_type": "execute_result",
          "data": {
            "text/html": [
              "<div>\n",
              "<style scoped>\n",
              "    .dataframe tbody tr th:only-of-type {\n",
              "        vertical-align: middle;\n",
              "    }\n",
              "\n",
              "    .dataframe tbody tr th {\n",
              "        vertical-align: top;\n",
              "    }\n",
              "\n",
              "    .dataframe thead th {\n",
              "        text-align: right;\n",
              "    }\n",
              "</style>\n",
              "<table border=\"1\" class=\"dataframe\">\n",
              "  <thead>\n",
              "    <tr style=\"text-align: right;\">\n",
              "      <th></th>\n",
              "      <th>Austria</th>\n",
              "      <th>Iceland</th>\n",
              "      <th>Mauritius</th>\n",
              "      <th>Netherlands</th>\n",
              "    </tr>\n",
              "  </thead>\n",
              "  <tbody>\n",
              "    <tr>\n",
              "      <th>1985</th>\n",
              "      <td>174.250000</td>\n",
              "      <td>2.666667</td>\n",
              "      <td>8.666667</td>\n",
              "      <td>136.500000</td>\n",
              "    </tr>\n",
              "    <tr>\n",
              "      <th>1986</th>\n",
              "      <td>178.250000</td>\n",
              "      <td>3.083333</td>\n",
              "      <td>2.333333</td>\n",
              "      <td>133.666667</td>\n",
              "    </tr>\n",
              "    <tr>\n",
              "      <th>1987</th>\n",
              "      <td>172.416667</td>\n",
              "      <td>3.000000</td>\n",
              "      <td>11.666667</td>\n",
              "      <td>134.666667</td>\n",
              "    </tr>\n",
              "    <tr>\n",
              "      <th>1988</th>\n",
              "      <td>154.250000</td>\n",
              "      <td>2.916667</td>\n",
              "      <td>13.916667</td>\n",
              "      <td>126.916667</td>\n",
              "    </tr>\n",
              "    <tr>\n",
              "      <th>1989</th>\n",
              "      <td>158.166667</td>\n",
              "      <td>1.833333</td>\n",
              "      <td>12.000000</td>\n",
              "      <td>126.666667</td>\n",
              "    </tr>\n",
              "    <tr>\n",
              "      <th>1990</th>\n",
              "      <td>152.083333</td>\n",
              "      <td>3.333333</td>\n",
              "      <td>12.250000</td>\n",
              "      <td>120.833333</td>\n",
              "    </tr>\n",
              "    <tr>\n",
              "      <th>1991</th>\n",
              "      <td>147.416667</td>\n",
              "      <td>3.083333</td>\n",
              "      <td>11.416667</td>\n",
              "      <td>134.250000</td>\n",
              "    </tr>\n",
              "    <tr>\n",
              "      <th>1992</th>\n",
              "      <td>146.583333</td>\n",
              "      <td>2.333333</td>\n",
              "      <td>12.166667</td>\n",
              "      <td>132.250000</td>\n",
              "    </tr>\n",
              "    <tr>\n",
              "      <th>1993</th>\n",
              "      <td>142.000000</td>\n",
              "      <td>2.166667</td>\n",
              "      <td>11.500000</td>\n",
              "      <td>129.583333</td>\n",
              "    </tr>\n",
              "    <tr>\n",
              "      <th>1994</th>\n",
              "      <td>148.000000</td>\n",
              "      <td>2.083333</td>\n",
              "      <td>10.750000</td>\n",
              "      <td>132.000000</td>\n",
              "    </tr>\n",
              "    <tr>\n",
              "      <th>1995</th>\n",
              "      <td>149.000000</td>\n",
              "      <td>2.250000</td>\n",
              "      <td>12.250000</td>\n",
              "      <td>125.916667</td>\n",
              "    </tr>\n",
              "    <tr>\n",
              "      <th>1996</th>\n",
              "      <td>148.250000</td>\n",
              "      <td>2.750000</td>\n",
              "      <td>12.750000</td>\n",
              "      <td>131.416667</td>\n",
              "    </tr>\n",
              "    <tr>\n",
              "      <th>1997</th>\n",
              "      <td>132.666667</td>\n",
              "      <td>2.750000</td>\n",
              "      <td>10.166667</td>\n",
              "      <td>131.000000</td>\n",
              "    </tr>\n",
              "    <tr>\n",
              "      <th>1998</th>\n",
              "      <td>129.916667</td>\n",
              "      <td>2.500000</td>\n",
              "      <td>12.916667</td>\n",
              "      <td>126.583333</td>\n",
              "    </tr>\n",
              "    <tr>\n",
              "      <th>1999</th>\n",
              "      <td>129.583333</td>\n",
              "      <td>2.583333</td>\n",
              "      <td>14.500000</td>\n",
              "      <td>126.583333</td>\n",
              "    </tr>\n",
              "    <tr>\n",
              "      <th>2000</th>\n",
              "      <td>132.333333</td>\n",
              "      <td>4.166667</td>\n",
              "      <td>11.416667</td>\n",
              "      <td>125.083333</td>\n",
              "    </tr>\n",
              "    <tr>\n",
              "      <th>2001</th>\n",
              "      <td>124.083333</td>\n",
              "      <td>3.000000</td>\n",
              "      <td>9.416667</td>\n",
              "      <td>122.833333</td>\n",
              "    </tr>\n",
              "    <tr>\n",
              "      <th>2002</th>\n",
              "      <td>129.416667</td>\n",
              "      <td>2.500000</td>\n",
              "      <td>10.916667</td>\n",
              "      <td>130.833333</td>\n",
              "    </tr>\n",
              "    <tr>\n",
              "      <th>2003</th>\n",
              "      <td>121.333333</td>\n",
              "      <td>2.166667</td>\n",
              "      <td>7.333333</td>\n",
              "      <td>125.166667</td>\n",
              "    </tr>\n",
              "    <tr>\n",
              "      <th>2004</th>\n",
              "      <td>118.500000</td>\n",
              "      <td>2.916667</td>\n",
              "      <td>8.083333</td>\n",
              "      <td>126.166667</td>\n",
              "    </tr>\n",
              "    <tr>\n",
              "      <th>2005</th>\n",
              "      <td>116.583333</td>\n",
              "      <td>2.750000</td>\n",
              "      <td>8.500000</td>\n",
              "      <td>131.166667</td>\n",
              "    </tr>\n",
              "    <tr>\n",
              "      <th>2006</th>\n",
              "      <td>108.083333</td>\n",
              "      <td>2.666667</td>\n",
              "      <td>9.833333</td>\n",
              "      <td>127.083333</td>\n",
              "    </tr>\n",
              "    <tr>\n",
              "      <th>2007</th>\n",
              "      <td>107.083333</td>\n",
              "      <td>3.083333</td>\n",
              "      <td>10.583333</td>\n",
              "      <td>112.833333</td>\n",
              "    </tr>\n",
              "    <tr>\n",
              "      <th>2008</th>\n",
              "      <td>105.583333</td>\n",
              "      <td>3.166667</td>\n",
              "      <td>7.000000</td>\n",
              "      <td>119.916667</td>\n",
              "    </tr>\n",
              "    <tr>\n",
              "      <th>2009</th>\n",
              "      <td>106.500000</td>\n",
              "      <td>3.000000</td>\n",
              "      <td>9.583333</td>\n",
              "      <td>127.500000</td>\n",
              "    </tr>\n",
              "    <tr>\n",
              "      <th>2010</th>\n",
              "      <td>105.333333</td>\n",
              "      <td>3.833333</td>\n",
              "      <td>8.166667</td>\n",
              "      <td>133.666667</td>\n",
              "    </tr>\n",
              "    <tr>\n",
              "      <th>2011</th>\n",
              "      <td>107.333333</td>\n",
              "      <td>2.250000</td>\n",
              "      <td>9.833333</td>\n",
              "      <td>137.500000</td>\n",
              "    </tr>\n",
              "    <tr>\n",
              "      <th>2012</th>\n",
              "      <td>106.333333</td>\n",
              "      <td>3.083333</td>\n",
              "      <td>9.583333</td>\n",
              "      <td>146.333333</td>\n",
              "    </tr>\n",
              "    <tr>\n",
              "      <th>2013</th>\n",
              "      <td>107.583333</td>\n",
              "      <td>4.083333</td>\n",
              "      <td>8.166667</td>\n",
              "      <td>154.666667</td>\n",
              "    </tr>\n",
              "    <tr>\n",
              "      <th>2014</th>\n",
              "      <td>109.500000</td>\n",
              "      <td>3.666667</td>\n",
              "      <td>10.000000</td>\n",
              "      <td>153.250000</td>\n",
              "    </tr>\n",
              "    <tr>\n",
              "      <th>2015</th>\n",
              "      <td>104.250000</td>\n",
              "      <td>3.333333</td>\n",
              "      <td>8.666667</td>\n",
              "      <td>156.083333</td>\n",
              "    </tr>\n",
              "    <tr>\n",
              "      <th>2016</th>\n",
              "      <td>120.100000</td>\n",
              "      <td>4.000000</td>\n",
              "      <td>9.800000</td>\n",
              "      <td>188.600000</td>\n",
              "    </tr>\n",
              "  </tbody>\n",
              "</table>\n",
              "</div>"
            ],
            "text/plain": [
              "         Austria   Iceland  Mauritius  Netherlands\n",
              "1985  174.250000  2.666667   8.666667   136.500000\n",
              "1986  178.250000  3.083333   2.333333   133.666667\n",
              "1987  172.416667  3.000000  11.666667   134.666667\n",
              "1988  154.250000  2.916667  13.916667   126.916667\n",
              "1989  158.166667  1.833333  12.000000   126.666667\n",
              "1990  152.083333  3.333333  12.250000   120.833333\n",
              "1991  147.416667  3.083333  11.416667   134.250000\n",
              "1992  146.583333  2.333333  12.166667   132.250000\n",
              "1993  142.000000  2.166667  11.500000   129.583333\n",
              "1994  148.000000  2.083333  10.750000   132.000000\n",
              "1995  149.000000  2.250000  12.250000   125.916667\n",
              "1996  148.250000  2.750000  12.750000   131.416667\n",
              "1997  132.666667  2.750000  10.166667   131.000000\n",
              "1998  129.916667  2.500000  12.916667   126.583333\n",
              "1999  129.583333  2.583333  14.500000   126.583333\n",
              "2000  132.333333  4.166667  11.416667   125.083333\n",
              "2001  124.083333  3.000000   9.416667   122.833333\n",
              "2002  129.416667  2.500000  10.916667   130.833333\n",
              "2003  121.333333  2.166667   7.333333   125.166667\n",
              "2004  118.500000  2.916667   8.083333   126.166667\n",
              "2005  116.583333  2.750000   8.500000   131.166667\n",
              "2006  108.083333  2.666667   9.833333   127.083333\n",
              "2007  107.083333  3.083333  10.583333   112.833333\n",
              "2008  105.583333  3.166667   7.000000   119.916667\n",
              "2009  106.500000  3.000000   9.583333   127.500000\n",
              "2010  105.333333  3.833333   8.166667   133.666667\n",
              "2011  107.333333  2.250000   9.833333   137.500000\n",
              "2012  106.333333  3.083333   9.583333   146.333333\n",
              "2013  107.583333  4.083333   8.166667   154.666667\n",
              "2014  109.500000  3.666667  10.000000   153.250000\n",
              "2015  104.250000  3.333333   8.666667   156.083333\n",
              "2016  120.100000  4.000000   9.800000   188.600000"
            ]
          },
          "metadata": {
            "tags": []
          },
          "execution_count": 17
        }
      ]
    },
    {
      "cell_type": "markdown",
      "metadata": {
        "id": "X-Y1A8AmDMse"
      },
      "source": [
        "Year wise report of average suicides in each country"
      ]
    },
    {
      "cell_type": "code",
      "metadata": {
        "id": "3ZMnqLxMClgJ",
        "colab": {
          "base_uri": "https://localhost:8080/",
          "height": 402
        },
        "outputId": "3bceb2cf-3a79-4ba6-a00a-f345f8b66ef1"
      },
      "source": [
        "df.loc[(df['country']=='Iceland')]"
      ],
      "execution_count": null,
      "outputs": [
        {
          "output_type": "execute_result",
          "data": {
            "text/html": [
              "<div>\n",
              "<style scoped>\n",
              "    .dataframe tbody tr th:only-of-type {\n",
              "        vertical-align: middle;\n",
              "    }\n",
              "\n",
              "    .dataframe tbody tr th {\n",
              "        vertical-align: top;\n",
              "    }\n",
              "\n",
              "    .dataframe thead th {\n",
              "        text-align: right;\n",
              "    }\n",
              "</style>\n",
              "<table border=\"1\" class=\"dataframe\">\n",
              "  <thead>\n",
              "    <tr style=\"text-align: right;\">\n",
              "      <th></th>\n",
              "      <th>country</th>\n",
              "      <th>year</th>\n",
              "      <th>sex</th>\n",
              "      <th>age</th>\n",
              "      <th>suicides_no</th>\n",
              "      <th>population</th>\n",
              "      <th>suicides/100k pop</th>\n",
              "      <th>HDI for year</th>\n",
              "      <th>gdp_for_year ($)</th>\n",
              "      <th>gdp_per_capita ($)</th>\n",
              "      <th>generation</th>\n",
              "    </tr>\n",
              "  </thead>\n",
              "  <tbody>\n",
              "    <tr>\n",
              "      <th>11674</th>\n",
              "      <td>Iceland</td>\n",
              "      <td>1985</td>\n",
              "      <td>male</td>\n",
              "      <td>15-24</td>\n",
              "      <td>7</td>\n",
              "      <td>21900</td>\n",
              "      <td>31.96</td>\n",
              "      <td>0.776000</td>\n",
              "      <td>2939845038</td>\n",
              "      <td>13357</td>\n",
              "      <td>Generation X</td>\n",
              "    </tr>\n",
              "    <tr>\n",
              "      <th>11675</th>\n",
              "      <td>Iceland</td>\n",
              "      <td>1985</td>\n",
              "      <td>male</td>\n",
              "      <td>55-74</td>\n",
              "      <td>5</td>\n",
              "      <td>16400</td>\n",
              "      <td>30.49</td>\n",
              "      <td>0.776000</td>\n",
              "      <td>2939845038</td>\n",
              "      <td>13357</td>\n",
              "      <td>G.I. Generation</td>\n",
              "    </tr>\n",
              "    <tr>\n",
              "      <th>11676</th>\n",
              "      <td>Iceland</td>\n",
              "      <td>1985</td>\n",
              "      <td>male</td>\n",
              "      <td>35-54</td>\n",
              "      <td>7</td>\n",
              "      <td>25800</td>\n",
              "      <td>27.13</td>\n",
              "      <td>0.776000</td>\n",
              "      <td>2939845038</td>\n",
              "      <td>13357</td>\n",
              "      <td>Silent</td>\n",
              "    </tr>\n",
              "    <tr>\n",
              "      <th>11677</th>\n",
              "      <td>Iceland</td>\n",
              "      <td>1985</td>\n",
              "      <td>male</td>\n",
              "      <td>25-34</td>\n",
              "      <td>5</td>\n",
              "      <td>20500</td>\n",
              "      <td>24.39</td>\n",
              "      <td>0.776000</td>\n",
              "      <td>2939845038</td>\n",
              "      <td>13357</td>\n",
              "      <td>Boomers</td>\n",
              "    </tr>\n",
              "    <tr>\n",
              "      <th>11678</th>\n",
              "      <td>Iceland</td>\n",
              "      <td>1985</td>\n",
              "      <td>female</td>\n",
              "      <td>55-74</td>\n",
              "      <td>4</td>\n",
              "      <td>17500</td>\n",
              "      <td>22.86</td>\n",
              "      <td>0.776000</td>\n",
              "      <td>2939845038</td>\n",
              "      <td>13357</td>\n",
              "      <td>G.I. Generation</td>\n",
              "    </tr>\n",
              "    <tr>\n",
              "      <th>...</th>\n",
              "      <td>...</td>\n",
              "      <td>...</td>\n",
              "      <td>...</td>\n",
              "      <td>...</td>\n",
              "      <td>...</td>\n",
              "      <td>...</td>\n",
              "      <td>...</td>\n",
              "      <td>...</td>\n",
              "      <td>...</td>\n",
              "      <td>...</td>\n",
              "      <td>...</td>\n",
              "    </tr>\n",
              "    <tr>\n",
              "      <th>12051</th>\n",
              "      <td>Iceland</td>\n",
              "      <td>2016</td>\n",
              "      <td>female</td>\n",
              "      <td>25-34</td>\n",
              "      <td>2</td>\n",
              "      <td>23233</td>\n",
              "      <td>8.61</td>\n",
              "      <td>0.776601</td>\n",
              "      <td>20304098101</td>\n",
              "      <td>64708</td>\n",
              "      <td>Millenials</td>\n",
              "    </tr>\n",
              "    <tr>\n",
              "      <th>12052</th>\n",
              "      <td>Iceland</td>\n",
              "      <td>2016</td>\n",
              "      <td>female</td>\n",
              "      <td>55-74</td>\n",
              "      <td>2</td>\n",
              "      <td>32963</td>\n",
              "      <td>6.07</td>\n",
              "      <td>0.776601</td>\n",
              "      <td>20304098101</td>\n",
              "      <td>64708</td>\n",
              "      <td>Boomers</td>\n",
              "    </tr>\n",
              "    <tr>\n",
              "      <th>12053</th>\n",
              "      <td>Iceland</td>\n",
              "      <td>2016</td>\n",
              "      <td>female</td>\n",
              "      <td>15-24</td>\n",
              "      <td>0</td>\n",
              "      <td>22971</td>\n",
              "      <td>0.00</td>\n",
              "      <td>0.776601</td>\n",
              "      <td>20304098101</td>\n",
              "      <td>64708</td>\n",
              "      <td>Millenials</td>\n",
              "    </tr>\n",
              "    <tr>\n",
              "      <th>12054</th>\n",
              "      <td>Iceland</td>\n",
              "      <td>2016</td>\n",
              "      <td>female</td>\n",
              "      <td>35-54</td>\n",
              "      <td>0</td>\n",
              "      <td>43216</td>\n",
              "      <td>0.00</td>\n",
              "      <td>0.776601</td>\n",
              "      <td>20304098101</td>\n",
              "      <td>64708</td>\n",
              "      <td>Generation X</td>\n",
              "    </tr>\n",
              "    <tr>\n",
              "      <th>12055</th>\n",
              "      <td>Iceland</td>\n",
              "      <td>2016</td>\n",
              "      <td>female</td>\n",
              "      <td>75+</td>\n",
              "      <td>0</td>\n",
              "      <td>11268</td>\n",
              "      <td>0.00</td>\n",
              "      <td>0.776601</td>\n",
              "      <td>20304098101</td>\n",
              "      <td>64708</td>\n",
              "      <td>Silent</td>\n",
              "    </tr>\n",
              "  </tbody>\n",
              "</table>\n",
              "<p>382 rows × 11 columns</p>\n",
              "</div>"
            ],
            "text/plain": [
              "       country  year  ... gdp_per_capita ($)       generation\n",
              "11674  Iceland  1985  ...              13357     Generation X\n",
              "11675  Iceland  1985  ...              13357  G.I. Generation\n",
              "11676  Iceland  1985  ...              13357           Silent\n",
              "11677  Iceland  1985  ...              13357          Boomers\n",
              "11678  Iceland  1985  ...              13357  G.I. Generation\n",
              "...        ...   ...  ...                ...              ...\n",
              "12051  Iceland  2016  ...              64708       Millenials\n",
              "12052  Iceland  2016  ...              64708          Boomers\n",
              "12053  Iceland  2016  ...              64708       Millenials\n",
              "12054  Iceland  2016  ...              64708     Generation X\n",
              "12055  Iceland  2016  ...              64708           Silent\n",
              "\n",
              "[382 rows x 11 columns]"
            ]
          },
          "metadata": {
            "tags": []
          },
          "execution_count": 18
        }
      ]
    },
    {
      "cell_type": "code",
      "metadata": {
        "id": "9fbpP4ygXZ-A"
      },
      "source": [
        ""
      ],
      "execution_count": null,
      "outputs": []
    },
    {
      "cell_type": "code",
      "metadata": {
        "id": "8JW6iCt-uWXI"
      },
      "source": [
        ""
      ],
      "execution_count": null,
      "outputs": []
    },
    {
      "cell_type": "markdown",
      "metadata": {
        "id": "8eo05AzN5o10"
      },
      "source": [
        "# Using pivot table to find HDI of each country in corresponding year"
      ]
    },
    {
      "cell_type": "code",
      "metadata": {
        "id": "Tqcn5X8EauXX",
        "colab": {
          "base_uri": "https://localhost:8080/",
          "height": 994
        },
        "outputId": "ab0005ae-4afd-43e1-bcac-2345757c5de2"
      },
      "source": [
        "p1=df.pivot_table(index='year',columns='country',values='HDI for year')\n",
        "p1=p1.dropna(axis=1)\n",
        "p1.columns.name=None\n",
        "p1.index.name=None\n",
        "p1"
      ],
      "execution_count": null,
      "outputs": [
        {
          "output_type": "execute_result",
          "data": {
            "text/html": [
              "<div>\n",
              "<style scoped>\n",
              "    .dataframe tbody tr th:only-of-type {\n",
              "        vertical-align: middle;\n",
              "    }\n",
              "\n",
              "    .dataframe tbody tr th {\n",
              "        vertical-align: top;\n",
              "    }\n",
              "\n",
              "    .dataframe thead th {\n",
              "        text-align: right;\n",
              "    }\n",
              "</style>\n",
              "<table border=\"1\" class=\"dataframe\">\n",
              "  <thead>\n",
              "    <tr style=\"text-align: right;\">\n",
              "      <th></th>\n",
              "      <th>Austria</th>\n",
              "      <th>Iceland</th>\n",
              "      <th>Mauritius</th>\n",
              "      <th>Netherlands</th>\n",
              "    </tr>\n",
              "  </thead>\n",
              "  <tbody>\n",
              "    <tr>\n",
              "      <th>1985</th>\n",
              "      <td>0.764000</td>\n",
              "      <td>0.776000</td>\n",
              "      <td>0.575000</td>\n",
              "      <td>0.799000</td>\n",
              "    </tr>\n",
              "    <tr>\n",
              "      <th>1986</th>\n",
              "      <td>0.776601</td>\n",
              "      <td>0.776601</td>\n",
              "      <td>0.776601</td>\n",
              "      <td>0.776601</td>\n",
              "    </tr>\n",
              "    <tr>\n",
              "      <th>1987</th>\n",
              "      <td>0.776601</td>\n",
              "      <td>0.776601</td>\n",
              "      <td>0.776601</td>\n",
              "      <td>0.776601</td>\n",
              "    </tr>\n",
              "    <tr>\n",
              "      <th>1988</th>\n",
              "      <td>0.776601</td>\n",
              "      <td>0.776601</td>\n",
              "      <td>0.776601</td>\n",
              "      <td>0.776601</td>\n",
              "    </tr>\n",
              "    <tr>\n",
              "      <th>1989</th>\n",
              "      <td>0.776601</td>\n",
              "      <td>0.776601</td>\n",
              "      <td>0.776601</td>\n",
              "      <td>0.776601</td>\n",
              "    </tr>\n",
              "    <tr>\n",
              "      <th>1990</th>\n",
              "      <td>0.794000</td>\n",
              "      <td>0.802000</td>\n",
              "      <td>0.619000</td>\n",
              "      <td>0.829000</td>\n",
              "    </tr>\n",
              "    <tr>\n",
              "      <th>1991</th>\n",
              "      <td>0.776601</td>\n",
              "      <td>0.776601</td>\n",
              "      <td>0.776601</td>\n",
              "      <td>0.776601</td>\n",
              "    </tr>\n",
              "    <tr>\n",
              "      <th>1992</th>\n",
              "      <td>0.776601</td>\n",
              "      <td>0.776601</td>\n",
              "      <td>0.776601</td>\n",
              "      <td>0.776601</td>\n",
              "    </tr>\n",
              "    <tr>\n",
              "      <th>1993</th>\n",
              "      <td>0.776601</td>\n",
              "      <td>0.776601</td>\n",
              "      <td>0.776601</td>\n",
              "      <td>0.776601</td>\n",
              "    </tr>\n",
              "    <tr>\n",
              "      <th>1994</th>\n",
              "      <td>0.776601</td>\n",
              "      <td>0.776601</td>\n",
              "      <td>0.776601</td>\n",
              "      <td>0.776601</td>\n",
              "    </tr>\n",
              "    <tr>\n",
              "      <th>1995</th>\n",
              "      <td>0.815000</td>\n",
              "      <td>0.826000</td>\n",
              "      <td>0.647000</td>\n",
              "      <td>0.861000</td>\n",
              "    </tr>\n",
              "    <tr>\n",
              "      <th>1996</th>\n",
              "      <td>0.776601</td>\n",
              "      <td>0.776601</td>\n",
              "      <td>0.776601</td>\n",
              "      <td>0.776601</td>\n",
              "    </tr>\n",
              "    <tr>\n",
              "      <th>1997</th>\n",
              "      <td>0.776601</td>\n",
              "      <td>0.776601</td>\n",
              "      <td>0.776601</td>\n",
              "      <td>0.776601</td>\n",
              "    </tr>\n",
              "    <tr>\n",
              "      <th>1998</th>\n",
              "      <td>0.776601</td>\n",
              "      <td>0.776601</td>\n",
              "      <td>0.776601</td>\n",
              "      <td>0.776601</td>\n",
              "    </tr>\n",
              "    <tr>\n",
              "      <th>1999</th>\n",
              "      <td>0.776601</td>\n",
              "      <td>0.776601</td>\n",
              "      <td>0.776601</td>\n",
              "      <td>0.776601</td>\n",
              "    </tr>\n",
              "    <tr>\n",
              "      <th>2000</th>\n",
              "      <td>0.836000</td>\n",
              "      <td>0.859000</td>\n",
              "      <td>0.674000</td>\n",
              "      <td>0.877000</td>\n",
              "    </tr>\n",
              "    <tr>\n",
              "      <th>2001</th>\n",
              "      <td>0.776601</td>\n",
              "      <td>0.776601</td>\n",
              "      <td>0.776601</td>\n",
              "      <td>0.776601</td>\n",
              "    </tr>\n",
              "    <tr>\n",
              "      <th>2002</th>\n",
              "      <td>0.776601</td>\n",
              "      <td>0.776601</td>\n",
              "      <td>0.776601</td>\n",
              "      <td>0.776601</td>\n",
              "    </tr>\n",
              "    <tr>\n",
              "      <th>2003</th>\n",
              "      <td>0.776601</td>\n",
              "      <td>0.776601</td>\n",
              "      <td>0.776601</td>\n",
              "      <td>0.776601</td>\n",
              "    </tr>\n",
              "    <tr>\n",
              "      <th>2004</th>\n",
              "      <td>0.776601</td>\n",
              "      <td>0.776601</td>\n",
              "      <td>0.776601</td>\n",
              "      <td>0.776601</td>\n",
              "    </tr>\n",
              "    <tr>\n",
              "      <th>2005</th>\n",
              "      <td>0.853000</td>\n",
              "      <td>0.889000</td>\n",
              "      <td>0.722000</td>\n",
              "      <td>0.891000</td>\n",
              "    </tr>\n",
              "    <tr>\n",
              "      <th>2006</th>\n",
              "      <td>0.776601</td>\n",
              "      <td>0.776601</td>\n",
              "      <td>0.776601</td>\n",
              "      <td>0.776601</td>\n",
              "    </tr>\n",
              "    <tr>\n",
              "      <th>2007</th>\n",
              "      <td>0.776601</td>\n",
              "      <td>0.776601</td>\n",
              "      <td>0.776601</td>\n",
              "      <td>0.776601</td>\n",
              "    </tr>\n",
              "    <tr>\n",
              "      <th>2008</th>\n",
              "      <td>0.776601</td>\n",
              "      <td>0.776601</td>\n",
              "      <td>0.776601</td>\n",
              "      <td>0.776601</td>\n",
              "    </tr>\n",
              "    <tr>\n",
              "      <th>2009</th>\n",
              "      <td>0.776601</td>\n",
              "      <td>0.776601</td>\n",
              "      <td>0.776601</td>\n",
              "      <td>0.776601</td>\n",
              "    </tr>\n",
              "    <tr>\n",
              "      <th>2010</th>\n",
              "      <td>0.879000</td>\n",
              "      <td>0.892000</td>\n",
              "      <td>0.756000</td>\n",
              "      <td>0.909000</td>\n",
              "    </tr>\n",
              "    <tr>\n",
              "      <th>2011</th>\n",
              "      <td>0.881000</td>\n",
              "      <td>0.896000</td>\n",
              "      <td>0.762000</td>\n",
              "      <td>0.919000</td>\n",
              "    </tr>\n",
              "    <tr>\n",
              "      <th>2012</th>\n",
              "      <td>0.884000</td>\n",
              "      <td>0.897000</td>\n",
              "      <td>0.772000</td>\n",
              "      <td>0.920000</td>\n",
              "    </tr>\n",
              "    <tr>\n",
              "      <th>2013</th>\n",
              "      <td>0.884000</td>\n",
              "      <td>0.899000</td>\n",
              "      <td>0.775000</td>\n",
              "      <td>0.920000</td>\n",
              "    </tr>\n",
              "    <tr>\n",
              "      <th>2014</th>\n",
              "      <td>0.885000</td>\n",
              "      <td>0.899000</td>\n",
              "      <td>0.777000</td>\n",
              "      <td>0.922000</td>\n",
              "    </tr>\n",
              "    <tr>\n",
              "      <th>2015</th>\n",
              "      <td>0.776601</td>\n",
              "      <td>0.776601</td>\n",
              "      <td>0.776601</td>\n",
              "      <td>0.776601</td>\n",
              "    </tr>\n",
              "    <tr>\n",
              "      <th>2016</th>\n",
              "      <td>0.776601</td>\n",
              "      <td>0.776601</td>\n",
              "      <td>0.776601</td>\n",
              "      <td>0.776601</td>\n",
              "    </tr>\n",
              "  </tbody>\n",
              "</table>\n",
              "</div>"
            ],
            "text/plain": [
              "       Austria   Iceland  Mauritius  Netherlands\n",
              "1985  0.764000  0.776000   0.575000     0.799000\n",
              "1986  0.776601  0.776601   0.776601     0.776601\n",
              "1987  0.776601  0.776601   0.776601     0.776601\n",
              "1988  0.776601  0.776601   0.776601     0.776601\n",
              "1989  0.776601  0.776601   0.776601     0.776601\n",
              "1990  0.794000  0.802000   0.619000     0.829000\n",
              "1991  0.776601  0.776601   0.776601     0.776601\n",
              "1992  0.776601  0.776601   0.776601     0.776601\n",
              "1993  0.776601  0.776601   0.776601     0.776601\n",
              "1994  0.776601  0.776601   0.776601     0.776601\n",
              "1995  0.815000  0.826000   0.647000     0.861000\n",
              "1996  0.776601  0.776601   0.776601     0.776601\n",
              "1997  0.776601  0.776601   0.776601     0.776601\n",
              "1998  0.776601  0.776601   0.776601     0.776601\n",
              "1999  0.776601  0.776601   0.776601     0.776601\n",
              "2000  0.836000  0.859000   0.674000     0.877000\n",
              "2001  0.776601  0.776601   0.776601     0.776601\n",
              "2002  0.776601  0.776601   0.776601     0.776601\n",
              "2003  0.776601  0.776601   0.776601     0.776601\n",
              "2004  0.776601  0.776601   0.776601     0.776601\n",
              "2005  0.853000  0.889000   0.722000     0.891000\n",
              "2006  0.776601  0.776601   0.776601     0.776601\n",
              "2007  0.776601  0.776601   0.776601     0.776601\n",
              "2008  0.776601  0.776601   0.776601     0.776601\n",
              "2009  0.776601  0.776601   0.776601     0.776601\n",
              "2010  0.879000  0.892000   0.756000     0.909000\n",
              "2011  0.881000  0.896000   0.762000     0.919000\n",
              "2012  0.884000  0.897000   0.772000     0.920000\n",
              "2013  0.884000  0.899000   0.775000     0.920000\n",
              "2014  0.885000  0.899000   0.777000     0.922000\n",
              "2015  0.776601  0.776601   0.776601     0.776601\n",
              "2016  0.776601  0.776601   0.776601     0.776601"
            ]
          },
          "metadata": {
            "tags": []
          },
          "execution_count": 19
        }
      ]
    },
    {
      "cell_type": "code",
      "metadata": {
        "id": "7vlnpwldguJU",
        "colab": {
          "base_uri": "https://localhost:8080/",
          "height": 402
        },
        "outputId": "be4db473-1b8b-4d0c-ebe2-435fc3511959"
      },
      "source": [
        "df.loc[(df['country']=='Netherlands') & (df['year']==2014)]"
      ],
      "execution_count": null,
      "outputs": [
        {
          "output_type": "execute_result",
          "data": {
            "text/html": [
              "<div>\n",
              "<style scoped>\n",
              "    .dataframe tbody tr th:only-of-type {\n",
              "        vertical-align: middle;\n",
              "    }\n",
              "\n",
              "    .dataframe tbody tr th {\n",
              "        vertical-align: top;\n",
              "    }\n",
              "\n",
              "    .dataframe thead th {\n",
              "        text-align: right;\n",
              "    }\n",
              "</style>\n",
              "<table border=\"1\" class=\"dataframe\">\n",
              "  <thead>\n",
              "    <tr style=\"text-align: right;\">\n",
              "      <th></th>\n",
              "      <th>country</th>\n",
              "      <th>year</th>\n",
              "      <th>sex</th>\n",
              "      <th>age</th>\n",
              "      <th>suicides_no</th>\n",
              "      <th>population</th>\n",
              "      <th>suicides/100k pop</th>\n",
              "      <th>HDI for year</th>\n",
              "      <th>gdp_for_year ($)</th>\n",
              "      <th>gdp_per_capita ($)</th>\n",
              "      <th>generation</th>\n",
              "    </tr>\n",
              "  </thead>\n",
              "  <tbody>\n",
              "    <tr>\n",
              "      <th>17414</th>\n",
              "      <td>Netherlands</td>\n",
              "      <td>2014</td>\n",
              "      <td>male</td>\n",
              "      <td>35-54</td>\n",
              "      <td>563</td>\n",
              "      <td>2410644</td>\n",
              "      <td>23.35</td>\n",
              "      <td>0.922</td>\n",
              "      <td>879635084125</td>\n",
              "      <td>55325</td>\n",
              "      <td>Generation X</td>\n",
              "    </tr>\n",
              "    <tr>\n",
              "      <th>17415</th>\n",
              "      <td>Netherlands</td>\n",
              "      <td>2014</td>\n",
              "      <td>male</td>\n",
              "      <td>55-74</td>\n",
              "      <td>391</td>\n",
              "      <td>1890352</td>\n",
              "      <td>20.68</td>\n",
              "      <td>0.922</td>\n",
              "      <td>879635084125</td>\n",
              "      <td>55325</td>\n",
              "      <td>Boomers</td>\n",
              "    </tr>\n",
              "    <tr>\n",
              "      <th>17416</th>\n",
              "      <td>Netherlands</td>\n",
              "      <td>2014</td>\n",
              "      <td>male</td>\n",
              "      <td>75+</td>\n",
              "      <td>97</td>\n",
              "      <td>485554</td>\n",
              "      <td>19.98</td>\n",
              "      <td>0.922</td>\n",
              "      <td>879635084125</td>\n",
              "      <td>55325</td>\n",
              "      <td>Silent</td>\n",
              "    </tr>\n",
              "    <tr>\n",
              "      <th>17417</th>\n",
              "      <td>Netherlands</td>\n",
              "      <td>2014</td>\n",
              "      <td>male</td>\n",
              "      <td>25-34</td>\n",
              "      <td>117</td>\n",
              "      <td>1024168</td>\n",
              "      <td>11.42</td>\n",
              "      <td>0.922</td>\n",
              "      <td>879635084125</td>\n",
              "      <td>55325</td>\n",
              "      <td>Millenials</td>\n",
              "    </tr>\n",
              "    <tr>\n",
              "      <th>17418</th>\n",
              "      <td>Netherlands</td>\n",
              "      <td>2014</td>\n",
              "      <td>female</td>\n",
              "      <td>55-74</td>\n",
              "      <td>197</td>\n",
              "      <td>1922945</td>\n",
              "      <td>10.24</td>\n",
              "      <td>0.922</td>\n",
              "      <td>879635084125</td>\n",
              "      <td>55325</td>\n",
              "      <td>Boomers</td>\n",
              "    </tr>\n",
              "    <tr>\n",
              "      <th>17419</th>\n",
              "      <td>Netherlands</td>\n",
              "      <td>2014</td>\n",
              "      <td>female</td>\n",
              "      <td>35-54</td>\n",
              "      <td>228</td>\n",
              "      <td>2394702</td>\n",
              "      <td>9.52</td>\n",
              "      <td>0.922</td>\n",
              "      <td>879635084125</td>\n",
              "      <td>55325</td>\n",
              "      <td>Generation X</td>\n",
              "    </tr>\n",
              "    <tr>\n",
              "      <th>17420</th>\n",
              "      <td>Netherlands</td>\n",
              "      <td>2014</td>\n",
              "      <td>female</td>\n",
              "      <td>75+</td>\n",
              "      <td>61</td>\n",
              "      <td>744083</td>\n",
              "      <td>8.20</td>\n",
              "      <td>0.922</td>\n",
              "      <td>879635084125</td>\n",
              "      <td>55325</td>\n",
              "      <td>Silent</td>\n",
              "    </tr>\n",
              "    <tr>\n",
              "      <th>17421</th>\n",
              "      <td>Netherlands</td>\n",
              "      <td>2014</td>\n",
              "      <td>male</td>\n",
              "      <td>15-24</td>\n",
              "      <td>81</td>\n",
              "      <td>1044562</td>\n",
              "      <td>7.75</td>\n",
              "      <td>0.922</td>\n",
              "      <td>879635084125</td>\n",
              "      <td>55325</td>\n",
              "      <td>Millenials</td>\n",
              "    </tr>\n",
              "    <tr>\n",
              "      <th>17422</th>\n",
              "      <td>Netherlands</td>\n",
              "      <td>2014</td>\n",
              "      <td>female</td>\n",
              "      <td>25-34</td>\n",
              "      <td>54</td>\n",
              "      <td>1014090</td>\n",
              "      <td>5.32</td>\n",
              "      <td>0.922</td>\n",
              "      <td>879635084125</td>\n",
              "      <td>55325</td>\n",
              "      <td>Millenials</td>\n",
              "    </tr>\n",
              "    <tr>\n",
              "      <th>17423</th>\n",
              "      <td>Netherlands</td>\n",
              "      <td>2014</td>\n",
              "      <td>female</td>\n",
              "      <td>15-24</td>\n",
              "      <td>48</td>\n",
              "      <td>1009345</td>\n",
              "      <td>4.76</td>\n",
              "      <td>0.922</td>\n",
              "      <td>879635084125</td>\n",
              "      <td>55325</td>\n",
              "      <td>Millenials</td>\n",
              "    </tr>\n",
              "    <tr>\n",
              "      <th>17424</th>\n",
              "      <td>Netherlands</td>\n",
              "      <td>2014</td>\n",
              "      <td>female</td>\n",
              "      <td>5-14</td>\n",
              "      <td>1</td>\n",
              "      <td>956989</td>\n",
              "      <td>0.10</td>\n",
              "      <td>0.922</td>\n",
              "      <td>879635084125</td>\n",
              "      <td>55325</td>\n",
              "      <td>Generation Z</td>\n",
              "    </tr>\n",
              "    <tr>\n",
              "      <th>17425</th>\n",
              "      <td>Netherlands</td>\n",
              "      <td>2014</td>\n",
              "      <td>male</td>\n",
              "      <td>5-14</td>\n",
              "      <td>1</td>\n",
              "      <td>1002074</td>\n",
              "      <td>0.10</td>\n",
              "      <td>0.922</td>\n",
              "      <td>879635084125</td>\n",
              "      <td>55325</td>\n",
              "      <td>Generation Z</td>\n",
              "    </tr>\n",
              "  </tbody>\n",
              "</table>\n",
              "</div>"
            ],
            "text/plain": [
              "           country  year  ... gdp_per_capita ($)    generation\n",
              "17414  Netherlands  2014  ...              55325  Generation X\n",
              "17415  Netherlands  2014  ...              55325       Boomers\n",
              "17416  Netherlands  2014  ...              55325        Silent\n",
              "17417  Netherlands  2014  ...              55325    Millenials\n",
              "17418  Netherlands  2014  ...              55325       Boomers\n",
              "17419  Netherlands  2014  ...              55325  Generation X\n",
              "17420  Netherlands  2014  ...              55325        Silent\n",
              "17421  Netherlands  2014  ...              55325    Millenials\n",
              "17422  Netherlands  2014  ...              55325    Millenials\n",
              "17423  Netherlands  2014  ...              55325    Millenials\n",
              "17424  Netherlands  2014  ...              55325  Generation Z\n",
              "17425  Netherlands  2014  ...              55325  Generation Z\n",
              "\n",
              "[12 rows x 11 columns]"
            ]
          },
          "metadata": {
            "tags": []
          },
          "execution_count": 20
        }
      ]
    },
    {
      "cell_type": "code",
      "metadata": {
        "id": "nG76RgGY5ESH",
        "colab": {
          "base_uri": "https://localhost:8080/",
          "height": 431
        },
        "outputId": "7852d789-3718-44e0-d6a4-7ad85ccbd10b"
      },
      "source": [
        "df1=df.set_index(['country','year'])\n",
        "df1.head(100)"
      ],
      "execution_count": null,
      "outputs": [
        {
          "output_type": "execute_result",
          "data": {
            "text/html": [
              "<div>\n",
              "<style scoped>\n",
              "    .dataframe tbody tr th:only-of-type {\n",
              "        vertical-align: middle;\n",
              "    }\n",
              "\n",
              "    .dataframe tbody tr th {\n",
              "        vertical-align: top;\n",
              "    }\n",
              "\n",
              "    .dataframe thead th {\n",
              "        text-align: right;\n",
              "    }\n",
              "</style>\n",
              "<table border=\"1\" class=\"dataframe\">\n",
              "  <thead>\n",
              "    <tr style=\"text-align: right;\">\n",
              "      <th></th>\n",
              "      <th></th>\n",
              "      <th>sex</th>\n",
              "      <th>age</th>\n",
              "      <th>suicides_no</th>\n",
              "      <th>population</th>\n",
              "      <th>suicides/100k pop</th>\n",
              "      <th>HDI for year</th>\n",
              "      <th>gdp_for_year ($)</th>\n",
              "      <th>gdp_per_capita ($)</th>\n",
              "      <th>generation</th>\n",
              "    </tr>\n",
              "    <tr>\n",
              "      <th>country</th>\n",
              "      <th>year</th>\n",
              "      <th></th>\n",
              "      <th></th>\n",
              "      <th></th>\n",
              "      <th></th>\n",
              "      <th></th>\n",
              "      <th></th>\n",
              "      <th></th>\n",
              "      <th></th>\n",
              "      <th></th>\n",
              "    </tr>\n",
              "  </thead>\n",
              "  <tbody>\n",
              "    <tr>\n",
              "      <th rowspan=\"11\" valign=\"top\">Albania</th>\n",
              "      <th>1987</th>\n",
              "      <td>male</td>\n",
              "      <td>15-24</td>\n",
              "      <td>21</td>\n",
              "      <td>312900</td>\n",
              "      <td>6.71</td>\n",
              "      <td>0.776601</td>\n",
              "      <td>2156624900</td>\n",
              "      <td>796</td>\n",
              "      <td>Generation X</td>\n",
              "    </tr>\n",
              "    <tr>\n",
              "      <th>1987</th>\n",
              "      <td>male</td>\n",
              "      <td>35-54</td>\n",
              "      <td>16</td>\n",
              "      <td>308000</td>\n",
              "      <td>5.19</td>\n",
              "      <td>0.776601</td>\n",
              "      <td>2156624900</td>\n",
              "      <td>796</td>\n",
              "      <td>Silent</td>\n",
              "    </tr>\n",
              "    <tr>\n",
              "      <th>1987</th>\n",
              "      <td>female</td>\n",
              "      <td>15-24</td>\n",
              "      <td>14</td>\n",
              "      <td>289700</td>\n",
              "      <td>4.83</td>\n",
              "      <td>0.776601</td>\n",
              "      <td>2156624900</td>\n",
              "      <td>796</td>\n",
              "      <td>Generation X</td>\n",
              "    </tr>\n",
              "    <tr>\n",
              "      <th>1987</th>\n",
              "      <td>male</td>\n",
              "      <td>75+</td>\n",
              "      <td>1</td>\n",
              "      <td>21800</td>\n",
              "      <td>4.59</td>\n",
              "      <td>0.776601</td>\n",
              "      <td>2156624900</td>\n",
              "      <td>796</td>\n",
              "      <td>G.I. Generation</td>\n",
              "    </tr>\n",
              "    <tr>\n",
              "      <th>1987</th>\n",
              "      <td>male</td>\n",
              "      <td>25-34</td>\n",
              "      <td>9</td>\n",
              "      <td>274300</td>\n",
              "      <td>3.28</td>\n",
              "      <td>0.776601</td>\n",
              "      <td>2156624900</td>\n",
              "      <td>796</td>\n",
              "      <td>Boomers</td>\n",
              "    </tr>\n",
              "    <tr>\n",
              "      <th>...</th>\n",
              "      <td>...</td>\n",
              "      <td>...</td>\n",
              "      <td>...</td>\n",
              "      <td>...</td>\n",
              "      <td>...</td>\n",
              "      <td>...</td>\n",
              "      <td>...</td>\n",
              "      <td>...</td>\n",
              "      <td>...</td>\n",
              "    </tr>\n",
              "    <tr>\n",
              "      <th>1996</th>\n",
              "      <td>female</td>\n",
              "      <td>5-14</td>\n",
              "      <td>1</td>\n",
              "      <td>354100</td>\n",
              "      <td>0.28</td>\n",
              "      <td>0.776601</td>\n",
              "      <td>3314898292</td>\n",
              "      <td>1127</td>\n",
              "      <td>Millenials</td>\n",
              "    </tr>\n",
              "    <tr>\n",
              "      <th>1997</th>\n",
              "      <td>male</td>\n",
              "      <td>25-34</td>\n",
              "      <td>36</td>\n",
              "      <td>236000</td>\n",
              "      <td>15.25</td>\n",
              "      <td>0.776601</td>\n",
              "      <td>2359903108</td>\n",
              "      <td>793</td>\n",
              "      <td>Generation X</td>\n",
              "    </tr>\n",
              "    <tr>\n",
              "      <th>1997</th>\n",
              "      <td>male</td>\n",
              "      <td>15-24</td>\n",
              "      <td>33</td>\n",
              "      <td>244400</td>\n",
              "      <td>13.50</td>\n",
              "      <td>0.776601</td>\n",
              "      <td>2359903108</td>\n",
              "      <td>793</td>\n",
              "      <td>Generation X</td>\n",
              "    </tr>\n",
              "    <tr>\n",
              "      <th>1997</th>\n",
              "      <td>male</td>\n",
              "      <td>75+</td>\n",
              "      <td>3</td>\n",
              "      <td>25400</td>\n",
              "      <td>11.81</td>\n",
              "      <td>0.776601</td>\n",
              "      <td>2359903108</td>\n",
              "      <td>793</td>\n",
              "      <td>G.I. Generation</td>\n",
              "    </tr>\n",
              "    <tr>\n",
              "      <th>1997</th>\n",
              "      <td>male</td>\n",
              "      <td>35-54</td>\n",
              "      <td>30</td>\n",
              "      <td>380800</td>\n",
              "      <td>7.88</td>\n",
              "      <td>0.776601</td>\n",
              "      <td>2359903108</td>\n",
              "      <td>793</td>\n",
              "      <td>Boomers</td>\n",
              "    </tr>\n",
              "  </tbody>\n",
              "</table>\n",
              "<p>100 rows × 9 columns</p>\n",
              "</div>"
            ],
            "text/plain": [
              "                 sex     age  ...  gdp_per_capita ($)       generation\n",
              "country year                  ...                                     \n",
              "Albania 1987    male  15-24   ...                 796     Generation X\n",
              "        1987    male  35-54   ...                 796           Silent\n",
              "        1987  female  15-24   ...                 796     Generation X\n",
              "        1987    male    75+   ...                 796  G.I. Generation\n",
              "        1987    male  25-34   ...                 796          Boomers\n",
              "...              ...     ...  ...                 ...              ...\n",
              "        1996  female   5-14   ...                1127       Millenials\n",
              "        1997    male  25-34   ...                 793     Generation X\n",
              "        1997    male  15-24   ...                 793     Generation X\n",
              "        1997    male    75+   ...                 793  G.I. Generation\n",
              "        1997    male  35-54   ...                 793          Boomers\n",
              "\n",
              "[100 rows x 9 columns]"
            ]
          },
          "metadata": {
            "tags": []
          },
          "execution_count": 21
        }
      ]
    },
    {
      "cell_type": "markdown",
      "metadata": {
        "id": "iFKp5YCc5E2H"
      },
      "source": [
        "# Group by function\n",
        "Displaying year wise report of the particular country which has the highest suicide number"
      ]
    },
    {
      "cell_type": "code",
      "metadata": {
        "id": "jPtjr7nC-oqa",
        "colab": {
          "base_uri": "https://localhost:8080/"
        },
        "outputId": "862fb217-be31-42da-9c3b-f8b2473deb79"
      },
      "source": [
        "smax=df['suicides_no'].max()\n",
        "df['country'].loc[(df['suicides_no']==smax)]"
      ],
      "execution_count": null,
      "outputs": [
        {
          "output_type": "execute_result",
          "data": {
            "text/plain": [
              "20996    Russian Federation\n",
              "Name: country, dtype: object"
            ]
          },
          "metadata": {
            "tags": []
          },
          "execution_count": 22
        }
      ]
    },
    {
      "cell_type": "markdown",
      "metadata": {
        "id": "49Hhr_HKCJAn"
      },
      "source": [
        "Russian Federation has the highest suicide number"
      ]
    },
    {
      "cell_type": "code",
      "metadata": {
        "id": "f3HCNPSN-Azc",
        "colab": {
          "base_uri": "https://localhost:8080/",
          "height": 846
        },
        "outputId": "68470c43-98ac-4019-ffab-c4d339da7e56"
      },
      "source": [
        "df1=df[df['country']=='Russian Federation']\n",
        "p=df1.pivot_table(index='year',columns=['country'],values='suicides_no')\n",
        "p.index.name=None\n",
        "p.columns.name=None\n",
        "p=p.dropna(axis=0)\n",
        "p"
      ],
      "execution_count": null,
      "outputs": [
        {
          "output_type": "execute_result",
          "data": {
            "text/html": [
              "<div>\n",
              "<style scoped>\n",
              "    .dataframe tbody tr th:only-of-type {\n",
              "        vertical-align: middle;\n",
              "    }\n",
              "\n",
              "    .dataframe tbody tr th {\n",
              "        vertical-align: top;\n",
              "    }\n",
              "\n",
              "    .dataframe thead th {\n",
              "        text-align: right;\n",
              "    }\n",
              "</style>\n",
              "<table border=\"1\" class=\"dataframe\">\n",
              "  <thead>\n",
              "    <tr style=\"text-align: right;\">\n",
              "      <th></th>\n",
              "      <th>Russian Federation</th>\n",
              "    </tr>\n",
              "  </thead>\n",
              "  <tbody>\n",
              "    <tr>\n",
              "      <th>1989</th>\n",
              "      <td>3160.083333</td>\n",
              "    </tr>\n",
              "    <tr>\n",
              "      <th>1990</th>\n",
              "      <td>3252.333333</td>\n",
              "    </tr>\n",
              "    <tr>\n",
              "      <th>1991</th>\n",
              "      <td>3273.416667</td>\n",
              "    </tr>\n",
              "    <tr>\n",
              "      <th>1992</th>\n",
              "      <td>3826.916667</td>\n",
              "    </tr>\n",
              "    <tr>\n",
              "      <th>1993</th>\n",
              "      <td>4653.833333</td>\n",
              "    </tr>\n",
              "    <tr>\n",
              "      <th>1994</th>\n",
              "      <td>5118.333333</td>\n",
              "    </tr>\n",
              "    <tr>\n",
              "      <th>1995</th>\n",
              "      <td>5045.666667</td>\n",
              "    </tr>\n",
              "    <tr>\n",
              "      <th>1996</th>\n",
              "      <td>4792.583333</td>\n",
              "    </tr>\n",
              "    <tr>\n",
              "      <th>1997</th>\n",
              "      <td>4562.166667</td>\n",
              "    </tr>\n",
              "    <tr>\n",
              "      <th>1998</th>\n",
              "      <td>4293.166667</td>\n",
              "    </tr>\n",
              "    <tr>\n",
              "      <th>1999</th>\n",
              "      <td>4747.833333</td>\n",
              "    </tr>\n",
              "    <tr>\n",
              "      <th>2000</th>\n",
              "      <td>4718.250000</td>\n",
              "    </tr>\n",
              "    <tr>\n",
              "      <th>2001</th>\n",
              "      <td>4746.500000</td>\n",
              "    </tr>\n",
              "    <tr>\n",
              "      <th>2002</th>\n",
              "      <td>4585.333333</td>\n",
              "    </tr>\n",
              "    <tr>\n",
              "      <th>2003</th>\n",
              "      <td>4287.083333</td>\n",
              "    </tr>\n",
              "    <tr>\n",
              "      <th>2004</th>\n",
              "      <td>4091.333333</td>\n",
              "    </tr>\n",
              "    <tr>\n",
              "      <th>2005</th>\n",
              "      <td>3816.833333</td>\n",
              "    </tr>\n",
              "    <tr>\n",
              "      <th>2006</th>\n",
              "      <td>3551.166667</td>\n",
              "    </tr>\n",
              "    <tr>\n",
              "      <th>2007</th>\n",
              "      <td>3429.083333</td>\n",
              "    </tr>\n",
              "    <tr>\n",
              "      <th>2008</th>\n",
              "      <td>3184.250000</td>\n",
              "    </tr>\n",
              "    <tr>\n",
              "      <th>2009</th>\n",
              "      <td>3117.333333</td>\n",
              "    </tr>\n",
              "    <tr>\n",
              "      <th>2010</th>\n",
              "      <td>2779.666667</td>\n",
              "    </tr>\n",
              "    <tr>\n",
              "      <th>2011</th>\n",
              "      <td>2586.500000</td>\n",
              "    </tr>\n",
              "    <tr>\n",
              "      <th>2012</th>\n",
              "      <td>2470.250000</td>\n",
              "    </tr>\n",
              "    <tr>\n",
              "      <th>2013</th>\n",
              "      <td>2390.833333</td>\n",
              "    </tr>\n",
              "    <tr>\n",
              "      <th>2014</th>\n",
              "      <td>2211.750000</td>\n",
              "    </tr>\n",
              "    <tr>\n",
              "      <th>2015</th>\n",
              "      <td>2119.333333</td>\n",
              "    </tr>\n",
              "  </tbody>\n",
              "</table>\n",
              "</div>"
            ],
            "text/plain": [
              "      Russian Federation\n",
              "1989         3160.083333\n",
              "1990         3252.333333\n",
              "1991         3273.416667\n",
              "1992         3826.916667\n",
              "1993         4653.833333\n",
              "1994         5118.333333\n",
              "1995         5045.666667\n",
              "1996         4792.583333\n",
              "1997         4562.166667\n",
              "1998         4293.166667\n",
              "1999         4747.833333\n",
              "2000         4718.250000\n",
              "2001         4746.500000\n",
              "2002         4585.333333\n",
              "2003         4287.083333\n",
              "2004         4091.333333\n",
              "2005         3816.833333\n",
              "2006         3551.166667\n",
              "2007         3429.083333\n",
              "2008         3184.250000\n",
              "2009         3117.333333\n",
              "2010         2779.666667\n",
              "2011         2586.500000\n",
              "2012         2470.250000\n",
              "2013         2390.833333\n",
              "2014         2211.750000\n",
              "2015         2119.333333"
            ]
          },
          "metadata": {
            "tags": []
          },
          "execution_count": 23
        }
      ]
    },
    {
      "cell_type": "markdown",
      "metadata": {
        "id": "KvZFOHwDCP-8"
      },
      "source": [
        "Average suicide number over the years for Russian Federation"
      ]
    },
    {
      "cell_type": "code",
      "metadata": {
        "id": "YhV86kPw3p5F",
        "colab": {
          "base_uri": "https://localhost:8080/",
          "height": 126
        },
        "outputId": "524035fb-c625-4202-89ef-6dafbba320cf"
      },
      "source": [
        "data_country=df[df['country']=='Russian Federation']\n",
        "RF=data_country.pivot_table(index='sex',columns='year',values='suicides_no')\n",
        "RF.columns.name=None\n",
        "RF.index.name=None\n",
        "RF"
      ],
      "execution_count": null,
      "outputs": [
        {
          "output_type": "execute_result",
          "data": {
            "text/html": [
              "<div>\n",
              "<style scoped>\n",
              "    .dataframe tbody tr th:only-of-type {\n",
              "        vertical-align: middle;\n",
              "    }\n",
              "\n",
              "    .dataframe tbody tr th {\n",
              "        vertical-align: top;\n",
              "    }\n",
              "\n",
              "    .dataframe thead th {\n",
              "        text-align: right;\n",
              "    }\n",
              "</style>\n",
              "<table border=\"1\" class=\"dataframe\">\n",
              "  <thead>\n",
              "    <tr style=\"text-align: right;\">\n",
              "      <th></th>\n",
              "      <th>1989</th>\n",
              "      <th>1990</th>\n",
              "      <th>1991</th>\n",
              "      <th>1992</th>\n",
              "      <th>1993</th>\n",
              "      <th>1994</th>\n",
              "      <th>1995</th>\n",
              "      <th>1996</th>\n",
              "      <th>1997</th>\n",
              "      <th>1998</th>\n",
              "      <th>1999</th>\n",
              "      <th>2000</th>\n",
              "      <th>2001</th>\n",
              "      <th>2002</th>\n",
              "      <th>2003</th>\n",
              "      <th>2004</th>\n",
              "      <th>2005</th>\n",
              "      <th>2006</th>\n",
              "      <th>2007</th>\n",
              "      <th>2008</th>\n",
              "      <th>2009</th>\n",
              "      <th>2010</th>\n",
              "      <th>2011</th>\n",
              "      <th>2012</th>\n",
              "      <th>2013</th>\n",
              "      <th>2014</th>\n",
              "      <th>2015</th>\n",
              "    </tr>\n",
              "  </thead>\n",
              "  <tbody>\n",
              "    <tr>\n",
              "      <th>female</th>\n",
              "      <td>1424.666667</td>\n",
              "      <td>1457.000000</td>\n",
              "      <td>1410.000000</td>\n",
              "      <td>1521.500000</td>\n",
              "      <td>1682.666667</td>\n",
              "      <td>1731.333333</td>\n",
              "      <td>1772.166667</td>\n",
              "      <td>1614.166667</td>\n",
              "      <td>1582.333333</td>\n",
              "      <td>1495.166667</td>\n",
              "      <td>1651.500000</td>\n",
              "      <td>1516.5</td>\n",
              "      <td>1501.0</td>\n",
              "      <td>1509.500000</td>\n",
              "      <td>1408.333333</td>\n",
              "      <td>1367.000000</td>\n",
              "      <td>1244.000000</td>\n",
              "      <td>1204.500000</td>\n",
              "      <td>1223.500000</td>\n",
              "      <td>1154.166667</td>\n",
              "      <td>1080.833333</td>\n",
              "      <td>965.833333</td>\n",
              "      <td>928.0</td>\n",
              "      <td>909.0</td>\n",
              "      <td>829.333333</td>\n",
              "      <td>775.833333</td>\n",
              "      <td>761.833333</td>\n",
              "    </tr>\n",
              "    <tr>\n",
              "      <th>male</th>\n",
              "      <td>4895.500000</td>\n",
              "      <td>5047.666667</td>\n",
              "      <td>5136.833333</td>\n",
              "      <td>6132.333333</td>\n",
              "      <td>7625.000000</td>\n",
              "      <td>8505.333333</td>\n",
              "      <td>8319.166667</td>\n",
              "      <td>7971.000000</td>\n",
              "      <td>7542.000000</td>\n",
              "      <td>7091.166667</td>\n",
              "      <td>7844.166667</td>\n",
              "      <td>7920.0</td>\n",
              "      <td>7992.0</td>\n",
              "      <td>7661.166667</td>\n",
              "      <td>7165.833333</td>\n",
              "      <td>6815.666667</td>\n",
              "      <td>6389.666667</td>\n",
              "      <td>5897.833333</td>\n",
              "      <td>5634.666667</td>\n",
              "      <td>5214.333333</td>\n",
              "      <td>5153.833333</td>\n",
              "      <td>4593.500000</td>\n",
              "      <td>4245.0</td>\n",
              "      <td>4031.5</td>\n",
              "      <td>3952.333333</td>\n",
              "      <td>3647.666667</td>\n",
              "      <td>3476.833333</td>\n",
              "    </tr>\n",
              "  </tbody>\n",
              "</table>\n",
              "</div>"
            ],
            "text/plain": [
              "               1989         1990  ...         2014         2015\n",
              "female  1424.666667  1457.000000  ...   775.833333   761.833333\n",
              "male    4895.500000  5047.666667  ...  3647.666667  3476.833333\n",
              "\n",
              "[2 rows x 27 columns]"
            ]
          },
          "metadata": {
            "tags": []
          },
          "execution_count": 24
        }
      ]
    },
    {
      "cell_type": "markdown",
      "metadata": {
        "id": "hES0xl6fCXVF"
      },
      "source": [
        "Average suicide number over the years classified by Gender"
      ]
    },
    {
      "cell_type": "code",
      "metadata": {
        "id": "1UsaMp3EAveV"
      },
      "source": [
        ""
      ],
      "execution_count": null,
      "outputs": []
    },
    {
      "cell_type": "markdown",
      "metadata": {
        "id": "2Yaph2uDAtrk"
      },
      "source": [
        "# **nlargest and nsmallest**\n",
        "Displaying year wise report of the particular country which has the smallest suicide number"
      ]
    },
    {
      "cell_type": "code",
      "metadata": {
        "id": "elwXDZVB_DnA"
      },
      "source": [
        ""
      ],
      "execution_count": null,
      "outputs": []
    },
    {
      "cell_type": "code",
      "metadata": {
        "id": "G1NVTa4s4t25",
        "colab": {
          "base_uri": "https://localhost:8080/",
          "height": 126
        },
        "outputId": "97d821d8-5bc3-49bc-edb0-000cffce8edd"
      },
      "source": [
        "l=df.nsmallest(5, \"suicides_no\")\n",
        "#print(l)\n",
        "data_country=df[df['country']=='Albania']\n",
        "Alb=data_country.pivot_table(index='sex',columns='year',values='suicides_no')\n",
        "Alb.columns.name=None\n",
        "Alb.index.name=None\n",
        "Alb"
      ],
      "execution_count": null,
      "outputs": [
        {
          "output_type": "execute_result",
          "data": {
            "text/html": [
              "<div>\n",
              "<style scoped>\n",
              "    .dataframe tbody tr th:only-of-type {\n",
              "        vertical-align: middle;\n",
              "    }\n",
              "\n",
              "    .dataframe tbody tr th {\n",
              "        vertical-align: top;\n",
              "    }\n",
              "\n",
              "    .dataframe thead th {\n",
              "        text-align: right;\n",
              "    }\n",
              "</style>\n",
              "<table border=\"1\" class=\"dataframe\">\n",
              "  <thead>\n",
              "    <tr style=\"text-align: right;\">\n",
              "      <th></th>\n",
              "      <th>1987</th>\n",
              "      <th>1988</th>\n",
              "      <th>1989</th>\n",
              "      <th>1992</th>\n",
              "      <th>1993</th>\n",
              "      <th>1994</th>\n",
              "      <th>1995</th>\n",
              "      <th>1996</th>\n",
              "      <th>1997</th>\n",
              "      <th>1998</th>\n",
              "      <th>1999</th>\n",
              "      <th>2000</th>\n",
              "      <th>2001</th>\n",
              "      <th>2002</th>\n",
              "      <th>2003</th>\n",
              "      <th>2004</th>\n",
              "      <th>2005</th>\n",
              "      <th>2006</th>\n",
              "      <th>2007</th>\n",
              "      <th>2008</th>\n",
              "      <th>2009</th>\n",
              "      <th>2010</th>\n",
              "    </tr>\n",
              "  </thead>\n",
              "  <tbody>\n",
              "    <tr>\n",
              "      <th>female</th>\n",
              "      <td>4.166667</td>\n",
              "      <td>3.666667</td>\n",
              "      <td>2.500000</td>\n",
              "      <td>2.333333</td>\n",
              "      <td>4.500000</td>\n",
              "      <td>2.500000</td>\n",
              "      <td>5.666667</td>\n",
              "      <td>6.500000</td>\n",
              "      <td>8.666667</td>\n",
              "      <td>9.666667</td>\n",
              "      <td>8.000000</td>\n",
              "      <td>2.666667</td>\n",
              "      <td>5.833333</td>\n",
              "      <td>7.000000</td>\n",
              "      <td>8.500000</td>\n",
              "      <td>9.500000</td>\n",
              "      <td>0.0</td>\n",
              "      <td>0.0</td>\n",
              "      <td>7.833333</td>\n",
              "      <td>10.166667</td>\n",
              "      <td>0.0</td>\n",
              "      <td>5.833333</td>\n",
              "    </tr>\n",
              "    <tr>\n",
              "      <th>male</th>\n",
              "      <td>8.000000</td>\n",
              "      <td>6.833333</td>\n",
              "      <td>8.833333</td>\n",
              "      <td>5.500000</td>\n",
              "      <td>7.666667</td>\n",
              "      <td>5.833333</td>\n",
              "      <td>9.000000</td>\n",
              "      <td>8.333333</td>\n",
              "      <td>19.666667</td>\n",
              "      <td>16.000000</td>\n",
              "      <td>15.166667</td>\n",
              "      <td>6.333333</td>\n",
              "      <td>14.000000</td>\n",
              "      <td>15.166667</td>\n",
              "      <td>12.166667</td>\n",
              "      <td>14.833333</td>\n",
              "      <td>0.0</td>\n",
              "      <td>0.0</td>\n",
              "      <td>12.833333</td>\n",
              "      <td>16.500000</td>\n",
              "      <td>0.0</td>\n",
              "      <td>10.166667</td>\n",
              "    </tr>\n",
              "  </tbody>\n",
              "</table>\n",
              "</div>"
            ],
            "text/plain": [
              "            1987      1988      1989  ...       2008  2009       2010\n",
              "female  4.166667  3.666667  2.500000  ...  10.166667   0.0   5.833333\n",
              "male    8.000000  6.833333  8.833333  ...  16.500000   0.0  10.166667\n",
              "\n",
              "[2 rows x 22 columns]"
            ]
          },
          "metadata": {
            "tags": []
          },
          "execution_count": 25
        }
      ]
    },
    {
      "cell_type": "markdown",
      "metadata": {
        "id": "ta3qZ1DOClhr"
      },
      "source": [
        "Albania has the smallest suicide number and the values classified based on gender"
      ]
    },
    {
      "cell_type": "markdown",
      "metadata": {
        "id": "-bSZHHabtLvj"
      },
      "source": [
        "Displaying age wise suicide number"
      ]
    },
    {
      "cell_type": "code",
      "metadata": {
        "id": "eQAFxfLA80ez",
        "colab": {
          "base_uri": "https://localhost:8080/"
        },
        "outputId": "c6bf86d9-61c6-47f3-c59e-083f64e74f72"
      },
      "source": [
        "ageWise=df.groupby(['age','sex']).suicides_no.sum()\n",
        "ageWise\n"
      ],
      "execution_count": null,
      "outputs": [
        {
          "output_type": "execute_result",
          "data": {
            "text/plain": [
              "age     sex   \n",
              "15-24   female     175437\n",
              "        male       633105\n",
              "25-34   female     208823\n",
              "        male       915089\n",
              "35-54   female     506233\n",
              "        male      1945908\n",
              "5-14    female      16997\n",
              "        male        35267\n",
              "55-74   female     430036\n",
              "        male      1228407\n",
              "75+     female     221984\n",
              "        male       431134\n",
              "Name: suicides_no, dtype: int64"
            ]
          },
          "metadata": {
            "tags": []
          },
          "execution_count": 26
        }
      ]
    },
    {
      "cell_type": "markdown",
      "metadata": {
        "id": "EQTT6Xd6xbQY"
      },
      "source": [
        "# **Using pivot table to view country wise suicide number in each age group**"
      ]
    },
    {
      "cell_type": "code",
      "metadata": {
        "id": "j-8s8vHS80mB",
        "colab": {
          "base_uri": "https://localhost:8080/",
          "height": 402
        },
        "outputId": "482ce923-1531-4e01-c94d-de546e6b4a28"
      },
      "source": [
        "p3=df.pivot_table(index='country',columns='age',values='suicides_no')\n",
        "p3=p3.dropna()\n",
        "p3=p3.astype(int)\n",
        "p3.index.name=None\n",
        "p3.columns.name=None\n",
        "p3"
      ],
      "execution_count": null,
      "outputs": [
        {
          "output_type": "execute_result",
          "data": {
            "text/html": [
              "<div>\n",
              "<style scoped>\n",
              "    .dataframe tbody tr th:only-of-type {\n",
              "        vertical-align: middle;\n",
              "    }\n",
              "\n",
              "    .dataframe tbody tr th {\n",
              "        vertical-align: top;\n",
              "    }\n",
              "\n",
              "    .dataframe thead th {\n",
              "        text-align: right;\n",
              "    }\n",
              "</style>\n",
              "<table border=\"1\" class=\"dataframe\">\n",
              "  <thead>\n",
              "    <tr style=\"text-align: right;\">\n",
              "      <th></th>\n",
              "      <th>15-24</th>\n",
              "      <th>25-34</th>\n",
              "      <th>35-54</th>\n",
              "      <th>5-14</th>\n",
              "      <th>55-74</th>\n",
              "      <th>75+</th>\n",
              "    </tr>\n",
              "  </thead>\n",
              "  <tbody>\n",
              "    <tr>\n",
              "      <th>Albania</th>\n",
              "      <td>12</td>\n",
              "      <td>9</td>\n",
              "      <td>13</td>\n",
              "      <td>1</td>\n",
              "      <td>6</td>\n",
              "      <td>1</td>\n",
              "    </tr>\n",
              "    <tr>\n",
              "      <th>Antigua and Barbuda</th>\n",
              "      <td>0</td>\n",
              "      <td>0</td>\n",
              "      <td>0</td>\n",
              "      <td>0</td>\n",
              "      <td>0</td>\n",
              "      <td>0</td>\n",
              "    </tr>\n",
              "    <tr>\n",
              "      <th>Argentina</th>\n",
              "      <td>284</td>\n",
              "      <td>217</td>\n",
              "      <td>351</td>\n",
              "      <td>23</td>\n",
              "      <td>320</td>\n",
              "      <td>128</td>\n",
              "    </tr>\n",
              "    <tr>\n",
              "      <th>Armenia</th>\n",
              "      <td>3</td>\n",
              "      <td>5</td>\n",
              "      <td>12</td>\n",
              "      <td>0</td>\n",
              "      <td>11</td>\n",
              "      <td>3</td>\n",
              "    </tr>\n",
              "    <tr>\n",
              "      <th>Aruba</th>\n",
              "      <td>0</td>\n",
              "      <td>0</td>\n",
              "      <td>1</td>\n",
              "      <td>0</td>\n",
              "      <td>0</td>\n",
              "      <td>0</td>\n",
              "    </tr>\n",
              "    <tr>\n",
              "      <th>...</th>\n",
              "      <td>...</td>\n",
              "      <td>...</td>\n",
              "      <td>...</td>\n",
              "      <td>...</td>\n",
              "      <td>...</td>\n",
              "      <td>...</td>\n",
              "    </tr>\n",
              "    <tr>\n",
              "      <th>United Arab Emirates</th>\n",
              "      <td>8</td>\n",
              "      <td>21</td>\n",
              "      <td>19</td>\n",
              "      <td>0</td>\n",
              "      <td>1</td>\n",
              "      <td>0</td>\n",
              "    </tr>\n",
              "    <tr>\n",
              "      <th>United Kingdom</th>\n",
              "      <td>240</td>\n",
              "      <td>423</td>\n",
              "      <td>872</td>\n",
              "      <td>3</td>\n",
              "      <td>485</td>\n",
              "      <td>180</td>\n",
              "    </tr>\n",
              "    <tr>\n",
              "      <th>United States</th>\n",
              "      <td>2285</td>\n",
              "      <td>2936</td>\n",
              "      <td>6143</td>\n",
              "      <td>143</td>\n",
              "      <td>3625</td>\n",
              "      <td>1543</td>\n",
              "    </tr>\n",
              "    <tr>\n",
              "      <th>Uruguay</th>\n",
              "      <td>31</td>\n",
              "      <td>34</td>\n",
              "      <td>67</td>\n",
              "      <td>1</td>\n",
              "      <td>66</td>\n",
              "      <td>32</td>\n",
              "    </tr>\n",
              "    <tr>\n",
              "      <th>Uzbekistan</th>\n",
              "      <td>219</td>\n",
              "      <td>194</td>\n",
              "      <td>249</td>\n",
              "      <td>31</td>\n",
              "      <td>81</td>\n",
              "      <td>14</td>\n",
              "    </tr>\n",
              "  </tbody>\n",
              "</table>\n",
              "<p>100 rows × 6 columns</p>\n",
              "</div>"
            ],
            "text/plain": [
              "                      15-24   25-34   35-54   5-14   55-74   75+ \n",
              "Albania                   12       9      13      1       6     1\n",
              "Antigua and Barbuda        0       0       0      0       0     0\n",
              "Argentina                284     217     351     23     320   128\n",
              "Armenia                    3       5      12      0      11     3\n",
              "Aruba                      0       0       1      0       0     0\n",
              "...                      ...     ...     ...    ...     ...   ...\n",
              "United Arab Emirates       8      21      19      0       1     0\n",
              "United Kingdom           240     423     872      3     485   180\n",
              "United States           2285    2936    6143    143    3625  1543\n",
              "Uruguay                   31      34      67      1      66    32\n",
              "Uzbekistan               219     194     249     31      81    14\n",
              "\n",
              "[100 rows x 6 columns]"
            ]
          },
          "metadata": {
            "tags": []
          },
          "execution_count": 27
        }
      ]
    },
    {
      "cell_type": "code",
      "metadata": {
        "id": "MUQBqYW780px",
        "colab": {
          "base_uri": "https://localhost:8080/",
          "height": 195
        },
        "outputId": "3b912054-20ca-4c41-8c34-f7090455e209"
      },
      "source": [
        "p3.nlargest(5,'5-14 ')"
      ],
      "execution_count": null,
      "outputs": [
        {
          "output_type": "execute_result",
          "data": {
            "text/html": [
              "<div>\n",
              "<style scoped>\n",
              "    .dataframe tbody tr th:only-of-type {\n",
              "        vertical-align: middle;\n",
              "    }\n",
              "\n",
              "    .dataframe tbody tr th {\n",
              "        vertical-align: top;\n",
              "    }\n",
              "\n",
              "    .dataframe thead th {\n",
              "        text-align: right;\n",
              "    }\n",
              "</style>\n",
              "<table border=\"1\" class=\"dataframe\">\n",
              "  <thead>\n",
              "    <tr style=\"text-align: right;\">\n",
              "      <th></th>\n",
              "      <th>15-24</th>\n",
              "      <th>25-34</th>\n",
              "      <th>35-54</th>\n",
              "      <th>5-14</th>\n",
              "      <th>55-74</th>\n",
              "      <th>75+</th>\n",
              "    </tr>\n",
              "  </thead>\n",
              "  <tbody>\n",
              "    <tr>\n",
              "      <th>Russian Federation</th>\n",
              "      <td>2752</td>\n",
              "      <td>4281</td>\n",
              "      <td>8872</td>\n",
              "      <td>163</td>\n",
              "      <td>4958</td>\n",
              "      <td>1374</td>\n",
              "    </tr>\n",
              "    <tr>\n",
              "      <th>United States</th>\n",
              "      <td>2285</td>\n",
              "      <td>2936</td>\n",
              "      <td>6143</td>\n",
              "      <td>143</td>\n",
              "      <td>3625</td>\n",
              "      <td>1543</td>\n",
              "    </tr>\n",
              "    <tr>\n",
              "      <th>Mexico</th>\n",
              "      <td>542</td>\n",
              "      <td>439</td>\n",
              "      <td>483</td>\n",
              "      <td>63</td>\n",
              "      <td>198</td>\n",
              "      <td>64</td>\n",
              "    </tr>\n",
              "    <tr>\n",
              "      <th>Brazil</th>\n",
              "      <td>719</td>\n",
              "      <td>847</td>\n",
              "      <td>1288</td>\n",
              "      <td>48</td>\n",
              "      <td>605</td>\n",
              "      <td>145</td>\n",
              "    </tr>\n",
              "    <tr>\n",
              "      <th>Kazakhstan</th>\n",
              "      <td>361</td>\n",
              "      <td>458</td>\n",
              "      <td>723</td>\n",
              "      <td>36</td>\n",
              "      <td>310</td>\n",
              "      <td>63</td>\n",
              "    </tr>\n",
              "  </tbody>\n",
              "</table>\n",
              "</div>"
            ],
            "text/plain": [
              "                    15-24   25-34   35-54   5-14   55-74   75+ \n",
              "Russian Federation    2752    4281    8872    163    4958  1374\n",
              "United States         2285    2936    6143    143    3625  1543\n",
              "Mexico                 542     439     483     63     198    64\n",
              "Brazil                 719     847    1288     48     605   145\n",
              "Kazakhstan             361     458     723     36     310    63"
            ]
          },
          "metadata": {
            "tags": []
          },
          "execution_count": 28
        }
      ]
    },
    {
      "cell_type": "code",
      "metadata": {
        "id": "-gEwz7Uu80kZ",
        "colab": {
          "base_uri": "https://localhost:8080/",
          "height": 195
        },
        "outputId": "fdeb1be6-2faf-4a6b-e4ab-04df155da5ab"
      },
      "source": [
        "p3.nlargest(5,'55-74 ')"
      ],
      "execution_count": null,
      "outputs": [
        {
          "output_type": "execute_result",
          "data": {
            "text/html": [
              "<div>\n",
              "<style scoped>\n",
              "    .dataframe tbody tr th:only-of-type {\n",
              "        vertical-align: middle;\n",
              "    }\n",
              "\n",
              "    .dataframe tbody tr th {\n",
              "        vertical-align: top;\n",
              "    }\n",
              "\n",
              "    .dataframe thead th {\n",
              "        text-align: right;\n",
              "    }\n",
              "</style>\n",
              "<table border=\"1\" class=\"dataframe\">\n",
              "  <thead>\n",
              "    <tr style=\"text-align: right;\">\n",
              "      <th></th>\n",
              "      <th>15-24</th>\n",
              "      <th>25-34</th>\n",
              "      <th>35-54</th>\n",
              "      <th>5-14</th>\n",
              "      <th>55-74</th>\n",
              "      <th>75+</th>\n",
              "    </tr>\n",
              "  </thead>\n",
              "  <tbody>\n",
              "    <tr>\n",
              "      <th>Russian Federation</th>\n",
              "      <td>2752</td>\n",
              "      <td>4281</td>\n",
              "      <td>8872</td>\n",
              "      <td>163</td>\n",
              "      <td>4958</td>\n",
              "      <td>1374</td>\n",
              "    </tr>\n",
              "    <tr>\n",
              "      <th>Japan</th>\n",
              "      <td>843</td>\n",
              "      <td>1524</td>\n",
              "      <td>4494</td>\n",
              "      <td>34</td>\n",
              "      <td>4398</td>\n",
              "      <td>1718</td>\n",
              "    </tr>\n",
              "    <tr>\n",
              "      <th>United States</th>\n",
              "      <td>2285</td>\n",
              "      <td>2936</td>\n",
              "      <td>6143</td>\n",
              "      <td>143</td>\n",
              "      <td>3625</td>\n",
              "      <td>1543</td>\n",
              "    </tr>\n",
              "    <tr>\n",
              "      <th>Germany</th>\n",
              "      <td>344</td>\n",
              "      <td>633</td>\n",
              "      <td>1881</td>\n",
              "      <td>16</td>\n",
              "      <td>1715</td>\n",
              "      <td>1010</td>\n",
              "    </tr>\n",
              "    <tr>\n",
              "      <th>Ukraine</th>\n",
              "      <td>491</td>\n",
              "      <td>886</td>\n",
              "      <td>2227</td>\n",
              "      <td>34</td>\n",
              "      <td>1614</td>\n",
              "      <td>459</td>\n",
              "    </tr>\n",
              "  </tbody>\n",
              "</table>\n",
              "</div>"
            ],
            "text/plain": [
              "                    15-24   25-34   35-54   5-14   55-74   75+ \n",
              "Russian Federation    2752    4281    8872    163    4958  1374\n",
              "Japan                  843    1524    4494     34    4398  1718\n",
              "United States         2285    2936    6143    143    3625  1543\n",
              "Germany                344     633    1881     16    1715  1010\n",
              "Ukraine                491     886    2227     34    1614   459"
            ]
          },
          "metadata": {
            "tags": []
          },
          "execution_count": 29
        }
      ]
    },
    {
      "cell_type": "code",
      "metadata": {
        "id": "VarX_ibI80iO",
        "colab": {
          "base_uri": "https://localhost:8080/",
          "height": 195
        },
        "outputId": "0adadf92-26a9-44e6-b029-3962a17384d8"
      },
      "source": [
        "p3.nlargest(5,'25-34 ')"
      ],
      "execution_count": null,
      "outputs": [
        {
          "output_type": "execute_result",
          "data": {
            "text/html": [
              "<div>\n",
              "<style scoped>\n",
              "    .dataframe tbody tr th:only-of-type {\n",
              "        vertical-align: middle;\n",
              "    }\n",
              "\n",
              "    .dataframe tbody tr th {\n",
              "        vertical-align: top;\n",
              "    }\n",
              "\n",
              "    .dataframe thead th {\n",
              "        text-align: right;\n",
              "    }\n",
              "</style>\n",
              "<table border=\"1\" class=\"dataframe\">\n",
              "  <thead>\n",
              "    <tr style=\"text-align: right;\">\n",
              "      <th></th>\n",
              "      <th>15-24</th>\n",
              "      <th>25-34</th>\n",
              "      <th>35-54</th>\n",
              "      <th>5-14</th>\n",
              "      <th>55-74</th>\n",
              "      <th>75+</th>\n",
              "    </tr>\n",
              "  </thead>\n",
              "  <tbody>\n",
              "    <tr>\n",
              "      <th>Russian Federation</th>\n",
              "      <td>2752</td>\n",
              "      <td>4281</td>\n",
              "      <td>8872</td>\n",
              "      <td>163</td>\n",
              "      <td>4958</td>\n",
              "      <td>1374</td>\n",
              "    </tr>\n",
              "    <tr>\n",
              "      <th>United States</th>\n",
              "      <td>2285</td>\n",
              "      <td>2936</td>\n",
              "      <td>6143</td>\n",
              "      <td>143</td>\n",
              "      <td>3625</td>\n",
              "      <td>1543</td>\n",
              "    </tr>\n",
              "    <tr>\n",
              "      <th>Japan</th>\n",
              "      <td>843</td>\n",
              "      <td>1524</td>\n",
              "      <td>4494</td>\n",
              "      <td>34</td>\n",
              "      <td>4398</td>\n",
              "      <td>1718</td>\n",
              "    </tr>\n",
              "    <tr>\n",
              "      <th>Ukraine</th>\n",
              "      <td>491</td>\n",
              "      <td>886</td>\n",
              "      <td>2227</td>\n",
              "      <td>34</td>\n",
              "      <td>1614</td>\n",
              "      <td>459</td>\n",
              "    </tr>\n",
              "    <tr>\n",
              "      <th>Brazil</th>\n",
              "      <td>719</td>\n",
              "      <td>847</td>\n",
              "      <td>1288</td>\n",
              "      <td>48</td>\n",
              "      <td>605</td>\n",
              "      <td>145</td>\n",
              "    </tr>\n",
              "  </tbody>\n",
              "</table>\n",
              "</div>"
            ],
            "text/plain": [
              "                    15-24   25-34   35-54   5-14   55-74   75+ \n",
              "Russian Federation    2752    4281    8872    163    4958  1374\n",
              "United States         2285    2936    6143    143    3625  1543\n",
              "Japan                  843    1524    4494     34    4398  1718\n",
              "Ukraine                491     886    2227     34    1614   459\n",
              "Brazil                 719     847    1288     48     605   145"
            ]
          },
          "metadata": {
            "tags": []
          },
          "execution_count": 30
        }
      ]
    },
    {
      "cell_type": "code",
      "metadata": {
        "id": "Pms55WIK-FEG",
        "colab": {
          "base_uri": "https://localhost:8080/",
          "height": 195
        },
        "outputId": "32c62b56-c140-4f77-8079-4e998d3ab4e7"
      },
      "source": [
        "p3.nlargest(5,'15-24 ')"
      ],
      "execution_count": null,
      "outputs": [
        {
          "output_type": "execute_result",
          "data": {
            "text/html": [
              "<div>\n",
              "<style scoped>\n",
              "    .dataframe tbody tr th:only-of-type {\n",
              "        vertical-align: middle;\n",
              "    }\n",
              "\n",
              "    .dataframe tbody tr th {\n",
              "        vertical-align: top;\n",
              "    }\n",
              "\n",
              "    .dataframe thead th {\n",
              "        text-align: right;\n",
              "    }\n",
              "</style>\n",
              "<table border=\"1\" class=\"dataframe\">\n",
              "  <thead>\n",
              "    <tr style=\"text-align: right;\">\n",
              "      <th></th>\n",
              "      <th>15-24</th>\n",
              "      <th>25-34</th>\n",
              "      <th>35-54</th>\n",
              "      <th>5-14</th>\n",
              "      <th>55-74</th>\n",
              "      <th>75+</th>\n",
              "    </tr>\n",
              "  </thead>\n",
              "  <tbody>\n",
              "    <tr>\n",
              "      <th>Russian Federation</th>\n",
              "      <td>2752</td>\n",
              "      <td>4281</td>\n",
              "      <td>8872</td>\n",
              "      <td>163</td>\n",
              "      <td>4958</td>\n",
              "      <td>1374</td>\n",
              "    </tr>\n",
              "    <tr>\n",
              "      <th>United States</th>\n",
              "      <td>2285</td>\n",
              "      <td>2936</td>\n",
              "      <td>6143</td>\n",
              "      <td>143</td>\n",
              "      <td>3625</td>\n",
              "      <td>1543</td>\n",
              "    </tr>\n",
              "    <tr>\n",
              "      <th>Japan</th>\n",
              "      <td>843</td>\n",
              "      <td>1524</td>\n",
              "      <td>4494</td>\n",
              "      <td>34</td>\n",
              "      <td>4398</td>\n",
              "      <td>1718</td>\n",
              "    </tr>\n",
              "    <tr>\n",
              "      <th>Brazil</th>\n",
              "      <td>719</td>\n",
              "      <td>847</td>\n",
              "      <td>1288</td>\n",
              "      <td>48</td>\n",
              "      <td>605</td>\n",
              "      <td>145</td>\n",
              "    </tr>\n",
              "    <tr>\n",
              "      <th>Sri Lanka</th>\n",
              "      <td>652</td>\n",
              "      <td>576</td>\n",
              "      <td>792</td>\n",
              "      <td>32</td>\n",
              "      <td>368</td>\n",
              "      <td>106</td>\n",
              "    </tr>\n",
              "  </tbody>\n",
              "</table>\n",
              "</div>"
            ],
            "text/plain": [
              "                    15-24   25-34   35-54   5-14   55-74   75+ \n",
              "Russian Federation    2752    4281    8872    163    4958  1374\n",
              "United States         2285    2936    6143    143    3625  1543\n",
              "Japan                  843    1524    4494     34    4398  1718\n",
              "Brazil                 719     847    1288     48     605   145\n",
              "Sri Lanka              652     576     792     32     368   106"
            ]
          },
          "metadata": {
            "tags": []
          },
          "execution_count": 31
        }
      ]
    },
    {
      "cell_type": "code",
      "metadata": {
        "id": "oxTZ2TbF-FBU",
        "colab": {
          "base_uri": "https://localhost:8080/",
          "height": 195
        },
        "outputId": "db48b693-d721-486b-df56-d8eff1c3a9f2"
      },
      "source": [
        "p3.nlargest(5,'75+ ')"
      ],
      "execution_count": null,
      "outputs": [
        {
          "output_type": "execute_result",
          "data": {
            "text/html": [
              "<div>\n",
              "<style scoped>\n",
              "    .dataframe tbody tr th:only-of-type {\n",
              "        vertical-align: middle;\n",
              "    }\n",
              "\n",
              "    .dataframe tbody tr th {\n",
              "        vertical-align: top;\n",
              "    }\n",
              "\n",
              "    .dataframe thead th {\n",
              "        text-align: right;\n",
              "    }\n",
              "</style>\n",
              "<table border=\"1\" class=\"dataframe\">\n",
              "  <thead>\n",
              "    <tr style=\"text-align: right;\">\n",
              "      <th></th>\n",
              "      <th>15-24</th>\n",
              "      <th>25-34</th>\n",
              "      <th>35-54</th>\n",
              "      <th>5-14</th>\n",
              "      <th>55-74</th>\n",
              "      <th>75+</th>\n",
              "    </tr>\n",
              "  </thead>\n",
              "  <tbody>\n",
              "    <tr>\n",
              "      <th>Japan</th>\n",
              "      <td>843</td>\n",
              "      <td>1524</td>\n",
              "      <td>4494</td>\n",
              "      <td>34</td>\n",
              "      <td>4398</td>\n",
              "      <td>1718</td>\n",
              "    </tr>\n",
              "    <tr>\n",
              "      <th>United States</th>\n",
              "      <td>2285</td>\n",
              "      <td>2936</td>\n",
              "      <td>6143</td>\n",
              "      <td>143</td>\n",
              "      <td>3625</td>\n",
              "      <td>1543</td>\n",
              "    </tr>\n",
              "    <tr>\n",
              "      <th>Russian Federation</th>\n",
              "      <td>2752</td>\n",
              "      <td>4281</td>\n",
              "      <td>8872</td>\n",
              "      <td>163</td>\n",
              "      <td>4958</td>\n",
              "      <td>1374</td>\n",
              "    </tr>\n",
              "    <tr>\n",
              "      <th>Germany</th>\n",
              "      <td>344</td>\n",
              "      <td>633</td>\n",
              "      <td>1881</td>\n",
              "      <td>16</td>\n",
              "      <td>1715</td>\n",
              "      <td>1010</td>\n",
              "    </tr>\n",
              "    <tr>\n",
              "      <th>France</th>\n",
              "      <td>330</td>\n",
              "      <td>708</td>\n",
              "      <td>2058</td>\n",
              "      <td>14</td>\n",
              "      <td>1441</td>\n",
              "      <td>931</td>\n",
              "    </tr>\n",
              "  </tbody>\n",
              "</table>\n",
              "</div>"
            ],
            "text/plain": [
              "                    15-24   25-34   35-54   5-14   55-74   75+ \n",
              "Japan                  843    1524    4494     34    4398  1718\n",
              "United States         2285    2936    6143    143    3625  1543\n",
              "Russian Federation    2752    4281    8872    163    4958  1374\n",
              "Germany                344     633    1881     16    1715  1010\n",
              "France                 330     708    2058     14    1441   931"
            ]
          },
          "metadata": {
            "tags": []
          },
          "execution_count": 32
        }
      ]
    },
    {
      "cell_type": "markdown",
      "metadata": {
        "id": "UQkcdLHgDP5K"
      },
      "source": [
        "The suicide numbes above the age 75 are more in Japan, which is followed by US, Russian Federation and other countries"
      ]
    },
    {
      "cell_type": "code",
      "metadata": {
        "id": "hpTs6Fc9g79x",
        "colab": {
          "base_uri": "https://localhost:8080/"
        },
        "outputId": "2c10687c-5c2a-4267-9f1f-21a4ebf3cb43"
      },
      "source": [
        "df['country'].unique()"
      ],
      "execution_count": null,
      "outputs": [
        {
          "output_type": "execute_result",
          "data": {
            "text/plain": [
              "array(['Albania', 'Antigua and Barbuda', 'Argentina', 'Armenia', 'Aruba',\n",
              "       'Australia', 'Austria', 'Azerbaijan', 'Bahamas', 'Bahrain',\n",
              "       'Barbados', 'Belarus', 'Belgium', 'Belize',\n",
              "       'Bosnia and Herzegovina', 'Brazil', 'Bulgaria', 'Cabo Verde',\n",
              "       'Canada', 'Chile', 'Colombia', 'Costa Rica', 'Croatia', 'Cuba',\n",
              "       'Cyprus', 'Czech Republic', 'Denmark', 'Dominica', 'Ecuador',\n",
              "       'El Salvador', 'Estonia', 'Fiji', 'Finland', 'France', 'Georgia',\n",
              "       'Germany', 'Greece', 'Grenada', 'Guatemala', 'Guyana', 'Hungary',\n",
              "       'Iceland', 'Ireland', 'Israel', 'Italy', 'Jamaica', 'Japan',\n",
              "       'Kazakhstan', 'Kiribati', 'Kuwait', 'Kyrgyzstan', 'Latvia',\n",
              "       'Lithuania', 'Luxembourg', 'Macau', 'Maldives', 'Malta',\n",
              "       'Mauritius', 'Mexico', 'Mongolia', 'Montenegro', 'Netherlands',\n",
              "       'New Zealand', 'Nicaragua', 'Norway', 'Oman', 'Panama', 'Paraguay',\n",
              "       'Philippines', 'Poland', 'Portugal', 'Puerto Rico', 'Qatar',\n",
              "       'Republic of Korea', 'Romania', 'Russian Federation',\n",
              "       'Saint Kitts and Nevis', 'Saint Lucia',\n",
              "       'Saint Vincent and Grenadines', 'San Marino', 'Serbia',\n",
              "       'Seychelles', 'Singapore', 'Slovakia', 'Slovenia', 'South Africa',\n",
              "       'Spain', 'Sri Lanka', 'Suriname', 'Sweden', 'Switzerland',\n",
              "       'Thailand', 'Trinidad and Tobago', 'Turkey', 'Turkmenistan',\n",
              "       'Ukraine', 'United Arab Emirates', 'United Kingdom',\n",
              "       'United States', 'Uruguay', 'Uzbekistan'], dtype=object)"
            ]
          },
          "metadata": {
            "tags": []
          },
          "execution_count": 33
        }
      ]
    },
    {
      "cell_type": "code",
      "metadata": {
        "id": "8BmHhruft38c",
        "colab": {
          "base_uri": "https://localhost:8080/"
        },
        "outputId": "5ad97e33-2c03-435d-b99c-aeb12b91f985"
      },
      "source": [
        "print(df[' gdp_for_year ($) '].max())\n",
        "max_gdp=df[' gdp_for_year ($) '].max()\n",
        "df['country'].loc[(df[' gdp_for_year ($) ']==max_gdp)]"
      ],
      "execution_count": null,
      "outputs": [
        {
          "output_type": "stream",
          "text": [
            "18120714000000\n"
          ],
          "name": "stdout"
        },
        {
          "output_type": "execute_result",
          "data": {
            "text/plain": [
              "27208    United States\n",
              "27209    United States\n",
              "27210    United States\n",
              "27211    United States\n",
              "27212    United States\n",
              "27213    United States\n",
              "27214    United States\n",
              "27215    United States\n",
              "27216    United States\n",
              "27217    United States\n",
              "27218    United States\n",
              "27219    United States\n",
              "Name: country, dtype: object"
            ]
          },
          "metadata": {
            "tags": []
          },
          "execution_count": 34
        }
      ]
    },
    {
      "cell_type": "markdown",
      "metadata": {
        "id": "F5zwMtDlDoUg"
      },
      "source": [
        "The GDP for year is more for US"
      ]
    },
    {
      "cell_type": "code",
      "metadata": {
        "id": "qeQ6pGx31m3o",
        "colab": {
          "base_uri": "https://localhost:8080/"
        },
        "outputId": "6f0a5834-8264-40ce-e311-d132159f876f"
      },
      "source": [
        "data_country=df[df['country']=='United States']\n",
        "US=data_country.groupby(['year','sex']).suicides_no.sum()\n",
        "US"
      ],
      "execution_count": null,
      "outputs": [
        {
          "output_type": "execute_result",
          "data": {
            "text/plain": [
              "year  sex   \n",
              "1985  female     6308\n",
              "      male      23138\n",
              "1986  female     6677\n",
              "      male      24215\n",
              "1987  female     6522\n",
              "                ...  \n",
              "2013  male      32049\n",
              "2014  female     9659\n",
              "      male      33110\n",
              "2015  female    10199\n",
              "      male      33990\n",
              "Name: suicides_no, Length: 62, dtype: int64"
            ]
          },
          "metadata": {
            "tags": []
          },
          "execution_count": 35
        }
      ]
    },
    {
      "cell_type": "markdown",
      "metadata": {
        "id": "jGT6qV87Ds-f"
      },
      "source": [
        "Suicides over the years in US"
      ]
    },
    {
      "cell_type": "code",
      "metadata": {
        "id": "gpujhFRi4SS6",
        "colab": {
          "base_uri": "https://localhost:8080/"
        },
        "outputId": "468b4132-2680-4f1e-f8af-98a01efb77a7"
      },
      "source": [
        "print(df[' gdp_for_year ($) '].min())\n",
        "min_gdp=df[' gdp_for_year ($) '].min()\n",
        "df['country'].loc[(df[' gdp_for_year ($) ']==min_gdp)]"
      ],
      "execution_count": null,
      "outputs": [
        {
          "output_type": "stream",
          "text": [
            "46919625\n"
          ],
          "name": "stdout"
        },
        {
          "output_type": "execute_result",
          "data": {
            "text/plain": [
              "14072    Kiribati\n",
              "14073    Kiribati\n",
              "14074    Kiribati\n",
              "14075    Kiribati\n",
              "14076    Kiribati\n",
              "14077    Kiribati\n",
              "14078    Kiribati\n",
              "14079    Kiribati\n",
              "14080    Kiribati\n",
              "14081    Kiribati\n",
              "14082    Kiribati\n",
              "14083    Kiribati\n",
              "Name: country, dtype: object"
            ]
          },
          "metadata": {
            "tags": []
          },
          "execution_count": 36
        }
      ]
    },
    {
      "cell_type": "markdown",
      "metadata": {
        "id": "3RjJ0q1tD1kK"
      },
      "source": [
        "The GDP for year is least in Kiribati"
      ]
    },
    {
      "cell_type": "code",
      "metadata": {
        "id": "5IGmkkVi4adS",
        "colab": {
          "base_uri": "https://localhost:8080/"
        },
        "outputId": "16296a49-7240-44dc-d0c7-af6718bafb59"
      },
      "source": [
        "data_country=df[df['country']=='Kiribati']\n",
        "K=data_country.groupby(['year','sex']).suicides_no.sum()\n",
        "K"
      ],
      "execution_count": null,
      "outputs": [
        {
          "output_type": "execute_result",
          "data": {
            "text/plain": [
              "year  sex   \n",
              "1991  female     2\n",
              "      male       8\n",
              "1992  female     1\n",
              "      male       3\n",
              "1993  female     2\n",
              "      male      10\n",
              "1994  female     2\n",
              "      male       8\n",
              "1995  female     0\n",
              "      male       2\n",
              "1996  female     3\n",
              "      male       3\n",
              "1997  female     0\n",
              "      male       5\n",
              "1998  female     0\n",
              "      male       4\n",
              "1999  female     0\n",
              "      male       0\n",
              "2000  female     0\n",
              "      male       0\n",
              "2001  female     0\n",
              "      male       0\n",
              "Name: suicides_no, dtype: int64"
            ]
          },
          "metadata": {
            "tags": []
          },
          "execution_count": 37
        }
      ]
    },
    {
      "cell_type": "markdown",
      "metadata": {
        "id": "eZp-wgNWD6r_"
      },
      "source": [
        "The suicide rate is also minimum in Kiribati"
      ]
    },
    {
      "cell_type": "code",
      "metadata": {
        "id": "ZUeECM957t-m",
        "colab": {
          "base_uri": "https://localhost:8080/"
        },
        "outputId": "211cde31-6e49-41f9-8825-7310f4a682df"
      },
      "source": [
        "min_gdpC=df['gdp_per_capita ($)'].min()\n",
        "df['country'].loc[(df['gdp_per_capita ($)']==min_gdpC)]"
      ],
      "execution_count": null,
      "outputs": [
        {
          "output_type": "execute_result",
          "data": {
            "text/plain": [
              "36    Albania\n",
              "37    Albania\n",
              "38    Albania\n",
              "39    Albania\n",
              "40    Albania\n",
              "41    Albania\n",
              "42    Albania\n",
              "43    Albania\n",
              "44    Albania\n",
              "45    Albania\n",
              "46    Albania\n",
              "47    Albania\n",
              "Name: country, dtype: object"
            ]
          },
          "metadata": {
            "tags": []
          },
          "execution_count": 38
        }
      ]
    },
    {
      "cell_type": "markdown",
      "metadata": {
        "id": "Y0dleaUWEARe"
      },
      "source": [
        "GDP per capita is more for Albania"
      ]
    },
    {
      "cell_type": "code",
      "metadata": {
        "id": "-X-pGnQgHZxy",
        "colab": {
          "base_uri": "https://localhost:8080/"
        },
        "outputId": "5e0c6b07-ba90-4ec1-b216-f7adbfbabc68"
      },
      "source": [
        "data_country=df[df['country']=='Albania']\n",
        "a=data_country.groupby(['year','sex']).suicides_no.sum()\n",
        "a"
      ],
      "execution_count": null,
      "outputs": [
        {
          "output_type": "execute_result",
          "data": {
            "text/plain": [
              "year  sex   \n",
              "1987  female     25\n",
              "      male       48\n",
              "1988  female     22\n",
              "      male       41\n",
              "1989  female     15\n",
              "      male       53\n",
              "1992  female     14\n",
              "      male       33\n",
              "1993  female     27\n",
              "      male       46\n",
              "1994  female     15\n",
              "      male       35\n",
              "1995  female     34\n",
              "      male       54\n",
              "1996  female     39\n",
              "      male       50\n",
              "1997  female     52\n",
              "      male      118\n",
              "1998  female     58\n",
              "      male       96\n",
              "1999  female     48\n",
              "      male       91\n",
              "2000  female     16\n",
              "      male       38\n",
              "2001  female     35\n",
              "      male       84\n",
              "2002  female     42\n",
              "      male       91\n",
              "2003  female     51\n",
              "      male       73\n",
              "2004  female     57\n",
              "      male       89\n",
              "2005  female      0\n",
              "      male        0\n",
              "2006  female      0\n",
              "      male        0\n",
              "2007  female     47\n",
              "      male       77\n",
              "2008  female     61\n",
              "      male       99\n",
              "2009  female      0\n",
              "      male        0\n",
              "2010  female     35\n",
              "      male       61\n",
              "Name: suicides_no, dtype: int64"
            ]
          },
          "metadata": {
            "tags": []
          },
          "execution_count": 39
        }
      ]
    },
    {
      "cell_type": "markdown",
      "metadata": {
        "id": "PPcU1fkBEFaD"
      },
      "source": [
        "Albania's report on suicide rate over the years"
      ]
    },
    {
      "cell_type": "code",
      "metadata": {
        "id": "gbodxyc3HZ6S",
        "colab": {
          "base_uri": "https://localhost:8080/"
        },
        "outputId": "c7e76b00-007f-4071-ea99-f93184042f2c"
      },
      "source": [
        "max_gdpC=df['gdp_per_capita ($)'].max()\n",
        "df['country'].loc[(df['gdp_per_capita ($)']==max_gdpC)]"
      ],
      "execution_count": null,
      "outputs": [
        {
          "output_type": "execute_result",
          "data": {
            "text/plain": [
              "15654    Luxembourg\n",
              "15655    Luxembourg\n",
              "15656    Luxembourg\n",
              "15657    Luxembourg\n",
              "15658    Luxembourg\n",
              "15659    Luxembourg\n",
              "15660    Luxembourg\n",
              "15661    Luxembourg\n",
              "15662    Luxembourg\n",
              "15663    Luxembourg\n",
              "15664    Luxembourg\n",
              "15665    Luxembourg\n",
              "Name: country, dtype: object"
            ]
          },
          "metadata": {
            "tags": []
          },
          "execution_count": 40
        }
      ]
    },
    {
      "cell_type": "markdown",
      "metadata": {
        "id": "ebcIcYG_EKqD"
      },
      "source": [
        "GDP per capita is more for Luxembourg"
      ]
    },
    {
      "cell_type": "code",
      "metadata": {
        "id": "ZIIcjM-SHoRo",
        "colab": {
          "base_uri": "https://localhost:8080/"
        },
        "outputId": "c53936f1-0233-4001-860e-f16153b41ac6"
      },
      "source": [
        "data_country=df[df['country']=='Luxembourg']\n",
        "l=data_country.groupby(['year','sex']).suicides_no.sum()\n",
        "l"
      ],
      "execution_count": null,
      "outputs": [
        {
          "output_type": "execute_result",
          "data": {
            "text/plain": [
              "year  sex   \n",
              "1985  female    16\n",
              "      male      39\n",
              "1986  female    14\n",
              "      male      37\n",
              "1987  female    29\n",
              "                ..\n",
              "2013  male      24\n",
              "2014  female    15\n",
              "      male      52\n",
              "2015  female    19\n",
              "      male      45\n",
              "Name: suicides_no, Length: 62, dtype: int64"
            ]
          },
          "metadata": {
            "tags": []
          },
          "execution_count": 41
        }
      ]
    },
    {
      "cell_type": "markdown",
      "metadata": {
        "id": "xGWzzmR5EQG4"
      },
      "source": [
        "Suicide rates of Luxembourg(Comparitively less)"
      ]
    },
    {
      "cell_type": "code",
      "metadata": {
        "id": "7OmFLCMmHobr"
      },
      "source": [
        ""
      ],
      "execution_count": null,
      "outputs": []
    },
    {
      "cell_type": "markdown",
      "metadata": {
        "id": "bWnONDnpwmpR"
      },
      "source": [
        "# iloc"
      ]
    },
    {
      "cell_type": "code",
      "metadata": {
        "id": "xSbDmp77tz-p",
        "colab": {
          "base_uri": "https://localhost:8080/"
        },
        "outputId": "e7524442-f24d-495e-ce33-0980cdeea4f1"
      },
      "source": [
        "df.iloc[:,0]"
      ],
      "execution_count": null,
      "outputs": [
        {
          "output_type": "execute_result",
          "data": {
            "text/plain": [
              "0           Albania\n",
              "1           Albania\n",
              "2           Albania\n",
              "3           Albania\n",
              "4           Albania\n",
              "            ...    \n",
              "27815    Uzbekistan\n",
              "27816    Uzbekistan\n",
              "27817    Uzbekistan\n",
              "27818    Uzbekistan\n",
              "27819    Uzbekistan\n",
              "Name: country, Length: 27820, dtype: object"
            ]
          },
          "metadata": {
            "tags": []
          },
          "execution_count": 42
        }
      ]
    },
    {
      "cell_type": "markdown",
      "metadata": {
        "id": "1ohJxWzMWGhV"
      },
      "source": [
        "First column of the dataset we can infer that it is country name"
      ]
    },
    {
      "cell_type": "code",
      "metadata": {
        "id": "szWN20_6vpgO",
        "colab": {
          "base_uri": "https://localhost:8080/",
          "height": 402
        },
        "outputId": "8afbaa04-c3cf-4dfe-9f33-122e723d3be8"
      },
      "source": [
        "df.iloc[:,0:5]"
      ],
      "execution_count": null,
      "outputs": [
        {
          "output_type": "execute_result",
          "data": {
            "text/html": [
              "<div>\n",
              "<style scoped>\n",
              "    .dataframe tbody tr th:only-of-type {\n",
              "        vertical-align: middle;\n",
              "    }\n",
              "\n",
              "    .dataframe tbody tr th {\n",
              "        vertical-align: top;\n",
              "    }\n",
              "\n",
              "    .dataframe thead th {\n",
              "        text-align: right;\n",
              "    }\n",
              "</style>\n",
              "<table border=\"1\" class=\"dataframe\">\n",
              "  <thead>\n",
              "    <tr style=\"text-align: right;\">\n",
              "      <th></th>\n",
              "      <th>country</th>\n",
              "      <th>year</th>\n",
              "      <th>sex</th>\n",
              "      <th>age</th>\n",
              "      <th>suicides_no</th>\n",
              "    </tr>\n",
              "  </thead>\n",
              "  <tbody>\n",
              "    <tr>\n",
              "      <th>0</th>\n",
              "      <td>Albania</td>\n",
              "      <td>1987</td>\n",
              "      <td>male</td>\n",
              "      <td>15-24</td>\n",
              "      <td>21</td>\n",
              "    </tr>\n",
              "    <tr>\n",
              "      <th>1</th>\n",
              "      <td>Albania</td>\n",
              "      <td>1987</td>\n",
              "      <td>male</td>\n",
              "      <td>35-54</td>\n",
              "      <td>16</td>\n",
              "    </tr>\n",
              "    <tr>\n",
              "      <th>2</th>\n",
              "      <td>Albania</td>\n",
              "      <td>1987</td>\n",
              "      <td>female</td>\n",
              "      <td>15-24</td>\n",
              "      <td>14</td>\n",
              "    </tr>\n",
              "    <tr>\n",
              "      <th>3</th>\n",
              "      <td>Albania</td>\n",
              "      <td>1987</td>\n",
              "      <td>male</td>\n",
              "      <td>75+</td>\n",
              "      <td>1</td>\n",
              "    </tr>\n",
              "    <tr>\n",
              "      <th>4</th>\n",
              "      <td>Albania</td>\n",
              "      <td>1987</td>\n",
              "      <td>male</td>\n",
              "      <td>25-34</td>\n",
              "      <td>9</td>\n",
              "    </tr>\n",
              "    <tr>\n",
              "      <th>...</th>\n",
              "      <td>...</td>\n",
              "      <td>...</td>\n",
              "      <td>...</td>\n",
              "      <td>...</td>\n",
              "      <td>...</td>\n",
              "    </tr>\n",
              "    <tr>\n",
              "      <th>27815</th>\n",
              "      <td>Uzbekistan</td>\n",
              "      <td>2014</td>\n",
              "      <td>female</td>\n",
              "      <td>35-54</td>\n",
              "      <td>107</td>\n",
              "    </tr>\n",
              "    <tr>\n",
              "      <th>27816</th>\n",
              "      <td>Uzbekistan</td>\n",
              "      <td>2014</td>\n",
              "      <td>female</td>\n",
              "      <td>75+</td>\n",
              "      <td>9</td>\n",
              "    </tr>\n",
              "    <tr>\n",
              "      <th>27817</th>\n",
              "      <td>Uzbekistan</td>\n",
              "      <td>2014</td>\n",
              "      <td>male</td>\n",
              "      <td>5-14</td>\n",
              "      <td>60</td>\n",
              "    </tr>\n",
              "    <tr>\n",
              "      <th>27818</th>\n",
              "      <td>Uzbekistan</td>\n",
              "      <td>2014</td>\n",
              "      <td>female</td>\n",
              "      <td>5-14</td>\n",
              "      <td>44</td>\n",
              "    </tr>\n",
              "    <tr>\n",
              "      <th>27819</th>\n",
              "      <td>Uzbekistan</td>\n",
              "      <td>2014</td>\n",
              "      <td>female</td>\n",
              "      <td>55-74</td>\n",
              "      <td>21</td>\n",
              "    </tr>\n",
              "  </tbody>\n",
              "</table>\n",
              "<p>27820 rows × 5 columns</p>\n",
              "</div>"
            ],
            "text/plain": [
              "          country  year     sex     age  suicides_no\n",
              "0         Albania  1987    male  15-24            21\n",
              "1         Albania  1987    male  35-54            16\n",
              "2         Albania  1987  female  15-24            14\n",
              "3         Albania  1987    male    75+             1\n",
              "4         Albania  1987    male  25-34             9\n",
              "...           ...   ...     ...     ...          ...\n",
              "27815  Uzbekistan  2014  female  35-54           107\n",
              "27816  Uzbekistan  2014  female    75+             9\n",
              "27817  Uzbekistan  2014    male   5-14            60\n",
              "27818  Uzbekistan  2014  female   5-14            44\n",
              "27819  Uzbekistan  2014  female  55-74            21\n",
              "\n",
              "[27820 rows x 5 columns]"
            ]
          },
          "metadata": {
            "tags": []
          },
          "execution_count": 43
        }
      ]
    },
    {
      "cell_type": "markdown",
      "metadata": {
        "id": "JeXxKgwuWlPT"
      },
      "source": [
        "Getting first 5 columns of the dataset without giving  their name"
      ]
    },
    {
      "cell_type": "code",
      "metadata": {
        "id": "RtljAYyuwyCG",
        "colab": {
          "base_uri": "https://localhost:8080/",
          "height": 195
        },
        "outputId": "2e5981ec-a2e6-4022-9970-31ffa44eb923"
      },
      "source": [
        "df.iloc[0:5,5:8]"
      ],
      "execution_count": null,
      "outputs": [
        {
          "output_type": "execute_result",
          "data": {
            "text/html": [
              "<div>\n",
              "<style scoped>\n",
              "    .dataframe tbody tr th:only-of-type {\n",
              "        vertical-align: middle;\n",
              "    }\n",
              "\n",
              "    .dataframe tbody tr th {\n",
              "        vertical-align: top;\n",
              "    }\n",
              "\n",
              "    .dataframe thead th {\n",
              "        text-align: right;\n",
              "    }\n",
              "</style>\n",
              "<table border=\"1\" class=\"dataframe\">\n",
              "  <thead>\n",
              "    <tr style=\"text-align: right;\">\n",
              "      <th></th>\n",
              "      <th>population</th>\n",
              "      <th>suicides/100k pop</th>\n",
              "      <th>HDI for year</th>\n",
              "    </tr>\n",
              "  </thead>\n",
              "  <tbody>\n",
              "    <tr>\n",
              "      <th>0</th>\n",
              "      <td>312900</td>\n",
              "      <td>6.71</td>\n",
              "      <td>0.776601</td>\n",
              "    </tr>\n",
              "    <tr>\n",
              "      <th>1</th>\n",
              "      <td>308000</td>\n",
              "      <td>5.19</td>\n",
              "      <td>0.776601</td>\n",
              "    </tr>\n",
              "    <tr>\n",
              "      <th>2</th>\n",
              "      <td>289700</td>\n",
              "      <td>4.83</td>\n",
              "      <td>0.776601</td>\n",
              "    </tr>\n",
              "    <tr>\n",
              "      <th>3</th>\n",
              "      <td>21800</td>\n",
              "      <td>4.59</td>\n",
              "      <td>0.776601</td>\n",
              "    </tr>\n",
              "    <tr>\n",
              "      <th>4</th>\n",
              "      <td>274300</td>\n",
              "      <td>3.28</td>\n",
              "      <td>0.776601</td>\n",
              "    </tr>\n",
              "  </tbody>\n",
              "</table>\n",
              "</div>"
            ],
            "text/plain": [
              "   population  suicides/100k pop  HDI for year\n",
              "0      312900               6.71      0.776601\n",
              "1      308000               5.19      0.776601\n",
              "2      289700               4.83      0.776601\n",
              "3       21800               4.59      0.776601\n",
              "4      274300               3.28      0.776601"
            ]
          },
          "metadata": {
            "tags": []
          },
          "execution_count": 44
        }
      ]
    },
    {
      "cell_type": "markdown",
      "metadata": {
        "id": "9EVjwRaxW5md"
      },
      "source": [
        "Getting first 5 columns and rows of the dataset without giving their name"
      ]
    },
    {
      "cell_type": "markdown",
      "metadata": {
        "id": "G4PxqRWNxQkZ"
      },
      "source": [
        "# Sorting\n"
      ]
    },
    {
      "cell_type": "code",
      "metadata": {
        "id": "_17xxxQ4w1zv",
        "colab": {
          "base_uri": "https://localhost:8080/",
          "height": 402
        },
        "outputId": "0ff2f6f8-be9a-4c3c-9d92-1f4d5badd411"
      },
      "source": [
        "df.sort_values(by='suicides_no',ascending=True)"
      ],
      "execution_count": null,
      "outputs": [
        {
          "output_type": "execute_result",
          "data": {
            "text/html": [
              "<div>\n",
              "<style scoped>\n",
              "    .dataframe tbody tr th:only-of-type {\n",
              "        vertical-align: middle;\n",
              "    }\n",
              "\n",
              "    .dataframe tbody tr th {\n",
              "        vertical-align: top;\n",
              "    }\n",
              "\n",
              "    .dataframe thead th {\n",
              "        text-align: right;\n",
              "    }\n",
              "</style>\n",
              "<table border=\"1\" class=\"dataframe\">\n",
              "  <thead>\n",
              "    <tr style=\"text-align: right;\">\n",
              "      <th></th>\n",
              "      <th>country</th>\n",
              "      <th>year</th>\n",
              "      <th>sex</th>\n",
              "      <th>age</th>\n",
              "      <th>suicides_no</th>\n",
              "      <th>population</th>\n",
              "      <th>suicides/100k pop</th>\n",
              "      <th>HDI for year</th>\n",
              "      <th>gdp_for_year ($)</th>\n",
              "      <th>gdp_per_capita ($)</th>\n",
              "      <th>generation</th>\n",
              "    </tr>\n",
              "  </thead>\n",
              "  <tbody>\n",
              "    <tr>\n",
              "      <th>10715</th>\n",
              "      <td>Guatemala</td>\n",
              "      <td>1986</td>\n",
              "      <td>female</td>\n",
              "      <td>75+</td>\n",
              "      <td>0</td>\n",
              "      <td>42581</td>\n",
              "      <td>0.00</td>\n",
              "      <td>0.776601</td>\n",
              "      <td>7231963516</td>\n",
              "      <td>1044</td>\n",
              "      <td>G.I. Generation</td>\n",
              "    </tr>\n",
              "    <tr>\n",
              "      <th>11684</th>\n",
              "      <td>Iceland</td>\n",
              "      <td>1985</td>\n",
              "      <td>female</td>\n",
              "      <td>75+</td>\n",
              "      <td>0</td>\n",
              "      <td>6100</td>\n",
              "      <td>0.00</td>\n",
              "      <td>0.776000</td>\n",
              "      <td>2939845038</td>\n",
              "      <td>13357</td>\n",
              "      <td>G.I. Generation</td>\n",
              "    </tr>\n",
              "    <tr>\n",
              "      <th>24330</th>\n",
              "      <td>Suriname</td>\n",
              "      <td>2011</td>\n",
              "      <td>female</td>\n",
              "      <td>75+</td>\n",
              "      <td>0</td>\n",
              "      <td>7088</td>\n",
              "      <td>0.00</td>\n",
              "      <td>0.709000</td>\n",
              "      <td>4422276622</td>\n",
              "      <td>9184</td>\n",
              "      <td>Silent</td>\n",
              "    </tr>\n",
              "    <tr>\n",
              "      <th>24331</th>\n",
              "      <td>Suriname</td>\n",
              "      <td>2011</td>\n",
              "      <td>male</td>\n",
              "      <td>5-14</td>\n",
              "      <td>0</td>\n",
              "      <td>51989</td>\n",
              "      <td>0.00</td>\n",
              "      <td>0.709000</td>\n",
              "      <td>4422276622</td>\n",
              "      <td>9184</td>\n",
              "      <td>Generation Z</td>\n",
              "    </tr>\n",
              "    <tr>\n",
              "      <th>14335</th>\n",
              "      <td>Kuwait</td>\n",
              "      <td>2002</td>\n",
              "      <td>male</td>\n",
              "      <td>75+</td>\n",
              "      <td>0</td>\n",
              "      <td>4762</td>\n",
              "      <td>0.00</td>\n",
              "      <td>0.776601</td>\n",
              "      <td>38137545245</td>\n",
              "      <td>17668</td>\n",
              "      <td>Silent</td>\n",
              "    </tr>\n",
              "    <tr>\n",
              "      <th>...</th>\n",
              "      <td>...</td>\n",
              "      <td>...</td>\n",
              "      <td>...</td>\n",
              "      <td>...</td>\n",
              "      <td>...</td>\n",
              "      <td>...</td>\n",
              "      <td>...</td>\n",
              "      <td>...</td>\n",
              "      <td>...</td>\n",
              "      <td>...</td>\n",
              "      <td>...</td>\n",
              "    </tr>\n",
              "    <tr>\n",
              "      <th>21057</th>\n",
              "      <td>Russian Federation</td>\n",
              "      <td>1999</td>\n",
              "      <td>male</td>\n",
              "      <td>35-54</td>\n",
              "      <td>20705</td>\n",
              "      <td>21016400</td>\n",
              "      <td>98.52</td>\n",
              "      <td>0.776601</td>\n",
              "      <td>195905767669</td>\n",
              "      <td>1412</td>\n",
              "      <td>Boomers</td>\n",
              "    </tr>\n",
              "    <tr>\n",
              "      <th>21068</th>\n",
              "      <td>Russian Federation</td>\n",
              "      <td>2000</td>\n",
              "      <td>male</td>\n",
              "      <td>35-54</td>\n",
              "      <td>21063</td>\n",
              "      <td>21378098</td>\n",
              "      <td>98.53</td>\n",
              "      <td>0.776601</td>\n",
              "      <td>259708496267</td>\n",
              "      <td>1879</td>\n",
              "      <td>Boomers</td>\n",
              "    </tr>\n",
              "    <tr>\n",
              "      <th>21080</th>\n",
              "      <td>Russian Federation</td>\n",
              "      <td>2001</td>\n",
              "      <td>male</td>\n",
              "      <td>35-54</td>\n",
              "      <td>21262</td>\n",
              "      <td>21476420</td>\n",
              "      <td>99.00</td>\n",
              "      <td>0.776601</td>\n",
              "      <td>306602673980</td>\n",
              "      <td>2229</td>\n",
              "      <td>Boomers</td>\n",
              "    </tr>\n",
              "    <tr>\n",
              "      <th>21008</th>\n",
              "      <td>Russian Federation</td>\n",
              "      <td>1995</td>\n",
              "      <td>male</td>\n",
              "      <td>35-54</td>\n",
              "      <td>21706</td>\n",
              "      <td>19249600</td>\n",
              "      <td>112.76</td>\n",
              "      <td>0.776601</td>\n",
              "      <td>395531066563</td>\n",
              "      <td>2844</td>\n",
              "      <td>Boomers</td>\n",
              "    </tr>\n",
              "    <tr>\n",
              "      <th>20996</th>\n",
              "      <td>Russian Federation</td>\n",
              "      <td>1994</td>\n",
              "      <td>male</td>\n",
              "      <td>35-54</td>\n",
              "      <td>22338</td>\n",
              "      <td>19044200</td>\n",
              "      <td>117.30</td>\n",
              "      <td>0.776601</td>\n",
              "      <td>395077301248</td>\n",
              "      <td>2853</td>\n",
              "      <td>Boomers</td>\n",
              "    </tr>\n",
              "  </tbody>\n",
              "</table>\n",
              "<p>27820 rows × 11 columns</p>\n",
              "</div>"
            ],
            "text/plain": [
              "                  country  year  ... gdp_per_capita ($)       generation\n",
              "10715           Guatemala  1986  ...               1044  G.I. Generation\n",
              "11684             Iceland  1985  ...              13357  G.I. Generation\n",
              "24330            Suriname  2011  ...               9184           Silent\n",
              "24331            Suriname  2011  ...               9184     Generation Z\n",
              "14335              Kuwait  2002  ...              17668           Silent\n",
              "...                   ...   ...  ...                ...              ...\n",
              "21057  Russian Federation  1999  ...               1412          Boomers\n",
              "21068  Russian Federation  2000  ...               1879          Boomers\n",
              "21080  Russian Federation  2001  ...               2229          Boomers\n",
              "21008  Russian Federation  1995  ...               2844          Boomers\n",
              "20996  Russian Federation  1994  ...               2853          Boomers\n",
              "\n",
              "[27820 rows x 11 columns]"
            ]
          },
          "metadata": {
            "tags": []
          },
          "execution_count": 105
        }
      ]
    },
    {
      "cell_type": "markdown",
      "metadata": {
        "id": "DOYvCC-3XnIy"
      },
      "source": [
        "Shows the minimum to maximum suicide no.s."
      ]
    },
    {
      "cell_type": "code",
      "metadata": {
        "id": "Icya7QmmI2cp",
        "colab": {
          "base_uri": "https://localhost:8080/",
          "height": 402
        },
        "outputId": "85dbb55f-e7a5-459d-a65c-9dd053012b7e"
      },
      "source": [
        "sorted=df.sort_values(by=['gdp_per_capita ($)'],ascending=[False])\n",
        "sorted.loc[(sorted['year']==2016)]"
      ],
      "execution_count": null,
      "outputs": [
        {
          "output_type": "execute_result",
          "data": {
            "text/html": [
              "<div>\n",
              "<style scoped>\n",
              "    .dataframe tbody tr th:only-of-type {\n",
              "        vertical-align: middle;\n",
              "    }\n",
              "\n",
              "    .dataframe tbody tr th {\n",
              "        vertical-align: top;\n",
              "    }\n",
              "\n",
              "    .dataframe thead th {\n",
              "        text-align: right;\n",
              "    }\n",
              "</style>\n",
              "<table border=\"1\" class=\"dataframe\">\n",
              "  <thead>\n",
              "    <tr style=\"text-align: right;\">\n",
              "      <th></th>\n",
              "      <th>country</th>\n",
              "      <th>year</th>\n",
              "      <th>sex</th>\n",
              "      <th>age</th>\n",
              "      <th>suicides_no</th>\n",
              "      <th>population</th>\n",
              "      <th>suicides/100k pop</th>\n",
              "      <th>HDI for year</th>\n",
              "      <th>gdp_for_year ($)</th>\n",
              "      <th>gdp_per_capita ($)</th>\n",
              "      <th>generation</th>\n",
              "    </tr>\n",
              "  </thead>\n",
              "  <tbody>\n",
              "    <tr>\n",
              "      <th>12051</th>\n",
              "      <td>Iceland</td>\n",
              "      <td>2016</td>\n",
              "      <td>female</td>\n",
              "      <td>25-34</td>\n",
              "      <td>2</td>\n",
              "      <td>23233</td>\n",
              "      <td>8.61</td>\n",
              "      <td>0.776601</td>\n",
              "      <td>20304098101</td>\n",
              "      <td>64708</td>\n",
              "      <td>Millenials</td>\n",
              "    </tr>\n",
              "    <tr>\n",
              "      <th>12048</th>\n",
              "      <td>Iceland</td>\n",
              "      <td>2016</td>\n",
              "      <td>male</td>\n",
              "      <td>35-54</td>\n",
              "      <td>11</td>\n",
              "      <td>44024</td>\n",
              "      <td>24.99</td>\n",
              "      <td>0.776601</td>\n",
              "      <td>20304098101</td>\n",
              "      <td>64708</td>\n",
              "      <td>Generation X</td>\n",
              "    </tr>\n",
              "    <tr>\n",
              "      <th>12046</th>\n",
              "      <td>Iceland</td>\n",
              "      <td>2016</td>\n",
              "      <td>male</td>\n",
              "      <td>25-34</td>\n",
              "      <td>8</td>\n",
              "      <td>25029</td>\n",
              "      <td>31.96</td>\n",
              "      <td>0.776601</td>\n",
              "      <td>20304098101</td>\n",
              "      <td>64708</td>\n",
              "      <td>Millenials</td>\n",
              "    </tr>\n",
              "    <tr>\n",
              "      <th>12055</th>\n",
              "      <td>Iceland</td>\n",
              "      <td>2016</td>\n",
              "      <td>female</td>\n",
              "      <td>75+</td>\n",
              "      <td>0</td>\n",
              "      <td>11268</td>\n",
              "      <td>0.00</td>\n",
              "      <td>0.776601</td>\n",
              "      <td>20304098101</td>\n",
              "      <td>64708</td>\n",
              "      <td>Silent</td>\n",
              "    </tr>\n",
              "    <tr>\n",
              "      <th>12054</th>\n",
              "      <td>Iceland</td>\n",
              "      <td>2016</td>\n",
              "      <td>female</td>\n",
              "      <td>35-54</td>\n",
              "      <td>0</td>\n",
              "      <td>43216</td>\n",
              "      <td>0.00</td>\n",
              "      <td>0.776601</td>\n",
              "      <td>20304098101</td>\n",
              "      <td>64708</td>\n",
              "      <td>Generation X</td>\n",
              "    </tr>\n",
              "    <tr>\n",
              "      <th>...</th>\n",
              "      <td>...</td>\n",
              "      <td>...</td>\n",
              "      <td>...</td>\n",
              "      <td>...</td>\n",
              "      <td>...</td>\n",
              "      <td>...</td>\n",
              "      <td>...</td>\n",
              "      <td>...</td>\n",
              "      <td>...</td>\n",
              "      <td>...</td>\n",
              "      <td>...</td>\n",
              "    </tr>\n",
              "    <tr>\n",
              "      <th>1250</th>\n",
              "      <td>Armenia</td>\n",
              "      <td>2016</td>\n",
              "      <td>male</td>\n",
              "      <td>35-54</td>\n",
              "      <td>16</td>\n",
              "      <td>350633</td>\n",
              "      <td>4.56</td>\n",
              "      <td>0.776601</td>\n",
              "      <td>10546135160</td>\n",
              "      <td>3788</td>\n",
              "      <td>Generation X</td>\n",
              "    </tr>\n",
              "    <tr>\n",
              "      <th>1248</th>\n",
              "      <td>Armenia</td>\n",
              "      <td>2016</td>\n",
              "      <td>male</td>\n",
              "      <td>75+</td>\n",
              "      <td>12</td>\n",
              "      <td>61956</td>\n",
              "      <td>19.37</td>\n",
              "      <td>0.776601</td>\n",
              "      <td>10546135160</td>\n",
              "      <td>3788</td>\n",
              "      <td>Silent</td>\n",
              "    </tr>\n",
              "    <tr>\n",
              "      <th>1255</th>\n",
              "      <td>Armenia</td>\n",
              "      <td>2016</td>\n",
              "      <td>female</td>\n",
              "      <td>35-54</td>\n",
              "      <td>3</td>\n",
              "      <td>408109</td>\n",
              "      <td>0.74</td>\n",
              "      <td>0.776601</td>\n",
              "      <td>10546135160</td>\n",
              "      <td>3788</td>\n",
              "      <td>Generation X</td>\n",
              "    </tr>\n",
              "    <tr>\n",
              "      <th>1256</th>\n",
              "      <td>Armenia</td>\n",
              "      <td>2016</td>\n",
              "      <td>female</td>\n",
              "      <td>25-34</td>\n",
              "      <td>2</td>\n",
              "      <td>277452</td>\n",
              "      <td>0.72</td>\n",
              "      <td>0.776601</td>\n",
              "      <td>10546135160</td>\n",
              "      <td>3788</td>\n",
              "      <td>Millenials</td>\n",
              "    </tr>\n",
              "    <tr>\n",
              "      <th>1257</th>\n",
              "      <td>Armenia</td>\n",
              "      <td>2016</td>\n",
              "      <td>female</td>\n",
              "      <td>15-24</td>\n",
              "      <td>1</td>\n",
              "      <td>195422</td>\n",
              "      <td>0.51</td>\n",
              "      <td>0.776601</td>\n",
              "      <td>10546135160</td>\n",
              "      <td>3788</td>\n",
              "      <td>Millenials</td>\n",
              "    </tr>\n",
              "  </tbody>\n",
              "</table>\n",
              "<p>160 rows × 11 columns</p>\n",
              "</div>"
            ],
            "text/plain": [
              "       country  year  ... gdp_per_capita ($)    generation\n",
              "12051  Iceland  2016  ...              64708    Millenials\n",
              "12048  Iceland  2016  ...              64708  Generation X\n",
              "12046  Iceland  2016  ...              64708    Millenials\n",
              "12055  Iceland  2016  ...              64708        Silent\n",
              "12054  Iceland  2016  ...              64708  Generation X\n",
              "...        ...   ...  ...                ...           ...\n",
              "1250   Armenia  2016  ...               3788  Generation X\n",
              "1248   Armenia  2016  ...               3788        Silent\n",
              "1255   Armenia  2016  ...               3788  Generation X\n",
              "1256   Armenia  2016  ...               3788    Millenials\n",
              "1257   Armenia  2016  ...               3788    Millenials\n",
              "\n",
              "[160 rows x 11 columns]"
            ]
          },
          "metadata": {
            "tags": []
          },
          "execution_count": 106
        }
      ]
    },
    {
      "cell_type": "markdown",
      "metadata": {
        "id": "ums25Ir_bqm7"
      },
      "source": [
        "Shows the maximum to minimum of gdp_per_capita"
      ]
    },
    {
      "cell_type": "code",
      "metadata": {
        "id": "xrPh1MPCw_5n",
        "colab": {
          "base_uri": "https://localhost:8080/",
          "height": 402
        },
        "outputId": "918859bf-3a56-4000-91e6-f1becf7a0e5f"
      },
      "source": [
        "df.sort_values(by=' gdp_for_year ($) ',ascending=True)"
      ],
      "execution_count": null,
      "outputs": [
        {
          "output_type": "execute_result",
          "data": {
            "text/html": [
              "<div>\n",
              "<style scoped>\n",
              "    .dataframe tbody tr th:only-of-type {\n",
              "        vertical-align: middle;\n",
              "    }\n",
              "\n",
              "    .dataframe tbody tr th {\n",
              "        vertical-align: top;\n",
              "    }\n",
              "\n",
              "    .dataframe thead th {\n",
              "        text-align: right;\n",
              "    }\n",
              "</style>\n",
              "<table border=\"1\" class=\"dataframe\">\n",
              "  <thead>\n",
              "    <tr style=\"text-align: right;\">\n",
              "      <th></th>\n",
              "      <th>country</th>\n",
              "      <th>year</th>\n",
              "      <th>sex</th>\n",
              "      <th>age</th>\n",
              "      <th>suicides_no</th>\n",
              "      <th>population</th>\n",
              "      <th>suicides/100k pop</th>\n",
              "      <th>HDI for year</th>\n",
              "      <th>gdp_for_year ($)</th>\n",
              "      <th>gdp_per_capita ($)</th>\n",
              "      <th>generation</th>\n",
              "    </tr>\n",
              "  </thead>\n",
              "  <tbody>\n",
              "    <tr>\n",
              "      <th>14082</th>\n",
              "      <td>Kiribati</td>\n",
              "      <td>1993</td>\n",
              "      <td>female</td>\n",
              "      <td>75+</td>\n",
              "      <td>0</td>\n",
              "      <td>481</td>\n",
              "      <td>0.00</td>\n",
              "      <td>0.776601</td>\n",
              "      <td>46919625</td>\n",
              "      <td>735</td>\n",
              "      <td>G.I. Generation</td>\n",
              "    </tr>\n",
              "    <tr>\n",
              "      <th>14083</th>\n",
              "      <td>Kiribati</td>\n",
              "      <td>1993</td>\n",
              "      <td>male</td>\n",
              "      <td>75+</td>\n",
              "      <td>0</td>\n",
              "      <td>290</td>\n",
              "      <td>0.00</td>\n",
              "      <td>0.776601</td>\n",
              "      <td>46919625</td>\n",
              "      <td>735</td>\n",
              "      <td>G.I. Generation</td>\n",
              "    </tr>\n",
              "    <tr>\n",
              "      <th>14072</th>\n",
              "      <td>Kiribati</td>\n",
              "      <td>1993</td>\n",
              "      <td>male</td>\n",
              "      <td>35-54</td>\n",
              "      <td>3</td>\n",
              "      <td>6370</td>\n",
              "      <td>47.10</td>\n",
              "      <td>0.776601</td>\n",
              "      <td>46919625</td>\n",
              "      <td>735</td>\n",
              "      <td>Boomers</td>\n",
              "    </tr>\n",
              "    <tr>\n",
              "      <th>14074</th>\n",
              "      <td>Kiribati</td>\n",
              "      <td>1993</td>\n",
              "      <td>male</td>\n",
              "      <td>55-74</td>\n",
              "      <td>1</td>\n",
              "      <td>2384</td>\n",
              "      <td>41.95</td>\n",
              "      <td>0.776601</td>\n",
              "      <td>46919625</td>\n",
              "      <td>735</td>\n",
              "      <td>Silent</td>\n",
              "    </tr>\n",
              "    <tr>\n",
              "      <th>14075</th>\n",
              "      <td>Kiribati</td>\n",
              "      <td>1993</td>\n",
              "      <td>male</td>\n",
              "      <td>25-34</td>\n",
              "      <td>2</td>\n",
              "      <td>5958</td>\n",
              "      <td>33.57</td>\n",
              "      <td>0.776601</td>\n",
              "      <td>46919625</td>\n",
              "      <td>735</td>\n",
              "      <td>Boomers</td>\n",
              "    </tr>\n",
              "    <tr>\n",
              "      <th>...</th>\n",
              "      <td>...</td>\n",
              "      <td>...</td>\n",
              "      <td>...</td>\n",
              "      <td>...</td>\n",
              "      <td>...</td>\n",
              "      <td>...</td>\n",
              "      <td>...</td>\n",
              "      <td>...</td>\n",
              "      <td>...</td>\n",
              "      <td>...</td>\n",
              "      <td>...</td>\n",
              "    </tr>\n",
              "    <tr>\n",
              "      <th>27209</th>\n",
              "      <td>United States</td>\n",
              "      <td>2015</td>\n",
              "      <td>male</td>\n",
              "      <td>55-74</td>\n",
              "      <td>9068</td>\n",
              "      <td>32264697</td>\n",
              "      <td>28.11</td>\n",
              "      <td>0.776601</td>\n",
              "      <td>18120714000000</td>\n",
              "      <td>60387</td>\n",
              "      <td>Boomers</td>\n",
              "    </tr>\n",
              "    <tr>\n",
              "      <th>27208</th>\n",
              "      <td>United States</td>\n",
              "      <td>2015</td>\n",
              "      <td>male</td>\n",
              "      <td>75+</td>\n",
              "      <td>3171</td>\n",
              "      <td>8171136</td>\n",
              "      <td>38.81</td>\n",
              "      <td>0.776601</td>\n",
              "      <td>18120714000000</td>\n",
              "      <td>60387</td>\n",
              "      <td>Silent</td>\n",
              "    </tr>\n",
              "    <tr>\n",
              "      <th>27219</th>\n",
              "      <td>United States</td>\n",
              "      <td>2015</td>\n",
              "      <td>female</td>\n",
              "      <td>5-14</td>\n",
              "      <td>158</td>\n",
              "      <td>20342901</td>\n",
              "      <td>0.78</td>\n",
              "      <td>0.776601</td>\n",
              "      <td>18120714000000</td>\n",
              "      <td>60387</td>\n",
              "      <td>Generation Z</td>\n",
              "    </tr>\n",
              "    <tr>\n",
              "      <th>27212</th>\n",
              "      <td>United States</td>\n",
              "      <td>2015</td>\n",
              "      <td>male</td>\n",
              "      <td>15-24</td>\n",
              "      <td>4359</td>\n",
              "      <td>22615073</td>\n",
              "      <td>19.27</td>\n",
              "      <td>0.776601</td>\n",
              "      <td>18120714000000</td>\n",
              "      <td>60387</td>\n",
              "      <td>Millenials</td>\n",
              "    </tr>\n",
              "    <tr>\n",
              "      <th>27218</th>\n",
              "      <td>United States</td>\n",
              "      <td>2015</td>\n",
              "      <td>male</td>\n",
              "      <td>5-14</td>\n",
              "      <td>255</td>\n",
              "      <td>21273987</td>\n",
              "      <td>1.20</td>\n",
              "      <td>0.776601</td>\n",
              "      <td>18120714000000</td>\n",
              "      <td>60387</td>\n",
              "      <td>Generation Z</td>\n",
              "    </tr>\n",
              "  </tbody>\n",
              "</table>\n",
              "<p>27820 rows × 11 columns</p>\n",
              "</div>"
            ],
            "text/plain": [
              "             country  year  ... gdp_per_capita ($)       generation\n",
              "14082       Kiribati  1993  ...                735  G.I. Generation\n",
              "14083       Kiribati  1993  ...                735  G.I. Generation\n",
              "14072       Kiribati  1993  ...                735          Boomers\n",
              "14074       Kiribati  1993  ...                735           Silent\n",
              "14075       Kiribati  1993  ...                735          Boomers\n",
              "...              ...   ...  ...                ...              ...\n",
              "27209  United States  2015  ...              60387          Boomers\n",
              "27208  United States  2015  ...              60387           Silent\n",
              "27219  United States  2015  ...              60387     Generation Z\n",
              "27212  United States  2015  ...              60387       Millenials\n",
              "27218  United States  2015  ...              60387     Generation Z\n",
              "\n",
              "[27820 rows x 11 columns]"
            ]
          },
          "metadata": {
            "tags": []
          },
          "execution_count": 47
        }
      ]
    },
    {
      "cell_type": "markdown",
      "metadata": {
        "id": "hgAQ-5eGb4Xp"
      },
      "source": [
        "Shows the maximum to minimum of gdp_per_year"
      ]
    },
    {
      "cell_type": "markdown",
      "metadata": {
        "id": "dC9k2zlVs5pf"
      },
      "source": [
        "# Melt"
      ]
    },
    {
      "cell_type": "code",
      "metadata": {
        "id": "F5UIG0691VSk",
        "colab": {
          "base_uri": "https://localhost:8080/",
          "height": 195
        },
        "outputId": "d6901532-78b0-4fe3-82ac-a577cf9f92fa"
      },
      "source": [
        "m=pd.melt(p,id_vars=[],var_name='country',value_name='suicides_no')\n",
        "m.head()"
      ],
      "execution_count": null,
      "outputs": [
        {
          "output_type": "execute_result",
          "data": {
            "text/html": [
              "<div>\n",
              "<style scoped>\n",
              "    .dataframe tbody tr th:only-of-type {\n",
              "        vertical-align: middle;\n",
              "    }\n",
              "\n",
              "    .dataframe tbody tr th {\n",
              "        vertical-align: top;\n",
              "    }\n",
              "\n",
              "    .dataframe thead th {\n",
              "        text-align: right;\n",
              "    }\n",
              "</style>\n",
              "<table border=\"1\" class=\"dataframe\">\n",
              "  <thead>\n",
              "    <tr style=\"text-align: right;\">\n",
              "      <th></th>\n",
              "      <th>country</th>\n",
              "      <th>suicides_no</th>\n",
              "    </tr>\n",
              "  </thead>\n",
              "  <tbody>\n",
              "    <tr>\n",
              "      <th>0</th>\n",
              "      <td>Russian Federation</td>\n",
              "      <td>3160.083333</td>\n",
              "    </tr>\n",
              "    <tr>\n",
              "      <th>1</th>\n",
              "      <td>Russian Federation</td>\n",
              "      <td>3252.333333</td>\n",
              "    </tr>\n",
              "    <tr>\n",
              "      <th>2</th>\n",
              "      <td>Russian Federation</td>\n",
              "      <td>3273.416667</td>\n",
              "    </tr>\n",
              "    <tr>\n",
              "      <th>3</th>\n",
              "      <td>Russian Federation</td>\n",
              "      <td>3826.916667</td>\n",
              "    </tr>\n",
              "    <tr>\n",
              "      <th>4</th>\n",
              "      <td>Russian Federation</td>\n",
              "      <td>4653.833333</td>\n",
              "    </tr>\n",
              "  </tbody>\n",
              "</table>\n",
              "</div>"
            ],
            "text/plain": [
              "              country  suicides_no\n",
              "0  Russian Federation  3160.083333\n",
              "1  Russian Federation  3252.333333\n",
              "2  Russian Federation  3273.416667\n",
              "3  Russian Federation  3826.916667\n",
              "4  Russian Federation  4653.833333"
            ]
          },
          "metadata": {
            "tags": []
          },
          "execution_count": 48
        }
      ]
    },
    {
      "cell_type": "markdown",
      "metadata": {
        "id": "lbdE3FcGcG6L"
      },
      "source": [
        "melted the dataset P which is the pivot of country and suicede no."
      ]
    },
    {
      "cell_type": "markdown",
      "metadata": {
        "id": "XWHD09Nxs_bE"
      },
      "source": [
        "# stack"
      ]
    },
    {
      "cell_type": "code",
      "metadata": {
        "id": "-nZe4B0a4ArJ",
        "colab": {
          "base_uri": "https://localhost:8080/"
        },
        "outputId": "1f38cfca-3c88-4592-856d-4450cc26585d"
      },
      "source": [
        "df.stack(level=0).head(22)"
      ],
      "execution_count": null,
      "outputs": [
        {
          "output_type": "execute_result",
          "data": {
            "text/plain": [
              "0  country                    Albania\n",
              "   year                          1987\n",
              "   sex                           male\n",
              "   age                         15-24 \n",
              "   suicides_no                     21\n",
              "   population                  312900\n",
              "   suicides/100k pop             6.71\n",
              "   HDI for year              0.776601\n",
              "    gdp_for_year ($)       2156624900\n",
              "   gdp_per_capita ($)             796\n",
              "   generation            Generation X\n",
              "1  country                    Albania\n",
              "   year                          1987\n",
              "   sex                           male\n",
              "   age                         35-54 \n",
              "   suicides_no                     16\n",
              "   population                  308000\n",
              "   suicides/100k pop             5.19\n",
              "   HDI for year              0.776601\n",
              "    gdp_for_year ($)       2156624900\n",
              "   gdp_per_capita ($)             796\n",
              "   generation                  Silent\n",
              "dtype: object"
            ]
          },
          "metadata": {
            "tags": []
          },
          "execution_count": 49
        }
      ]
    },
    {
      "cell_type": "markdown",
      "metadata": {
        "id": "lAHx7wfEcSyo"
      },
      "source": [
        "Stacked the dataset into a two columns"
      ]
    },
    {
      "cell_type": "markdown",
      "metadata": {
        "id": "KHjB25HetCrR"
      },
      "source": [
        "# unstack"
      ]
    },
    {
      "cell_type": "code",
      "metadata": {
        "id": "uh8lHeSO_d2E",
        "colab": {
          "base_uri": "https://localhost:8080/"
        },
        "outputId": "43ccef30-4c9a-4a13-c812-7984c4842808"
      },
      "source": [
        "unstack=df.unstack(level=1)\n",
        "unstack"
      ],
      "execution_count": null,
      "outputs": [
        {
          "output_type": "execute_result",
          "data": {
            "text/plain": [
              "country     0             Albania\n",
              "            1             Albania\n",
              "            2             Albania\n",
              "            3             Albania\n",
              "            4             Albania\n",
              "                         ...     \n",
              "generation  27815    Generation X\n",
              "            27816          Silent\n",
              "            27817    Generation Z\n",
              "            27818    Generation Z\n",
              "            27819         Boomers\n",
              "Length: 306020, dtype: object"
            ]
          },
          "metadata": {
            "tags": []
          },
          "execution_count": 50
        }
      ]
    },
    {
      "cell_type": "markdown",
      "metadata": {
        "id": "oAk5IFCZcgDD"
      },
      "source": [
        "unstacked the stacked data set."
      ]
    },
    {
      "cell_type": "code",
      "metadata": {
        "id": "t-5XTVV_a1No",
        "colab": {
          "base_uri": "https://localhost:8080/",
          "height": 402
        },
        "outputId": "ea826048-d66d-40d5-e41d-4759bd8febf7"
      },
      "source": [
        "df"
      ],
      "execution_count": null,
      "outputs": [
        {
          "output_type": "execute_result",
          "data": {
            "text/html": [
              "<div>\n",
              "<style scoped>\n",
              "    .dataframe tbody tr th:only-of-type {\n",
              "        vertical-align: middle;\n",
              "    }\n",
              "\n",
              "    .dataframe tbody tr th {\n",
              "        vertical-align: top;\n",
              "    }\n",
              "\n",
              "    .dataframe thead th {\n",
              "        text-align: right;\n",
              "    }\n",
              "</style>\n",
              "<table border=\"1\" class=\"dataframe\">\n",
              "  <thead>\n",
              "    <tr style=\"text-align: right;\">\n",
              "      <th></th>\n",
              "      <th>country</th>\n",
              "      <th>year</th>\n",
              "      <th>sex</th>\n",
              "      <th>age</th>\n",
              "      <th>suicides_no</th>\n",
              "      <th>population</th>\n",
              "      <th>suicide_ratio</th>\n",
              "      <th>HDI_for_year</th>\n",
              "      <th>gdp_for_year</th>\n",
              "      <th>gdp_per_capita</th>\n",
              "      <th>generation</th>\n",
              "    </tr>\n",
              "  </thead>\n",
              "  <tbody>\n",
              "    <tr>\n",
              "      <th>0</th>\n",
              "      <td>Albania</td>\n",
              "      <td>1987</td>\n",
              "      <td>male</td>\n",
              "      <td>15-24</td>\n",
              "      <td>21</td>\n",
              "      <td>312900</td>\n",
              "      <td>6.71</td>\n",
              "      <td>0.776601</td>\n",
              "      <td>2156624900</td>\n",
              "      <td>796</td>\n",
              "      <td>Generation X</td>\n",
              "    </tr>\n",
              "    <tr>\n",
              "      <th>1</th>\n",
              "      <td>Albania</td>\n",
              "      <td>1987</td>\n",
              "      <td>male</td>\n",
              "      <td>35-54</td>\n",
              "      <td>16</td>\n",
              "      <td>308000</td>\n",
              "      <td>5.19</td>\n",
              "      <td>0.776601</td>\n",
              "      <td>2156624900</td>\n",
              "      <td>796</td>\n",
              "      <td>Silent</td>\n",
              "    </tr>\n",
              "    <tr>\n",
              "      <th>2</th>\n",
              "      <td>Albania</td>\n",
              "      <td>1987</td>\n",
              "      <td>female</td>\n",
              "      <td>15-24</td>\n",
              "      <td>14</td>\n",
              "      <td>289700</td>\n",
              "      <td>4.83</td>\n",
              "      <td>0.776601</td>\n",
              "      <td>2156624900</td>\n",
              "      <td>796</td>\n",
              "      <td>Generation X</td>\n",
              "    </tr>\n",
              "    <tr>\n",
              "      <th>3</th>\n",
              "      <td>Albania</td>\n",
              "      <td>1987</td>\n",
              "      <td>male</td>\n",
              "      <td>75+</td>\n",
              "      <td>1</td>\n",
              "      <td>21800</td>\n",
              "      <td>4.59</td>\n",
              "      <td>0.776601</td>\n",
              "      <td>2156624900</td>\n",
              "      <td>796</td>\n",
              "      <td>G.I. Generation</td>\n",
              "    </tr>\n",
              "    <tr>\n",
              "      <th>4</th>\n",
              "      <td>Albania</td>\n",
              "      <td>1987</td>\n",
              "      <td>male</td>\n",
              "      <td>25-34</td>\n",
              "      <td>9</td>\n",
              "      <td>274300</td>\n",
              "      <td>3.28</td>\n",
              "      <td>0.776601</td>\n",
              "      <td>2156624900</td>\n",
              "      <td>796</td>\n",
              "      <td>Boomers</td>\n",
              "    </tr>\n",
              "    <tr>\n",
              "      <th>...</th>\n",
              "      <td>...</td>\n",
              "      <td>...</td>\n",
              "      <td>...</td>\n",
              "      <td>...</td>\n",
              "      <td>...</td>\n",
              "      <td>...</td>\n",
              "      <td>...</td>\n",
              "      <td>...</td>\n",
              "      <td>...</td>\n",
              "      <td>...</td>\n",
              "      <td>...</td>\n",
              "    </tr>\n",
              "    <tr>\n",
              "      <th>27815</th>\n",
              "      <td>Uzbekistan</td>\n",
              "      <td>2014</td>\n",
              "      <td>female</td>\n",
              "      <td>35-54</td>\n",
              "      <td>107</td>\n",
              "      <td>3620833</td>\n",
              "      <td>2.96</td>\n",
              "      <td>0.675000</td>\n",
              "      <td>63067077179</td>\n",
              "      <td>2309</td>\n",
              "      <td>Generation X</td>\n",
              "    </tr>\n",
              "    <tr>\n",
              "      <th>27816</th>\n",
              "      <td>Uzbekistan</td>\n",
              "      <td>2014</td>\n",
              "      <td>female</td>\n",
              "      <td>75+</td>\n",
              "      <td>9</td>\n",
              "      <td>348465</td>\n",
              "      <td>2.58</td>\n",
              "      <td>0.675000</td>\n",
              "      <td>63067077179</td>\n",
              "      <td>2309</td>\n",
              "      <td>Silent</td>\n",
              "    </tr>\n",
              "    <tr>\n",
              "      <th>27817</th>\n",
              "      <td>Uzbekistan</td>\n",
              "      <td>2014</td>\n",
              "      <td>male</td>\n",
              "      <td>5-14</td>\n",
              "      <td>60</td>\n",
              "      <td>2762158</td>\n",
              "      <td>2.17</td>\n",
              "      <td>0.675000</td>\n",
              "      <td>63067077179</td>\n",
              "      <td>2309</td>\n",
              "      <td>Generation Z</td>\n",
              "    </tr>\n",
              "    <tr>\n",
              "      <th>27818</th>\n",
              "      <td>Uzbekistan</td>\n",
              "      <td>2014</td>\n",
              "      <td>female</td>\n",
              "      <td>5-14</td>\n",
              "      <td>44</td>\n",
              "      <td>2631600</td>\n",
              "      <td>1.67</td>\n",
              "      <td>0.675000</td>\n",
              "      <td>63067077179</td>\n",
              "      <td>2309</td>\n",
              "      <td>Generation Z</td>\n",
              "    </tr>\n",
              "    <tr>\n",
              "      <th>27819</th>\n",
              "      <td>Uzbekistan</td>\n",
              "      <td>2014</td>\n",
              "      <td>female</td>\n",
              "      <td>55-74</td>\n",
              "      <td>21</td>\n",
              "      <td>1438935</td>\n",
              "      <td>1.46</td>\n",
              "      <td>0.675000</td>\n",
              "      <td>63067077179</td>\n",
              "      <td>2309</td>\n",
              "      <td>Boomers</td>\n",
              "    </tr>\n",
              "  </tbody>\n",
              "</table>\n",
              "<p>27820 rows × 11 columns</p>\n",
              "</div>"
            ],
            "text/plain": [
              "          country  year     sex  ... gdp_for_year  gdp_per_capita       generation\n",
              "0         Albania  1987    male  ...   2156624900             796     Generation X\n",
              "1         Albania  1987    male  ...   2156624900             796           Silent\n",
              "2         Albania  1987  female  ...   2156624900             796     Generation X\n",
              "3         Albania  1987    male  ...   2156624900             796  G.I. Generation\n",
              "4         Albania  1987    male  ...   2156624900             796          Boomers\n",
              "...           ...   ...     ...  ...          ...             ...              ...\n",
              "27815  Uzbekistan  2014  female  ...  63067077179            2309     Generation X\n",
              "27816  Uzbekistan  2014  female  ...  63067077179            2309           Silent\n",
              "27817  Uzbekistan  2014    male  ...  63067077179            2309     Generation Z\n",
              "27818  Uzbekistan  2014  female  ...  63067077179            2309     Generation Z\n",
              "27819  Uzbekistan  2014  female  ...  63067077179            2309          Boomers\n",
              "\n",
              "[27820 rows x 11 columns]"
            ]
          },
          "metadata": {
            "tags": []
          },
          "execution_count": 203
        }
      ]
    },
    {
      "cell_type": "code",
      "metadata": {
        "id": "4RpxVVPIr2wf"
      },
      "source": [
        ""
      ],
      "execution_count": null,
      "outputs": []
    },
    {
      "cell_type": "markdown",
      "metadata": {
        "id": "6jghkRBC44Gw"
      },
      "source": [
        "# Manual Encoding"
      ]
    },
    {
      "cell_type": "code",
      "metadata": {
        "id": "sYY87NYD5EJx",
        "colab": {
          "base_uri": "https://localhost:8080/"
        },
        "outputId": "0b2bd334-cd0f-42b6-850d-81f854d1e846"
      },
      "source": [
        "pd.get_dummies(df.sex).shape\n"
      ],
      "execution_count": null,
      "outputs": [
        {
          "output_type": "execute_result",
          "data": {
            "text/plain": [
              "(27820, 2)"
            ]
          },
          "metadata": {
            "tags": []
          },
          "execution_count": 9
        }
      ]
    },
    {
      "cell_type": "code",
      "metadata": {
        "colab": {
          "base_uri": "https://localhost:8080/",
          "height": 212
        },
        "id": "6Cam_38jjjFZ",
        "outputId": "060e2a40-071c-40b1-dce2-6713569eb806"
      },
      "source": [
        "gendercat=pd.get_dummies(df.sex)\n",
        "df_gender_updated=pd.concat([df,gendercat], axis=1)\n",
        "df_gender_updated=df_gender_updated.drop('sex',axis=1)\n",
        "print(df_gender_updated.shape)\n",
        "df_gender_updated.head(5)"
      ],
      "execution_count": null,
      "outputs": [
        {
          "output_type": "stream",
          "text": [
            "(27820, 12)\n"
          ],
          "name": "stdout"
        },
        {
          "output_type": "execute_result",
          "data": {
            "text/html": [
              "<div>\n",
              "<style scoped>\n",
              "    .dataframe tbody tr th:only-of-type {\n",
              "        vertical-align: middle;\n",
              "    }\n",
              "\n",
              "    .dataframe tbody tr th {\n",
              "        vertical-align: top;\n",
              "    }\n",
              "\n",
              "    .dataframe thead th {\n",
              "        text-align: right;\n",
              "    }\n",
              "</style>\n",
              "<table border=\"1\" class=\"dataframe\">\n",
              "  <thead>\n",
              "    <tr style=\"text-align: right;\">\n",
              "      <th></th>\n",
              "      <th>country</th>\n",
              "      <th>year</th>\n",
              "      <th>age</th>\n",
              "      <th>suicides_no</th>\n",
              "      <th>population</th>\n",
              "      <th>suicides/100k pop</th>\n",
              "      <th>HDI for year</th>\n",
              "      <th>gdp_for_year ($)</th>\n",
              "      <th>gdp_per_capita ($)</th>\n",
              "      <th>generation</th>\n",
              "      <th>female</th>\n",
              "      <th>male</th>\n",
              "    </tr>\n",
              "  </thead>\n",
              "  <tbody>\n",
              "    <tr>\n",
              "      <th>0</th>\n",
              "      <td>Albania</td>\n",
              "      <td>1987</td>\n",
              "      <td>15-24</td>\n",
              "      <td>21</td>\n",
              "      <td>312900</td>\n",
              "      <td>6.71</td>\n",
              "      <td>0.776601</td>\n",
              "      <td>2156624900</td>\n",
              "      <td>796</td>\n",
              "      <td>Generation X</td>\n",
              "      <td>0</td>\n",
              "      <td>1</td>\n",
              "    </tr>\n",
              "    <tr>\n",
              "      <th>1</th>\n",
              "      <td>Albania</td>\n",
              "      <td>1987</td>\n",
              "      <td>35-54</td>\n",
              "      <td>16</td>\n",
              "      <td>308000</td>\n",
              "      <td>5.19</td>\n",
              "      <td>0.776601</td>\n",
              "      <td>2156624900</td>\n",
              "      <td>796</td>\n",
              "      <td>Silent</td>\n",
              "      <td>0</td>\n",
              "      <td>1</td>\n",
              "    </tr>\n",
              "    <tr>\n",
              "      <th>2</th>\n",
              "      <td>Albania</td>\n",
              "      <td>1987</td>\n",
              "      <td>15-24</td>\n",
              "      <td>14</td>\n",
              "      <td>289700</td>\n",
              "      <td>4.83</td>\n",
              "      <td>0.776601</td>\n",
              "      <td>2156624900</td>\n",
              "      <td>796</td>\n",
              "      <td>Generation X</td>\n",
              "      <td>1</td>\n",
              "      <td>0</td>\n",
              "    </tr>\n",
              "    <tr>\n",
              "      <th>3</th>\n",
              "      <td>Albania</td>\n",
              "      <td>1987</td>\n",
              "      <td>75+</td>\n",
              "      <td>1</td>\n",
              "      <td>21800</td>\n",
              "      <td>4.59</td>\n",
              "      <td>0.776601</td>\n",
              "      <td>2156624900</td>\n",
              "      <td>796</td>\n",
              "      <td>G.I. Generation</td>\n",
              "      <td>0</td>\n",
              "      <td>1</td>\n",
              "    </tr>\n",
              "    <tr>\n",
              "      <th>4</th>\n",
              "      <td>Albania</td>\n",
              "      <td>1987</td>\n",
              "      <td>25-34</td>\n",
              "      <td>9</td>\n",
              "      <td>274300</td>\n",
              "      <td>3.28</td>\n",
              "      <td>0.776601</td>\n",
              "      <td>2156624900</td>\n",
              "      <td>796</td>\n",
              "      <td>Boomers</td>\n",
              "      <td>0</td>\n",
              "      <td>1</td>\n",
              "    </tr>\n",
              "  </tbody>\n",
              "</table>\n",
              "</div>"
            ],
            "text/plain": [
              "   country  year     age  ...       generation  female  male\n",
              "0  Albania  1987  15-24   ...     Generation X       0     1\n",
              "1  Albania  1987  35-54   ...           Silent       0     1\n",
              "2  Albania  1987  15-24   ...     Generation X       1     0\n",
              "3  Albania  1987    75+   ...  G.I. Generation       0     1\n",
              "4  Albania  1987  25-34   ...          Boomers       0     1\n",
              "\n",
              "[5 rows x 12 columns]"
            ]
          },
          "metadata": {
            "tags": []
          },
          "execution_count": 10
        }
      ]
    },
    {
      "cell_type": "code",
      "metadata": {
        "id": "cqEgsZtujjLF"
      },
      "source": [
        ""
      ],
      "execution_count": null,
      "outputs": []
    },
    {
      "cell_type": "code",
      "metadata": {
        "id": "8nqVWvDVjjC0"
      },
      "source": [
        ""
      ],
      "execution_count": null,
      "outputs": []
    },
    {
      "cell_type": "code",
      "metadata": {
        "id": "ZW3fn-LNji_7"
      },
      "source": [
        ""
      ],
      "execution_count": null,
      "outputs": []
    },
    {
      "cell_type": "markdown",
      "metadata": {
        "id": "CFOEUZQhEXND"
      },
      "source": [
        "Gender column which is categorical with 2 values is converted to integer using manual encoding"
      ]
    },
    {
      "cell_type": "code",
      "metadata": {
        "id": "jGkFDlOTPPa0"
      },
      "source": [
        ""
      ],
      "execution_count": null,
      "outputs": []
    },
    {
      "cell_type": "code",
      "metadata": {
        "id": "PBlp9rTi44G0",
        "colab": {
          "base_uri": "https://localhost:8080/"
        },
        "outputId": "db0972ec-0d8e-4a30-fe7a-0d0d3abd6747"
      },
      "source": [
        "pd.get_dummies(df_gender_updated.generation).shape"
      ],
      "execution_count": null,
      "outputs": [
        {
          "output_type": "execute_result",
          "data": {
            "text/plain": [
              "(27820, 6)"
            ]
          },
          "metadata": {
            "tags": []
          },
          "execution_count": 11
        }
      ]
    },
    {
      "cell_type": "markdown",
      "metadata": {
        "id": "avASIshgEll8"
      },
      "source": [
        "Generations are 6 in number which on adding to the table will not make much differences"
      ]
    },
    {
      "cell_type": "code",
      "metadata": {
        "id": "aL2XlbAj44G-"
      },
      "source": [
        "gencat=pd.get_dummies(df_gender_updated.generation)"
      ],
      "execution_count": null,
      "outputs": []
    },
    {
      "cell_type": "code",
      "metadata": {
        "colab": {
          "base_uri": "https://localhost:8080/",
          "height": 402
        },
        "id": "PJFLXXsnb2Ak",
        "outputId": "79f88f57-0664-4b43-95f3-fd4c343d32bc"
      },
      "source": [
        "df_gender_updated.rename(columns={'suicides/100k pop':'suicide_ratio',' gdp_for_year ($) ':'gdp_for_year','gdp_per_capita ($)':'gdp_per_capita','HDI for year':'HDI_for_year'},inplace=True)\n",
        "df_gender_updated"
      ],
      "execution_count": null,
      "outputs": [
        {
          "output_type": "execute_result",
          "data": {
            "text/html": [
              "<div>\n",
              "<style scoped>\n",
              "    .dataframe tbody tr th:only-of-type {\n",
              "        vertical-align: middle;\n",
              "    }\n",
              "\n",
              "    .dataframe tbody tr th {\n",
              "        vertical-align: top;\n",
              "    }\n",
              "\n",
              "    .dataframe thead th {\n",
              "        text-align: right;\n",
              "    }\n",
              "</style>\n",
              "<table border=\"1\" class=\"dataframe\">\n",
              "  <thead>\n",
              "    <tr style=\"text-align: right;\">\n",
              "      <th></th>\n",
              "      <th>country</th>\n",
              "      <th>year</th>\n",
              "      <th>age</th>\n",
              "      <th>suicides_no</th>\n",
              "      <th>population</th>\n",
              "      <th>suicide_ratio</th>\n",
              "      <th>HDI_for_year</th>\n",
              "      <th>gdp_for_year</th>\n",
              "      <th>gdp_per_capita</th>\n",
              "      <th>generation</th>\n",
              "      <th>female</th>\n",
              "      <th>male</th>\n",
              "    </tr>\n",
              "  </thead>\n",
              "  <tbody>\n",
              "    <tr>\n",
              "      <th>0</th>\n",
              "      <td>Albania</td>\n",
              "      <td>1987</td>\n",
              "      <td>15-24</td>\n",
              "      <td>21</td>\n",
              "      <td>312900</td>\n",
              "      <td>6.71</td>\n",
              "      <td>0.776601</td>\n",
              "      <td>2156624900</td>\n",
              "      <td>796</td>\n",
              "      <td>Generation X</td>\n",
              "      <td>0</td>\n",
              "      <td>1</td>\n",
              "    </tr>\n",
              "    <tr>\n",
              "      <th>1</th>\n",
              "      <td>Albania</td>\n",
              "      <td>1987</td>\n",
              "      <td>35-54</td>\n",
              "      <td>16</td>\n",
              "      <td>308000</td>\n",
              "      <td>5.19</td>\n",
              "      <td>0.776601</td>\n",
              "      <td>2156624900</td>\n",
              "      <td>796</td>\n",
              "      <td>Silent</td>\n",
              "      <td>0</td>\n",
              "      <td>1</td>\n",
              "    </tr>\n",
              "    <tr>\n",
              "      <th>2</th>\n",
              "      <td>Albania</td>\n",
              "      <td>1987</td>\n",
              "      <td>15-24</td>\n",
              "      <td>14</td>\n",
              "      <td>289700</td>\n",
              "      <td>4.83</td>\n",
              "      <td>0.776601</td>\n",
              "      <td>2156624900</td>\n",
              "      <td>796</td>\n",
              "      <td>Generation X</td>\n",
              "      <td>1</td>\n",
              "      <td>0</td>\n",
              "    </tr>\n",
              "    <tr>\n",
              "      <th>3</th>\n",
              "      <td>Albania</td>\n",
              "      <td>1987</td>\n",
              "      <td>75+</td>\n",
              "      <td>1</td>\n",
              "      <td>21800</td>\n",
              "      <td>4.59</td>\n",
              "      <td>0.776601</td>\n",
              "      <td>2156624900</td>\n",
              "      <td>796</td>\n",
              "      <td>G.I. Generation</td>\n",
              "      <td>0</td>\n",
              "      <td>1</td>\n",
              "    </tr>\n",
              "    <tr>\n",
              "      <th>4</th>\n",
              "      <td>Albania</td>\n",
              "      <td>1987</td>\n",
              "      <td>25-34</td>\n",
              "      <td>9</td>\n",
              "      <td>274300</td>\n",
              "      <td>3.28</td>\n",
              "      <td>0.776601</td>\n",
              "      <td>2156624900</td>\n",
              "      <td>796</td>\n",
              "      <td>Boomers</td>\n",
              "      <td>0</td>\n",
              "      <td>1</td>\n",
              "    </tr>\n",
              "    <tr>\n",
              "      <th>...</th>\n",
              "      <td>...</td>\n",
              "      <td>...</td>\n",
              "      <td>...</td>\n",
              "      <td>...</td>\n",
              "      <td>...</td>\n",
              "      <td>...</td>\n",
              "      <td>...</td>\n",
              "      <td>...</td>\n",
              "      <td>...</td>\n",
              "      <td>...</td>\n",
              "      <td>...</td>\n",
              "      <td>...</td>\n",
              "    </tr>\n",
              "    <tr>\n",
              "      <th>27815</th>\n",
              "      <td>Uzbekistan</td>\n",
              "      <td>2014</td>\n",
              "      <td>35-54</td>\n",
              "      <td>107</td>\n",
              "      <td>3620833</td>\n",
              "      <td>2.96</td>\n",
              "      <td>0.675000</td>\n",
              "      <td>63067077179</td>\n",
              "      <td>2309</td>\n",
              "      <td>Generation X</td>\n",
              "      <td>1</td>\n",
              "      <td>0</td>\n",
              "    </tr>\n",
              "    <tr>\n",
              "      <th>27816</th>\n",
              "      <td>Uzbekistan</td>\n",
              "      <td>2014</td>\n",
              "      <td>75+</td>\n",
              "      <td>9</td>\n",
              "      <td>348465</td>\n",
              "      <td>2.58</td>\n",
              "      <td>0.675000</td>\n",
              "      <td>63067077179</td>\n",
              "      <td>2309</td>\n",
              "      <td>Silent</td>\n",
              "      <td>1</td>\n",
              "      <td>0</td>\n",
              "    </tr>\n",
              "    <tr>\n",
              "      <th>27817</th>\n",
              "      <td>Uzbekistan</td>\n",
              "      <td>2014</td>\n",
              "      <td>5-14</td>\n",
              "      <td>60</td>\n",
              "      <td>2762158</td>\n",
              "      <td>2.17</td>\n",
              "      <td>0.675000</td>\n",
              "      <td>63067077179</td>\n",
              "      <td>2309</td>\n",
              "      <td>Generation Z</td>\n",
              "      <td>0</td>\n",
              "      <td>1</td>\n",
              "    </tr>\n",
              "    <tr>\n",
              "      <th>27818</th>\n",
              "      <td>Uzbekistan</td>\n",
              "      <td>2014</td>\n",
              "      <td>5-14</td>\n",
              "      <td>44</td>\n",
              "      <td>2631600</td>\n",
              "      <td>1.67</td>\n",
              "      <td>0.675000</td>\n",
              "      <td>63067077179</td>\n",
              "      <td>2309</td>\n",
              "      <td>Generation Z</td>\n",
              "      <td>1</td>\n",
              "      <td>0</td>\n",
              "    </tr>\n",
              "    <tr>\n",
              "      <th>27819</th>\n",
              "      <td>Uzbekistan</td>\n",
              "      <td>2014</td>\n",
              "      <td>55-74</td>\n",
              "      <td>21</td>\n",
              "      <td>1438935</td>\n",
              "      <td>1.46</td>\n",
              "      <td>0.675000</td>\n",
              "      <td>63067077179</td>\n",
              "      <td>2309</td>\n",
              "      <td>Boomers</td>\n",
              "      <td>1</td>\n",
              "      <td>0</td>\n",
              "    </tr>\n",
              "  </tbody>\n",
              "</table>\n",
              "<p>27820 rows × 12 columns</p>\n",
              "</div>"
            ],
            "text/plain": [
              "          country  year     age  ...       generation  female  male\n",
              "0         Albania  1987  15-24   ...     Generation X       0     1\n",
              "1         Albania  1987  35-54   ...           Silent       0     1\n",
              "2         Albania  1987  15-24   ...     Generation X       1     0\n",
              "3         Albania  1987    75+   ...  G.I. Generation       0     1\n",
              "4         Albania  1987  25-34   ...          Boomers       0     1\n",
              "...           ...   ...     ...  ...              ...     ...   ...\n",
              "27815  Uzbekistan  2014  35-54   ...     Generation X       1     0\n",
              "27816  Uzbekistan  2014    75+   ...           Silent       1     0\n",
              "27817  Uzbekistan  2014   5-14   ...     Generation Z       0     1\n",
              "27818  Uzbekistan  2014   5-14   ...     Generation Z       1     0\n",
              "27819  Uzbekistan  2014  55-74   ...          Boomers       1     0\n",
              "\n",
              "[27820 rows x 12 columns]"
            ]
          },
          "metadata": {
            "tags": []
          },
          "execution_count": 13
        }
      ]
    },
    {
      "cell_type": "markdown",
      "metadata": {
        "id": "LJDjMmu4Euvo"
      },
      "source": [
        "generation is turned into categorical data and placed in gencat table"
      ]
    },
    {
      "cell_type": "markdown",
      "metadata": {
        "id": "7nsCvguCKPgF"
      },
      "source": [
        "## **One hot encoding**"
      ]
    },
    {
      "cell_type": "code",
      "metadata": {
        "id": "gpQLzm04SvEz",
        "colab": {
          "base_uri": "https://localhost:8080/",
          "height": 296
        },
        "outputId": "5ab06c9f-9e04-44be-feb0-fc48c3949efc"
      },
      "source": [
        "df_gen_updated=pd.concat([df_gender_updated,gencat], axis=1)\n",
        "df_gen_updated=df_gen_updated.drop('generation',axis=1)\n",
        "print(df_gen_updated.shape)\n",
        "df_gen_updated.head(5)"
      ],
      "execution_count": null,
      "outputs": [
        {
          "output_type": "stream",
          "text": [
            "(27820, 17)\n"
          ],
          "name": "stdout"
        },
        {
          "output_type": "execute_result",
          "data": {
            "text/html": [
              "<div>\n",
              "<style scoped>\n",
              "    .dataframe tbody tr th:only-of-type {\n",
              "        vertical-align: middle;\n",
              "    }\n",
              "\n",
              "    .dataframe tbody tr th {\n",
              "        vertical-align: top;\n",
              "    }\n",
              "\n",
              "    .dataframe thead th {\n",
              "        text-align: right;\n",
              "    }\n",
              "</style>\n",
              "<table border=\"1\" class=\"dataframe\">\n",
              "  <thead>\n",
              "    <tr style=\"text-align: right;\">\n",
              "      <th></th>\n",
              "      <th>country</th>\n",
              "      <th>year</th>\n",
              "      <th>age</th>\n",
              "      <th>suicides_no</th>\n",
              "      <th>population</th>\n",
              "      <th>suicide_ratio</th>\n",
              "      <th>HDI_for_year</th>\n",
              "      <th>gdp_for_year</th>\n",
              "      <th>gdp_per_capita</th>\n",
              "      <th>female</th>\n",
              "      <th>male</th>\n",
              "      <th>Boomers</th>\n",
              "      <th>G.I. Generation</th>\n",
              "      <th>Generation X</th>\n",
              "      <th>Generation Z</th>\n",
              "      <th>Millenials</th>\n",
              "      <th>Silent</th>\n",
              "    </tr>\n",
              "  </thead>\n",
              "  <tbody>\n",
              "    <tr>\n",
              "      <th>0</th>\n",
              "      <td>Albania</td>\n",
              "      <td>1987</td>\n",
              "      <td>15-24</td>\n",
              "      <td>21</td>\n",
              "      <td>312900</td>\n",
              "      <td>6.71</td>\n",
              "      <td>0.776601</td>\n",
              "      <td>2156624900</td>\n",
              "      <td>796</td>\n",
              "      <td>0</td>\n",
              "      <td>1</td>\n",
              "      <td>0</td>\n",
              "      <td>0</td>\n",
              "      <td>1</td>\n",
              "      <td>0</td>\n",
              "      <td>0</td>\n",
              "      <td>0</td>\n",
              "    </tr>\n",
              "    <tr>\n",
              "      <th>1</th>\n",
              "      <td>Albania</td>\n",
              "      <td>1987</td>\n",
              "      <td>35-54</td>\n",
              "      <td>16</td>\n",
              "      <td>308000</td>\n",
              "      <td>5.19</td>\n",
              "      <td>0.776601</td>\n",
              "      <td>2156624900</td>\n",
              "      <td>796</td>\n",
              "      <td>0</td>\n",
              "      <td>1</td>\n",
              "      <td>0</td>\n",
              "      <td>0</td>\n",
              "      <td>0</td>\n",
              "      <td>0</td>\n",
              "      <td>0</td>\n",
              "      <td>1</td>\n",
              "    </tr>\n",
              "    <tr>\n",
              "      <th>2</th>\n",
              "      <td>Albania</td>\n",
              "      <td>1987</td>\n",
              "      <td>15-24</td>\n",
              "      <td>14</td>\n",
              "      <td>289700</td>\n",
              "      <td>4.83</td>\n",
              "      <td>0.776601</td>\n",
              "      <td>2156624900</td>\n",
              "      <td>796</td>\n",
              "      <td>1</td>\n",
              "      <td>0</td>\n",
              "      <td>0</td>\n",
              "      <td>0</td>\n",
              "      <td>1</td>\n",
              "      <td>0</td>\n",
              "      <td>0</td>\n",
              "      <td>0</td>\n",
              "    </tr>\n",
              "    <tr>\n",
              "      <th>3</th>\n",
              "      <td>Albania</td>\n",
              "      <td>1987</td>\n",
              "      <td>75+</td>\n",
              "      <td>1</td>\n",
              "      <td>21800</td>\n",
              "      <td>4.59</td>\n",
              "      <td>0.776601</td>\n",
              "      <td>2156624900</td>\n",
              "      <td>796</td>\n",
              "      <td>0</td>\n",
              "      <td>1</td>\n",
              "      <td>0</td>\n",
              "      <td>1</td>\n",
              "      <td>0</td>\n",
              "      <td>0</td>\n",
              "      <td>0</td>\n",
              "      <td>0</td>\n",
              "    </tr>\n",
              "    <tr>\n",
              "      <th>4</th>\n",
              "      <td>Albania</td>\n",
              "      <td>1987</td>\n",
              "      <td>25-34</td>\n",
              "      <td>9</td>\n",
              "      <td>274300</td>\n",
              "      <td>3.28</td>\n",
              "      <td>0.776601</td>\n",
              "      <td>2156624900</td>\n",
              "      <td>796</td>\n",
              "      <td>0</td>\n",
              "      <td>1</td>\n",
              "      <td>1</td>\n",
              "      <td>0</td>\n",
              "      <td>0</td>\n",
              "      <td>0</td>\n",
              "      <td>0</td>\n",
              "      <td>0</td>\n",
              "    </tr>\n",
              "  </tbody>\n",
              "</table>\n",
              "</div>"
            ],
            "text/plain": [
              "   country  year     age  ...  Generation Z  Millenials  Silent\n",
              "0  Albania  1987  15-24   ...             0           0       0\n",
              "1  Albania  1987  35-54   ...             0           0       1\n",
              "2  Albania  1987  15-24   ...             0           0       0\n",
              "3  Albania  1987    75+   ...             0           0       0\n",
              "4  Albania  1987  25-34   ...             0           0       0\n",
              "\n",
              "[5 rows x 17 columns]"
            ]
          },
          "metadata": {
            "tags": []
          },
          "execution_count": 14
        }
      ]
    },
    {
      "cell_type": "markdown",
      "metadata": {
        "id": "YaMmsXMaE5iK"
      },
      "source": [
        "gencat table is concatenated to oiginal table and the Generation column is dropped. This would make it easier fo training and testing the data"
      ]
    },
    {
      "cell_type": "code",
      "metadata": {
        "id": "DcdvvR0444HF"
      },
      "source": [
        ""
      ],
      "execution_count": null,
      "outputs": []
    },
    {
      "cell_type": "code",
      "metadata": {
        "id": "qDgLV-ni44HM"
      },
      "source": [
        ""
      ],
      "execution_count": null,
      "outputs": []
    },
    {
      "cell_type": "markdown",
      "metadata": {
        "id": "sZ8z2-_5FJP_"
      },
      "source": [
        "Age is also converted to categorical data"
      ]
    },
    {
      "cell_type": "code",
      "metadata": {
        "id": "VVh7aBWRDgfd"
      },
      "source": [
        ""
      ],
      "execution_count": null,
      "outputs": []
    },
    {
      "cell_type": "code",
      "metadata": {
        "id": "DcB3T2GSjr-z"
      },
      "source": [
        ""
      ],
      "execution_count": null,
      "outputs": []
    },
    {
      "cell_type": "code",
      "metadata": {
        "id": "oMGpCn27jsCC"
      },
      "source": [
        ""
      ],
      "execution_count": null,
      "outputs": []
    },
    {
      "cell_type": "code",
      "metadata": {
        "id": "DNhpLW9wjr6j"
      },
      "source": [
        ""
      ],
      "execution_count": null,
      "outputs": []
    },
    {
      "cell_type": "code",
      "metadata": {
        "id": "qC7HzkhkL2bR"
      },
      "source": [
        ""
      ],
      "execution_count": null,
      "outputs": []
    },
    {
      "cell_type": "code",
      "metadata": {
        "id": "zwgPK-E6L4pU",
        "colab": {
          "base_uri": "https://localhost:8080/"
        },
        "outputId": "c02fbfd6-7da2-4f27-dfd2-39e6327c3431"
      },
      "source": [
        "pd.get_dummies(df_gen_updated.country).shape"
      ],
      "execution_count": null,
      "outputs": [
        {
          "output_type": "execute_result",
          "data": {
            "text/plain": [
              "(27820, 101)"
            ]
          },
          "metadata": {
            "tags": []
          },
          "execution_count": 15
        }
      ]
    },
    {
      "cell_type": "code",
      "metadata": {
        "id": "ialchQ-5Oq_e"
      },
      "source": [
        "countrycat=pd.get_dummies(df_gen_updated.country)"
      ],
      "execution_count": null,
      "outputs": []
    },
    {
      "cell_type": "code",
      "metadata": {
        "colab": {
          "base_uri": "https://localhost:8080/",
          "height": 378
        },
        "id": "jynRaME2OrFZ",
        "outputId": "c0de88c9-fa73-4ed0-8853-eb4886e80754"
      },
      "source": [
        "df_country_updated=pd.concat([df_gen_updated,countrycat], axis=1)\n",
        "df_country_updated=df_country_updated.drop('country',axis=1)\n",
        "print(df_country_updated.shape)\n",
        "df_country_updated.head(5)"
      ],
      "execution_count": null,
      "outputs": [
        {
          "output_type": "stream",
          "text": [
            "(27820, 117)\n"
          ],
          "name": "stdout"
        },
        {
          "output_type": "execute_result",
          "data": {
            "text/html": [
              "<div>\n",
              "<style scoped>\n",
              "    .dataframe tbody tr th:only-of-type {\n",
              "        vertical-align: middle;\n",
              "    }\n",
              "\n",
              "    .dataframe tbody tr th {\n",
              "        vertical-align: top;\n",
              "    }\n",
              "\n",
              "    .dataframe thead th {\n",
              "        text-align: right;\n",
              "    }\n",
              "</style>\n",
              "<table border=\"1\" class=\"dataframe\">\n",
              "  <thead>\n",
              "    <tr style=\"text-align: right;\">\n",
              "      <th></th>\n",
              "      <th>year</th>\n",
              "      <th>age</th>\n",
              "      <th>suicides_no</th>\n",
              "      <th>population</th>\n",
              "      <th>suicide_ratio</th>\n",
              "      <th>HDI_for_year</th>\n",
              "      <th>gdp_for_year</th>\n",
              "      <th>gdp_per_capita</th>\n",
              "      <th>female</th>\n",
              "      <th>male</th>\n",
              "      <th>Boomers</th>\n",
              "      <th>G.I. Generation</th>\n",
              "      <th>Generation X</th>\n",
              "      <th>Generation Z</th>\n",
              "      <th>Millenials</th>\n",
              "      <th>Silent</th>\n",
              "      <th>Albania</th>\n",
              "      <th>Antigua and Barbuda</th>\n",
              "      <th>Argentina</th>\n",
              "      <th>Armenia</th>\n",
              "      <th>Aruba</th>\n",
              "      <th>Australia</th>\n",
              "      <th>Austria</th>\n",
              "      <th>Azerbaijan</th>\n",
              "      <th>Bahamas</th>\n",
              "      <th>Bahrain</th>\n",
              "      <th>Barbados</th>\n",
              "      <th>Belarus</th>\n",
              "      <th>Belgium</th>\n",
              "      <th>Belize</th>\n",
              "      <th>Bosnia and Herzegovina</th>\n",
              "      <th>Brazil</th>\n",
              "      <th>Bulgaria</th>\n",
              "      <th>Cabo Verde</th>\n",
              "      <th>Canada</th>\n",
              "      <th>Chile</th>\n",
              "      <th>Colombia</th>\n",
              "      <th>Costa Rica</th>\n",
              "      <th>Croatia</th>\n",
              "      <th>Cuba</th>\n",
              "      <th>...</th>\n",
              "      <th>Netherlands</th>\n",
              "      <th>New Zealand</th>\n",
              "      <th>Nicaragua</th>\n",
              "      <th>Norway</th>\n",
              "      <th>Oman</th>\n",
              "      <th>Panama</th>\n",
              "      <th>Paraguay</th>\n",
              "      <th>Philippines</th>\n",
              "      <th>Poland</th>\n",
              "      <th>Portugal</th>\n",
              "      <th>Puerto Rico</th>\n",
              "      <th>Qatar</th>\n",
              "      <th>Republic of Korea</th>\n",
              "      <th>Romania</th>\n",
              "      <th>Russian Federation</th>\n",
              "      <th>Saint Kitts and Nevis</th>\n",
              "      <th>Saint Lucia</th>\n",
              "      <th>Saint Vincent and Grenadines</th>\n",
              "      <th>San Marino</th>\n",
              "      <th>Serbia</th>\n",
              "      <th>Seychelles</th>\n",
              "      <th>Singapore</th>\n",
              "      <th>Slovakia</th>\n",
              "      <th>Slovenia</th>\n",
              "      <th>South Africa</th>\n",
              "      <th>Spain</th>\n",
              "      <th>Sri Lanka</th>\n",
              "      <th>Suriname</th>\n",
              "      <th>Sweden</th>\n",
              "      <th>Switzerland</th>\n",
              "      <th>Thailand</th>\n",
              "      <th>Trinidad and Tobago</th>\n",
              "      <th>Turkey</th>\n",
              "      <th>Turkmenistan</th>\n",
              "      <th>Ukraine</th>\n",
              "      <th>United Arab Emirates</th>\n",
              "      <th>United Kingdom</th>\n",
              "      <th>United States</th>\n",
              "      <th>Uruguay</th>\n",
              "      <th>Uzbekistan</th>\n",
              "    </tr>\n",
              "  </thead>\n",
              "  <tbody>\n",
              "    <tr>\n",
              "      <th>0</th>\n",
              "      <td>1987</td>\n",
              "      <td>15-24</td>\n",
              "      <td>21</td>\n",
              "      <td>312900</td>\n",
              "      <td>6.71</td>\n",
              "      <td>0.776601</td>\n",
              "      <td>2156624900</td>\n",
              "      <td>796</td>\n",
              "      <td>0</td>\n",
              "      <td>1</td>\n",
              "      <td>0</td>\n",
              "      <td>0</td>\n",
              "      <td>1</td>\n",
              "      <td>0</td>\n",
              "      <td>0</td>\n",
              "      <td>0</td>\n",
              "      <td>1</td>\n",
              "      <td>0</td>\n",
              "      <td>0</td>\n",
              "      <td>0</td>\n",
              "      <td>0</td>\n",
              "      <td>0</td>\n",
              "      <td>0</td>\n",
              "      <td>0</td>\n",
              "      <td>0</td>\n",
              "      <td>0</td>\n",
              "      <td>0</td>\n",
              "      <td>0</td>\n",
              "      <td>0</td>\n",
              "      <td>0</td>\n",
              "      <td>0</td>\n",
              "      <td>0</td>\n",
              "      <td>0</td>\n",
              "      <td>0</td>\n",
              "      <td>0</td>\n",
              "      <td>0</td>\n",
              "      <td>0</td>\n",
              "      <td>0</td>\n",
              "      <td>0</td>\n",
              "      <td>0</td>\n",
              "      <td>...</td>\n",
              "      <td>0</td>\n",
              "      <td>0</td>\n",
              "      <td>0</td>\n",
              "      <td>0</td>\n",
              "      <td>0</td>\n",
              "      <td>0</td>\n",
              "      <td>0</td>\n",
              "      <td>0</td>\n",
              "      <td>0</td>\n",
              "      <td>0</td>\n",
              "      <td>0</td>\n",
              "      <td>0</td>\n",
              "      <td>0</td>\n",
              "      <td>0</td>\n",
              "      <td>0</td>\n",
              "      <td>0</td>\n",
              "      <td>0</td>\n",
              "      <td>0</td>\n",
              "      <td>0</td>\n",
              "      <td>0</td>\n",
              "      <td>0</td>\n",
              "      <td>0</td>\n",
              "      <td>0</td>\n",
              "      <td>0</td>\n",
              "      <td>0</td>\n",
              "      <td>0</td>\n",
              "      <td>0</td>\n",
              "      <td>0</td>\n",
              "      <td>0</td>\n",
              "      <td>0</td>\n",
              "      <td>0</td>\n",
              "      <td>0</td>\n",
              "      <td>0</td>\n",
              "      <td>0</td>\n",
              "      <td>0</td>\n",
              "      <td>0</td>\n",
              "      <td>0</td>\n",
              "      <td>0</td>\n",
              "      <td>0</td>\n",
              "      <td>0</td>\n",
              "    </tr>\n",
              "    <tr>\n",
              "      <th>1</th>\n",
              "      <td>1987</td>\n",
              "      <td>35-54</td>\n",
              "      <td>16</td>\n",
              "      <td>308000</td>\n",
              "      <td>5.19</td>\n",
              "      <td>0.776601</td>\n",
              "      <td>2156624900</td>\n",
              "      <td>796</td>\n",
              "      <td>0</td>\n",
              "      <td>1</td>\n",
              "      <td>0</td>\n",
              "      <td>0</td>\n",
              "      <td>0</td>\n",
              "      <td>0</td>\n",
              "      <td>0</td>\n",
              "      <td>1</td>\n",
              "      <td>1</td>\n",
              "      <td>0</td>\n",
              "      <td>0</td>\n",
              "      <td>0</td>\n",
              "      <td>0</td>\n",
              "      <td>0</td>\n",
              "      <td>0</td>\n",
              "      <td>0</td>\n",
              "      <td>0</td>\n",
              "      <td>0</td>\n",
              "      <td>0</td>\n",
              "      <td>0</td>\n",
              "      <td>0</td>\n",
              "      <td>0</td>\n",
              "      <td>0</td>\n",
              "      <td>0</td>\n",
              "      <td>0</td>\n",
              "      <td>0</td>\n",
              "      <td>0</td>\n",
              "      <td>0</td>\n",
              "      <td>0</td>\n",
              "      <td>0</td>\n",
              "      <td>0</td>\n",
              "      <td>0</td>\n",
              "      <td>...</td>\n",
              "      <td>0</td>\n",
              "      <td>0</td>\n",
              "      <td>0</td>\n",
              "      <td>0</td>\n",
              "      <td>0</td>\n",
              "      <td>0</td>\n",
              "      <td>0</td>\n",
              "      <td>0</td>\n",
              "      <td>0</td>\n",
              "      <td>0</td>\n",
              "      <td>0</td>\n",
              "      <td>0</td>\n",
              "      <td>0</td>\n",
              "      <td>0</td>\n",
              "      <td>0</td>\n",
              "      <td>0</td>\n",
              "      <td>0</td>\n",
              "      <td>0</td>\n",
              "      <td>0</td>\n",
              "      <td>0</td>\n",
              "      <td>0</td>\n",
              "      <td>0</td>\n",
              "      <td>0</td>\n",
              "      <td>0</td>\n",
              "      <td>0</td>\n",
              "      <td>0</td>\n",
              "      <td>0</td>\n",
              "      <td>0</td>\n",
              "      <td>0</td>\n",
              "      <td>0</td>\n",
              "      <td>0</td>\n",
              "      <td>0</td>\n",
              "      <td>0</td>\n",
              "      <td>0</td>\n",
              "      <td>0</td>\n",
              "      <td>0</td>\n",
              "      <td>0</td>\n",
              "      <td>0</td>\n",
              "      <td>0</td>\n",
              "      <td>0</td>\n",
              "    </tr>\n",
              "    <tr>\n",
              "      <th>2</th>\n",
              "      <td>1987</td>\n",
              "      <td>15-24</td>\n",
              "      <td>14</td>\n",
              "      <td>289700</td>\n",
              "      <td>4.83</td>\n",
              "      <td>0.776601</td>\n",
              "      <td>2156624900</td>\n",
              "      <td>796</td>\n",
              "      <td>1</td>\n",
              "      <td>0</td>\n",
              "      <td>0</td>\n",
              "      <td>0</td>\n",
              "      <td>1</td>\n",
              "      <td>0</td>\n",
              "      <td>0</td>\n",
              "      <td>0</td>\n",
              "      <td>1</td>\n",
              "      <td>0</td>\n",
              "      <td>0</td>\n",
              "      <td>0</td>\n",
              "      <td>0</td>\n",
              "      <td>0</td>\n",
              "      <td>0</td>\n",
              "      <td>0</td>\n",
              "      <td>0</td>\n",
              "      <td>0</td>\n",
              "      <td>0</td>\n",
              "      <td>0</td>\n",
              "      <td>0</td>\n",
              "      <td>0</td>\n",
              "      <td>0</td>\n",
              "      <td>0</td>\n",
              "      <td>0</td>\n",
              "      <td>0</td>\n",
              "      <td>0</td>\n",
              "      <td>0</td>\n",
              "      <td>0</td>\n",
              "      <td>0</td>\n",
              "      <td>0</td>\n",
              "      <td>0</td>\n",
              "      <td>...</td>\n",
              "      <td>0</td>\n",
              "      <td>0</td>\n",
              "      <td>0</td>\n",
              "      <td>0</td>\n",
              "      <td>0</td>\n",
              "      <td>0</td>\n",
              "      <td>0</td>\n",
              "      <td>0</td>\n",
              "      <td>0</td>\n",
              "      <td>0</td>\n",
              "      <td>0</td>\n",
              "      <td>0</td>\n",
              "      <td>0</td>\n",
              "      <td>0</td>\n",
              "      <td>0</td>\n",
              "      <td>0</td>\n",
              "      <td>0</td>\n",
              "      <td>0</td>\n",
              "      <td>0</td>\n",
              "      <td>0</td>\n",
              "      <td>0</td>\n",
              "      <td>0</td>\n",
              "      <td>0</td>\n",
              "      <td>0</td>\n",
              "      <td>0</td>\n",
              "      <td>0</td>\n",
              "      <td>0</td>\n",
              "      <td>0</td>\n",
              "      <td>0</td>\n",
              "      <td>0</td>\n",
              "      <td>0</td>\n",
              "      <td>0</td>\n",
              "      <td>0</td>\n",
              "      <td>0</td>\n",
              "      <td>0</td>\n",
              "      <td>0</td>\n",
              "      <td>0</td>\n",
              "      <td>0</td>\n",
              "      <td>0</td>\n",
              "      <td>0</td>\n",
              "    </tr>\n",
              "    <tr>\n",
              "      <th>3</th>\n",
              "      <td>1987</td>\n",
              "      <td>75+</td>\n",
              "      <td>1</td>\n",
              "      <td>21800</td>\n",
              "      <td>4.59</td>\n",
              "      <td>0.776601</td>\n",
              "      <td>2156624900</td>\n",
              "      <td>796</td>\n",
              "      <td>0</td>\n",
              "      <td>1</td>\n",
              "      <td>0</td>\n",
              "      <td>1</td>\n",
              "      <td>0</td>\n",
              "      <td>0</td>\n",
              "      <td>0</td>\n",
              "      <td>0</td>\n",
              "      <td>1</td>\n",
              "      <td>0</td>\n",
              "      <td>0</td>\n",
              "      <td>0</td>\n",
              "      <td>0</td>\n",
              "      <td>0</td>\n",
              "      <td>0</td>\n",
              "      <td>0</td>\n",
              "      <td>0</td>\n",
              "      <td>0</td>\n",
              "      <td>0</td>\n",
              "      <td>0</td>\n",
              "      <td>0</td>\n",
              "      <td>0</td>\n",
              "      <td>0</td>\n",
              "      <td>0</td>\n",
              "      <td>0</td>\n",
              "      <td>0</td>\n",
              "      <td>0</td>\n",
              "      <td>0</td>\n",
              "      <td>0</td>\n",
              "      <td>0</td>\n",
              "      <td>0</td>\n",
              "      <td>0</td>\n",
              "      <td>...</td>\n",
              "      <td>0</td>\n",
              "      <td>0</td>\n",
              "      <td>0</td>\n",
              "      <td>0</td>\n",
              "      <td>0</td>\n",
              "      <td>0</td>\n",
              "      <td>0</td>\n",
              "      <td>0</td>\n",
              "      <td>0</td>\n",
              "      <td>0</td>\n",
              "      <td>0</td>\n",
              "      <td>0</td>\n",
              "      <td>0</td>\n",
              "      <td>0</td>\n",
              "      <td>0</td>\n",
              "      <td>0</td>\n",
              "      <td>0</td>\n",
              "      <td>0</td>\n",
              "      <td>0</td>\n",
              "      <td>0</td>\n",
              "      <td>0</td>\n",
              "      <td>0</td>\n",
              "      <td>0</td>\n",
              "      <td>0</td>\n",
              "      <td>0</td>\n",
              "      <td>0</td>\n",
              "      <td>0</td>\n",
              "      <td>0</td>\n",
              "      <td>0</td>\n",
              "      <td>0</td>\n",
              "      <td>0</td>\n",
              "      <td>0</td>\n",
              "      <td>0</td>\n",
              "      <td>0</td>\n",
              "      <td>0</td>\n",
              "      <td>0</td>\n",
              "      <td>0</td>\n",
              "      <td>0</td>\n",
              "      <td>0</td>\n",
              "      <td>0</td>\n",
              "    </tr>\n",
              "    <tr>\n",
              "      <th>4</th>\n",
              "      <td>1987</td>\n",
              "      <td>25-34</td>\n",
              "      <td>9</td>\n",
              "      <td>274300</td>\n",
              "      <td>3.28</td>\n",
              "      <td>0.776601</td>\n",
              "      <td>2156624900</td>\n",
              "      <td>796</td>\n",
              "      <td>0</td>\n",
              "      <td>1</td>\n",
              "      <td>1</td>\n",
              "      <td>0</td>\n",
              "      <td>0</td>\n",
              "      <td>0</td>\n",
              "      <td>0</td>\n",
              "      <td>0</td>\n",
              "      <td>1</td>\n",
              "      <td>0</td>\n",
              "      <td>0</td>\n",
              "      <td>0</td>\n",
              "      <td>0</td>\n",
              "      <td>0</td>\n",
              "      <td>0</td>\n",
              "      <td>0</td>\n",
              "      <td>0</td>\n",
              "      <td>0</td>\n",
              "      <td>0</td>\n",
              "      <td>0</td>\n",
              "      <td>0</td>\n",
              "      <td>0</td>\n",
              "      <td>0</td>\n",
              "      <td>0</td>\n",
              "      <td>0</td>\n",
              "      <td>0</td>\n",
              "      <td>0</td>\n",
              "      <td>0</td>\n",
              "      <td>0</td>\n",
              "      <td>0</td>\n",
              "      <td>0</td>\n",
              "      <td>0</td>\n",
              "      <td>...</td>\n",
              "      <td>0</td>\n",
              "      <td>0</td>\n",
              "      <td>0</td>\n",
              "      <td>0</td>\n",
              "      <td>0</td>\n",
              "      <td>0</td>\n",
              "      <td>0</td>\n",
              "      <td>0</td>\n",
              "      <td>0</td>\n",
              "      <td>0</td>\n",
              "      <td>0</td>\n",
              "      <td>0</td>\n",
              "      <td>0</td>\n",
              "      <td>0</td>\n",
              "      <td>0</td>\n",
              "      <td>0</td>\n",
              "      <td>0</td>\n",
              "      <td>0</td>\n",
              "      <td>0</td>\n",
              "      <td>0</td>\n",
              "      <td>0</td>\n",
              "      <td>0</td>\n",
              "      <td>0</td>\n",
              "      <td>0</td>\n",
              "      <td>0</td>\n",
              "      <td>0</td>\n",
              "      <td>0</td>\n",
              "      <td>0</td>\n",
              "      <td>0</td>\n",
              "      <td>0</td>\n",
              "      <td>0</td>\n",
              "      <td>0</td>\n",
              "      <td>0</td>\n",
              "      <td>0</td>\n",
              "      <td>0</td>\n",
              "      <td>0</td>\n",
              "      <td>0</td>\n",
              "      <td>0</td>\n",
              "      <td>0</td>\n",
              "      <td>0</td>\n",
              "    </tr>\n",
              "  </tbody>\n",
              "</table>\n",
              "<p>5 rows × 117 columns</p>\n",
              "</div>"
            ],
            "text/plain": [
              "   year     age  suicides_no  ...  United States  Uruguay  Uzbekistan\n",
              "0  1987  15-24            21  ...              0        0           0\n",
              "1  1987  35-54            16  ...              0        0           0\n",
              "2  1987  15-24            14  ...              0        0           0\n",
              "3  1987    75+             1  ...              0        0           0\n",
              "4  1987  25-34             9  ...              0        0           0\n",
              "\n",
              "[5 rows x 117 columns]"
            ]
          },
          "metadata": {
            "tags": []
          },
          "execution_count": 17
        }
      ]
    },
    {
      "cell_type": "code",
      "metadata": {
        "colab": {
          "base_uri": "https://localhost:8080/"
        },
        "id": "nnyZ18WrOrKa",
        "outputId": "984057e0-36d9-41d8-a5e5-4af22bf6ac49"
      },
      "source": [
        "pd.get_dummies(df_country_updated.age).shape"
      ],
      "execution_count": null,
      "outputs": [
        {
          "output_type": "execute_result",
          "data": {
            "text/plain": [
              "(27820, 6)"
            ]
          },
          "metadata": {
            "tags": []
          },
          "execution_count": 18
        }
      ]
    },
    {
      "cell_type": "code",
      "metadata": {
        "id": "hIP_d8eTOrNu"
      },
      "source": [
        "agecat=pd.get_dummies(df_country_updated.age)"
      ],
      "execution_count": null,
      "outputs": []
    },
    {
      "cell_type": "code",
      "metadata": {
        "colab": {
          "base_uri": "https://localhost:8080/",
          "height": 311
        },
        "id": "U9a5ZXlXOrRG",
        "outputId": "11f346fb-40f1-49fc-c722-ea8b91a4efa2"
      },
      "source": [
        "df_age_updated=pd.concat([df_country_updated,agecat], axis=1)\n",
        "df_age_updated=df_age_updated.drop('age',axis=1)\n",
        "print(df_age_updated.shape)\n",
        "df_age_updated.head(5)"
      ],
      "execution_count": null,
      "outputs": [
        {
          "output_type": "stream",
          "text": [
            "(27820, 122)\n"
          ],
          "name": "stdout"
        },
        {
          "output_type": "execute_result",
          "data": {
            "text/html": [
              "<div>\n",
              "<style scoped>\n",
              "    .dataframe tbody tr th:only-of-type {\n",
              "        vertical-align: middle;\n",
              "    }\n",
              "\n",
              "    .dataframe tbody tr th {\n",
              "        vertical-align: top;\n",
              "    }\n",
              "\n",
              "    .dataframe thead th {\n",
              "        text-align: right;\n",
              "    }\n",
              "</style>\n",
              "<table border=\"1\" class=\"dataframe\">\n",
              "  <thead>\n",
              "    <tr style=\"text-align: right;\">\n",
              "      <th></th>\n",
              "      <th>year</th>\n",
              "      <th>suicides_no</th>\n",
              "      <th>population</th>\n",
              "      <th>suicide_ratio</th>\n",
              "      <th>HDI_for_year</th>\n",
              "      <th>gdp_for_year</th>\n",
              "      <th>gdp_per_capita</th>\n",
              "      <th>female</th>\n",
              "      <th>male</th>\n",
              "      <th>Boomers</th>\n",
              "      <th>G.I. Generation</th>\n",
              "      <th>Generation X</th>\n",
              "      <th>Generation Z</th>\n",
              "      <th>Millenials</th>\n",
              "      <th>Silent</th>\n",
              "      <th>Albania</th>\n",
              "      <th>Antigua and Barbuda</th>\n",
              "      <th>Argentina</th>\n",
              "      <th>Armenia</th>\n",
              "      <th>Aruba</th>\n",
              "      <th>Australia</th>\n",
              "      <th>Austria</th>\n",
              "      <th>Azerbaijan</th>\n",
              "      <th>Bahamas</th>\n",
              "      <th>Bahrain</th>\n",
              "      <th>Barbados</th>\n",
              "      <th>Belarus</th>\n",
              "      <th>Belgium</th>\n",
              "      <th>Belize</th>\n",
              "      <th>Bosnia and Herzegovina</th>\n",
              "      <th>Brazil</th>\n",
              "      <th>Bulgaria</th>\n",
              "      <th>Cabo Verde</th>\n",
              "      <th>Canada</th>\n",
              "      <th>Chile</th>\n",
              "      <th>Colombia</th>\n",
              "      <th>Costa Rica</th>\n",
              "      <th>Croatia</th>\n",
              "      <th>Cuba</th>\n",
              "      <th>Cyprus</th>\n",
              "      <th>...</th>\n",
              "      <th>Paraguay</th>\n",
              "      <th>Philippines</th>\n",
              "      <th>Poland</th>\n",
              "      <th>Portugal</th>\n",
              "      <th>Puerto Rico</th>\n",
              "      <th>Qatar</th>\n",
              "      <th>Republic of Korea</th>\n",
              "      <th>Romania</th>\n",
              "      <th>Russian Federation</th>\n",
              "      <th>Saint Kitts and Nevis</th>\n",
              "      <th>Saint Lucia</th>\n",
              "      <th>Saint Vincent and Grenadines</th>\n",
              "      <th>San Marino</th>\n",
              "      <th>Serbia</th>\n",
              "      <th>Seychelles</th>\n",
              "      <th>Singapore</th>\n",
              "      <th>Slovakia</th>\n",
              "      <th>Slovenia</th>\n",
              "      <th>South Africa</th>\n",
              "      <th>Spain</th>\n",
              "      <th>Sri Lanka</th>\n",
              "      <th>Suriname</th>\n",
              "      <th>Sweden</th>\n",
              "      <th>Switzerland</th>\n",
              "      <th>Thailand</th>\n",
              "      <th>Trinidad and Tobago</th>\n",
              "      <th>Turkey</th>\n",
              "      <th>Turkmenistan</th>\n",
              "      <th>Ukraine</th>\n",
              "      <th>United Arab Emirates</th>\n",
              "      <th>United Kingdom</th>\n",
              "      <th>United States</th>\n",
              "      <th>Uruguay</th>\n",
              "      <th>Uzbekistan</th>\n",
              "      <th>15-24</th>\n",
              "      <th>25-34</th>\n",
              "      <th>35-54</th>\n",
              "      <th>5-14</th>\n",
              "      <th>55-74</th>\n",
              "      <th>75+</th>\n",
              "    </tr>\n",
              "  </thead>\n",
              "  <tbody>\n",
              "    <tr>\n",
              "      <th>0</th>\n",
              "      <td>1987</td>\n",
              "      <td>21</td>\n",
              "      <td>312900</td>\n",
              "      <td>6.71</td>\n",
              "      <td>0.776601</td>\n",
              "      <td>2156624900</td>\n",
              "      <td>796</td>\n",
              "      <td>0</td>\n",
              "      <td>1</td>\n",
              "      <td>0</td>\n",
              "      <td>0</td>\n",
              "      <td>1</td>\n",
              "      <td>0</td>\n",
              "      <td>0</td>\n",
              "      <td>0</td>\n",
              "      <td>1</td>\n",
              "      <td>0</td>\n",
              "      <td>0</td>\n",
              "      <td>0</td>\n",
              "      <td>0</td>\n",
              "      <td>0</td>\n",
              "      <td>0</td>\n",
              "      <td>0</td>\n",
              "      <td>0</td>\n",
              "      <td>0</td>\n",
              "      <td>0</td>\n",
              "      <td>0</td>\n",
              "      <td>0</td>\n",
              "      <td>0</td>\n",
              "      <td>0</td>\n",
              "      <td>0</td>\n",
              "      <td>0</td>\n",
              "      <td>0</td>\n",
              "      <td>0</td>\n",
              "      <td>0</td>\n",
              "      <td>0</td>\n",
              "      <td>0</td>\n",
              "      <td>0</td>\n",
              "      <td>0</td>\n",
              "      <td>0</td>\n",
              "      <td>...</td>\n",
              "      <td>0</td>\n",
              "      <td>0</td>\n",
              "      <td>0</td>\n",
              "      <td>0</td>\n",
              "      <td>0</td>\n",
              "      <td>0</td>\n",
              "      <td>0</td>\n",
              "      <td>0</td>\n",
              "      <td>0</td>\n",
              "      <td>0</td>\n",
              "      <td>0</td>\n",
              "      <td>0</td>\n",
              "      <td>0</td>\n",
              "      <td>0</td>\n",
              "      <td>0</td>\n",
              "      <td>0</td>\n",
              "      <td>0</td>\n",
              "      <td>0</td>\n",
              "      <td>0</td>\n",
              "      <td>0</td>\n",
              "      <td>0</td>\n",
              "      <td>0</td>\n",
              "      <td>0</td>\n",
              "      <td>0</td>\n",
              "      <td>0</td>\n",
              "      <td>0</td>\n",
              "      <td>0</td>\n",
              "      <td>0</td>\n",
              "      <td>0</td>\n",
              "      <td>0</td>\n",
              "      <td>0</td>\n",
              "      <td>0</td>\n",
              "      <td>0</td>\n",
              "      <td>0</td>\n",
              "      <td>1</td>\n",
              "      <td>0</td>\n",
              "      <td>0</td>\n",
              "      <td>0</td>\n",
              "      <td>0</td>\n",
              "      <td>0</td>\n",
              "    </tr>\n",
              "    <tr>\n",
              "      <th>1</th>\n",
              "      <td>1987</td>\n",
              "      <td>16</td>\n",
              "      <td>308000</td>\n",
              "      <td>5.19</td>\n",
              "      <td>0.776601</td>\n",
              "      <td>2156624900</td>\n",
              "      <td>796</td>\n",
              "      <td>0</td>\n",
              "      <td>1</td>\n",
              "      <td>0</td>\n",
              "      <td>0</td>\n",
              "      <td>0</td>\n",
              "      <td>0</td>\n",
              "      <td>0</td>\n",
              "      <td>1</td>\n",
              "      <td>1</td>\n",
              "      <td>0</td>\n",
              "      <td>0</td>\n",
              "      <td>0</td>\n",
              "      <td>0</td>\n",
              "      <td>0</td>\n",
              "      <td>0</td>\n",
              "      <td>0</td>\n",
              "      <td>0</td>\n",
              "      <td>0</td>\n",
              "      <td>0</td>\n",
              "      <td>0</td>\n",
              "      <td>0</td>\n",
              "      <td>0</td>\n",
              "      <td>0</td>\n",
              "      <td>0</td>\n",
              "      <td>0</td>\n",
              "      <td>0</td>\n",
              "      <td>0</td>\n",
              "      <td>0</td>\n",
              "      <td>0</td>\n",
              "      <td>0</td>\n",
              "      <td>0</td>\n",
              "      <td>0</td>\n",
              "      <td>0</td>\n",
              "      <td>...</td>\n",
              "      <td>0</td>\n",
              "      <td>0</td>\n",
              "      <td>0</td>\n",
              "      <td>0</td>\n",
              "      <td>0</td>\n",
              "      <td>0</td>\n",
              "      <td>0</td>\n",
              "      <td>0</td>\n",
              "      <td>0</td>\n",
              "      <td>0</td>\n",
              "      <td>0</td>\n",
              "      <td>0</td>\n",
              "      <td>0</td>\n",
              "      <td>0</td>\n",
              "      <td>0</td>\n",
              "      <td>0</td>\n",
              "      <td>0</td>\n",
              "      <td>0</td>\n",
              "      <td>0</td>\n",
              "      <td>0</td>\n",
              "      <td>0</td>\n",
              "      <td>0</td>\n",
              "      <td>0</td>\n",
              "      <td>0</td>\n",
              "      <td>0</td>\n",
              "      <td>0</td>\n",
              "      <td>0</td>\n",
              "      <td>0</td>\n",
              "      <td>0</td>\n",
              "      <td>0</td>\n",
              "      <td>0</td>\n",
              "      <td>0</td>\n",
              "      <td>0</td>\n",
              "      <td>0</td>\n",
              "      <td>0</td>\n",
              "      <td>0</td>\n",
              "      <td>1</td>\n",
              "      <td>0</td>\n",
              "      <td>0</td>\n",
              "      <td>0</td>\n",
              "    </tr>\n",
              "    <tr>\n",
              "      <th>2</th>\n",
              "      <td>1987</td>\n",
              "      <td>14</td>\n",
              "      <td>289700</td>\n",
              "      <td>4.83</td>\n",
              "      <td>0.776601</td>\n",
              "      <td>2156624900</td>\n",
              "      <td>796</td>\n",
              "      <td>1</td>\n",
              "      <td>0</td>\n",
              "      <td>0</td>\n",
              "      <td>0</td>\n",
              "      <td>1</td>\n",
              "      <td>0</td>\n",
              "      <td>0</td>\n",
              "      <td>0</td>\n",
              "      <td>1</td>\n",
              "      <td>0</td>\n",
              "      <td>0</td>\n",
              "      <td>0</td>\n",
              "      <td>0</td>\n",
              "      <td>0</td>\n",
              "      <td>0</td>\n",
              "      <td>0</td>\n",
              "      <td>0</td>\n",
              "      <td>0</td>\n",
              "      <td>0</td>\n",
              "      <td>0</td>\n",
              "      <td>0</td>\n",
              "      <td>0</td>\n",
              "      <td>0</td>\n",
              "      <td>0</td>\n",
              "      <td>0</td>\n",
              "      <td>0</td>\n",
              "      <td>0</td>\n",
              "      <td>0</td>\n",
              "      <td>0</td>\n",
              "      <td>0</td>\n",
              "      <td>0</td>\n",
              "      <td>0</td>\n",
              "      <td>0</td>\n",
              "      <td>...</td>\n",
              "      <td>0</td>\n",
              "      <td>0</td>\n",
              "      <td>0</td>\n",
              "      <td>0</td>\n",
              "      <td>0</td>\n",
              "      <td>0</td>\n",
              "      <td>0</td>\n",
              "      <td>0</td>\n",
              "      <td>0</td>\n",
              "      <td>0</td>\n",
              "      <td>0</td>\n",
              "      <td>0</td>\n",
              "      <td>0</td>\n",
              "      <td>0</td>\n",
              "      <td>0</td>\n",
              "      <td>0</td>\n",
              "      <td>0</td>\n",
              "      <td>0</td>\n",
              "      <td>0</td>\n",
              "      <td>0</td>\n",
              "      <td>0</td>\n",
              "      <td>0</td>\n",
              "      <td>0</td>\n",
              "      <td>0</td>\n",
              "      <td>0</td>\n",
              "      <td>0</td>\n",
              "      <td>0</td>\n",
              "      <td>0</td>\n",
              "      <td>0</td>\n",
              "      <td>0</td>\n",
              "      <td>0</td>\n",
              "      <td>0</td>\n",
              "      <td>0</td>\n",
              "      <td>0</td>\n",
              "      <td>1</td>\n",
              "      <td>0</td>\n",
              "      <td>0</td>\n",
              "      <td>0</td>\n",
              "      <td>0</td>\n",
              "      <td>0</td>\n",
              "    </tr>\n",
              "    <tr>\n",
              "      <th>3</th>\n",
              "      <td>1987</td>\n",
              "      <td>1</td>\n",
              "      <td>21800</td>\n",
              "      <td>4.59</td>\n",
              "      <td>0.776601</td>\n",
              "      <td>2156624900</td>\n",
              "      <td>796</td>\n",
              "      <td>0</td>\n",
              "      <td>1</td>\n",
              "      <td>0</td>\n",
              "      <td>1</td>\n",
              "      <td>0</td>\n",
              "      <td>0</td>\n",
              "      <td>0</td>\n",
              "      <td>0</td>\n",
              "      <td>1</td>\n",
              "      <td>0</td>\n",
              "      <td>0</td>\n",
              "      <td>0</td>\n",
              "      <td>0</td>\n",
              "      <td>0</td>\n",
              "      <td>0</td>\n",
              "      <td>0</td>\n",
              "      <td>0</td>\n",
              "      <td>0</td>\n",
              "      <td>0</td>\n",
              "      <td>0</td>\n",
              "      <td>0</td>\n",
              "      <td>0</td>\n",
              "      <td>0</td>\n",
              "      <td>0</td>\n",
              "      <td>0</td>\n",
              "      <td>0</td>\n",
              "      <td>0</td>\n",
              "      <td>0</td>\n",
              "      <td>0</td>\n",
              "      <td>0</td>\n",
              "      <td>0</td>\n",
              "      <td>0</td>\n",
              "      <td>0</td>\n",
              "      <td>...</td>\n",
              "      <td>0</td>\n",
              "      <td>0</td>\n",
              "      <td>0</td>\n",
              "      <td>0</td>\n",
              "      <td>0</td>\n",
              "      <td>0</td>\n",
              "      <td>0</td>\n",
              "      <td>0</td>\n",
              "      <td>0</td>\n",
              "      <td>0</td>\n",
              "      <td>0</td>\n",
              "      <td>0</td>\n",
              "      <td>0</td>\n",
              "      <td>0</td>\n",
              "      <td>0</td>\n",
              "      <td>0</td>\n",
              "      <td>0</td>\n",
              "      <td>0</td>\n",
              "      <td>0</td>\n",
              "      <td>0</td>\n",
              "      <td>0</td>\n",
              "      <td>0</td>\n",
              "      <td>0</td>\n",
              "      <td>0</td>\n",
              "      <td>0</td>\n",
              "      <td>0</td>\n",
              "      <td>0</td>\n",
              "      <td>0</td>\n",
              "      <td>0</td>\n",
              "      <td>0</td>\n",
              "      <td>0</td>\n",
              "      <td>0</td>\n",
              "      <td>0</td>\n",
              "      <td>0</td>\n",
              "      <td>0</td>\n",
              "      <td>0</td>\n",
              "      <td>0</td>\n",
              "      <td>0</td>\n",
              "      <td>0</td>\n",
              "      <td>1</td>\n",
              "    </tr>\n",
              "    <tr>\n",
              "      <th>4</th>\n",
              "      <td>1987</td>\n",
              "      <td>9</td>\n",
              "      <td>274300</td>\n",
              "      <td>3.28</td>\n",
              "      <td>0.776601</td>\n",
              "      <td>2156624900</td>\n",
              "      <td>796</td>\n",
              "      <td>0</td>\n",
              "      <td>1</td>\n",
              "      <td>1</td>\n",
              "      <td>0</td>\n",
              "      <td>0</td>\n",
              "      <td>0</td>\n",
              "      <td>0</td>\n",
              "      <td>0</td>\n",
              "      <td>1</td>\n",
              "      <td>0</td>\n",
              "      <td>0</td>\n",
              "      <td>0</td>\n",
              "      <td>0</td>\n",
              "      <td>0</td>\n",
              "      <td>0</td>\n",
              "      <td>0</td>\n",
              "      <td>0</td>\n",
              "      <td>0</td>\n",
              "      <td>0</td>\n",
              "      <td>0</td>\n",
              "      <td>0</td>\n",
              "      <td>0</td>\n",
              "      <td>0</td>\n",
              "      <td>0</td>\n",
              "      <td>0</td>\n",
              "      <td>0</td>\n",
              "      <td>0</td>\n",
              "      <td>0</td>\n",
              "      <td>0</td>\n",
              "      <td>0</td>\n",
              "      <td>0</td>\n",
              "      <td>0</td>\n",
              "      <td>0</td>\n",
              "      <td>...</td>\n",
              "      <td>0</td>\n",
              "      <td>0</td>\n",
              "      <td>0</td>\n",
              "      <td>0</td>\n",
              "      <td>0</td>\n",
              "      <td>0</td>\n",
              "      <td>0</td>\n",
              "      <td>0</td>\n",
              "      <td>0</td>\n",
              "      <td>0</td>\n",
              "      <td>0</td>\n",
              "      <td>0</td>\n",
              "      <td>0</td>\n",
              "      <td>0</td>\n",
              "      <td>0</td>\n",
              "      <td>0</td>\n",
              "      <td>0</td>\n",
              "      <td>0</td>\n",
              "      <td>0</td>\n",
              "      <td>0</td>\n",
              "      <td>0</td>\n",
              "      <td>0</td>\n",
              "      <td>0</td>\n",
              "      <td>0</td>\n",
              "      <td>0</td>\n",
              "      <td>0</td>\n",
              "      <td>0</td>\n",
              "      <td>0</td>\n",
              "      <td>0</td>\n",
              "      <td>0</td>\n",
              "      <td>0</td>\n",
              "      <td>0</td>\n",
              "      <td>0</td>\n",
              "      <td>0</td>\n",
              "      <td>0</td>\n",
              "      <td>1</td>\n",
              "      <td>0</td>\n",
              "      <td>0</td>\n",
              "      <td>0</td>\n",
              "      <td>0</td>\n",
              "    </tr>\n",
              "  </tbody>\n",
              "</table>\n",
              "<p>5 rows × 122 columns</p>\n",
              "</div>"
            ],
            "text/plain": [
              "   year  suicides_no  population  suicide_ratio  ...  35-54   5-14   55-74   75+ \n",
              "0  1987           21      312900           6.71  ...       0      0       0     0\n",
              "1  1987           16      308000           5.19  ...       1      0       0     0\n",
              "2  1987           14      289700           4.83  ...       0      0       0     0\n",
              "3  1987            1       21800           4.59  ...       0      0       0     1\n",
              "4  1987            9      274300           3.28  ...       0      0       0     0\n",
              "\n",
              "[5 rows x 122 columns]"
            ]
          },
          "metadata": {
            "tags": []
          },
          "execution_count": 20
        }
      ]
    },
    {
      "cell_type": "code",
      "metadata": {
        "id": "kvGP5nBtOrWI"
      },
      "source": [
        "X=df_age_updated.drop(['suicide_ratio','suicides_no'],axis=1)\n",
        "y=df_age_updated['suicide_ratio']"
      ],
      "execution_count": null,
      "outputs": []
    },
    {
      "cell_type": "code",
      "metadata": {
        "colab": {
          "base_uri": "https://localhost:8080/"
        },
        "id": "6_1mZ4bpc4yM",
        "outputId": "a53265ab-2f04-403d-d63d-d9dceee15310"
      },
      "source": [
        "X.columns.values"
      ],
      "execution_count": null,
      "outputs": [
        {
          "output_type": "execute_result",
          "data": {
            "text/plain": [
              "array(['year', 'population', 'HDI_for_year', 'gdp_for_year',\n",
              "       'gdp_per_capita', 'female', 'male', 'Boomers', 'G.I. Generation',\n",
              "       'Generation X', 'Generation Z', 'Millenials', 'Silent', 'Albania',\n",
              "       'Antigua and Barbuda', 'Argentina', 'Armenia', 'Aruba',\n",
              "       'Australia', 'Austria', 'Azerbaijan', 'Bahamas', 'Bahrain',\n",
              "       'Barbados', 'Belarus', 'Belgium', 'Belize',\n",
              "       'Bosnia and Herzegovina', 'Brazil', 'Bulgaria', 'Cabo Verde',\n",
              "       'Canada', 'Chile', 'Colombia', 'Costa Rica', 'Croatia', 'Cuba',\n",
              "       'Cyprus', 'Czech Republic', 'Denmark', 'Dominica', 'Ecuador',\n",
              "       'El Salvador', 'Estonia', 'Fiji', 'Finland', 'France', 'Georgia',\n",
              "       'Germany', 'Greece', 'Grenada', 'Guatemala', 'Guyana', 'Hungary',\n",
              "       'Iceland', 'Ireland', 'Israel', 'Italy', 'Jamaica', 'Japan',\n",
              "       'Kazakhstan', 'Kiribati', 'Kuwait', 'Kyrgyzstan', 'Latvia',\n",
              "       'Lithuania', 'Luxembourg', 'Macau', 'Maldives', 'Malta',\n",
              "       'Mauritius', 'Mexico', 'Mongolia', 'Montenegro', 'Netherlands',\n",
              "       'New Zealand', 'Nicaragua', 'Norway', 'Oman', 'Panama', 'Paraguay',\n",
              "       'Philippines', 'Poland', 'Portugal', 'Puerto Rico', 'Qatar',\n",
              "       'Republic of Korea', 'Romania', 'Russian Federation',\n",
              "       'Saint Kitts and Nevis', 'Saint Lucia',\n",
              "       'Saint Vincent and Grenadines', 'San Marino', 'Serbia',\n",
              "       'Seychelles', 'Singapore', 'Slovakia', 'Slovenia', 'South Africa',\n",
              "       'Spain', 'Sri Lanka', 'Suriname', 'Sweden', 'Switzerland',\n",
              "       'Thailand', 'Trinidad and Tobago', 'Turkey', 'Turkmenistan',\n",
              "       'Ukraine', 'United Arab Emirates', 'United Kingdom',\n",
              "       'United States', 'Uruguay', 'Uzbekistan', '15-24 ', '25-34 ',\n",
              "       '35-54 ', '5-14 ', '55-74 ', '75+ '], dtype=object)"
            ]
          },
          "metadata": {
            "tags": []
          },
          "execution_count": 222
        }
      ]
    },
    {
      "cell_type": "code",
      "metadata": {
        "colab": {
          "base_uri": "https://localhost:8080/",
          "height": 295
        },
        "id": "6atqKShgc41G",
        "outputId": "6a6fc533-8512-4f38-965e-41f9c28e2421"
      },
      "source": [
        "import matplotlib.pyplot as plt\n",
        "import matplotlib as mpl\n",
        " \n",
        "\n",
        "plt.scatter(X['gdp_for_year'],y)"
      ],
      "execution_count": null,
      "outputs": [
        {
          "output_type": "execute_result",
          "data": {
            "text/plain": [
              "<matplotlib.collections.PathCollection at 0x7f43699107f0>"
            ]
          },
          "metadata": {
            "tags": []
          },
          "execution_count": 22
        },
        {
          "output_type": "display_data",
          "data": {
            "image/png": "[encoded data removed]",
            "text/plain": [
              "<Figure size 432x288 with 1 Axes>"
            ]
          },
          "metadata": {
            "tags": [],
            "needs_background": "light"
          }
        }
      ]
    },
    {
      "cell_type": "code",
      "metadata": {
        "id": "s1-K2bKyjgnB"
      },
      "source": [
        "m,s=np.mean(y),np.std(y)"
      ],
      "execution_count": null,
      "outputs": []
    },
    {
      "cell_type": "code",
      "metadata": {
        "colab": {
          "base_uri": "https://localhost:8080/",
          "height": 280
        },
        "id": "GhFEbeMFkmJZ",
        "outputId": "9ae9663e-acdc-4f79-a32f-bbb9d4b4c683"
      },
      "source": [
        "import seaborn as sns\n",
        "sns.boxplot(x=y);"
      ],
      "execution_count": null,
      "outputs": [
        {
          "output_type": "display_data",
          "data": {
            "image/png": "[encoded data removed]",
            "text/plain": [
              "<Figure size 432x288 with 1 Axes>"
            ]
          },
          "metadata": {
            "tags": [],
            "needs_background": "light"
          }
        }
      ]
    },
    {
      "cell_type": "code",
      "metadata": {
        "colab": {
          "base_uri": "https://localhost:8080/"
        },
        "id": "U37rjZGBjgs4",
        "outputId": "c593817d-e5ff-4c67-cf41-dbb5aeb921c0"
      },
      "source": [
        "print(\"mean=\",m)\n",
        "print(\"std=\",s)"
      ],
      "execution_count": null,
      "outputs": [
        {
          "output_type": "stream",
          "text": [
            "mean= 12.816097411933894\n",
            "std= 18.961170222241854\n"
          ],
          "name": "stdout"
        }
      ]
    },
    {
      "cell_type": "code",
      "metadata": {
        "colab": {
          "base_uri": "https://localhost:8080/"
        },
        "id": "vNhoQhiUjgxc",
        "outputId": "f549c2fe-bb3e-417d-ed00-75f8ca552622"
      },
      "source": [
        "cutoff=s*3\n",
        "lower, upper= m-cutoff, m+cutoff\n",
        "cutoff"
      ],
      "execution_count": null,
      "outputs": [
        {
          "output_type": "execute_result",
          "data": {
            "text/plain": [
              "56.88351066672556"
            ]
          },
          "metadata": {
            "tags": []
          },
          "execution_count": 30
        }
      ]
    },
    {
      "cell_type": "code",
      "metadata": {
        "colab": {
          "base_uri": "https://localhost:8080/"
        },
        "id": "yS6_MXuOjg5f",
        "outputId": "4369e222-070d-47e7-95fd-acdd83ad67cf"
      },
      "source": [
        "print(lower,upper)"
      ],
      "execution_count": null,
      "outputs": [
        {
          "output_type": "stream",
          "text": [
            "-44.06741325479167 69.69960807865945\n"
          ],
          "name": "stdout"
        }
      ]
    },
    {
      "cell_type": "code",
      "metadata": {
        "id": "yD_YXtQKjg8e"
      },
      "source": [
        "outliers=[x for x in y if (x<lower) or (x>upper)]"
      ],
      "execution_count": null,
      "outputs": []
    },
    {
      "cell_type": "code",
      "metadata": {
        "id": "Mw3lUUSRjgrK"
      },
      "source": [
        "z=[x for x in y if (x>lower) and (x<upper)] "
      ],
      "execution_count": null,
      "outputs": []
    },
    {
      "cell_type": "code",
      "metadata": {
        "id": "hyEDJh-4mSeh"
      },
      "source": [
        "X=X[y<69.69]"
      ],
      "execution_count": null,
      "outputs": []
    },
    {
      "cell_type": "code",
      "metadata": {
        "colab": {
          "base_uri": "https://localhost:8080/",
          "height": 265
        },
        "id": "08gNEfksmSm8",
        "outputId": "70e0e165-da8c-42f7-d747-6831a0e02471"
      },
      "source": [
        "sns.boxplot(x=z);"
      ],
      "execution_count": null,
      "outputs": [
        {
          "output_type": "display_data",
          "data": {
            "image/png": "[encoded data removed]",
            "text/plain": [
              "<Figure size 432x288 with 1 Axes>"
            ]
          },
          "metadata": {
            "tags": [],
            "needs_background": "light"
          }
        }
      ]
    },
    {
      "cell_type": "code",
      "metadata": {
        "id": "S0P8grcfmSkb"
      },
      "source": [
        "y=np.array(z)"
      ],
      "execution_count": null,
      "outputs": []
    },
    {
      "cell_type": "code",
      "metadata": {
        "id": "qKG2_m4SmSiR"
      },
      "source": [
        ""
      ],
      "execution_count": null,
      "outputs": []
    },
    {
      "cell_type": "code",
      "metadata": {
        "id": "i_8HLgeTc46s"
      },
      "source": [
        ""
      ],
      "execution_count": null,
      "outputs": []
    },
    {
      "cell_type": "code",
      "metadata": {
        "id": "NyQRVLmpc4-V"
      },
      "source": [
        "from sklearn.model_selection import train_test_split\n",
        "X_train,X_test,y_train,y_test=train_test_split(X,y,test_size=0.2)"
      ],
      "execution_count": null,
      "outputs": []
    },
    {
      "cell_type": "code",
      "metadata": {
        "colab": {
          "base_uri": "https://localhost:8080/"
        },
        "id": "3q06u0OTc5CT",
        "outputId": "3fe3b5de-eb72-4a95-a1be-95e1c8e9c813"
      },
      "source": [
        "#X_train\n",
        "y_train"
      ],
      "execution_count": null,
      "outputs": [
        {
          "output_type": "execute_result",
          "data": {
            "text/plain": [
              "array([16.45,  1.02,  9.78, ...,  3.29,  1.12, 37.04])"
            ]
          },
          "metadata": {
            "tags": []
          },
          "execution_count": 38
        }
      ]
    },
    {
      "cell_type": "code",
      "metadata": {
        "id": "CClKEHNic44J"
      },
      "source": [
        "from sklearn.metrics import mean_squared_error\n",
        "from sklearn.tree import DecisionTreeRegressor\n",
        "reg=DecisionTreeRegressor()\n",
        "reg.fit(X_train,y_train)\n",
        "y_pred_test=reg.predict(X_test)\n",
        "y_pred_train=reg.predict(X_train)\n"
      ],
      "execution_count": null,
      "outputs": []
    },
    {
      "cell_type": "code",
      "metadata": {
        "colab": {
          "base_uri": "https://localhost:8080/"
        },
        "id": "jXB9TGzDhEnQ",
        "outputId": "788dfa29-5ca3-43de-ae76-50b7b24c0d4d"
      },
      "source": [
        "rms_test=np.sqrt(mean_squared_error(y_test,y_pred_test))\n",
        "rms_train=np.sqrt(mean_squared_error(y_train,y_pred_train))\n",
        "#print('RMSE of training set: '+rms_train.astype(str))\n",
        "print('RMSE of testing set: '+rms_test.astype(str))"
      ],
      "execution_count": null,
      "outputs": [
        {
          "output_type": "stream",
          "text": [
            "RMSE of testing set: 6.501303081851996\n"
          ],
          "name": "stdout"
        }
      ]
    },
    {
      "cell_type": "code",
      "metadata": {
        "id": "Q6uLmOWUhEvd",
        "colab": {
          "base_uri": "https://localhost:8080/"
        },
        "outputId": "92d2127a-ada2-41a4-dca8-133eac5f684f"
      },
      "source": [
        "r2_score = reg.score(X_test, y_test)\n",
        "r2_score"
      ],
      "execution_count": null,
      "outputs": [
        {
          "output_type": "execute_result",
          "data": {
            "text/plain": [
              "0.7657999892466055"
            ]
          },
          "metadata": {
            "tags": []
          },
          "execution_count": 42
        }
      ]
    },
    {
      "cell_type": "code",
      "metadata": {
        "id": "OadnO6eyhEs-",
        "colab": {
          "base_uri": "https://localhost:8080/",
          "height": 297
        },
        "outputId": "afe83b82-e4c0-4c8a-abab-5ead5bbeab55"
      },
      "source": [
        "from sklearn.model_selection import train_test_split\n",
        "X_train,X_test,y_train,y_test=train_test_split(X,y,test_size=0.2)\n",
        "\n",
        "training_accuracy = []\n",
        "test_accuracy = []\n",
        "# try max_depth from 1 to 30\n",
        "depth = range(1, 31)\n",
        "for n in depth:\n",
        "    # fit the model\n",
        "    reg = DecisionTreeRegressor(max_depth=n)\n",
        "    reg.fit(X_train, y_train)\n",
        "    # record training set accuracy\n",
        "    training_accuracy.append(reg.score(X_train, y_train))\n",
        "    # record generalization accuracy\n",
        "    test_accuracy.append(reg.score(X_test, y_test))\n",
        "\n",
        "#plotting the training & testing accuracy for max_depth from 1 to 30\n",
        "plt.plot(depth, training_accuracy, label=\"training accuracy\")\n",
        "plt.plot(depth, test_accuracy, label=\"test accuracy\")\n",
        "plt.ylabel(\"Accuracy\")  \n",
        "plt.xlabel(\"max_depth\")\n",
        "plt.legend()"
      ],
      "execution_count": null,
      "outputs": [
        {
          "output_type": "execute_result",
          "data": {
            "text/plain": [
              "<matplotlib.legend.Legend at 0x7f434c3225c0>"
            ]
          },
          "metadata": {
            "tags": []
          },
          "execution_count": 54
        },
        {
          "output_type": "display_data",
          "data": {
            "image/png": "[encoded data removed]",
            "text/plain": [
              "<Figure size 432x288 with 1 Axes>"
            ]
          },
          "metadata": {
            "tags": [],
            "needs_background": "light"
          }
        }
      ]
    },
    {
      "cell_type": "code",
      "metadata": {
        "id": "weWeIMvMhEqn"
      },
      "source": [
        ""
      ],
      "execution_count": null,
      "outputs": []
    },
    {
      "cell_type": "code",
      "metadata": {
        "id": "8-5-MTzkOrUc"
      },
      "source": [
        ""
      ],
      "execution_count": null,
      "outputs": []
    },
    {
      "cell_type": "code",
      "metadata": {
        "id": "Wr67XUeA7NfZ"
      },
      "source": [
        ""
      ],
      "execution_count": null,
      "outputs": []
    },
    {
      "cell_type": "code",
      "metadata": {
        "id": "fHATEB9S7OOI"
      },
      "source": [
        ""
      ],
      "execution_count": null,
      "outputs": []
    }
  ]
}