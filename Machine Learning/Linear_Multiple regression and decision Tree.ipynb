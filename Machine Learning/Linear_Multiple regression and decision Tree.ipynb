{
  "nbformat": 4,
  "nbformat_minor": 0,
  "metadata": {
    "colab": {
      "name": "Linear Regression.ipynb",
      "provenance": [],
      "collapsed_sections": [
        "O5-BJfu3tJRM",
        "ai6qlif7wx_n"
      ]
    },
    "kernelspec": {
      "name": "python3",
      "display_name": "Python 3"
    }
  },
  "cells": [
    {
      "cell_type": "markdown",
      "metadata": {
        "id": "kmz_LoPdVskf"
      },
      "source": [
        "##Simple Linear Regression"
      ]
    },
    {
      "cell_type": "code",
      "metadata": {
        "id": "b1QYfxJ4Vqq4"
      },
      "source": [
        "import pandas as pd\n",
        "import numpy as np\n",
        "import matplotlib.pyplot as plt"
      ],
      "execution_count": null,
      "outputs": []
    },
    {
      "cell_type": "code",
      "metadata": {
        "id": "S34YmtH2ZWDP",
        "colab": {
          "base_uri": "https://localhost:8080/"
        },
        "outputId": "d7d49231-be55-47f0-fdb4-be0d92ebb47a"
      },
      "source": [
        "from google.colab import drive\n",
        "drive.mount('/content/drive')"
      ],
      "execution_count": null,
      "outputs": [
        {
          "output_type": "stream",
          "text": [
            "Drive already mounted at /content/drive; to attempt to forcibly remount, call drive.mount(\"/content/drive\", force_remount=True).\n"
          ],
          "name": "stdout"
        }
      ]
    },
    {
      "cell_type": "code",
      "metadata": {
        "colab": {
          "base_uri": "https://localhost:8080/",
          "height": 197
        },
        "id": "DeyvZhqDJ1g1",
        "outputId": "6aae94e1-6983-4802-d15a-1f8aa77cc887"
      },
      "source": [
        "df=pd.read_csv('/content/drive/My Drive/dataset/master.csv')\n",
        "df.head(5)"
      ],
      "execution_count": null,
      "outputs": [
        {
          "output_type": "execute_result",
          "data": {
            "text/html": [
              "<div>\n",
              "<style scoped>\n",
              "    .dataframe tbody tr th:only-of-type {\n",
              "        vertical-align: middle;\n",
              "    }\n",
              "\n",
              "    .dataframe tbody tr th {\n",
              "        vertical-align: top;\n",
              "    }\n",
              "\n",
              "    .dataframe thead th {\n",
              "        text-align: right;\n",
              "    }\n",
              "</style>\n",
              "<table border=\"1\" class=\"dataframe\">\n",
              "  <thead>\n",
              "    <tr style=\"text-align: right;\">\n",
              "      <th></th>\n",
              "      <th>country</th>\n",
              "      <th>year</th>\n",
              "      <th>sex</th>\n",
              "      <th>age</th>\n",
              "      <th>suicides_no</th>\n",
              "      <th>population</th>\n",
              "      <th>suicides/100k pop</th>\n",
              "      <th>country-year</th>\n",
              "      <th>HDI for year</th>\n",
              "      <th>gdp_for_year ($)</th>\n",
              "      <th>gdp_per_capita ($)</th>\n",
              "      <th>generation</th>\n",
              "    </tr>\n",
              "  </thead>\n",
              "  <tbody>\n",
              "    <tr>\n",
              "      <th>0</th>\n",
              "      <td>Albania</td>\n",
              "      <td>1987</td>\n",
              "      <td>male</td>\n",
              "      <td>15-24 years</td>\n",
              "      <td>21</td>\n",
              "      <td>312900</td>\n",
              "      <td>6.71</td>\n",
              "      <td>Albania1987</td>\n",
              "      <td>NaN</td>\n",
              "      <td>2,156,624,900</td>\n",
              "      <td>796</td>\n",
              "      <td>Generation X</td>\n",
              "    </tr>\n",
              "    <tr>\n",
              "      <th>1</th>\n",
              "      <td>Albania</td>\n",
              "      <td>1987</td>\n",
              "      <td>male</td>\n",
              "      <td>35-54 years</td>\n",
              "      <td>16</td>\n",
              "      <td>308000</td>\n",
              "      <td>5.19</td>\n",
              "      <td>Albania1987</td>\n",
              "      <td>NaN</td>\n",
              "      <td>2,156,624,900</td>\n",
              "      <td>796</td>\n",
              "      <td>Silent</td>\n",
              "    </tr>\n",
              "    <tr>\n",
              "      <th>2</th>\n",
              "      <td>Albania</td>\n",
              "      <td>1987</td>\n",
              "      <td>female</td>\n",
              "      <td>15-24 years</td>\n",
              "      <td>14</td>\n",
              "      <td>289700</td>\n",
              "      <td>4.83</td>\n",
              "      <td>Albania1987</td>\n",
              "      <td>NaN</td>\n",
              "      <td>2,156,624,900</td>\n",
              "      <td>796</td>\n",
              "      <td>Generation X</td>\n",
              "    </tr>\n",
              "    <tr>\n",
              "      <th>3</th>\n",
              "      <td>Albania</td>\n",
              "      <td>1987</td>\n",
              "      <td>male</td>\n",
              "      <td>75+ years</td>\n",
              "      <td>1</td>\n",
              "      <td>21800</td>\n",
              "      <td>4.59</td>\n",
              "      <td>Albania1987</td>\n",
              "      <td>NaN</td>\n",
              "      <td>2,156,624,900</td>\n",
              "      <td>796</td>\n",
              "      <td>G.I. Generation</td>\n",
              "    </tr>\n",
              "    <tr>\n",
              "      <th>4</th>\n",
              "      <td>Albania</td>\n",
              "      <td>1987</td>\n",
              "      <td>male</td>\n",
              "      <td>25-34 years</td>\n",
              "      <td>9</td>\n",
              "      <td>274300</td>\n",
              "      <td>3.28</td>\n",
              "      <td>Albania1987</td>\n",
              "      <td>NaN</td>\n",
              "      <td>2,156,624,900</td>\n",
              "      <td>796</td>\n",
              "      <td>Boomers</td>\n",
              "    </tr>\n",
              "  </tbody>\n",
              "</table>\n",
              "</div>"
            ],
            "text/plain": [
              "   country  year  ... gdp_per_capita ($)       generation\n",
              "0  Albania  1987  ...                796     Generation X\n",
              "1  Albania  1987  ...                796           Silent\n",
              "2  Albania  1987  ...                796     Generation X\n",
              "3  Albania  1987  ...                796  G.I. Generation\n",
              "4  Albania  1987  ...                796          Boomers\n",
              "\n",
              "[5 rows x 12 columns]"
            ]
          },
          "metadata": {
            "tags": []
          },
          "execution_count": 7
        }
      ]
    },
    {
      "cell_type": "code",
      "metadata": {
        "id": "LFBaEnmQZV_B",
        "colab": {
          "base_uri": "https://localhost:8080/",
          "height": 197
        },
        "outputId": "425cd736-d9cf-4208-d789-917a7fe70ec6"
      },
      "source": [
        "df=df.fillna(df.mean())\n",
        "df.head()"
      ],
      "execution_count": null,
      "outputs": [
        {
          "output_type": "execute_result",
          "data": {
            "text/html": [
              "<div>\n",
              "<style scoped>\n",
              "    .dataframe tbody tr th:only-of-type {\n",
              "        vertical-align: middle;\n",
              "    }\n",
              "\n",
              "    .dataframe tbody tr th {\n",
              "        vertical-align: top;\n",
              "    }\n",
              "\n",
              "    .dataframe thead th {\n",
              "        text-align: right;\n",
              "    }\n",
              "</style>\n",
              "<table border=\"1\" class=\"dataframe\">\n",
              "  <thead>\n",
              "    <tr style=\"text-align: right;\">\n",
              "      <th></th>\n",
              "      <th>country</th>\n",
              "      <th>year</th>\n",
              "      <th>sex</th>\n",
              "      <th>age</th>\n",
              "      <th>suicides_no</th>\n",
              "      <th>population</th>\n",
              "      <th>suicides/100k pop</th>\n",
              "      <th>country-year</th>\n",
              "      <th>HDI for year</th>\n",
              "      <th>gdp_for_year ($)</th>\n",
              "      <th>gdp_per_capita ($)</th>\n",
              "      <th>generation</th>\n",
              "    </tr>\n",
              "  </thead>\n",
              "  <tbody>\n",
              "    <tr>\n",
              "      <th>0</th>\n",
              "      <td>Albania</td>\n",
              "      <td>1987</td>\n",
              "      <td>male</td>\n",
              "      <td>15-24 years</td>\n",
              "      <td>21</td>\n",
              "      <td>312900</td>\n",
              "      <td>6.71</td>\n",
              "      <td>Albania1987</td>\n",
              "      <td>0.776601</td>\n",
              "      <td>2,156,624,900</td>\n",
              "      <td>796</td>\n",
              "      <td>Generation X</td>\n",
              "    </tr>\n",
              "    <tr>\n",
              "      <th>1</th>\n",
              "      <td>Albania</td>\n",
              "      <td>1987</td>\n",
              "      <td>male</td>\n",
              "      <td>35-54 years</td>\n",
              "      <td>16</td>\n",
              "      <td>308000</td>\n",
              "      <td>5.19</td>\n",
              "      <td>Albania1987</td>\n",
              "      <td>0.776601</td>\n",
              "      <td>2,156,624,900</td>\n",
              "      <td>796</td>\n",
              "      <td>Silent</td>\n",
              "    </tr>\n",
              "    <tr>\n",
              "      <th>2</th>\n",
              "      <td>Albania</td>\n",
              "      <td>1987</td>\n",
              "      <td>female</td>\n",
              "      <td>15-24 years</td>\n",
              "      <td>14</td>\n",
              "      <td>289700</td>\n",
              "      <td>4.83</td>\n",
              "      <td>Albania1987</td>\n",
              "      <td>0.776601</td>\n",
              "      <td>2,156,624,900</td>\n",
              "      <td>796</td>\n",
              "      <td>Generation X</td>\n",
              "    </tr>\n",
              "    <tr>\n",
              "      <th>3</th>\n",
              "      <td>Albania</td>\n",
              "      <td>1987</td>\n",
              "      <td>male</td>\n",
              "      <td>75+ years</td>\n",
              "      <td>1</td>\n",
              "      <td>21800</td>\n",
              "      <td>4.59</td>\n",
              "      <td>Albania1987</td>\n",
              "      <td>0.776601</td>\n",
              "      <td>2,156,624,900</td>\n",
              "      <td>796</td>\n",
              "      <td>G.I. Generation</td>\n",
              "    </tr>\n",
              "    <tr>\n",
              "      <th>4</th>\n",
              "      <td>Albania</td>\n",
              "      <td>1987</td>\n",
              "      <td>male</td>\n",
              "      <td>25-34 years</td>\n",
              "      <td>9</td>\n",
              "      <td>274300</td>\n",
              "      <td>3.28</td>\n",
              "      <td>Albania1987</td>\n",
              "      <td>0.776601</td>\n",
              "      <td>2,156,624,900</td>\n",
              "      <td>796</td>\n",
              "      <td>Boomers</td>\n",
              "    </tr>\n",
              "  </tbody>\n",
              "</table>\n",
              "</div>"
            ],
            "text/plain": [
              "   country  year  ... gdp_per_capita ($)       generation\n",
              "0  Albania  1987  ...                796     Generation X\n",
              "1  Albania  1987  ...                796           Silent\n",
              "2  Albania  1987  ...                796     Generation X\n",
              "3  Albania  1987  ...                796  G.I. Generation\n",
              "4  Albania  1987  ...                796          Boomers\n",
              "\n",
              "[5 rows x 12 columns]"
            ]
          },
          "metadata": {
            "tags": []
          },
          "execution_count": 8
        }
      ]
    },
    {
      "cell_type": "code",
      "metadata": {
        "id": "fDF-s3BNZV3P"
      },
      "source": [
        "df=df.drop(['country-year'],axis=1)"
      ],
      "execution_count": null,
      "outputs": []
    },
    {
      "cell_type": "code",
      "metadata": {
        "id": "iWhPS80dZVzg",
        "colab": {
          "base_uri": "https://localhost:8080/",
          "height": 195
        },
        "outputId": "cd785a9d-2c8f-4d84-956f-434c23ff5f3d"
      },
      "source": [
        "df.head()"
      ],
      "execution_count": null,
      "outputs": [
        {
          "output_type": "execute_result",
          "data": {
            "text/html": [
              "<div>\n",
              "<style scoped>\n",
              "    .dataframe tbody tr th:only-of-type {\n",
              "        vertical-align: middle;\n",
              "    }\n",
              "\n",
              "    .dataframe tbody tr th {\n",
              "        vertical-align: top;\n",
              "    }\n",
              "\n",
              "    .dataframe thead th {\n",
              "        text-align: right;\n",
              "    }\n",
              "</style>\n",
              "<table border=\"1\" class=\"dataframe\">\n",
              "  <thead>\n",
              "    <tr style=\"text-align: right;\">\n",
              "      <th></th>\n",
              "      <th>country</th>\n",
              "      <th>year</th>\n",
              "      <th>sex</th>\n",
              "      <th>age</th>\n",
              "      <th>suicides_no</th>\n",
              "      <th>population</th>\n",
              "      <th>suicides/100k pop</th>\n",
              "      <th>HDI for year</th>\n",
              "      <th>gdp_for_year ($)</th>\n",
              "      <th>gdp_per_capita ($)</th>\n",
              "      <th>generation</th>\n",
              "    </tr>\n",
              "  </thead>\n",
              "  <tbody>\n",
              "    <tr>\n",
              "      <th>0</th>\n",
              "      <td>Albania</td>\n",
              "      <td>1987</td>\n",
              "      <td>male</td>\n",
              "      <td>15-24 years</td>\n",
              "      <td>21</td>\n",
              "      <td>312900</td>\n",
              "      <td>6.71</td>\n",
              "      <td>0.776601</td>\n",
              "      <td>2,156,624,900</td>\n",
              "      <td>796</td>\n",
              "      <td>Generation X</td>\n",
              "    </tr>\n",
              "    <tr>\n",
              "      <th>1</th>\n",
              "      <td>Albania</td>\n",
              "      <td>1987</td>\n",
              "      <td>male</td>\n",
              "      <td>35-54 years</td>\n",
              "      <td>16</td>\n",
              "      <td>308000</td>\n",
              "      <td>5.19</td>\n",
              "      <td>0.776601</td>\n",
              "      <td>2,156,624,900</td>\n",
              "      <td>796</td>\n",
              "      <td>Silent</td>\n",
              "    </tr>\n",
              "    <tr>\n",
              "      <th>2</th>\n",
              "      <td>Albania</td>\n",
              "      <td>1987</td>\n",
              "      <td>female</td>\n",
              "      <td>15-24 years</td>\n",
              "      <td>14</td>\n",
              "      <td>289700</td>\n",
              "      <td>4.83</td>\n",
              "      <td>0.776601</td>\n",
              "      <td>2,156,624,900</td>\n",
              "      <td>796</td>\n",
              "      <td>Generation X</td>\n",
              "    </tr>\n",
              "    <tr>\n",
              "      <th>3</th>\n",
              "      <td>Albania</td>\n",
              "      <td>1987</td>\n",
              "      <td>male</td>\n",
              "      <td>75+ years</td>\n",
              "      <td>1</td>\n",
              "      <td>21800</td>\n",
              "      <td>4.59</td>\n",
              "      <td>0.776601</td>\n",
              "      <td>2,156,624,900</td>\n",
              "      <td>796</td>\n",
              "      <td>G.I. Generation</td>\n",
              "    </tr>\n",
              "    <tr>\n",
              "      <th>4</th>\n",
              "      <td>Albania</td>\n",
              "      <td>1987</td>\n",
              "      <td>male</td>\n",
              "      <td>25-34 years</td>\n",
              "      <td>9</td>\n",
              "      <td>274300</td>\n",
              "      <td>3.28</td>\n",
              "      <td>0.776601</td>\n",
              "      <td>2,156,624,900</td>\n",
              "      <td>796</td>\n",
              "      <td>Boomers</td>\n",
              "    </tr>\n",
              "  </tbody>\n",
              "</table>\n",
              "</div>"
            ],
            "text/plain": [
              "   country  year  ... gdp_per_capita ($)       generation\n",
              "0  Albania  1987  ...                796     Generation X\n",
              "1  Albania  1987  ...                796           Silent\n",
              "2  Albania  1987  ...                796     Generation X\n",
              "3  Albania  1987  ...                796  G.I. Generation\n",
              "4  Albania  1987  ...                796          Boomers\n",
              "\n",
              "[5 rows x 11 columns]"
            ]
          },
          "metadata": {
            "tags": []
          },
          "execution_count": 6
        }
      ]
    },
    {
      "cell_type": "code",
      "metadata": {
        "colab": {
          "base_uri": "https://localhost:8080/"
        },
        "id": "czQOJHAzwAl9",
        "outputId": "6019d418-3cc8-4c87-9aaa-7da1770cca20"
      },
      "source": [
        "df['country'].unique()"
      ],
      "execution_count": null,
      "outputs": [
        {
          "output_type": "execute_result",
          "data": {
            "text/plain": [
              "array(['Albania', 'Antigua and Barbuda', 'Argentina', 'Armenia', 'Aruba',\n",
              "       'Australia', 'Austria', 'Azerbaijan', 'Bahamas', 'Bahrain',\n",
              "       'Barbados', 'Belarus', 'Belgium', 'Belize',\n",
              "       'Bosnia and Herzegovina', 'Brazil', 'Bulgaria', 'Cabo Verde',\n",
              "       'Canada', 'Chile', 'Colombia', 'Costa Rica', 'Croatia', 'Cuba',\n",
              "       'Cyprus', 'Czech Republic', 'Denmark', 'Dominica', 'Ecuador',\n",
              "       'El Salvador', 'Estonia', 'Fiji', 'Finland', 'France', 'Georgia',\n",
              "       'Germany', 'Greece', 'Grenada', 'Guatemala', 'Guyana', 'Hungary',\n",
              "       'Iceland', 'Ireland', 'Israel', 'Italy', 'Jamaica', 'Japan',\n",
              "       'Kazakhstan', 'Kiribati', 'Kuwait', 'Kyrgyzstan', 'Latvia',\n",
              "       'Lithuania', 'Luxembourg', 'Macau', 'Maldives', 'Malta',\n",
              "       'Mauritius', 'Mexico', 'Mongolia', 'Montenegro', 'Netherlands',\n",
              "       'New Zealand', 'Nicaragua', 'Norway', 'Oman', 'Panama', 'Paraguay',\n",
              "       'Philippines', 'Poland', 'Portugal', 'Puerto Rico', 'Qatar',\n",
              "       'Republic of Korea', 'Romania', 'Russian Federation',\n",
              "       'Saint Kitts and Nevis', 'Saint Lucia',\n",
              "       'Saint Vincent and Grenadines', 'San Marino', 'Serbia',\n",
              "       'Seychelles', 'Singapore', 'Slovakia', 'Slovenia', 'South Africa',\n",
              "       'Spain', 'Sri Lanka', 'Suriname', 'Sweden', 'Switzerland',\n",
              "       'Thailand', 'Trinidad and Tobago', 'Turkey', 'Turkmenistan',\n",
              "       'Ukraine', 'United Arab Emirates', 'United Kingdom',\n",
              "       'United States', 'Uruguay', 'Uzbekistan'], dtype=object)"
            ]
          },
          "metadata": {
            "tags": []
          },
          "execution_count": 10
        }
      ]
    },
    {
      "cell_type": "code",
      "metadata": {
        "id": "nSDp3POLtD0N"
      },
      "source": [
        "a=df['suicides_no'].loc[(df['country']=='United States')].values\n",
        "b=df['suicides/100k pop'].loc[ (df['country']=='United States')].values"
      ],
      "execution_count": null,
      "outputs": []
    },
    {
      "cell_type": "code",
      "metadata": {
        "id": "tdhicZzTtyur"
      },
      "source": [
        "    mean_x = np.mean(a)\n",
        "    mean_y = np.mean(b)\n",
        "    n= len(a)\n",
        "    numer = 0\n",
        "    denom = 0\n",
        "    for i in range(n):\n",
        "      numer += (a[i] - mean_x) * (b[i] - mean_y)\n",
        "      denom += (a[i] - mean_x) ** 2\n",
        "    b1 = numer / denom\n",
        "    b0 = mean_y - (b1 * mean_x)"
      ],
      "execution_count": null,
      "outputs": []
    },
    {
      "cell_type": "code",
      "metadata": {
        "colab": {
          "base_uri": "https://localhost:8080/",
          "height": 388
        },
        "id": "NJwVqp9WuFM3",
        "outputId": "466d3939-2cc4-4ef0-e663-df83acc086bd"
      },
      "source": [
        "    plt.figure(figsize=(12,6))\n",
        "    X, Y = a,b\n",
        "    max_x = np.max(X) + 100\n",
        "    min_x = np.min(X) - 100\n",
        "    x = np.linspace(min_x, max_x, 1000) \n",
        "    y = b0 + b1 * x\n",
        "    plt.plot(x, y, color='#58b970', label='Regression Line')\n",
        "    plt.scatter(X, Y, c='#ef5423', label='Scatter Plot')\n",
        "    plt.xlabel('X')\n",
        "    plt.ylabel('Y')\n",
        "    plt.legend()\n",
        "    plt.show()"
      ],
      "execution_count": null,
      "outputs": [
        {
          "output_type": "display_data",
          "data": {
            "image/png": "[encoded data removed]",
            "text/plain": [
              "<Figure size 864x432 with 1 Axes>"
            ]
          },
          "metadata": {
            "tags": [],
            "needs_background": "light"
          }
        }
      ]
    },
    {
      "cell_type": "code",
      "metadata": {
        "id": "OTvgsVDjz8hz"
      },
      "source": [
        "    X, Y = a,b\n",
        "    rmse = 0\n",
        "    n = len(X)\n",
        "    for i in range(n):\n",
        "        y_pred = b0 + b1 *X[i]\n",
        "        rmse += (Y[i] - y_pred)**2\n",
        "    rmse = round(np.sqrt(rmse/n),3)"
      ],
      "execution_count": null,
      "outputs": []
    },
    {
      "cell_type": "code",
      "metadata": {
        "colab": {
          "base_uri": "https://localhost:8080/"
        },
        "id": "TI4k849J0L9-",
        "outputId": "3c8675d9-43b1-49ff-d716-ca928be0aabd"
      },
      "source": [
        "rmse"
      ],
      "execution_count": null,
      "outputs": [
        {
          "output_type": "execute_result",
          "data": {
            "text/plain": [
              "10.54"
            ]
          },
          "metadata": {
            "tags": []
          },
          "execution_count": 13
        }
      ]
    },
    {
      "cell_type": "code",
      "metadata": {
        "id": "9ODeSZ8v0OOe"
      },
      "source": [
        "    X, Y = a,b\n",
        "    mean_x = np.mean(X)\n",
        "    mean_y = np.mean(Y)\n",
        "    n = len(X)\n",
        "    ss_tot = 0\n",
        "    ss_res = 0\n",
        "    for i in range(n):\n",
        "        y_pred = b0 + b1 *X[i]\n",
        "        ss_tot += (Y[i] - mean_y)**2\n",
        "        ss_res += (Y[i] - y_pred)**2\n",
        "    r2 = round(1-(ss_res/ss_tot),3)"
      ],
      "execution_count": null,
      "outputs": []
    },
    {
      "cell_type": "code",
      "metadata": {
        "colab": {
          "base_uri": "https://localhost:8080/"
        },
        "id": "II7TnVIq0VtS",
        "outputId": "34d5acb3-ff91-4ba6-a0d3-e4460d04ffec"
      },
      "source": [
        "r2"
      ],
      "execution_count": null,
      "outputs": [
        {
          "output_type": "execute_result",
          "data": {
            "text/plain": [
              "0.364"
            ]
          },
          "metadata": {
            "tags": []
          },
          "execution_count": 15
        }
      ]
    },
    {
      "cell_type": "markdown",
      "metadata": {
        "id": "O5-BJfu3tJRM"
      },
      "source": [
        "#MULTIPLE LINEAR REGRESSION"
      ]
    },
    {
      "cell_type": "markdown",
      "metadata": {
        "id": "Cyc9SaNX0fQ4"
      },
      "source": [
        "PREPROCESSING"
      ]
    },
    {
      "cell_type": "code",
      "metadata": {
        "id": "XeL_-VDiZVxr",
        "colab": {
          "base_uri": "https://localhost:8080/",
          "height": 178
        },
        "outputId": "b71d9102-a7d7-4288-de58-8c484e03fb73"
      },
      "source": [
        "X= df.drop(['suicides/100k pop', 'suicides_no'], axis=1) \n",
        "y = df['suicides/100k pop']"
      ],
      "execution_count": null,
      "outputs": [
        {
          "output_type": "error",
          "ename": "NameError",
          "evalue": "ignored",
          "traceback": [
            "\u001b[0;31m---------------------------------------------------------------------------\u001b[0m",
            "\u001b[0;31mNameError\u001b[0m                                 Traceback (most recent call last)",
            "\u001b[0;32m<ipython-input-1-f8f8a75a13a3>\u001b[0m in \u001b[0;36m<module>\u001b[0;34m()\u001b[0m\n\u001b[0;32m----> 1\u001b[0;31m \u001b[0mX\u001b[0m\u001b[0;34m=\u001b[0m \u001b[0mdf\u001b[0m\u001b[0;34m.\u001b[0m\u001b[0mdrop\u001b[0m\u001b[0;34m(\u001b[0m\u001b[0;34m[\u001b[0m\u001b[0;34m'suicides/100k pop'\u001b[0m\u001b[0;34m,\u001b[0m \u001b[0;34m'suicides_no'\u001b[0m\u001b[0;34m]\u001b[0m\u001b[0;34m,\u001b[0m \u001b[0maxis\u001b[0m\u001b[0;34m=\u001b[0m\u001b[0;36m1\u001b[0m\u001b[0;34m)\u001b[0m\u001b[0;34m\u001b[0m\u001b[0;34m\u001b[0m\u001b[0m\n\u001b[0m\u001b[1;32m      2\u001b[0m \u001b[0my\u001b[0m \u001b[0;34m=\u001b[0m \u001b[0mdf\u001b[0m\u001b[0;34m[\u001b[0m\u001b[0;34m'suicides/100k pop'\u001b[0m\u001b[0;34m]\u001b[0m\u001b[0;34m\u001b[0m\u001b[0;34m\u001b[0m\u001b[0m\n",
            "\u001b[0;31mNameError\u001b[0m: name 'df' is not defined"
          ]
        }
      ]
    },
    {
      "cell_type": "code",
      "metadata": {
        "id": "F98lqmmDcR-S",
        "colab": {
          "base_uri": "https://localhost:8080/",
          "height": 162
        },
        "outputId": "e71cd4d9-8a10-478b-fbc7-a8d948120e9b"
      },
      "source": [
        "X.columns.values"
      ],
      "execution_count": null,
      "outputs": [
        {
          "output_type": "error",
          "ename": "NameError",
          "evalue": "ignored",
          "traceback": [
            "\u001b[0;31m---------------------------------------------------------------------------\u001b[0m",
            "\u001b[0;31mNameError\u001b[0m                                 Traceback (most recent call last)",
            "\u001b[0;32m<ipython-input-2-de75bbf2b6cd>\u001b[0m in \u001b[0;36m<module>\u001b[0;34m()\u001b[0m\n\u001b[0;32m----> 1\u001b[0;31m \u001b[0mX\u001b[0m\u001b[0;34m.\u001b[0m\u001b[0mcolumns\u001b[0m\u001b[0;34m.\u001b[0m\u001b[0mvalues\u001b[0m\u001b[0;34m\u001b[0m\u001b[0;34m\u001b[0m\u001b[0m\n\u001b[0m",
            "\u001b[0;31mNameError\u001b[0m: name 'X' is not defined"
          ]
        }
      ]
    },
    {
      "cell_type": "code",
      "metadata": {
        "id": "h4EFeY1Dem16"
      },
      "source": [
        "X[' gdp_for_year ($) '] = X[' gdp_for_year ($) '].str.replace(',', '').astype(float)"
      ],
      "execution_count": null,
      "outputs": []
    },
    {
      "cell_type": "code",
      "metadata": {
        "id": "0drxhrErhEmB"
      },
      "source": [
        "X.dtypes"
      ],
      "execution_count": null,
      "outputs": []
    },
    {
      "cell_type": "code",
      "metadata": {
        "id": "TlXSY1cgF-Yg"
      },
      "source": [
        "X=pd.get_dummies(X,columns=['country','sex','age','generation'])"
      ],
      "execution_count": null,
      "outputs": []
    },
    {
      "cell_type": "code",
      "metadata": {
        "id": "PwWEjk1wGKHg"
      },
      "source": [
        "X"
      ],
      "execution_count": null,
      "outputs": []
    },
    {
      "cell_type": "code",
      "metadata": {
        "id": "umNDx_aUGMzY"
      },
      "source": [
        "X.dtypes"
      ],
      "execution_count": null,
      "outputs": []
    },
    {
      "cell_type": "code",
      "metadata": {
        "id": "A6N3lpIoar1n"
      },
      "source": [
        "import matplotlib.pyplot as plt\n"
      ],
      "execution_count": null,
      "outputs": []
    },
    {
      "cell_type": "markdown",
      "metadata": {
        "id": "Is_4DjYGmQmc"
      },
      "source": [
        "  outlier detection"
      ]
    },
    {
      "cell_type": "code",
      "metadata": {
        "id": "8Mi9zyXGmPzz"
      },
      "source": [
        "import seaborn as sns"
      ],
      "execution_count": null,
      "outputs": []
    },
    {
      "cell_type": "code",
      "metadata": {
        "id": "FkiLXARkdjN_"
      },
      "source": [
        "sns.boxplot(x=y);"
      ],
      "execution_count": null,
      "outputs": []
    },
    {
      "cell_type": "code",
      "metadata": {
        "id": "bYv9BVe3cGjj"
      },
      "source": [
        "from numpy import mean\n",
        "from numpy import std"
      ],
      "execution_count": null,
      "outputs": []
    },
    {
      "cell_type": "code",
      "metadata": {
        "id": "CaE2U30kcGgq"
      },
      "source": [
        "m,s=mean(y),std(y)"
      ],
      "execution_count": null,
      "outputs": []
    },
    {
      "cell_type": "code",
      "metadata": {
        "id": "ZsPAxYkjgYgq"
      },
      "source": [
        "print(\"mean=\",m)\n",
        "print(\"std=\",s)"
      ],
      "execution_count": null,
      "outputs": []
    },
    {
      "cell_type": "code",
      "metadata": {
        "id": "ykVfPxm4goxN"
      },
      "source": [
        "cutoff=s*3\n",
        "lower, upper= m-cutoff, m+cutoff"
      ],
      "execution_count": null,
      "outputs": []
    },
    {
      "cell_type": "code",
      "metadata": {
        "id": "Z0_NnVd-ltbA"
      },
      "source": [
        "lower"
      ],
      "execution_count": null,
      "outputs": []
    },
    {
      "cell_type": "code",
      "metadata": {
        "id": "YrVxvU_plvjk"
      },
      "source": [
        "upper"
      ],
      "execution_count": null,
      "outputs": []
    },
    {
      "cell_type": "code",
      "metadata": {
        "id": "AX6wuV8Zg3Wl"
      },
      "source": [
        "outliers=[x for x in y if (x<lower) or (x>upper)]"
      ],
      "execution_count": null,
      "outputs": []
    },
    {
      "cell_type": "code",
      "metadata": {
        "id": "OW276qqBhHgh"
      },
      "source": [
        "z=[x for x in y if (x>lower) and (x<upper)]  #removed outliers"
      ],
      "execution_count": null,
      "outputs": []
    },
    {
      "cell_type": "code",
      "metadata": {
        "id": "IXg25Z4BiKxS"
      },
      "source": [
        "X=X[y<69.69]\n"
      ],
      "execution_count": null,
      "outputs": []
    },
    {
      "cell_type": "code",
      "metadata": {
        "id": "dmmE6G3lGacO"
      },
      "source": [
        "sns.boxplot(x=z);"
      ],
      "execution_count": null,
      "outputs": []
    },
    {
      "cell_type": "code",
      "metadata": {
        "id": "PELlNFipe2IB"
      },
      "source": [
        "X.dtypes"
      ],
      "execution_count": null,
      "outputs": []
    },
    {
      "cell_type": "code",
      "metadata": {
        "id": "yLtMxuv8e18C"
      },
      "source": [
        "\n",
        "x=X.values\n",
        "y=np.array(z)"
      ],
      "execution_count": null,
      "outputs": []
    },
    {
      "cell_type": "code",
      "metadata": {
        "id": "eGJthqUbe11L"
      },
      "source": [
        "x"
      ],
      "execution_count": null,
      "outputs": []
    },
    {
      "cell_type": "code",
      "metadata": {
        "id": "_WzJCIevimaq"
      },
      "source": [
        "y"
      ],
      "execution_count": null,
      "outputs": []
    },
    {
      "cell_type": "code",
      "metadata": {
        "id": "dr4aDDZji8JI"
      },
      "source": [
        "from sklearn.model_selection import train_test_split\n",
        "X_train, X_test, y_train, y_test = train_test_split(x, y, test_size=0.2,random_state=0)"
      ],
      "execution_count": null,
      "outputs": []
    },
    {
      "cell_type": "code",
      "metadata": {
        "id": "tEAOFa6wjTAP"
      },
      "source": [
        "from sklearn.linear_model import LinearRegression\n",
        "regressor = LinearRegression(fit_intercept=False)\n",
        "regressor.fit(X_train, y_train)"
      ],
      "execution_count": null,
      "outputs": []
    },
    {
      "cell_type": "code",
      "metadata": {
        "id": "qV9GFN5ki77_"
      },
      "source": [
        "  y_pred = regressor.predict(X_test)\n",
        "  from sklearn.metrics import mean_squared_error\n",
        "  mse = mean_squared_error(y_test, y_pred)\n",
        "  rmse=np.sqrt(mse)"
      ],
      "execution_count": null,
      "outputs": []
    },
    {
      "cell_type": "code",
      "metadata": {
        "id": "Z9rPB_ZKkEkN"
      },
      "source": [
        "print(rmse)"
      ],
      "execution_count": null,
      "outputs": []
    },
    {
      "cell_type": "code",
      "metadata": {
        "id": "mfiHIiOWkOxK"
      },
      "source": [
        "r2_score = regressor.score(X_test, y_test)"
      ],
      "execution_count": null,
      "outputs": []
    },
    {
      "cell_type": "code",
      "metadata": {
        "id": "-R2-S39BkOlB"
      },
      "source": [
        "print(r2_score)"
      ],
      "execution_count": null,
      "outputs": []
    },
    {
      "cell_type": "code",
      "metadata": {
        "id": "nMGh1tkQwp_J"
      },
      "source": [
        ""
      ],
      "execution_count": null,
      "outputs": []
    },
    {
      "cell_type": "markdown",
      "metadata": {
        "id": "ai6qlif7wx_n"
      },
      "source": [
        "## DECISION TREE REGRESSION"
      ]
    },
    {
      "cell_type": "markdown",
      "metadata": {
        "id": "PmikCSOywwdf"
      },
      "source": [
        "![decision tree regression.png](data:image/png;base64,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)"
      ]
    },
    {
      "cell_type": "code",
      "metadata": {
        "id": "k2vVsl9AxpUg"
      },
      "source": [
        "from sklearn.model_selection import train_test_split\n",
        "X_train,X_test,y_train,y_test=train_test_split(X,y,test_size=0.2)"
      ],
      "execution_count": null,
      "outputs": []
    },
    {
      "cell_type": "code",
      "metadata": {
        "id": "qhHQtBbluIoq"
      },
      "source": [
        "from sklearn.tree import DecisionTreeRegressor\n",
        "reg=DecisionTreeRegressor()\n",
        "reg.fit(X_train,y_train)\n",
        "y_pred_test=reg.predict(X_test)\n",
        "y_pred_train=reg.predict(X_train)"
      ],
      "execution_count": null,
      "outputs": []
    },
    {
      "cell_type": "code",
      "metadata": {
        "id": "3a-gxB6WvSj3"
      },
      "source": [
        "rms_test=np.sqrt(mean_squared_error(y_test,y_pred_test))\n",
        "rms_train=np.sqrt(mean_squared_error(y_train,y_pred_train))\n",
        "\n",
        "print('RMSE of testing set: '+rms_test.astype(str))"
      ],
      "execution_count": null,
      "outputs": []
    },
    {
      "cell_type": "code",
      "metadata": {
        "id": "cAindGmuCdHU"
      },
      "source": [
        "r2_score = reg.score(X_test, y_test)\n",
        "r2_score"
      ],
      "execution_count": null,
      "outputs": []
    },
    {
      "cell_type": "code",
      "metadata": {
        "id": "9BQC5fqtJbv7"
      },
      "source": [
        "from sklearn.model_selection import train_test_split\n",
        "X_train,X_test,y_train,y_test=train_test_split(X,y,test_size=0.2)\n",
        "\n",
        "training_accuracy = []\n",
        "test_accuracy = []\n",
        "# try max_depth from 1 to 30\n",
        "depth = range(1, 26)\n",
        "for n in depth:\n",
        "    reg = DecisionTreeRegressor(max_depth=n)\n",
        "    reg.fit(X_train, y_train)\n",
        "    training_accuracy.append(reg.score(X_train, y_train))\n",
        "    test_accuracy.append(reg.score(X_test, y_test))\n",
        "\n",
        "\n",
        "plt.plot(depth, training_accuracy, label=\"training accuracy\")\n",
        "plt.plot(depth, test_accuracy, label=\"test accuracy\")\n",
        "plt.ylabel(\"Accuracy\")  \n",
        "plt.xlabel(\"max_depth\")\n",
        "plt.legend()"
      ],
      "execution_count": null,
      "outputs": []
    },
    {
      "cell_type": "code",
      "metadata": {
        "id": "yT1qJhc9KhGz"
      },
      "source": [
        ""
      ],
      "execution_count": null,
      "outputs": []
    }
  ]
}