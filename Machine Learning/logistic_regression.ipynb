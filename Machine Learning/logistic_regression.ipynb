{
  "nbformat": 4,
  "nbformat_minor": 0,
  "metadata": {
    "colab": {
      "name": "logistic_regression.ipynb",
      "provenance": []
    },
    "kernelspec": {
      "name": "python3",
      "display_name": "Python 3"
    }
  },
  "cells": [
    {
      "cell_type": "markdown",
      "metadata": {
        "id": "SKh4ulLvz7tY"
      },
      "source": [
        "![lr.JPG](data:image/jpeg;base64,/9j/4AAQSkZJRgABAQEAYABgAAD/4RDcRXhpZgAATU0AKgAAAAgABAE7AAIAAAAGAAAISodpAAQAAAABAAAIUJydAAEAAAAMAAAQyOocAAcAAAgMAAAAPgAAAAAc6gAAAAgAAAAAAAAAAAAAAAAAAAAAAAAAAAAAAAAAAAAAAAAAAAAAAAAAAAAAAAAAAAAAAAAAAAAAAAAAAAAAAAAAAAAAAAAAAAAAAAAAAAAAAAAAAAAAAAAAAAAAAAAAAAAAAAAAAAAAAAAAAAAAAAAAAAAAAAAAAAAAAAAAAAAAAAAAAAAAAAAAAAAAAAAAAAAAAAAAAAAAAAAAAAAAAAAAAAAAAAAAAAAAAAAAAAAAAAAAAAAAAAAAAAAAAAAAAAAAAAAAAAAAAAAAAAAAAAAAAAAAAAAAAAAAAAAAAAAAAAAAAAAAAAAAAAAAAAAAAAAAAAAAAAAAAAAAAAAAAAAAAAAAAAAAAAAAAAAAAAAAAAAAAAAAAAAAAAAAAAAAAAAAAAAAAAAAAAAAAAAAAAAAAAAAAAAAAAAAAAAAAAAAAAAAAAAAAAAAAAAAAAAAAAAAAAAAAAAAAAAAAAAAAAAAAAAAAAAAAAAAAAAAAAAAAAAAAAAAAAAAAAAAAAAAAAAAAAAAAAAAAAAAAAAAAAAAAAAAAAAAAAAAAAAAAAAAAAAAAAAAAAAAAAAAAAAAAAAAAAAAAAAAAAAAAAAAAAAAAAAAAAAAAAAAAAAAAAAAAAAAAAAAAAAAAAAAAAAAAAAAAAAAAAAAAAAAAAAAAAAAAAAAAAAAAAAAAAAAAAAAAAAAAAAAAAAAAAAAAAAAAAAAAAAAAAAAAAAAAAAAAAAAAAAAAAAAAAAAAAAAAAAAAAAAAAAAAAAAAAAAAAAAAAAAAAAAAAAAAAAAAAAAAAAAAAAAAAAAAAAAAAAAAAAAAAAAAAAAAAAAAAAAAAAAAAAAAAAAAAAAAAAAAAAAAAAAAAAAAAAAAAAAAAAAAAAAAAAAAAAAAAAAAAAAAAAAAAAAAAAAAAAAAAAAAAAAAAAAAAAAAAAAAAAAAAAAAAAAAAAAAAAAAAAAAAAAAAAAAAAAAAAAAAAAAAAAAAAAAAAAAAAAAAAAAAAAAAAAAAAAAAAAAAAAAAAAAAAAAAAAAAAAAAAAAAAAAAAAAAAAAAAAAAAAAAAAAAAAAAAAAAAAAAAAAAAAAAAAAAAAAAAAAAAAAAAAAAAAAAAAAAAAAAAAAAAAAAAAAAAAAAAAAAAAAAAAAAAAAAAAAAAAAAAAAAAAAAAAAAAAAAAAAAAAAAAAAAAAAAAAAAAAAAAAAAAAAAAAAAAAAAAAAAAAAAAAAAAAAAAAAAAAAAAAAAAAAAAAAAAAAAAAAAAAAAAAAAAAAAAAAAAAAAAAAAAAAAAAAAAAAAAAAAAAAAAAAAAAAAAAAAAAAAAAAAAAAAAAAAAAAAAAAAAAAAAAAAAAAAAAAAAAAAAAAAAAAAAAAAAAAAAAAAAAAAAAAAAAAAAAAAAAAAAAAAAAAAAAAAAAAAAAAAAAAAAAAAAAAAAAAAAAAAAAAAAAAAAAAAAAAAAAAAAAAAAAAAAAAAAAAAAAAAAAAAAAAAAAAAAAAAAAAAAAAAAAAAAAAAAAAAAAAAAAAAAAAAAAAAAAAAAAAAAAAAAAAAAAAAAAAAAAAAAAAAAAAAAAAAAAAAAAAAAAAAAAAAAAAAAAAAAAAAAAAAAAAAAAAAAAAAAAAAAAAAAAAAAAAAAAAAAAAAAAAAAAAAAAAAAAAAAAAAAAAAAAAAAAAAAAAAAAAAAAAAAAAAAAAAAAAAAAAAAAAAAAAAAAAAAAAAAAAAAAAAAAAAAAAAAAAAAAAAAAAAAAAAAAAAAAAAAAAAAAAAAAAAAAAAAAAAAAAAAAAAAAAAAAAAAAAAAAAAAAAAAAAAAAAAAAAAAAAAAAAAAAAAAAAAAAAAAAAAAAAAAAAAAAAAAAAAAAAAAAAAAAAAAAAAAAAAAAAAAAAAAAAAAAAAAAAAAAAAAAAAAAAAAAAAAAAAAAAAAAAAAAAAAAAAAAAAAAAAAAAAAAAAAAAAAAAAAAAAAAAAAAAAAAAAAAAAAAAAAAAAAAAAAAAAAAAAAAAAAAAAAAAAAAAAAAAAAAAAAAAAAAAAAAAAAAAAAAAAAAAAAAAAAAAAAAAAAAAAAAAAAAAAAAAAAAAAAAAAAAAAAAAAAAAAAAAAAAAAAAAAAAAAAAAAAAAAAAAAAAAAAAAAAAAAAAAAAAAAAAAAAAAAAAAAAAAAAAAAAAAAAAAAAAAAAAAAAAAAAAAAAAAAAAAAAAAAAAAAAAAAAAAAAAAAAAAAAAAAAAAAAAAAAAAAAAAAAAAAAAAAAAAAAAAAAAAAAAAAAAAAAAAAAAAAAAAAAAAAAAAAAAAAAAAAAAAAAAAAAAAAAAAAAAAAAAAAAAAAAAAAAAAAAAAAAAAAAAAAAAAAAAAAAAAAAAAAAAAAAAAAAAAAAAAAAAAAAAAAAAAAAAAAAAAAAAAAAAAAAAAAAAAAAAAAAAAAAAAAAAAAAAAAAAAAAAAAAAAAAAAAAAAAAAAAAAAAAAAAAAAAAAAAAAAAAAAAAAAAAAAAAAAAAAAAAAAAAAAAAAAAAAAAAAAAAAAAAAAAAAAAAAAAAAAAAAAAAAAAAAAAAAAAAAAAAAAAAAAAAAAAAAAAAAAAAAAAAAAAAAAAAAAAAAAAAAAAAAAAAAAAAAAAAAAAAAAAAAAAAAAAAAAAAAAAAAAAAAAAAAAAAAAAAAAAAAAAAAAAAAAAAAAAAAAAAAAAAAAAAAAAAAAAAAAAAAAAAAAAAAAAAAAAAAAAAAAAAAAAAAAAAAAAAAAAAAAAAAAAAAAAAAAAAAAAAAAEFkbWluAAAFkAMAAgAAABQAABCekAQAAgAAABQAABCykpEAAgAAAAM2MAAAkpIAAgAAAAM2MAAA6hwABwAACAwAAAiSAAAAABzqAAAACAAAAAAAAAAAAAAAAAAAAAAAAAAAAAAAAAAAAAAAAAAAAAAAAAAAAAAAAAAAAAAAAAAAAAAAAAAAAAAAAAAAAAAAAAAAAAAAAAAAAAAAAAAAAAAAAAAAAAAAAAAAAAAAAAAAAAAAAAAAAAAAAAAAAAAAAAAAAAAAAAAAAAAAAAAAAAAAAAAAAAAAAAAAAAAAAAAAAAAAAAAAAAAAAAAAAAAAAAAAAAAAAAAAAAAAAAAAAAAAAAAAAAAAAAAAAAAAAAAAAAAAAAAAAAAAAAAAAAAAAAAAAAAAAAAAAAAAAAAAAAAAAAAAAAAAAAAAAAAAAAAAAAAAAAAAAAAAAAAAAAAAAAAAAAAAAAAAAAAAAAAAAAAAAAAAAAAAAAAAAAAAAAAAAAAAAAAAAAAAAAAAAAAAAAAAAAAAAAAAAAAAAAAAAAAAAAAAAAAAAAAAAAAAAAAAAAAAAAAAAAAAAAAAAAAAAAAAAAAAAAAAAAAAAAAAAAAAAAAAAAAAAAAAAAAAAAAAAAAAAAAAAAAAAAAAAAAAAAAAAAAAAAAAAAAAAAAAAAAAAAAAAAAAAAAAAAAAAAAAAAAAAAAAAAAAAAAAAAAAAAAAAAAAAAAAAAAAAAAAAAAAAAAAAAAAAAAAAAAAAAAAAAAAAAAAAAAAAAAAAAAAAAAAAAAAAAAAAAAAAAAAAAAAAAAAAAAAAAAAAAAAAAAAAAAAAAAAAAAAAAAAAAAAAAAAAAAAAAAAAAAAAAAAAAAAAAAAAAAAAAAAAAAAAAAAAAAAAAAAAAAAAAAAAAAAAAAAAAAAAAAAAAAAAAAAAAAAAAAAAAAAAAAAAAAAAAAAAAAAAAAAAAAAAAAAAAAAAAAAAAAAAAAAAAAAAAAAAAAAAAAAAAAAAAAAAAAAAAAAAAAAAAAAAAAAAAAAAAAAAAAAAAAAAAAAAAAAAAAAAAAAAAAAAAAAAAAAAAAAAAAAAAAAAAAAAAAAAAAAAAAAAAAAAAAAAAAAAAAAAAAAAAAAAAAAAAAAAAAAAAAAAAAAAAAAAAAAAAAAAAAAAAAAAAAAAAAAAAAAAAAAAAAAAAAAAAAAAAAAAAAAAAAAAAAAAAAAAAAAAAAAAAAAAAAAAAAAAAAAAAAAAAAAAAAAAAAAAAAAAAAAAAAAAAAAAAAAAAAAAAAAAAAAAAAAAAAAAAAAAAAAAAAAAAAAAAAAAAAAAAAAAAAAAAAAAAAAAAAAAAAAAAAAAAAAAAAAAAAAAAAAAAAAAAAAAAAAAAAAAAAAAAAAAAAAAAAAAAAAAAAAAAAAAAAAAAAAAAAAAAAAAAAAAAAAAAAAAAAAAAAAAAAAAAAAAAAAAAAAAAAAAAAAAAAAAAAAAAAAAAAAAAAAAAAAAAAAAAAAAAAAAAAAAAAAAAAAAAAAAAAAAAAAAAAAAAAAAAAAAAAAAAAAAAAAAAAAAAAAAAAAAAAAAAAAAAAAAAAAAAAAAAAAAAAAAAAAAAAAAAAAAAAAAAAAAAAAAAAAAAAAAAAAAAAAAAAAAAAAAAAAAAAAAAAAAAAAAAAAAAAAAAAAAAAAAAAAAAAAAAAAAAAAAAAAAAAAAAAAAAAAAAAAAAAAAAAAAAAAAAAAAAAAAAAAAAAAAAAAAAAAAAAAAAAAAAAAAAAAAAAAAAAAAAAAAAAAAAAAAAAAAAAAAAAAAAAAAAAAAAAAAAAAAAAAAAAAAAAAAAAAAAAAAAAAAAAAAAAAAAAAAAAAAAAAAAAAAAAAAAAAAAAAAAAAAAAAAAAAAAAAAAAAAAAAAAAAAAAAAAAAAAAAAAAAAAAAAAAAAAAAAAAAAAAAAAAAAAAAAAAAAAAAAAAAAAAAAAAAAAAAAAAAAAAAAAAAAAAAAAAAAAAAAAAAAAAAAAAAAAAAAAAAAAAAAAAAAAAAAAAAAAAAAAAAAAAAAAAAAAAAAAAAAAAAAAAAAAAAAAAAAAAAAAAAAAAAAAAAAAAAAAAAAAAAAAAAAAAAAAAAAAAAAAAAAAAAAAAAAAAAAAAAAAAAAAAAAAAAAAAAAAAAAAAAAAAAAAAAAAAAAAAAAAAAAAAAAAAAAAAAAAAAAAAAAAAAAAAAAAAAAAAAAAAAAAAAAAAAAAAAAAAAAAAAAAAAAAAAAAAAAAAAAAAAAAAAAAAAAAAAAAAAAAAAAAAAAAAAAAAAAAAAAAAAAAAAAAAAAAAAAAAAAAAAAAAAAAAAAAAAAAAAAAAAAAAAAAAAAAAAAAAAAAAAAAAAAAAAAAAAAAAAAAAAAAAAAAAAAAAAAAAAAAAAAAAAAAAAAAAAAAAAAAAAAAAAAAAAAAAAAAAAAAAAAAAAAAAAAAAAAAAAAAAAAAAAAAAAAAAAAAAAAAAAAAAAAAAAAAAAAAAAAAAAAAAAAAAAAAAAAAAAAAAAAAAAAAAAAAAAAAAAAAAAAAAAAAAAAAAAAAAAAAAAAAAAAAAAAAAAAAAAAAAAAAAAAAAAAAAAAAAAAAAAAAAAAAAAAAAAAAAAAAAAAAAAAAAAAAAAAAAAAAAAAAAAAAAAAAAAAAAAAAAAAAAAAAAAAAAAAAAAAAAAAAAAAAAAAAAAAAAAAAAAAAAAAAAAAAAAAAAAAAAAAAAAAAAAAAAAAAAAAAAAAAAAAAAAAAAAAAAAAAAAAAAAAAAAAAAAAAAAAAAAAAAAAAAAAAAAAAAAAAAAAAAAAAAAAAAAAAAAAAAAAAAAAAAAAAAAAAAAAAAAAAAAAAAAAAAAAAAAAAAAAAAAAAAAMjAyMDoxMToxOSAxNDo1NToyMgAyMDIwOjExOjE5IDE0OjU1OjIyAAAAQQBkAG0AaQBuAAAA/+ELGGh0dHA6Ly9ucy5hZG9iZS5jb20veGFwLzEuMC8APD94cGFja2V0IGJlZ2luPSfvu78nIGlkPSdXNU0wTXBDZWhpSHpyZVN6TlRjemtjOWQnPz4NCjx4OnhtcG1ldGEgeG1sbnM6eD0iYWRvYmU6bnM6bWV0YS8iPjxyZGY6UkRGIHhtbG5zOnJkZj0iaHR0cDovL3d3dy53My5vcmcvMTk5OS8wMi8yMi1yZGYtc3ludGF4LW5zIyI+PHJkZjpEZXNjcmlwdGlvbiByZGY6YWJvdXQ9InV1aWQ6ZmFmNWJkZDUtYmEzZC0xMWRhLWFkMzEtZDMzZDc1MTgyZjFiIiB4bWxuczpkYz0iaHR0cDovL3B1cmwub3JnL2RjL2VsZW1lbnRzLzEuMS8iLz48cmRmOkRlc2NyaXB0aW9uIHJkZjphYm91dD0idXVpZDpmYWY1YmRkNS1iYTNkLTExZGEtYWQzMS1kMzNkNzUxODJmMWIiIHhtbG5zOnhtcD0iaHR0cDovL25zLmFkb2JlLmNvbS94YXAvMS4wLyI+PHhtcDpDcmVhdGVEYXRlPjIwMjAtMTEtMTlUMTQ6NTU6MjIuNTk4PC94bXA6Q3JlYXRlRGF0ZT48L3JkZjpEZXNjcmlwdGlvbj48cmRmOkRlc2NyaXB0aW9uIHJkZjphYm91dD0idXVpZDpmYWY1YmRkNS1iYTNkLTExZGEtYWQzMS1kMzNkNzUxODJmMWIiIHhtbG5zOmRjPSJodHRwOi8vcHVybC5vcmcvZGMvZWxlbWVudHMvMS4xLyI+PGRjOmNyZWF0b3I+PHJkZjpTZXEgeG1sbnM6cmRmPSJodHRwOi8vd3d3LnczLm9yZy8xOTk5LzAyLzIyLXJkZi1zeW50YXgtbnMjIj48cmRmOmxpPkFkbWluPC9yZGY6bGk+PC9yZGY6U2VxPg0KCQkJPC9kYzpjcmVhdG9yPjwvcmRmOkRlc2NyaXB0aW9uPjwvcmRmOlJERj48L3g6eG1wbWV0YT4NCiAgICAgICAgICAgICAgICAgICAgICAgICAgICAgICAgICAgICAgICAgICAgICAgICAgICAgICAgICAgICAgICAgICAgICAgICAgICAgICAgICAgICAgICAgICAgICAgICAgICAKICAgICAgICAgICAgICAgICAgICAgICAgICAgICAgICAgICAgICAgICAgICAgICAgICAgICAgICAgICAgICAgICAgICAgICAgICAgICAgICAgICAgICAgICAgICAgICAgICAgIAogICAgICAgICAgICAgICAgICAgICAgICAgICAgICAgICAgICAgICAgICAgICAgICAgICAgICAgICAgICAgICAgICAgICAgICAgICAgICAgICAgICAgICAgICAgICAgICAgICAgCiAgICAgICAgICAgICAgICAgICAgICAgICAgICAgICAgICAgICAgICAgICAgICAgICAgICAgICAgICAgICAgICAgICAgICAgICAgICAgICAgICAgICAgICAgICAgICAgICAgICAKICAgICAgICAgICAgICAgICAgICAgICAgICAgICAgICAgICAgICAgICAgICAgICAgICAgICAgICAgICAgICAgICAgICAgICAgICAgICAgICAgICAgICAgICAgICAgICAgICAgIAogICAgICAgICAgICAgICAgICAgICAgICAgICAgICAgICAgICAgICAgICAgICAgICAgICAgICAgICAgICAgICAgICAgICAgICAgICAgICAgICAgICAgICAgICAgICAgICAgICAgCiAgICAgICAgICAgICAgICAgICAgICAgICAgICAgICAgICAgICAgICAgICAgICAgICAgICAgICAgICAgICAgICAgICAgICAgICAgICAgICAgICAgICAgICAgICAgICAgICAgICAKICAgICAgICAgICAgICAgICAgICAgICAgICAgICAgICAgICAgICAgICAgICAgICAgICAgICAgICAgICAgICAgICAgICAgICAgICAgICAgICAgICAgICAgICAgICAgICAgICAgIAogICAgICAgICAgICAgICAgICAgICAgICAgICAgICAgICAgICAgICAgICAgICAgICAgICAgICAgICAgICAgICAgICAgICAgICAgICAgICAgICAgICAgICAgICAgICAgICAgICAgCiAgICAgICAgICAgICAgICAgICAgICAgICAgICAgICAgICAgICAgICAgICAgICAgICAgICAgICAgICAgICAgICAgICAgICAgICAgICAgICAgICAgICAgICAgICAgICAgICAgICAKICAgICAgICAgICAgICAgICAgICAgICAgICAgICAgICAgICAgICAgICAgICAgICAgICAgICAgICAgICAgICAgICAgICAgICAgICAgICAgICAgICAgICAgICAgICAgICAgICAgIAogICAgICAgICAgICAgICAgICAgICAgICAgICAgICAgICAgICAgICAgICAgICAgICAgICAgICAgICAgICAgICAgICAgICAgICAgICAgICAgICAgICAgICAgICAgICAgICAgICAgCiAgICAgICAgICAgICAgICAgICAgICAgICAgICAgICAgICAgICAgICAgICAgICAgICAgICAgICAgICAgICAgICAgICAgICAgICAgICAgICAgICAgICAgICAgICAgICAgICAgICAKICAgICAgICAgICAgICAgICAgICAgICAgICAgICAgICAgICAgICAgICAgICAgICAgICAgICAgICAgICAgICAgICAgICAgICAgICAgICAgICAgICAgICAgICAgICAgICAgICAgIAogICAgICAgICAgICAgICAgICAgICAgICAgICAgICAgICAgICAgICAgICAgICAgICAgICAgICAgICAgICAgICAgICAgICAgICAgICAgICAgICAgICAgICAgICAgICAgICAgICAgCiAgICAgICAgICAgICAgICAgICAgICAgICAgICAgICAgICAgICAgICAgICAgICAgICAgICAgICAgICAgICAgICAgICAgICAgICAgICAgICAgICAgICAgICAgICAgICAgICAgICAKICAgICAgICAgICAgICAgICAgICAgICAgICAgICAgICAgICAgICAgICAgICAgICAgICAgICAgICAgICAgICAgICAgICAgICAgICAgICAgICAgICAgICAgICAgICAgICAgICAgIAogICAgICAgICAgICAgICAgICAgICAgICAgICAgICAgICAgICAgICAgICAgICAgICAgICAgICAgICAgICAgICAgICAgICAgICAgICAgICAgICAgICAgICAgICAgICAgICAgICAgCiAgICAgICAgICAgICAgICAgICAgICAgICAgICAgICAgICAgICAgICAgICAgICAgICAgICAgICAgICAgICAgICAgICAgICAgICAgICAgICAgICAgICAgICAgICAgICAgICAgICAKICAgICAgICAgICAgICAgICAgICAgICAgICAgICAgICAgICAgICAgICAgICAgICAgICAgICAgICAgICAgICAgICAgICAgICAgICAgICAgICAgICAgICAgICAgICAgICAgICAgIAogICAgICAgICAgICAgICAgICAgICAgICAgICAgPD94cGFja2V0IGVuZD0ndyc/Pv/bAEMABwUFBgUEBwYFBggHBwgKEQsKCQkKFQ8QDBEYFRoZGBUYFxseJyEbHSUdFxgiLiIlKCkrLCsaIC8zLyoyJyorKv/bAEMBBwgICgkKFAsLFCocGBwqKioqKioqKioqKioqKioqKioqKioqKioqKioqKioqKioqKioqKioqKioqKioqKioqKv/AABEIASkBRAMBIgACEQEDEQH/xAAfAAABBQEBAQEBAQAAAAAAAAAAAQIDBAUGBwgJCgv/xAC1EAACAQMDAgQDBQUEBAAAAX0BAgMABBEFEiExQQYTUWEHInEUMoGRoQgjQrHBFVLR8CQzYnKCCQoWFxgZGiUmJygpKjQ1Njc4OTpDREVGR0hJSlNUVVZXWFlaY2RlZmdoaWpzdHV2d3h5eoOEhYaHiImKkpOUlZaXmJmaoqOkpaanqKmqsrO0tba3uLm6wsPExcbHyMnK0tPU1dbX2Nna4eLj5OXm5+jp6vHy8/T19vf4+fr/xAAfAQADAQEBAQEBAQEBAAAAAAAAAQIDBAUGBwgJCgv/xAC1EQACAQIEBAMEBwUEBAABAncAAQIDEQQFITEGEkFRB2FxEyIygQgUQpGhscEJIzNS8BVictEKFiQ04SXxFxgZGiYnKCkqNTY3ODk6Q0RFRkdISUpTVFVWV1hZWmNkZWZnaGlqc3R1dnd4eXqCg4SFhoeIiYqSk5SVlpeYmZqio6Slpqeoqaqys7S1tre4ubrCw8TFxsfIycrS09TV1tfY2dri4+Tl5ufo6ery8/T19vf4+fr/2gAMAwEAAhEDEQA/APpGiiigAooooAKKKKACiiigAooooAKKKKACiiigAooooAKKKKACiiigAooooAKKKKACiiigAooooAKKKKACiiigAooooAKKKKACiiigAooooAKKKKACiiigAooooAKKKKACiiigAoopOlAC0UUUAFFFITQAtFNyKWgBaKTNGaAFopDRQAtFIKWgAooooAKKKKACiikNAC0UmRQDQAtFFFABRRRQAUUUUAFFFFABRRRQAUUUUAFFFFABRRRQAUUmaWgAooooAK5T4ieOIfh/4Y/tm4spL1POSLyo3CH5j1yQa6uvJP2kv+SUn/r9h/nSZUVdnqVhdi90+C6VSgmjVwpOcZGcVL58QbaZF3dMbhmuP1zV59F+ENxqNgc3NtpgePHJB2DmvDE8CWF18HH+IU/iW/PiERm6+0fauBIDwmOue3Wm9G/IiOqXmfUrSIgy7BR6k4rK1/Ub200G8udBt4r+/ijLQ2zSBRI3oTnivAPEfiOXWbL4d/8ACVtd32nXdo01/YWe4yzEAgOVXkjp+tR6D4OWy8MeO/E1vZX2n6fLbSRabFcsyt5ZHJKnkcjjNJ7MpdD6A8N6hqV94btLzxDZx6dfyLma3SQMsZyeAcnPGKb4p8WaZ4Q8Oza1qpka1hxu8gBmOTjgZGa8A1PQ9c8QfBrwSNN86/soY3kvtNt7kRzTpvPzDPXH9ap63pnh7Wv2erm90q41P/iT3rCO2vJAXgZioKN/eHcdOtOXUUenme8eIvE2rjwhbav4K0uPVp7goy280ojxGwzk8jkema6W0ndrGCW9VYJnjUyJu4ViORn618+eJ/CeneEv2eYpNHmuHOoT21xKZZt2GOOBjoKk8R2x8c/FLQPButancWejR6VFceVFJs8+TYDwe55/Q07a2Xf9BdLn0OHV1ypDD1BrzHxz8Yx4O8ZReHLXw1fa1dy26zqLV/mIJIwF2knpXT+BPCtl4O0WbStM1Ka/to52ZBNIHaHIHyZH59uteN/Ed/EKftLacfB6Wsmq/wBmr5S3R/d4y+c/hU/aSRS2Z6b4A+LOn+N9TutJm0y80bVrVd72d2vO31zgc89MV3hnjV9rOob0Jr5++FFxc3/jrxd4g8US7PFlnC6NZCMKioF6j15GP/1159punat420rUfEJ0zxBqOuG4cw39teRrDAVPClSdwx+FO/5CtufYjSKq5Zgo9ScU0XELZ2yocdcMK+c/F2r31xbfD+18am6vLSaBn1LT7Ji8sxAIDEIfmHTofWq3h7walpoXjrxPa2N/p2nPayRaZFdMyt5ZHOUPPUcZpXtdh2PpYTRsQFdSTyAD1pPPi37Q6lvTPNfO/grw1/wj3wek+IcWoXtzraabKsCyS5jiTlQoX261w2naHrd34ctPFGh6Z4gfXTKJ31Z76L7O/wA3zcZyPTmq62Baq59hPNHHjewXPTJxmhpUVdzMAD3Jr5y+LOi6xqPiCz1vXoL3VNCt9PQ3Ntpt2qSWUpUFmK89Tz7j6UvjPS73xR4H8JT+Hp77W9Btrfdd2MdyIrqRQSN+O+3p+HvS6AezeM9Z8Q6Tp1tP4T0iHV5pJwkqSTBAid2BJGa6OOXECPPtjYqNwJ6H0r5j12/0yf4D6Svh+5vmt4taVDFeNmWA5/1ZI6it7XbE/EX42f8ACJa/ql1aaPY6eksVtBL5fnPtBz7nn9KLdBX6v+tT6CWRGXcrAr6g03z4uP3i/N0+Yc189eDln8L+NPGvg3TtTnvtFtdNeaESyb/KfA4z2PzHP0rktO8DLqHwFk8Z3Gs6idRsC32NBMRHCqvjAHvyc0ul+g+tj61yDS1zfw+1CfVPh9ot5eOZJ5bRC7k8scdTXSCqas7CTurhRRRSGFFFFABRRRQAUUUUAFFFFABRRRQB4n8R/jHc+HPiRpml6RE1xY2cn/E0ZFznI+4PdR81eyWd5Bf2UN3aSLJDOgeN1PDKRkGvMvGHh7SrL4ieEoLeyiWPUL+5lulxnzWaI5Jr0rTdNtdI02Cw0+IQ20CBI4x0UelAFuiiigArnPHHgrTvHvh06Nq8txFbmRZN1uwVsjpyQa6Oigd7Hm3hf4IeHvC2qm9t7/VL0NC8LQXk6vGysMHICjtWd/wzl4MGpG4EupfZfN8z7B9p/c9c7cYzj8a9apKBHz38YvDttJ8QtATVrC/svDNrZmEXulQM8gPOE+UHAH0p/wAMPCFxqepeI9OtLjWv+EKvLfyYn1AFJJHPUqGHGPXFfQOOaMUkB5xqvwR8Oat4d0jSZbzUoY9IRo4JoJwsjKxyQ3GDz7Vp2fwp8M2PgO48JwwSmwuuZpGfMkj/AN8t68V2tFMNjza1+B/h208HXPhtb7U5LS4uEuGeSZS6lcYAO3AHHpV7xd8IfDnjKCwGom6guLGNYoru2kCSbAMYJwR+ld3RRuGxz3g3wZp3gjQhpekyXEkZcyPJcSb3dj3JqrdfD7Srv4iW3jKSa5Go28HkJGHHlleeoxnPPrXV0Udbh5HJN8OdJ/4WD/wmEM1zBftF5UsUbKIphjHzDGTx79q5bU/2efCGoatPew3Gp2CzvvktrS52xk9+CCefrXq1FAHzt8W/CtpB408N2l/Y6jaeF7K0MIvdNjaWYHnCZGT+hqb4Y+ErjUdY8RafYT63/wAIVd23kI+ogpJJIepUMOCPXFfQRFJikvMHqYeheENN0LwfD4bi8y4sI4jFicgsynOQcAetcKn7Ovg+LUxcx3OqpbiXzBZC6/c9c7cYzj8a9Yop9bhsrHnPi34J+HPGGtDUr261K1l8pInS1uNqSKowMgg9uKd4g+CfhfXtP02zV73To9NiMMJspthKE5wcg555r0SigDz+b4NeGJPBtr4bh+1W9nbXC3O+OQeZJIO7Eg5zUnjP4QeG/G1xbXWoG6tby3QRi6s5NkjIB908EEfhXeUUAcX4W+Fvh7wjol7p+lrMzX6FLm6mfdNIDnvjHGfSiz+F+jWXw5m8FxXF2dOmDBpGdfN+Y5POMfpXaUUPUDO0HRbfw9oNnpNk8jwWkYjRpCCxA9cVoUtFABRRRQAUUUUAFFFFABRRRQAUUlLQAUUlFAHnvjr/AJKZ4E/6+5v/AEWa9Drzzx1/yUzwJ/19zf8Aos16FQAtFJRQAtFJS0AFFJRQAYpaKSgBaKSigBaKSloAKKSigBaKSigBaKSigBaKSigBaKSigBaKSigBaKSigBaKSigBaKSigBaKSigBaKKSgBaKKKAENFU9Wubiz0q5ubG2F1cRRs8cBfb5hAztzg4rnbDx1Bq9xocOl2xml1KJpplL4+yxrwxbjru+XHHNAHXUU0nHSuW0rxjPqPja60KXSJ7OKG38+K4nYBphu2khOoGRwT1o62AyPHX/ACUzwJ/19zf+izXoVee+Nefip4GB6edOf/HK9CoAWkoooAKWkooAWkoooAKWkooAKKKKAFopKKAFopKKAFpKKKAFopKM0AFJXnHxc8U6roFjZw6S7QfaGbfOB0x2HpS/CPxPqniDT72PVpGm+zMojmYctnOR74x+tYe2j7T2fU9b+yq31H69dct/nvY9HpKxfFusy6B4XvNRt4vNlhTKr2z0yfauF+GfxC1fxJr02n6sqSr5ZkWRF27MHofzqpVYxmoPdmNHLq9bDTxUbcsN+56rSZpk0qRQtJIwVEGWJ7CuR0f4maDrWvDS7WSVZWYrG7phZCOwq5TjF2bOalhq1aMp04tqO/kdjQKQn1rzbVfjLp2m69JYpYzTQwyeXJOrAcjrgd6U6kYK8maYXBYjFycaEeZrVnpdFZ41ixXTVv5LqOO3aMS73cABSM5NcA/xt0ePV5IJbWb7EhIF0p3Zx32jtSlUjC3M9x4fBYjE83soX5dX5Hp9FeZS/HjwejYV7xx6rAaqn496FMswsbC8lkQ/IHAUMPXOeKqUlFcz2MaFCpiKipUleT6Hq9LXI+CfHtn4zjnEEElvcW+PMjfkYPQg11tEZKSuhVqNShUdOorNbi0lFLVGQUUUUANNcF4T8NfYfFfi6YWTQLczqls8ikIyFNx2+29mJx3rvjRS6h0OJ0nwXd6fq0N3INM2RtuPkpOH/DdKR+lU4tR3fF5rsWGpi2awFqJzp8wTzPMJxu24x79K9Copgea/EGyt9R+JHgq1vI/MhklnDLuIz8nqOa7Wbw1pNxZ29rNa7oLY5iXzXG38c5P41yXjT/kqvgf/AK6z/wDoFehUAZ8mh6fLqUV+9vm5hACSeY3AHtnFNh0DTbe6ubmK22y3IIlbzGO4H2zgfhWlRQBkp4Z0mLTZLCO0xbStuePzX5P1zmlm8NaVcWttbTWu6K15hXzXG38c8/jWrRQBnPoWnPqkeotb5uowAknmNwB7ZxSQ+H9Mt57maG22yXQImPmMdwP1PH4VpUUAZK+GdJTTH09LQi1d97R+a/J+uc06fw5pdzBbQzWu6O1/1I8xxs/I8/jWpRQBntoenvqq6k1vm7UYEnmNwPpnH6UyDw9pltJcyQ2217oETHzGO4H6nj8K06KAMkeGNIXSzpwtP9FZ95j81+vrnOf1p0/hzSrmO2jntdy2oxCPMcbfyPP41qUUAZ50TTzqo1I2+bsDAk8xun0zj9KZb+HdMtXuXgttrXQImPmOdwPXqePwrTpaAMhfDOkrpbacLQ/ZGfeY/Nfk/XOf1p0/hzS7mO1Se13LaDEI8xxt/I8/jWpRQBnnQ9POrDUzb/6YBjzN7dMY6Zx+lMg8O6Xb/avJtdv2sETfvGO/P1PH4Vp0UAYkvhLQ5tLGnTafHLaLJ5gikZmw3rknNJH4P0KKOBItOjjW3bdGI2ZQp/A89O9blFKyvcv2k+Tku7duhly+HtLuNQe9ntBJcSLsdmZiCMYxtzjp7VBZeEdC05blLHTIbcXSbJvLyC6+mc1td6pavrFhoenSXuq3MdtbxjJdz+g9TSsm7gqk1FxT0ZTm8LaTLop0trUi0JLBBI3Deuc5rzhPh9oXgfVhrfiHXEWygffDE42sW7Dg5P4VheMPjveXFy1r4QjEUGNv2mZMux/2R2ql4a+FPibxpMl/4tvbq2s2BdDM5eRs+in7tTKnGTTa2OnD47EYeEqdKVlLc0td+Mujw69LdeG9Fa6umG0Xc0jgNxjhM1yieCvG/iO4lvLfQfs6XLeYCSEUbucjca968M/Dnw74WhUWFhHLPgbricB3JHfnp+FdSBinOnGa95E4bGV8K3KjJxb3PAdO+AWt31uia9rflRE/PDG7SfL6cnFdhYfA3QrZo/tl3dXcajBjYhQ35c16fRiiVOMrXWwUcZiKHN7KbXNv5nJ23wy8G2k6zw+H7PzQMbmUk9Md6paj8JPCl5aPFY6emmyO+8y2wwxP4/Wu4xS05RUlZmVKtUo1FUpuzXU5bR/h/omk6H/ZZhe4iMnms7uVZmxjJKkVrT+H9NuZ7Waa23SWgAhPmMNoHTvz+NadFOMVFWQqtWdabqVHdvqU7fSrO21Ke/hh23NwAJH3sdwHtnA6VdpKWmZhRRRQAlLRRQAlFLRQB5540/5Kr4H/AOus/wD6BXoVee+M+fiv4IA6+bOfw2V6HQAlLRRQAlFLRQAUlLRQAlFLRQAUUUUAJS0UlABRS0UAJRS0lABRS0UAJRmjNeZfEr4sWnhZJtK0r/SNWK4OD8sGR1J9fagDf8b/ABD0jwVZ/wClyCa9dcxWqH5m9z6Cvn6/1PxV8WPEiwxI83OY4EyIoF9T2/GpPBPgXWPiNrEl1dzyLaK+bi8lJJY+i56n+VfSfhvwxpvhbSY9P0mARxp1Y8s59SaAOO8D/BzSfDMsV/qB+36gqg/vB+7jbuVH9TXpAGOnSlxS0AFJS0UAJS0UUAJS0UUAJRS0lABRS0UAFFFFACUtJRQAtFJRQB574w/5K94K/wC3j/0GvQ6888Yf8le8Ff8Abx/6DXoVAC0UlFABRRRQAtJRS0AJRRRQAtJRRQAUUUUALSUUUAFLSUUAFFFZuv67Z+HNFuNS1GQJDAuevLHsB7mgDB+I/jWLwZ4akuV2veTHy7eItglj3+g6185eF/D2p+PvF6xN5kxlk827uGP3VzySfX0FHinXr74geM2uYIJi1wwjt7bcW2DpgenrX0r4C8H23g/wzDZRKPtLgPcy45d/8B0oA3NL0u10fTYLGwhWGCFAqqox0q5RRQAtFJRQAtJRRQAtFJS0AJRS0UAJRRRQAtFFJQAtFFFACVFJcwxTJFJKiySAlELAFsdcDvUhrz74iafcau1jc6J4ssNFljMtvM9xImHjbAcLnowxSA7ey1Sx1JHbTry3uljYo5hlDhW9Djoat1xHgjw9o+j6vfS+HrvT5LRraCEx2UisS67t0j7f4mJ6+1dv2psR574w/wCSveCv+3j/ANBr0KvPfF//ACV7wV/28f8AoNehUDFpKWkoAKWkpaAEooooAKWkooAKKKKAClopKAFoopKACiiigBHYKpLEAAZJPavmn4y+Oo/EutJpulzmTT7MnfxgPL0JHqBXq3xc8bR+FvDMlpA//Exv0KQrtzhejNXz14M8PN4p8XWWlg7UmfMrDsg5NAHqnwF8HYWXxPepzzDaggg/7Te/pXuWKr2Fjb6bYQ2dnGsUEKBERRgACrFABRRRQAtFFJQAUtJRQAtFJRQAUtJRQAtJS0UAFFFJQAtFFFADTXmnxKsNC0q3sZptB0jU0M8jf2bPbbpbh3wWMWAfm7nIwfUV6Wa841bx9Je+ILrS/Dmj2k2p6f5qG51S4SFYyuMlVGXYH1AA96ljQfCqKwkk1K+07SdK0MSbI20y0hCTwEZP748fMc9MYHqa9H7VxXw8t9TvbE+JNdu4ZrzUolBjt7dY0iVS2Bnq3Xqa7arZKPPfFvz/ABh8GL0wly2f+AivQq898Vf8lm8G/wDXG5/kK9CpDCiiigAooooAKKKKACiiigAooooAKKKKACiiigApk0giieRzhVUsfoKfXB/GHxBceH/AM8lk+ya6cW4b0Ddf0FAHg3xH8aXHjLxNLMxIsrZmjtYyoBVe5P1r1v4GeDV0vQm1+9i/0u9GItwwUj/+vXhvhbQ5vEniix0uEbjPKN+eyjlj+VfYlhZw6dp8FnapshgQRouegAxQBYFFFFABRRRQAtJRRQAUUUUAFLSUtACUtJS0AJRRRQAUUtJQAtFFFACGue8Y6RpOoeHrybVtKtdQ+zwO6LMnPAzgMOR07GugNeW61req6X4ruLbwRfz+ILp5j9q0m5QtDAScnE4H7vqPlOehpdRo6jwL4eg0TRoZbC5vBaXUCSJZTS+YluT8x2E8gc4wSeldWOlc54Wv/FV4bgeK9EstLVQvkfZbzz9/XOeBjHFdHiqJR574q/5LN4N/643P8hXoVee+Kv8Aks3g3/rjc/yFehUhi0lFFAC0UlFABRRRQAUUUUALRSUUALSUUUAFFFFABXh/7Qup2MtvpunJeE3kMjSNbqMgKRjLentXtF9dxWFjNdznEUKF3PsBmvj/AMYeIn8VeKr3VnQIJnxGmOiDhf0oA7z4A6Qbrxdd6k6sUs4NisOm5u35CvowVxXwq8NQeHfA9nsiC3N3GJ53xyxPQfgK7WgApaSloAKSiloAKKKSgApaSloASloooASlpKWgBKKWigAooooAKKKKAENRxwRxbjFGiFzuYqAMn1NSUtACAcUUUUAee+Kv+SzeDf8Arjc/yFehV574n+b42+EFPQWt0344WvQqACiiigAooooAKWkpaAEooooAWkoooAKKKKACg0VS1bVLXR9Knv76QRQQIWZmNAHj/wAdfG09r5fhrTpQgmTzLpkPzY7J7Z615j8PfCreLvF9tYMGFun724YDO1R2/HpWZ4g1WbxH4mvNQId3upiUXO44zgCvo/4TeB/+ET8MLLeRgaje4kmJHKDsuf8APNAHeQQpBAkUQCpGoVQOwFSUlFABS0lFABRRRQAtJRRQAUtJRQAUtJS0AJS0lFAC0lFFAC0lFFAC0UUUAJRRRQAUUUUAee+Jf+S3+EP+vS7/APZa9Crz3xL/AMlv8If9el3/AOy16FQAUUUUAFFFFABRRRQAUUUUAFFFFABRRQaAGu4RSzEAAZJPavm74wfEX/hJNR/sfSJidMtWPmMOk0g/mBXX/Gr4htp0B8OaNOVupVzdSofuIf4c9ia8Y8NeGtQ8Va1Fp+mws5dh5kmOI17sTQB2Pwa8Fz+IPEyarMCljp7hi2OJH7LX00BgVi+FPDNn4T8PwaXYA7Ixl3PV2PVjW1QAUtJS0AJRRRQAUUUUALSUtJQAUtFFACUtJRQAUUUtACUUtJQAUUtJQAtFFFACUtFJQAUUUtAHnniX/kt/hD/r0u//AGWvQq898S/8lv8ACHr9ju//AGWvQqACiiigAoopaAEopaKAEoopaAEopaTNAAa4H4o+P4vCWgTQWF1CNYmUeTExyyg9Wx7e9UfiF8X7HwrJJpulot7qW0hsN8kB7ZPc+1eDWVnrnj7xSEUyXl9dNl5H6IPUnsBQBFpGman408Ux2kcjT3t5IWkmkOcDux+lfU/gvwZp3gzREsrGMGZgDcT4+aVsdfp7VB4J8B6Z4N0mOC2jWW7xmW6ZRvYnqAewrqqACiiigAopaKAEooooAKKWigBKKWkoAKWkpaAEopaKAEopaKAEoopaAEopaKACiiigBKKp6rdy2GlXN3b2zXUkEbOsCtgyYGcA1h2vjez1GXQ49Nhe4fVozLtDY8iNR8zN9Dxj1oA6iimPIsUbSOcKoJJ9BXIx+PSRaXs2lSRaNeziCC+MwJJJwrNHjIUnoc+lAGd4g/5Lv4U/7B15/Na9BzXhmufErSV+POknUI57GHTYLi2eWZPvFiuCB2HHWvU73xx4dstOa9fVraSIdBFIHZvYAc0m0ldlQhKpJRgrtnQUVjeHfFOmeKLRrjSZ/MCNtdWGGU+4rVuLiK1gea4kWONBlnY4AHrQpJq6KnTnTm4TVn2JaKy9J8R6TrjSLpV9FcmL74Q8itTNCaauhThKnLlmrPzCikJA6mqF/rul6YrNqGoW1uFGT5koGKZBoUV57q/xo8JaasggupL6RDjbbxkg/wDAjxXnfiX4+6pfKYfDtounp/z1lw7n8OgouNxklqe932pWmmWslzf3MdvDGNzNIwGBXhHjr45XV+Z9P8KL9mtj8pvG/wBY/wDujsP1rhbW38VeP9WaLz5ryeRd58+XahHtnj8BXsHgv4G6fpey78TMuoXOARABiOM/1oBxcdzyjwh8PNe8bXX2mKNltDKBPdTMQTnqRn7xr6Q8H+CtK8F6YbTS0Z2dt0k0uC7n6/0raJtdNtOfKtoIx7KqipIJ47iFZIJFkRhkMpyD+NAWdrkvelpB70UCClpKKAFopKKAFopKKAFopKKAFopKKAFopKKAClpKKAClpKKAClpKKAFopKKAFooooARvevPPB/hxLHxd4ukitnjBmEVqZCyqqMu9ghHQF2J4r0M0Uutw6Hn8fg/WQz+YsCqyMuV1e8kIyCPuudp/GsUPLqvgXRfCUNpcLqsFxBHco8LBYVicMzliMEYXjnnNesnOelcHd/C+S6vJrgeNfFUIlkZ/LivwFTJzgDbwBTAwfHnhfTPEXxg8NWGpW6tHNpt1uZeGyNuDn2zWBqPwC1CxlE2g6lHdLk5jnXYcduehqXWfh48Hxc8PacfFviOQ3Flcv9pe8Blj2leFbbwDnmuz/wCFUS/9D34t/wDBgP8A4mplFTVmbYetUw9SNWm7NHksnhD4kaBNJ/Zdpe2ysAXa0lGHx9PrWPqWs+OoJZtO1q41V1IAmglDMCPyr3L/AIVRJ/0Pfi3/AMGA/wDiajb4R72y/jbxWxPc3yn/ANlqVTioci2NqmNrVMT9ak7zvf7jxHTdW8SeHbkXOi2d3BPcIYldrdjnPoMdahufHHjVn8m71nUkIOGUkoR69q91/wCFRkkZ8beK/l6f6cvH/jtRSfBmCVt0vjDxO7HqWvFP/slKFNQjyxLxmPq43Ee3rWvp+B4pd674hvbM7dU1KY7NpCSucj8Kh0rwF4s8SCSa00y5lCHDSXBK8/8AAute4x/BmCH/AFXjDxOg/wBm8Uf+yVOvwncdPHPiwfS/H/xNKlTcE03c1zLG08ZUU6dNQsraHjMvgbX7C8XTJtLmaZsAGNCynP8AtdK9p8K/Cfw/oNlDPLYrc6iYwXknO8K2OcDoKb/wqeT/AKHrxb/4MB/8TR/wqiX/AKHvxb/4MB/8TSpUFTbae5rmGbVMdTp05RS5O3U8pufDHiOHxg8ENjcC5+0ZSSNCFxngg9AK+k4Ay20YlOXCAMffHNcF/wAKnk/6Hrxb/wCDAf8AxNH/AAqiT/oe/F3/AIMB/wDE0UqKpN2e4syzWeYRpxnFLkVtOpW+MunarfaHZnTo5ZoI5SZ44gSTxwcD8as/B+w1Sx8LSjVEkiR5i0EcgIKrj0+tH/CqJP8AoevFv/gwH/xNH/CqJP8AoevFv/gwH/xNP2S9r7S5DzKbwCwPKrXvfqehDrS155/wqiT/AKHvxd/4MB/8TR/wqiT/AKHvxd/4MB/8TWx5R6HRXnn/AAqiT/oe/F3/AIMB/wDE0f8ACqJP+h78Xf8AgwH/AMTQB6HRXnn/AAqiT/oe/F3/AIMB/wDE0f8ACqJP+h78Xf8AgwH/AMTQB6HRXnn/AAqiT/oe/F3/AIMB/wDE0f8ACqJP+h78Xf8AgwH/AMTQB6HRXnn/AAqiT/oe/F3/AIMB/wDE0f8ACqJP+h78Xf8AgwH/AMTQB6HRXnn/AAqiT/oe/F3/AIMB/wDE0f8ACqZP+h88Xf8AgwH/AMTQB6HRXnn/AAqmT/ofPF3/AIMB/wDE0f8ACqZP+h88Xf8AgwH/AMTQB6HRXnn/AAqmT/ofPF3/AIMB/wDE0f8ACqZP+h88Xf8AgwH/AMTQB6HRXnn/AAqmT/ofPF3/AIMB/wDE0f8ACqJP+h78Xf8AgwH/AMTQB6HVTVNSttH0ufUL5ylvbpvkYKWwPoK4f/hVEn/Q9+Lv/BgP/iapax8Mrmy0e5uLfxb4y1CVIyVtY9QXdKfTlcUAegaRrOna7YR3ukXkV3bOOHibP5+hrQrxb4UfCHWfDGsS67q2r3dp57FxpiTiTOf+erYAY/QfjXtAoAWiiigAooooAKKKKAOR1bw7fXnxS0HXYVT7FY2dxDMS3zbnK4wPwrrqKKACiiigAooooAKKKKACiiigAooooAKKKKACiiigAooooAKKKKACiiigAooooAY4JQhTtJHB9K82t/F+vza1/wAIcWVdeiut0t15Q2fY/vCUDpkj5cetekyb/LbywC2OATgE156ngTV4riLxGk1ufE5vPOmcufLaA/KYM4+6F6cdeaS3B7HoBYRxlnbhRkk1wHhfxhqWoeLnj1N0/szVEkk0lQgBAjfawJ7kgg1u6z4XLaZqMugxrFqt5E0fmS3D7V3dTjJH5CsG5+Gs2n2uiT6DqFzPe6NKjQx3lyfKKdJFGBxkUdQ6G1B48026uo7GKC6+3PcSW72u0eZFsGS7c4C4wc98iqGjeNLSLRdLis49T1e5vRM8SSGMTMqOQxJLBeDwBnPSqll4J1y18XDxUXtDqN3I8N7bhz5Ytv4Np25LDr75NQp4F1OHwfYaVPpen39xbrNtm+2PA9u7OxDK4UkjB5HFMOp6LbzfaLeOXY8e9Q211wy+xHrU1Z2hWN3p2g2dpqF0bu5hhVJZz1dgOTWjQJBRRRQMKKKKACiiigAoopKAFooooAKKKKACikpaACiiigAoopKAFooooAKKKKACikpaACiij1oAKKSloAKKKKACikpaACikpe9ABRRRQAUUUlAC0Ud6KACigUUAFFFFABRRRQAUUUUAf//Z)"
      ]
    },
    {
      "cell_type": "code",
      "metadata": {
        "id": "LgT8gp9XyVdQ"
      },
      "source": [
        "import pandas as pd\n",
        "import numpy as np\n",
        "from sklearn.model_selection import train_test_split\n",
        "from sklearn.linear_model import LogisticRegression\n",
        "import seaborn as sn\n",
        "import matplotlib.pyplot as plt"
      ],
      "execution_count": null,
      "outputs": []
    },
    {
      "cell_type": "code",
      "metadata": {
        "colab": {
          "base_uri": "https://localhost:8080/"
        },
        "id": "1LLpSbflyXoE",
        "outputId": "8862f7e6-0cd3-48f1-ff50-535fbe3f5210"
      },
      "source": [
        "from google.colab import drive\n",
        "drive.mount('/content/drive')"
      ],
      "execution_count": null,
      "outputs": [
        {
          "output_type": "stream",
          "text": [
            "Drive already mounted at /content/drive; to attempt to forcibly remount, call drive.mount(\"/content/drive\", force_remount=True).\n"
          ],
          "name": "stdout"
        }
      ]
    },
    {
      "cell_type": "code",
      "metadata": {
        "colab": {
          "base_uri": "https://localhost:8080/",
          "height": 306
        },
        "id": "hXH_74-KyZfr",
        "outputId": "9f2c7c97-d362-4062-a9b3-baf31ae750e6"
      },
      "source": [
        "df=pd.read_csv('/content/drive/My Drive/fodscasestudy/master.csv')\n",
        "df.head(5)"
      ],
      "execution_count": null,
      "outputs": [
        {
          "output_type": "execute_result",
          "data": {
            "text/html": [
              "<div>\n",
              "<style scoped>\n",
              "    .dataframe tbody tr th:only-of-type {\n",
              "        vertical-align: middle;\n",
              "    }\n",
              "\n",
              "    .dataframe tbody tr th {\n",
              "        vertical-align: top;\n",
              "    }\n",
              "\n",
              "    .dataframe thead th {\n",
              "        text-align: right;\n",
              "    }\n",
              "</style>\n",
              "<table border=\"1\" class=\"dataframe\">\n",
              "  <thead>\n",
              "    <tr style=\"text-align: right;\">\n",
              "      <th></th>\n",
              "      <th>country</th>\n",
              "      <th>year</th>\n",
              "      <th>sex</th>\n",
              "      <th>age</th>\n",
              "      <th>suicides_no</th>\n",
              "      <th>population</th>\n",
              "      <th>suicides/100k pop</th>\n",
              "      <th>country-year</th>\n",
              "      <th>HDI for year</th>\n",
              "      <th>gdp_for_year ($)</th>\n",
              "      <th>gdp_per_capita ($)</th>\n",
              "      <th>generation</th>\n",
              "    </tr>\n",
              "  </thead>\n",
              "  <tbody>\n",
              "    <tr>\n",
              "      <th>0</th>\n",
              "      <td>Albania</td>\n",
              "      <td>1987</td>\n",
              "      <td>male</td>\n",
              "      <td>15-24 years</td>\n",
              "      <td>21</td>\n",
              "      <td>312900</td>\n",
              "      <td>6.71</td>\n",
              "      <td>Albania1987</td>\n",
              "      <td>NaN</td>\n",
              "      <td>2,156,624,900</td>\n",
              "      <td>796</td>\n",
              "      <td>Generation X</td>\n",
              "    </tr>\n",
              "    <tr>\n",
              "      <th>1</th>\n",
              "      <td>Albania</td>\n",
              "      <td>1987</td>\n",
              "      <td>male</td>\n",
              "      <td>35-54 years</td>\n",
              "      <td>16</td>\n",
              "      <td>308000</td>\n",
              "      <td>5.19</td>\n",
              "      <td>Albania1987</td>\n",
              "      <td>NaN</td>\n",
              "      <td>2,156,624,900</td>\n",
              "      <td>796</td>\n",
              "      <td>Silent</td>\n",
              "    </tr>\n",
              "    <tr>\n",
              "      <th>2</th>\n",
              "      <td>Albania</td>\n",
              "      <td>1987</td>\n",
              "      <td>female</td>\n",
              "      <td>15-24 years</td>\n",
              "      <td>14</td>\n",
              "      <td>289700</td>\n",
              "      <td>4.83</td>\n",
              "      <td>Albania1987</td>\n",
              "      <td>NaN</td>\n",
              "      <td>2,156,624,900</td>\n",
              "      <td>796</td>\n",
              "      <td>Generation X</td>\n",
              "    </tr>\n",
              "    <tr>\n",
              "      <th>3</th>\n",
              "      <td>Albania</td>\n",
              "      <td>1987</td>\n",
              "      <td>male</td>\n",
              "      <td>75+ years</td>\n",
              "      <td>1</td>\n",
              "      <td>21800</td>\n",
              "      <td>4.59</td>\n",
              "      <td>Albania1987</td>\n",
              "      <td>NaN</td>\n",
              "      <td>2,156,624,900</td>\n",
              "      <td>796</td>\n",
              "      <td>G.I. Generation</td>\n",
              "    </tr>\n",
              "    <tr>\n",
              "      <th>4</th>\n",
              "      <td>Albania</td>\n",
              "      <td>1987</td>\n",
              "      <td>male</td>\n",
              "      <td>25-34 years</td>\n",
              "      <td>9</td>\n",
              "      <td>274300</td>\n",
              "      <td>3.28</td>\n",
              "      <td>Albania1987</td>\n",
              "      <td>NaN</td>\n",
              "      <td>2,156,624,900</td>\n",
              "      <td>796</td>\n",
              "      <td>Boomers</td>\n",
              "    </tr>\n",
              "  </tbody>\n",
              "</table>\n",
              "</div>"
            ],
            "text/plain": [
              "   country  year  ... gdp_per_capita ($)       generation\n",
              "0  Albania  1987  ...                796     Generation X\n",
              "1  Albania  1987  ...                796           Silent\n",
              "2  Albania  1987  ...                796     Generation X\n",
              "3  Albania  1987  ...                796  G.I. Generation\n",
              "4  Albania  1987  ...                796          Boomers\n",
              "\n",
              "[5 rows x 12 columns]"
            ]
          },
          "metadata": {
            "tags": []
          },
          "execution_count": 72
        }
      ]
    },
    {
      "cell_type": "code",
      "metadata": {
        "colab": {
          "base_uri": "https://localhost:8080/",
          "height": 306
        },
        "id": "s4VDpfR0yjaV",
        "outputId": "e3c1deee-0695-4a9c-bab1-3251c4128329"
      },
      "source": [
        "df=df.fillna(df.mean())\n",
        "df.head()"
      ],
      "execution_count": null,
      "outputs": [
        {
          "output_type": "execute_result",
          "data": {
            "text/html": [
              "<div>\n",
              "<style scoped>\n",
              "    .dataframe tbody tr th:only-of-type {\n",
              "        vertical-align: middle;\n",
              "    }\n",
              "\n",
              "    .dataframe tbody tr th {\n",
              "        vertical-align: top;\n",
              "    }\n",
              "\n",
              "    .dataframe thead th {\n",
              "        text-align: right;\n",
              "    }\n",
              "</style>\n",
              "<table border=\"1\" class=\"dataframe\">\n",
              "  <thead>\n",
              "    <tr style=\"text-align: right;\">\n",
              "      <th></th>\n",
              "      <th>country</th>\n",
              "      <th>year</th>\n",
              "      <th>sex</th>\n",
              "      <th>age</th>\n",
              "      <th>suicides_no</th>\n",
              "      <th>population</th>\n",
              "      <th>suicides/100k pop</th>\n",
              "      <th>country-year</th>\n",
              "      <th>HDI for year</th>\n",
              "      <th>gdp_for_year ($)</th>\n",
              "      <th>gdp_per_capita ($)</th>\n",
              "      <th>generation</th>\n",
              "    </tr>\n",
              "  </thead>\n",
              "  <tbody>\n",
              "    <tr>\n",
              "      <th>0</th>\n",
              "      <td>Albania</td>\n",
              "      <td>1987</td>\n",
              "      <td>male</td>\n",
              "      <td>15-24 years</td>\n",
              "      <td>21</td>\n",
              "      <td>312900</td>\n",
              "      <td>6.71</td>\n",
              "      <td>Albania1987</td>\n",
              "      <td>0.776601</td>\n",
              "      <td>2,156,624,900</td>\n",
              "      <td>796</td>\n",
              "      <td>Generation X</td>\n",
              "    </tr>\n",
              "    <tr>\n",
              "      <th>1</th>\n",
              "      <td>Albania</td>\n",
              "      <td>1987</td>\n",
              "      <td>male</td>\n",
              "      <td>35-54 years</td>\n",
              "      <td>16</td>\n",
              "      <td>308000</td>\n",
              "      <td>5.19</td>\n",
              "      <td>Albania1987</td>\n",
              "      <td>0.776601</td>\n",
              "      <td>2,156,624,900</td>\n",
              "      <td>796</td>\n",
              "      <td>Silent</td>\n",
              "    </tr>\n",
              "    <tr>\n",
              "      <th>2</th>\n",
              "      <td>Albania</td>\n",
              "      <td>1987</td>\n",
              "      <td>female</td>\n",
              "      <td>15-24 years</td>\n",
              "      <td>14</td>\n",
              "      <td>289700</td>\n",
              "      <td>4.83</td>\n",
              "      <td>Albania1987</td>\n",
              "      <td>0.776601</td>\n",
              "      <td>2,156,624,900</td>\n",
              "      <td>796</td>\n",
              "      <td>Generation X</td>\n",
              "    </tr>\n",
              "    <tr>\n",
              "      <th>3</th>\n",
              "      <td>Albania</td>\n",
              "      <td>1987</td>\n",
              "      <td>male</td>\n",
              "      <td>75+ years</td>\n",
              "      <td>1</td>\n",
              "      <td>21800</td>\n",
              "      <td>4.59</td>\n",
              "      <td>Albania1987</td>\n",
              "      <td>0.776601</td>\n",
              "      <td>2,156,624,900</td>\n",
              "      <td>796</td>\n",
              "      <td>G.I. Generation</td>\n",
              "    </tr>\n",
              "    <tr>\n",
              "      <th>4</th>\n",
              "      <td>Albania</td>\n",
              "      <td>1987</td>\n",
              "      <td>male</td>\n",
              "      <td>25-34 years</td>\n",
              "      <td>9</td>\n",
              "      <td>274300</td>\n",
              "      <td>3.28</td>\n",
              "      <td>Albania1987</td>\n",
              "      <td>0.776601</td>\n",
              "      <td>2,156,624,900</td>\n",
              "      <td>796</td>\n",
              "      <td>Boomers</td>\n",
              "    </tr>\n",
              "  </tbody>\n",
              "</table>\n",
              "</div>"
            ],
            "text/plain": [
              "   country  year  ... gdp_per_capita ($)       generation\n",
              "0  Albania  1987  ...                796     Generation X\n",
              "1  Albania  1987  ...                796           Silent\n",
              "2  Albania  1987  ...                796     Generation X\n",
              "3  Albania  1987  ...                796  G.I. Generation\n",
              "4  Albania  1987  ...                796          Boomers\n",
              "\n",
              "[5 rows x 12 columns]"
            ]
          },
          "metadata": {
            "tags": []
          },
          "execution_count": 73
        }
      ]
    },
    {
      "cell_type": "code",
      "metadata": {
        "colab": {
          "base_uri": "https://localhost:8080/",
          "height": 204
        },
        "id": "slt36WoBypdW",
        "outputId": "c9375a9a-9113-41ef-b1cf-1d5d007071df"
      },
      "source": [
        "dflogistic = df.groupby('gdp_per_capita ($)').agg({'suicides/100k pop':'mean','HDI for year':'first'}).reset_index()\n",
        "dflogistic.head()"
      ],
      "execution_count": null,
      "outputs": [
        {
          "output_type": "execute_result",
          "data": {
            "text/html": [
              "<div>\n",
              "<style scoped>\n",
              "    .dataframe tbody tr th:only-of-type {\n",
              "        vertical-align: middle;\n",
              "    }\n",
              "\n",
              "    .dataframe tbody tr th {\n",
              "        vertical-align: top;\n",
              "    }\n",
              "\n",
              "    .dataframe thead th {\n",
              "        text-align: right;\n",
              "    }\n",
              "</style>\n",
              "<table border=\"1\" class=\"dataframe\">\n",
              "  <thead>\n",
              "    <tr style=\"text-align: right;\">\n",
              "      <th></th>\n",
              "      <th>gdp_per_capita ($)</th>\n",
              "      <th>suicides/100k pop</th>\n",
              "      <th>HDI for year</th>\n",
              "    </tr>\n",
              "  </thead>\n",
              "  <tbody>\n",
              "    <tr>\n",
              "      <th>0</th>\n",
              "      <td>251</td>\n",
              "      <td>1.500000</td>\n",
              "      <td>0.776601</td>\n",
              "    </tr>\n",
              "    <tr>\n",
              "      <th>1</th>\n",
              "      <td>291</td>\n",
              "      <td>15.953333</td>\n",
              "      <td>0.776601</td>\n",
              "    </tr>\n",
              "    <tr>\n",
              "      <th>2</th>\n",
              "      <td>313</td>\n",
              "      <td>15.219167</td>\n",
              "      <td>0.593000</td>\n",
              "    </tr>\n",
              "    <tr>\n",
              "      <th>3</th>\n",
              "      <td>345</td>\n",
              "      <td>16.108333</td>\n",
              "      <td>0.776601</td>\n",
              "    </tr>\n",
              "    <tr>\n",
              "      <th>4</th>\n",
              "      <td>357</td>\n",
              "      <td>4.254167</td>\n",
              "      <td>0.776601</td>\n",
              "    </tr>\n",
              "  </tbody>\n",
              "</table>\n",
              "</div>"
            ],
            "text/plain": [
              "   gdp_per_capita ($)  suicides/100k pop  HDI for year\n",
              "0                 251           1.500000      0.776601\n",
              "1                 291          15.953333      0.776601\n",
              "2                 313          15.219167      0.593000\n",
              "3                 345          16.108333      0.776601\n",
              "4                 357           4.254167      0.776601"
            ]
          },
          "metadata": {
            "tags": []
          },
          "execution_count": 61
        }
      ]
    },
    {
      "cell_type": "code",
      "metadata": {
        "colab": {
          "base_uri": "https://localhost:8080/"
        },
        "id": "NSXQGeECywCv",
        "outputId": "af54ade8-04d0-41d6-fd59-77d11437b33b"
      },
      "source": [
        "df.columns"
      ],
      "execution_count": null,
      "outputs": [
        {
          "output_type": "execute_result",
          "data": {
            "text/plain": [
              "Index(['country', 'year', 'sex', 'age', 'suicides_no', 'population',\n",
              "       'suicides/100k pop', 'country-year', 'HDI for year',\n",
              "       ' gdp_for_year ($) ', 'gdp_per_capita ($)', 'generation'],\n",
              "      dtype='object')"
            ]
          },
          "metadata": {
            "tags": []
          },
          "execution_count": 62
        }
      ]
    },
    {
      "cell_type": "code",
      "metadata": {
        "id": "jWsRXYyKy_e0"
      },
      "source": [
        "dflogistic['suicide'] = np.where(dflogistic['suicides/100k pop']>11, 1, 0) \n",
        "y = dflogistic.suicide.copy()\n",
        "X = dflogistic.drop(['suicide'], axis=1) \n",
        "X.drop(['suicides/100k pop'], axis=1, inplace=True)"
      ],
      "execution_count": null,
      "outputs": []
    },
    {
      "cell_type": "code",
      "metadata": {
        "id": "mmX3lVtdzped"
      },
      "source": [
        "X_train, X_test, y_train, y_test = train_test_split(X, y, test_size=0.25, random_state=0)"
      ],
      "execution_count": null,
      "outputs": []
    },
    {
      "cell_type": "code",
      "metadata": {
        "id": "P9KKY_9D0tKs"
      },
      "source": [
        "logistic_regression= LogisticRegression()\n",
        "logistic_regression.fit(X_train,y_train)\n",
        "y_pred=logistic_regression.predict(X_test)"
      ],
      "execution_count": null,
      "outputs": []
    },
    {
      "cell_type": "code",
      "metadata": {
        "colab": {
          "base_uri": "https://localhost:8080/",
          "height": 142
        },
        "id": "HtodFoS91D7M",
        "outputId": "7394cd77-36f0-46fc-e9f8-9a6926ecb88e"
      },
      "source": [
        "confusion_matrix = pd.crosstab(y_test, y_pred)\n",
        "confusion_matrix"
      ],
      "execution_count": null,
      "outputs": [
        {
          "output_type": "execute_result",
          "data": {
            "text/html": [
              "<div>\n",
              "<style scoped>\n",
              "    .dataframe tbody tr th:only-of-type {\n",
              "        vertical-align: middle;\n",
              "    }\n",
              "\n",
              "    .dataframe tbody tr th {\n",
              "        vertical-align: top;\n",
              "    }\n",
              "\n",
              "    .dataframe thead th {\n",
              "        text-align: right;\n",
              "    }\n",
              "</style>\n",
              "<table border=\"1\" class=\"dataframe\">\n",
              "  <thead>\n",
              "    <tr style=\"text-align: right;\">\n",
              "      <th>col_0</th>\n",
              "      <th>1</th>\n",
              "    </tr>\n",
              "    <tr>\n",
              "      <th>suicide</th>\n",
              "      <th></th>\n",
              "    </tr>\n",
              "  </thead>\n",
              "  <tbody>\n",
              "    <tr>\n",
              "      <th>0</th>\n",
              "      <td>270</td>\n",
              "    </tr>\n",
              "    <tr>\n",
              "      <th>1</th>\n",
              "      <td>289</td>\n",
              "    </tr>\n",
              "  </tbody>\n",
              "</table>\n",
              "</div>"
            ],
            "text/plain": [
              "col_0      1\n",
              "suicide     \n",
              "0        270\n",
              "1        289"
            ]
          },
          "metadata": {
            "tags": []
          },
          "execution_count": 66
        }
      ]
    },
    {
      "cell_type": "code",
      "metadata": {
        "colab": {
          "base_uri": "https://localhost:8080/",
          "height": 330
        },
        "id": "nIV4mJz-Ldr0",
        "outputId": "cbaa86d9-5402-4227-fded-47105f2628ee"
      },
      "source": [
        "class_names=[0,1] \n",
        "fig, ax = plt.subplots()\n",
        "tick_marks = np.arange(len(class_names))\n",
        "plt.xticks(tick_marks, class_names)\n",
        "plt.yticks(tick_marks, class_names)\n",
        "sn.heatmap(pd.DataFrame(confusion_matrix), annot=True, cmap=\"YlGnBu\" ,fmt='g')\n",
        "ax.xaxis.set_label_position(\"top\")\n",
        "plt.tight_layout()\n",
        "plt.title('Confusion matrix', y=1.1)\n",
        "plt.ylabel('Actual label')\n",
        "plt.xlabel('Predicted label')"
      ],
      "execution_count": null,
      "outputs": [
        {
          "output_type": "execute_result",
          "data": {
            "text/plain": [
              "Text(0.5, 257.44, 'Predicted label')"
            ]
          },
          "metadata": {
            "tags": []
          },
          "execution_count": 67
        },
        {
          "output_type": "display_data",
          "data": {
            "image/png": "[encoded data removed]",
            "text/plain": [
              "<Figure size 432x288 with 2 Axes>"
            ]
          },
          "metadata": {
            "tags": [],
            "needs_background": "light"
          }
        }
      ]
    },
    {
      "cell_type": "code",
      "metadata": {
        "colab": {
          "base_uri": "https://localhost:8080/"
        },
        "id": "Zvtts1YR1Q0K",
        "outputId": "7f0022ea-b6dc-43db-8c5a-bca0d1292aaf"
      },
      "source": [
        "print('Accuracy or rmse: ',metrics.accuracy_score(y_test,y_pred))\n",
        "print(\"Precision:\",metrics.precision_score(y_test,y_pred))"
      ],
      "execution_count": null,
      "outputs": [
        {
          "output_type": "stream",
          "text": [
            "Accuracy or rmse:  0.516994633273703\n",
            "Precision: 0.516994633273703\n",
            "Recall: 1.0\n"
          ],
          "name": "stdout"
        }
      ]
    },
    {
      "cell_type": "code",
      "metadata": {
        "colab": {
          "base_uri": "https://localhost:8080/",
          "height": 265
        },
        "id": "N9i55mwv1ge0",
        "outputId": "4daa0bed-9751-493c-a1fc-178ad3e4063c"
      },
      "source": [
        "y_pred_proba = logistic_regression.predict_proba(X_test)[::,1]\n",
        "fpr, tpr, _ = metrics.roc_curve(y_test,y_pred_proba)\n",
        "auc = metrics.roc_auc_score(y_test,y_pred_proba)\n",
        "plt.plot(fpr,tpr,label=\"data 1, auc=\"+str(auc))\n",
        "plt.legend(loc=4)\n",
        "plt.show()"
      ],
      "execution_count": null,
      "outputs": [
        {
          "output_type": "display_data",
          "data": {
            "image/png": "[encoded data removed]",
            "text/plain": [
              "<Figure size 432x288 with 1 Axes>"
            ]
          },
          "metadata": {
            "tags": [],
            "needs_background": "light"
          }
        }
      ]
    }
  ]
}