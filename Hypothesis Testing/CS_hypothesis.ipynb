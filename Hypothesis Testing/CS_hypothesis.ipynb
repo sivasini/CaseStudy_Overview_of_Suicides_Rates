{
  "nbformat": 4,
  "nbformat_minor": 0,
  "metadata": {
    "colab": {
      "name": "CS hypothesis.ipynb",
      "provenance": [],
      "collapsed_sections": []
    },
    "kernelspec": {
      "name": "python3",
      "display_name": "Python 3"
    }
  },
  "cells": [
    {
      "cell_type": "code",
      "metadata": {
        "id": "28ScRCySqRCZ"
      },
      "source": [
        "import pandas as pd\n",
        "import numpy as np\n",
        "import scipy.stats as st\n",
        "from scipy.stats import norm\n",
        "from scipy.integrate import quad\n",
        "import matplotlib.pyplot as plt\n",
        "from termcolor import colored\n",
        "%matplotlib inline"
      ],
      "execution_count": null,
      "outputs": []
    },
    {
      "cell_type": "code",
      "metadata": {
        "id": "Cw7ekDAXq9rd",
        "colab": {
          "base_uri": "https://localhost:8080/"
        },
        "outputId": "16dca048-b38e-441c-a13c-e1878ab6aab3"
      },
      "source": [
        "from google.colab import drive\n",
        "drive.mount('/content/drive')"
      ],
      "execution_count": null,
      "outputs": [
        {
          "output_type": "stream",
          "text": [
            "Mounted at /content/drive\n"
          ],
          "name": "stdout"
        }
      ]
    },
    {
      "cell_type": "code",
      "metadata": {
        "id": "cAFaNfbOq90g",
        "colab": {
          "base_uri": "https://localhost:8080/",
          "height": 197
        },
        "outputId": "a520fabf-ea1e-4d0c-cd27-f224bee2aecb"
      },
      "source": [
        "df=pd.read_csv(\"/content/drive/My Drive/dataset/master.csv\")\n",
        "df=df.drop(['country-year'],axis=1) \n",
        "df[' gdp_for_year ($) '] = df[' gdp_for_year ($) '].str.replace(',', '').astype(float)\n",
        "df.head()"
      ],
      "execution_count": null,
      "outputs": [
        {
          "output_type": "execute_result",
          "data": {
            "text/html": [
              "<div>\n",
              "<style scoped>\n",
              "    .dataframe tbody tr th:only-of-type {\n",
              "        vertical-align: middle;\n",
              "    }\n",
              "\n",
              "    .dataframe tbody tr th {\n",
              "        vertical-align: top;\n",
              "    }\n",
              "\n",
              "    .dataframe thead th {\n",
              "        text-align: right;\n",
              "    }\n",
              "</style>\n",
              "<table border=\"1\" class=\"dataframe\">\n",
              "  <thead>\n",
              "    <tr style=\"text-align: right;\">\n",
              "      <th></th>\n",
              "      <th>country</th>\n",
              "      <th>year</th>\n",
              "      <th>sex</th>\n",
              "      <th>age</th>\n",
              "      <th>suicides_no</th>\n",
              "      <th>population</th>\n",
              "      <th>suicides/100k pop</th>\n",
              "      <th>HDI for year</th>\n",
              "      <th>gdp_for_year ($)</th>\n",
              "      <th>gdp_per_capita ($)</th>\n",
              "      <th>generation</th>\n",
              "    </tr>\n",
              "  </thead>\n",
              "  <tbody>\n",
              "    <tr>\n",
              "      <th>0</th>\n",
              "      <td>Albania</td>\n",
              "      <td>1987</td>\n",
              "      <td>male</td>\n",
              "      <td>15-24 years</td>\n",
              "      <td>21</td>\n",
              "      <td>312900</td>\n",
              "      <td>6.71</td>\n",
              "      <td>NaN</td>\n",
              "      <td>2.156625e+09</td>\n",
              "      <td>796</td>\n",
              "      <td>Generation X</td>\n",
              "    </tr>\n",
              "    <tr>\n",
              "      <th>1</th>\n",
              "      <td>Albania</td>\n",
              "      <td>1987</td>\n",
              "      <td>male</td>\n",
              "      <td>35-54 years</td>\n",
              "      <td>16</td>\n",
              "      <td>308000</td>\n",
              "      <td>5.19</td>\n",
              "      <td>NaN</td>\n",
              "      <td>2.156625e+09</td>\n",
              "      <td>796</td>\n",
              "      <td>Silent</td>\n",
              "    </tr>\n",
              "    <tr>\n",
              "      <th>2</th>\n",
              "      <td>Albania</td>\n",
              "      <td>1987</td>\n",
              "      <td>female</td>\n",
              "      <td>15-24 years</td>\n",
              "      <td>14</td>\n",
              "      <td>289700</td>\n",
              "      <td>4.83</td>\n",
              "      <td>NaN</td>\n",
              "      <td>2.156625e+09</td>\n",
              "      <td>796</td>\n",
              "      <td>Generation X</td>\n",
              "    </tr>\n",
              "    <tr>\n",
              "      <th>3</th>\n",
              "      <td>Albania</td>\n",
              "      <td>1987</td>\n",
              "      <td>male</td>\n",
              "      <td>75+ years</td>\n",
              "      <td>1</td>\n",
              "      <td>21800</td>\n",
              "      <td>4.59</td>\n",
              "      <td>NaN</td>\n",
              "      <td>2.156625e+09</td>\n",
              "      <td>796</td>\n",
              "      <td>G.I. Generation</td>\n",
              "    </tr>\n",
              "    <tr>\n",
              "      <th>4</th>\n",
              "      <td>Albania</td>\n",
              "      <td>1987</td>\n",
              "      <td>male</td>\n",
              "      <td>25-34 years</td>\n",
              "      <td>9</td>\n",
              "      <td>274300</td>\n",
              "      <td>3.28</td>\n",
              "      <td>NaN</td>\n",
              "      <td>2.156625e+09</td>\n",
              "      <td>796</td>\n",
              "      <td>Boomers</td>\n",
              "    </tr>\n",
              "  </tbody>\n",
              "</table>\n",
              "</div>"
            ],
            "text/plain": [
              "   country  year  ... gdp_per_capita ($)       generation\n",
              "0  Albania  1987  ...                796     Generation X\n",
              "1  Albania  1987  ...                796           Silent\n",
              "2  Albania  1987  ...                796     Generation X\n",
              "3  Albania  1987  ...                796  G.I. Generation\n",
              "4  Albania  1987  ...                796          Boomers\n",
              "\n",
              "[5 rows x 11 columns]"
            ]
          },
          "metadata": {
            "tags": []
          },
          "execution_count": 5
        }
      ]
    },
    {
      "cell_type": "markdown",
      "metadata": {
        "id": "DcaxmnXzK6qe"
      },
      "source": [
        "#1st Hypothesis Testing"
      ]
    },
    {
      "cell_type": "code",
      "metadata": {
        "id": "jABxBSCpq965",
        "colab": {
          "base_uri": "https://localhost:8080/"
        },
        "outputId": "fc1a6bed-8e86-46a4-d18d-aa35bdeabcdf"
      },
      "source": [
        "mu=df['suicides_no'].mean()\n",
        "mu=round(mu,2)\n",
        "print('Mean',mu)\n",
        "std=df['suicides_no'].std()\n",
        "std=round(std,2)\n",
        "print('sigma',std)"
      ],
      "execution_count": null,
      "outputs": [
        {
          "output_type": "stream",
          "text": [
            "Mean 242.57\n",
            "sigma 902.05\n"
          ],
          "name": "stdout"
        }
      ]
    },
    {
      "cell_type": "markdown",
      "metadata": {
        "id": "VfUM-aHLKcK3"
      },
      "source": [
        "Sample data:"
      ]
    },
    {
      "cell_type": "code",
      "metadata": {
        "id": "wLiEoRWivkCd",
        "colab": {
          "base_uri": "https://localhost:8080/",
          "height": 197
        },
        "outputId": "0fced405-9c5a-4762-c3a9-7c2d09287228"
      },
      "source": [
        "sample=df.iloc[600:640,4].to_frame()\n",
        "sample.head(5)"
      ],
      "execution_count": null,
      "outputs": [
        {
          "output_type": "execute_result",
          "data": {
            "text/html": [
              "<div>\n",
              "<style scoped>\n",
              "    .dataframe tbody tr th:only-of-type {\n",
              "        vertical-align: middle;\n",
              "    }\n",
              "\n",
              "    .dataframe tbody tr th {\n",
              "        vertical-align: top;\n",
              "    }\n",
              "\n",
              "    .dataframe thead th {\n",
              "        text-align: right;\n",
              "    }\n",
              "</style>\n",
              "<table border=\"1\" class=\"dataframe\">\n",
              "  <thead>\n",
              "    <tr style=\"text-align: right;\">\n",
              "      <th></th>\n",
              "      <th>suicides_no</th>\n",
              "    </tr>\n",
              "  </thead>\n",
              "  <tbody>\n",
              "    <tr>\n",
              "      <th>600</th>\n",
              "      <td>230</td>\n",
              "    </tr>\n",
              "    <tr>\n",
              "      <th>601</th>\n",
              "      <td>530</td>\n",
              "    </tr>\n",
              "    <tr>\n",
              "      <th>602</th>\n",
              "      <td>478</td>\n",
              "    </tr>\n",
              "    <tr>\n",
              "      <th>603</th>\n",
              "      <td>209</td>\n",
              "    </tr>\n",
              "    <tr>\n",
              "      <th>604</th>\n",
              "      <td>48</td>\n",
              "    </tr>\n",
              "  </tbody>\n",
              "</table>\n",
              "</div>"
            ],
            "text/plain": [
              "     suicides_no\n",
              "600          230\n",
              "601          530\n",
              "602          478\n",
              "603          209\n",
              "604           48"
            ]
          },
          "metadata": {
            "tags": []
          },
          "execution_count": 7
        }
      ]
    },
    {
      "cell_type": "code",
      "metadata": {
        "id": "8GTsxILpz7HB",
        "colab": {
          "base_uri": "https://localhost:8080/"
        },
        "outputId": "b5730292-dd12-4b4f-bfdf-928cf84c48bf"
      },
      "source": [
        "xbar=sample['suicides_no'].mean()\n",
        "xbar=round(xbar,2)\n",
        "print('Sample Mean',xbar)\n"
      ],
      "execution_count": null,
      "outputs": [
        {
          "output_type": "stream",
          "text": [
            "Sample Mean 205.18\n"
          ],
          "name": "stdout"
        }
      ]
    },
    {
      "cell_type": "markdown",
      "metadata": {
        "id": "Bq88bFlQukob"
      },
      "source": [
        "#1)  A researcher claims that the average number of suicides is different from  242.57. A sample of 40 data collected has an average suicide number as 205.18 and 902.05 as population standard deviation. At alpha=0.1, is there enough evidence to reject the claim?"
      ]
    },
    {
      "cell_type": "markdown",
      "metadata": {
        "id": "h6r-N25fMckg"
      },
      "source": [
        "Z-test can be used since population standard deviation is known and n>30."
      ]
    },
    {
      "cell_type": "code",
      "metadata": {
        "id": "MUN5yWj-q9-X",
        "colab": {
          "base_uri": "https://localhost:8080/"
        },
        "outputId": "5765a569-98e2-4846-9ee8-17f95c1e77d1"
      },
      "source": [
        "#Step 1:\n",
        "#H0 : μ = 242.57 and Ha : μ ≠ 242.57 (claim)\n",
        "n = 40\n",
        "xbar = 205.18\n",
        "mu = 242.57\n",
        "sigma = 902.05\n",
        "alpha = 0.10\n",
        "\n",
        "#Step 2:\n",
        "z = (xbar - mu) / (sigma / np.sqrt(n))\n",
        "z=round(z,3)\n",
        "print(colored('z score','red'),z)\n",
        "\n",
        "#Step 3: Critical value for two-tailed test\n",
        "print(colored(\"CRITICAL VALUES:\",'green'))\n",
        "z_critical_right = abs(st.norm.ppf(0.10/2))\n",
        "z_critical_right=round(z_critical_right,3)\n",
        "print('Critical value on the right side of the normal distribution',z_critical_right)\n",
        "\n",
        "z_critical_left = (st.norm.ppf(0.10/2))\n",
        "z_critical_left=round(z_critical_left,3)\n",
        "print('Critical value on the left side of the normal distribution',z_critical_left)\n",
        "\n",
        "#Step 4:\n",
        "print(\"DECISION:\")\n",
        "if (z < z_critical_right and z > z_critical_left):\n",
        "  print(colored(\"Failed to reject null hypothesis\",'blue'))\n",
        "else:\n",
        "  print(colored(\"Reject null hypothesis\",'red'))\n",
        "\n",
        "#Step 5:\n",
        "print(\"CONCLUSION:\")\n",
        "if (z < z_critical_right and z > z_critical_left):\n",
        "  print(colored(\"There is not enough evidence to support the claim that the average suicide number is different from 242.57\",'blue'))\n",
        "else:\n",
        "  print(colored(\"There is enough evidence to support the claim that the average suicide number is different from 242.57\",'red'))"
      ],
      "execution_count": null,
      "outputs": [
        {
          "output_type": "stream",
          "text": [
            "\u001b[31mz score\u001b[0m -0.262\n",
            "\u001b[32mCRITICAL VALUES:\u001b[0m\n",
            "Critical value on the right side of the normal distribution 1.645\n",
            "Critical value on the left side of the normal distribution -1.645\n",
            "DECISION:\n",
            "\u001b[34mFailed to reject null hypothesis\u001b[0m\n",
            "CONCLUSION:\n",
            "\u001b[34mThere is not enough evidence to support the claim that the average suicide number is different from 242.57\u001b[0m\n"
          ],
          "name": "stdout"
        }
      ]
    },
    {
      "cell_type": "markdown",
      "metadata": {
        "id": "RZvRhkiMWde6"
      },
      "source": [
        "Failing to reject the null indicates that our sample did not provide sufficient evidence to conclude that the effect exists. However, at the same time, that lack of evidence doesn’t prove that the effect does not exist.\n",
        "Not enough evidence is available to suggest the null is false at the 90% confidence level."
      ]
    },
    {
      "cell_type": "code",
      "metadata": {
        "id": "dcK-JZpvA6nD",
        "colab": {
          "base_uri": "https://localhost:8080/",
          "height": 418
        },
        "outputId": "507b7179-90a8-451c-d67a-81a6672fcc91"
      },
      "source": [
        "fig = plt.figure(figsize=(12, 6))\n",
        "ax = fig.subplots()\n",
        "x = np.linspace(-5,5, 1000)\n",
        "y = norm.pdf(x)\n",
        "ax.vlines(z_critical_right, 0, norm.pdf(z_critical_right), color='red', linestyle='--')\n",
        "ax.vlines(z_critical_left, 0, norm.pdf(z_critical_left), color='red', linestyle='--')\n",
        "ax.fill_between(x, 0, y, color='limegreen', alpha=0.1,where=(x > z_critical_left) & (x < z_critical_right))\n",
        "ax.fill_between(x,0,y,color='red',alpha=0.1,where=(x < z_critical_left))\n",
        "ax.fill_between(x,0,y,color='red',alpha=0.1,where=(x > z_critical_right))\n",
        "ax.vlines(z,0,norm.pdf(z), color='green', linestyle='--')\n",
        "plt.xlabel('z',size=20)\n",
        "plt.ylabel('PDF',size=20)\n",
        "plt.title('Normal Distribution',size=20)\n",
        "plt.text(z_critical_left, norm.pdf(z_critical_left), \"z = {0:.3f}\".format(z_critical_left), fontsize=12,rotation=90, va=\"bottom\", ha=\"right\")\n",
        "plt.text(z_critical_right, norm.pdf(z_critical_right), \"z = {0:.3f}\".format(z_critical_right),fontsize=12, rotation=90, va=\"bottom\", ha=\"left\")\n",
        "plt.text(z, norm.pdf(z), \"z = {0:.3f}\".format(z),fontsize=12);"
      ],
      "execution_count": null,
      "outputs": [
        {
          "output_type": "display_data",
          "data": {
            "image/png": "[encoded data removed]",
            "text/plain": [
              "<Figure size 864x432 with 1 Axes>"
            ]
          },
          "metadata": {
            "tags": [],
            "needs_background": "light"
          }
        }
      ]
    },
    {
      "cell_type": "markdown",
      "metadata": {
        "id": "xO4hOaM6A-xq"
      },
      "source": [
        "The z test value does not lie in the critical region. Hence, failed to reject null hyothesis."
      ]
    },
    {
      "cell_type": "markdown",
      "metadata": {
        "id": "zPHDwkex7CbT"
      },
      "source": [
        "#Using P-value method,"
      ]
    },
    {
      "cell_type": "code",
      "metadata": {
        "id": "RjbGf4gC2sE7",
        "colab": {
          "base_uri": "https://localhost:8080/"
        },
        "outputId": "c65ce503-ec8d-40ec-9209-1c14dc8a940a"
      },
      "source": [
        "p_val = (1-st.norm.cdf(z))\n",
        "p_val=round(p_val,3)\n",
        "print(colored(\"P-value\",'red'),p_val)\n",
        "print(colored(\"Alpha  \",'red'),alpha)\n",
        "\n",
        "if (p_val>alpha):\n",
        "  print('P value > alpha')\n",
        "  print(colored(\"So, failed to reject null hypothesis\",'blue'))\n",
        "else:\n",
        "  print('P value < alpha')\n",
        "  print(colored(\"So, reject null hypothesis\",'red'))\n",
        "\n",
        "if (p_val>alpha):\n",
        "  print(colored(\"There is not enough evidence to support the claim that the average suicide number is different from 242.57\",'blue'))\n",
        "else:\n",
        "  print(colored(\"There is enough evidence to support the claim that the average suicide number is different from 242.57\",'red')) "
      ],
      "execution_count": null,
      "outputs": [
        {
          "output_type": "stream",
          "text": [
            "\u001b[31mP-value\u001b[0m 0.603\n",
            "\u001b[31mAlpha  \u001b[0m 0.1\n",
            "P value > alpha\n",
            "\u001b[34mSo, failed to reject null hypothesis\u001b[0m\n",
            "\u001b[34mThere is not enough evidence to support the claim that the average suicide number is different from 242.57\u001b[0m\n"
          ],
          "name": "stdout"
        }
      ]
    },
    {
      "cell_type": "markdown",
      "metadata": {
        "id": "nXBS-MzT8joN"
      },
      "source": [
        "#By confidence interval method,"
      ]
    },
    {
      "cell_type": "code",
      "metadata": {
        "id": "ni_BxtAM2sSP",
        "colab": {
          "base_uri": "https://localhost:8080/"
        },
        "outputId": "cf8eed26-b46d-4e0d-92cf-6ddcb74f2c83"
      },
      "source": [
        "# 90% confidence interval is taken,\n",
        "a =xbar - (z_critical_right*(sigma / np.sqrt(n)))\n",
        "a=round(a,2)\n",
        "b =xbar + (z_critical_right*(sigma / np.sqrt(n)))\n",
        "b=round(b,2)\n",
        "print(a,'< mu <',b)\n",
        "if (a < mu and b > mu):\n",
        "  print(colored(\" mu lies in the confidence interval 90 % and therfore the test supports proper inflation at 10% level of significance.\",'blue'))\n",
        "else:\n",
        "  print(colored(\" mu does not lie in the confidence interval 90 % and therfore the test does not support proper inflation at 10% level of significance.\",'red'))"
      ],
      "execution_count": null,
      "outputs": [
        {
          "output_type": "stream",
          "text": [
            "-29.44 < mu < 439.8\n",
            "\u001b[34m mu lies in the confidence interval 90 % and therfore the test supports proper inflation at 10% level of significance.\u001b[0m\n"
          ],
          "name": "stdout"
        }
      ]
    },
    {
      "cell_type": "markdown",
      "metadata": {
        "id": "DJafgIvtKuOb"
      },
      "source": [
        "#2nd Hypothesis Testing :"
      ]
    },
    {
      "cell_type": "markdown",
      "metadata": {
        "id": "Hu8DZ2eIKktE"
      },
      "source": [
        "Population:"
      ]
    },
    {
      "cell_type": "code",
      "metadata": {
        "id": "Yi2TjAUoG7eo",
        "colab": {
          "base_uri": "https://localhost:8080/",
          "height": 197
        },
        "outputId": "8f92ffdb-a18f-40bb-ff64-433d8e9483da"
      },
      "source": [
        "pop_data=df.loc[df['country']=='Portugal','suicides/100k pop'].to_frame().reset_index()\n",
        "pop_data.head(5)"
      ],
      "execution_count": null,
      "outputs": [
        {
          "output_type": "execute_result",
          "data": {
            "text/html": [
              "<div>\n",
              "<style scoped>\n",
              "    .dataframe tbody tr th:only-of-type {\n",
              "        vertical-align: middle;\n",
              "    }\n",
              "\n",
              "    .dataframe tbody tr th {\n",
              "        vertical-align: top;\n",
              "    }\n",
              "\n",
              "    .dataframe thead th {\n",
              "        text-align: right;\n",
              "    }\n",
              "</style>\n",
              "<table border=\"1\" class=\"dataframe\">\n",
              "  <thead>\n",
              "    <tr style=\"text-align: right;\">\n",
              "      <th></th>\n",
              "      <th>index</th>\n",
              "      <th>suicides/100k pop</th>\n",
              "    </tr>\n",
              "  </thead>\n",
              "  <tbody>\n",
              "    <tr>\n",
              "      <th>0</th>\n",
              "      <td>19356</td>\n",
              "      <td>55.43</td>\n",
              "    </tr>\n",
              "    <tr>\n",
              "      <th>1</th>\n",
              "      <td>19357</td>\n",
              "      <td>30.41</td>\n",
              "    </tr>\n",
              "    <tr>\n",
              "      <th>2</th>\n",
              "      <td>19358</td>\n",
              "      <td>16.76</td>\n",
              "    </tr>\n",
              "    <tr>\n",
              "      <th>3</th>\n",
              "      <td>19359</td>\n",
              "      <td>13.53</td>\n",
              "    </tr>\n",
              "    <tr>\n",
              "      <th>4</th>\n",
              "      <td>19360</td>\n",
              "      <td>12.37</td>\n",
              "    </tr>\n",
              "  </tbody>\n",
              "</table>\n",
              "</div>"
            ],
            "text/plain": [
              "   index  suicides/100k pop\n",
              "0  19356              55.43\n",
              "1  19357              30.41\n",
              "2  19358              16.76\n",
              "3  19359              13.53\n",
              "4  19360              12.37"
            ]
          },
          "metadata": {
            "tags": []
          },
          "execution_count": 14
        }
      ]
    },
    {
      "cell_type": "code",
      "metadata": {
        "id": "H9CyHx64G7hc",
        "colab": {
          "base_uri": "https://localhost:8080/"
        },
        "outputId": "fb996968-4752-4ac3-fa11-a3087f27f673"
      },
      "source": [
        "mu=pop_data['suicides/100k pop'].mean()\n",
        "mu=round(mu,2)\n",
        "print(\"Mean\",mu)"
      ],
      "execution_count": null,
      "outputs": [
        {
          "output_type": "stream",
          "text": [
            "Mean 11.34\n"
          ],
          "name": "stdout"
        }
      ]
    },
    {
      "cell_type": "markdown",
      "metadata": {
        "id": "f2NFLnypKpXQ"
      },
      "source": [
        "Sample data:"
      ]
    },
    {
      "cell_type": "code",
      "metadata": {
        "id": "ZL344c1eG7kh",
        "colab": {
          "base_uri": "https://localhost:8080/",
          "height": 347
        },
        "outputId": "e924f908-6132-4b33-8320-76e8969c24c9"
      },
      "source": [
        "sample1=pop_data.sample(n=10,random_state=0)\n",
        "sample1"
      ],
      "execution_count": null,
      "outputs": [
        {
          "output_type": "execute_result",
          "data": {
            "text/html": [
              "<div>\n",
              "<style scoped>\n",
              "    .dataframe tbody tr th:only-of-type {\n",
              "        vertical-align: middle;\n",
              "    }\n",
              "\n",
              "    .dataframe tbody tr th {\n",
              "        vertical-align: top;\n",
              "    }\n",
              "\n",
              "    .dataframe thead th {\n",
              "        text-align: right;\n",
              "    }\n",
              "</style>\n",
              "<table border=\"1\" class=\"dataframe\">\n",
              "  <thead>\n",
              "    <tr style=\"text-align: right;\">\n",
              "      <th></th>\n",
              "      <th>index</th>\n",
              "      <th>suicides/100k pop</th>\n",
              "    </tr>\n",
              "  </thead>\n",
              "  <tbody>\n",
              "    <tr>\n",
              "      <th>295</th>\n",
              "      <td>19651</td>\n",
              "      <td>3.35</td>\n",
              "    </tr>\n",
              "    <tr>\n",
              "      <th>65</th>\n",
              "      <td>19421</td>\n",
              "      <td>7.55</td>\n",
              "    </tr>\n",
              "    <tr>\n",
              "      <th>15</th>\n",
              "      <td>19371</td>\n",
              "      <td>12.05</td>\n",
              "    </tr>\n",
              "    <tr>\n",
              "      <th>274</th>\n",
              "      <td>19630</td>\n",
              "      <td>0.19</td>\n",
              "    </tr>\n",
              "    <tr>\n",
              "      <th>140</th>\n",
              "      <td>19496</td>\n",
              "      <td>1.73</td>\n",
              "    </tr>\n",
              "    <tr>\n",
              "      <th>153</th>\n",
              "      <td>19509</td>\n",
              "      <td>1.16</td>\n",
              "    </tr>\n",
              "    <tr>\n",
              "      <th>101</th>\n",
              "      <td>19457</td>\n",
              "      <td>6.28</td>\n",
              "    </tr>\n",
              "    <tr>\n",
              "      <th>234</th>\n",
              "      <td>19590</td>\n",
              "      <td>4.88</td>\n",
              "    </tr>\n",
              "    <tr>\n",
              "      <th>63</th>\n",
              "      <td>19419</td>\n",
              "      <td>14.88</td>\n",
              "    </tr>\n",
              "    <tr>\n",
              "      <th>159</th>\n",
              "      <td>19515</td>\n",
              "      <td>7.97</td>\n",
              "    </tr>\n",
              "  </tbody>\n",
              "</table>\n",
              "</div>"
            ],
            "text/plain": [
              "     index  suicides/100k pop\n",
              "295  19651               3.35\n",
              "65   19421               7.55\n",
              "15   19371              12.05\n",
              "274  19630               0.19\n",
              "140  19496               1.73\n",
              "153  19509               1.16\n",
              "101  19457               6.28\n",
              "234  19590               4.88\n",
              "63   19419              14.88\n",
              "159  19515               7.97"
            ]
          },
          "metadata": {
            "tags": []
          },
          "execution_count": 51
        }
      ]
    },
    {
      "cell_type": "code",
      "metadata": {
        "id": "NDs2k3F7G7nU",
        "colab": {
          "base_uri": "https://localhost:8080/"
        },
        "outputId": "d65007b3-9ebf-4948-895c-f6d7da38964e"
      },
      "source": [
        "xbar=sample1['suicides/100k pop'].mean()\n",
        "xbar=round(xbar,2)\n",
        "print(\"Sample Mean\",xbar)\n",
        "s=sample1['suicides/100k pop'].std()\n",
        "s=round(s,2)\n",
        "print(\"Sample Std \",s)"
      ],
      "execution_count": null,
      "outputs": [
        {
          "output_type": "stream",
          "text": [
            "Sample Mean 6.0\n",
            "Sample Std  4.78\n"
          ],
          "name": "stdout"
        }
      ]
    },
    {
      "cell_type": "markdown",
      "metadata": {
        "id": "IfycpxZH_xIh"
      },
      "source": [
        "#2) A newspaper claims that the average number of suicides in Portugal is greater than 11.34 per 100k population. A random sample of 10 data were collected which has a mean of 6 per 100k population. The sample standard deviation is 4.78. Is there eough evidence to reject the newpaper's claim at alpha =0.05?"
      ]
    },
    {
      "cell_type": "markdown",
      "metadata": {
        "id": "aOt5OYWPMB9Z"
      },
      "source": [
        "T-test can be used since population standard deviation is unknown and n>=30."
      ]
    },
    {
      "cell_type": "code",
      "metadata": {
        "id": "y0pChfmeMpf9",
        "colab": {
          "base_uri": "https://localhost:8080/"
        },
        "outputId": "46673412-51c6-4570-ffcd-ef08a836b873"
      },
      "source": [
        "#Step 1:\n",
        "#H0 : μ = 11.34  and Ha : μ > 11.34 (claim)\n",
        "n = 10\n",
        "xbar = 6\n",
        "mu = 11.34\n",
        "s=4.78\n",
        "alpha = 0.05\n",
        "degrees_of_freedom=n-1\n",
        "\n",
        "#Step 2:\n",
        "t = (xbar - mu) / (s / np.sqrt(n))\n",
        "t=round(t,3)\n",
        "print(colored('t-value','blue'),t)\n",
        "\n",
        "#Step 3: Critical value for right-tailed test\n",
        "t_critical = abs(st.t.ppf(alpha, degrees_of_freedom))\n",
        "t_critical =round(t_critical,2)\n",
        "print(colored(\"CRITICAL VALUE:\",'green'),t_critical)\n",
        "\n",
        "#Step 4:\n",
        "print(\"DECISION:\")\n",
        "if (abs(t) < abs(t_critical)):\n",
        "  print(colored(\"Failed to reject null hypothesis\",'blue'))\n",
        "else:\n",
        "  print(colored(\"Reject null hypothesis\",'red'))\n",
        "\n",
        "#Step 5:\n",
        "print(\"CONCLUSION:\")\n",
        "if (abs(t) < abs(t_critical)):\n",
        "  print(colored(\"There is not enough evidence to support the claim that the average suicide number per 100k population is greater than 11.34.\",'blue'))\n",
        "else:\n",
        "  print(colored(\"There is enough evidence to support the claim that the average suicide number per 100k population is greater than 11.34. \",'red'))"
      ],
      "execution_count": null,
      "outputs": [
        {
          "output_type": "stream",
          "text": [
            "\u001b[34mt-value\u001b[0m -3.533\n",
            "\u001b[32mCRITICAL VALUE:\u001b[0m 1.83\n",
            "DECISION:\n",
            "\u001b[31mReject null hypothesis\u001b[0m\n",
            "CONCLUSION:\n",
            "\u001b[31mThere is enough evidence to support the claim that the average suicide number per 100k population is greater than 11.34. \u001b[0m\n"
          ],
          "name": "stdout"
        }
      ]
    },
    {
      "cell_type": "markdown",
      "metadata": {
        "id": "cT9QSdtGVL5P"
      },
      "source": [
        "This means that the sample data choosen favors the alternative hypothesis.  Thus, results are statistically significant and the choosen sample has effect on the popultion."
      ]
    },
    {
      "cell_type": "code",
      "metadata": {
        "id": "ZoZSoG2Qelw2",
        "colab": {
          "base_uri": "https://localhost:8080/",
          "height": 418
        },
        "outputId": "c4747b1b-c3df-4b5f-a552-694759312d23"
      },
      "source": [
        "fig = plt.figure(figsize=(12, 6))\n",
        "ax = fig.subplots()\n",
        "x = np.linspace(-4,4, 1000)\n",
        "y = norm.pdf(x)\n",
        "ax.vlines(t_critical, 0, norm.pdf(t_critical), color='red', linestyle='--')\n",
        "ax.fill_between(x, 0, y, color='red', alpha=0.1,where=(x > t_critical))\n",
        "ax.fill_between(x,0,y,color='limegreen',alpha=0.1,where=(x < t_critical))\n",
        "ax.vlines(abs(t),0,norm.pdf(t), color='green', linestyle='--')\n",
        "plt.xlabel('Value',size=20)\n",
        "plt.ylabel('PDF',size=20)\n",
        "plt.title('Normal Distribution',size=20)\n",
        "plt.text(t_critical, norm.pdf(t_critical), \"{0:.3f}\".format(t_critical), fontsize=12,rotation=90, va=\"bottom\", ha=\"right\")\n",
        "plt.text(abs(t), norm.pdf(t), \"{0:.3f}\".format(abs(t)),fontsize=12,rotation=90, va=\"bottom\");"
      ],
      "execution_count": null,
      "outputs": [
        {
          "output_type": "display_data",
          "data": {
            "image/png": "[encoded data removed]",
            "text/plain": [
              "<Figure size 864x432 with 1 Axes>"
            ]
          },
          "metadata": {
            "tags": [],
            "needs_background": "light"
          }
        }
      ]
    },
    {
      "cell_type": "markdown",
      "metadata": {
        "id": "4YidIF8XhHVz"
      },
      "source": [
        "Since t-score lies in the critical region, null hypothesis is rejected."
      ]
    },
    {
      "cell_type": "markdown",
      "metadata": {
        "id": "gj-osjZxXOur"
      },
      "source": [
        "#By P-value method,"
      ]
    },
    {
      "cell_type": "code",
      "metadata": {
        "id": "_ZCNhmoaMpjB",
        "colab": {
          "base_uri": "https://localhost:8080/"
        },
        "outputId": "cee4f449-4b2a-4a00-eced-1211bcd09041"
      },
      "source": [
        "p_val = (1-st.t.cdf(abs(t) ,degrees_of_freedom)) #\"1 - cdf\" because it's a right-tailed test\n",
        "p_val=round(p_val,2)\n",
        "print(colored(\"P-value\",'red'),p_val)\n",
        "print(colored(\"Alpha \",'red'),alpha)\n",
        "if (p_val>alpha):\n",
        "  print('P value > alpha')\n",
        "  print(colored(\"So, failed to reject null hypothesis\",'blue'))\n",
        "else:\n",
        "  print('P value < alpha')\n",
        "  print(colored(\"So, reject null hypothesis\",'red'))\n",
        "\n",
        "if (p_val>alpha):\n",
        "  print(colored(\"There is not enough evidence to support the claim that the average suicide number per 100k population is greater than 11.34\",'blue'))\n",
        "else:\n",
        "  print(colored(\"There is enough evidence to support the claim that the average suicide number per 100k population is greater than 11.34\",'red')) \n"
      ],
      "execution_count": null,
      "outputs": [
        {
          "output_type": "stream",
          "text": [
            "\u001b[31mP-value\u001b[0m 0.0\n",
            "\u001b[31mAlpha \u001b[0m 0.05\n",
            "P value < alpha\n",
            "\u001b[31mSo, reject null hypothesis\u001b[0m\n",
            "\u001b[31mThere is enough evidence to support the claim that the average suicide number per 100k population is greater than 11.34\u001b[0m\n"
          ],
          "name": "stdout"
        }
      ]
    },
    {
      "cell_type": "markdown",
      "metadata": {
        "id": "sbRrG9fbhjxc"
      },
      "source": [
        "#3rd Hypothesis Testing"
      ]
    },
    {
      "cell_type": "markdown",
      "metadata": {
        "id": "8pUdSGqil7id"
      },
      "source": [
        "Population data:"
      ]
    },
    {
      "cell_type": "code",
      "metadata": {
        "id": "UqXkV7NIMpmB",
        "colab": {
          "base_uri": "https://localhost:8080/",
          "height": 197
        },
        "outputId": "8288a087-ed29-4de5-c90e-69f87054520b"
      },
      "source": [
        "population=df.loc[df['year']==2003,'gdp_per_capita ($)'].to_frame()\n",
        "population.head(5)"
      ],
      "execution_count": null,
      "outputs": [
        {
          "output_type": "execute_result",
          "data": {
            "text/html": [
              "<div>\n",
              "<style scoped>\n",
              "    .dataframe tbody tr th:only-of-type {\n",
              "        vertical-align: middle;\n",
              "    }\n",
              "\n",
              "    .dataframe tbody tr th {\n",
              "        vertical-align: top;\n",
              "    }\n",
              "\n",
              "    .dataframe thead th {\n",
              "        text-align: right;\n",
              "    }\n",
              "</style>\n",
              "<table border=\"1\" class=\"dataframe\">\n",
              "  <thead>\n",
              "    <tr style=\"text-align: right;\">\n",
              "      <th></th>\n",
              "      <th>gdp_per_capita ($)</th>\n",
              "    </tr>\n",
              "  </thead>\n",
              "  <tbody>\n",
              "    <tr>\n",
              "      <th>168</th>\n",
              "      <td>2021</td>\n",
              "    </tr>\n",
              "    <tr>\n",
              "      <th>169</th>\n",
              "      <td>2021</td>\n",
              "    </tr>\n",
              "    <tr>\n",
              "      <th>170</th>\n",
              "      <td>2021</td>\n",
              "    </tr>\n",
              "    <tr>\n",
              "      <th>171</th>\n",
              "      <td>2021</td>\n",
              "    </tr>\n",
              "    <tr>\n",
              "      <th>172</th>\n",
              "      <td>2021</td>\n",
              "    </tr>\n",
              "  </tbody>\n",
              "</table>\n",
              "</div>"
            ],
            "text/plain": [
              "     gdp_per_capita ($)\n",
              "168                2021\n",
              "169                2021\n",
              "170                2021\n",
              "171                2021\n",
              "172                2021"
            ]
          },
          "metadata": {
            "tags": []
          },
          "execution_count": 25
        }
      ]
    },
    {
      "cell_type": "code",
      "metadata": {
        "id": "oid-xvaCnwAb",
        "colab": {
          "base_uri": "https://localhost:8080/"
        },
        "outputId": "e7f9920b-d6ed-4642-c11f-b9a66042a05d"
      },
      "source": [
        "sigma=population['gdp_per_capita ($)'].std()\n",
        "sigma=round(sigma,2)\n",
        "print('Population Std',sigma)"
      ],
      "execution_count": null,
      "outputs": [
        {
          "output_type": "stream",
          "text": [
            "Population Std 15429.52\n"
          ],
          "name": "stdout"
        }
      ]
    },
    {
      "cell_type": "markdown",
      "metadata": {
        "id": "ijez0Pcdl-BT"
      },
      "source": [
        "Sample data:"
      ]
    },
    {
      "cell_type": "code",
      "metadata": {
        "id": "jhQxbBSEl5YV",
        "colab": {
          "base_uri": "https://localhost:8080/",
          "height": 197
        },
        "outputId": "ae87b16e-b56e-4560-e625-e612b37bfd98"
      },
      "source": [
        "sam=population.sample(n=24,random_state=0)\n",
        "sam.head(5)"
      ],
      "execution_count": null,
      "outputs": [
        {
          "output_type": "execute_result",
          "data": {
            "text/html": [
              "<div>\n",
              "<style scoped>\n",
              "    .dataframe tbody tr th:only-of-type {\n",
              "        vertical-align: middle;\n",
              "    }\n",
              "\n",
              "    .dataframe tbody tr th {\n",
              "        vertical-align: top;\n",
              "    }\n",
              "\n",
              "    .dataframe thead th {\n",
              "        text-align: right;\n",
              "    }\n",
              "</style>\n",
              "<table border=\"1\" class=\"dataframe\">\n",
              "  <thead>\n",
              "    <tr style=\"text-align: right;\">\n",
              "      <th></th>\n",
              "      <th>gdp_per_capita ($)</th>\n",
              "    </tr>\n",
              "  </thead>\n",
              "  <tbody>\n",
              "    <tr>\n",
              "      <th>17286</th>\n",
              "      <td>37614</td>\n",
              "    </tr>\n",
              "    <tr>\n",
              "      <th>25151</th>\n",
              "      <td>2531</td>\n",
              "    </tr>\n",
              "    <tr>\n",
              "      <th>22037</th>\n",
              "      <td>2979</td>\n",
              "    </tr>\n",
              "    <tr>\n",
              "      <th>6771</th>\n",
              "      <td>3409</td>\n",
              "    </tr>\n",
              "    <tr>\n",
              "      <th>11897</th>\n",
              "      <td>42174</td>\n",
              "    </tr>\n",
              "  </tbody>\n",
              "</table>\n",
              "</div>"
            ],
            "text/plain": [
              "       gdp_per_capita ($)\n",
              "17286               37614\n",
              "25151                2531\n",
              "22037                2979\n",
              "6771                 3409\n",
              "11897               42174"
            ]
          },
          "metadata": {
            "tags": []
          },
          "execution_count": 58
        }
      ]
    },
    {
      "cell_type": "code",
      "metadata": {
        "id": "xox19HUnnq9i",
        "colab": {
          "base_uri": "https://localhost:8080/"
        },
        "outputId": "4ee6068b-0d33-401c-c146-fba25c739002"
      },
      "source": [
        "s=sam['gdp_per_capita ($)'].std()\n",
        "s=round(s,2)\n",
        "print('Sample Std',s)"
      ],
      "execution_count": null,
      "outputs": [
        {
          "output_type": "stream",
          "text": [
            "Sample Std 14596.29\n"
          ],
          "name": "stdout"
        }
      ]
    },
    {
      "cell_type": "markdown",
      "metadata": {
        "id": "aAxDFUM5kx99"
      },
      "source": [
        "#3) A medical researcher from past studies claimes that the standard deviation of GDP per Capita in the year 2003 is lesser than 15429.52. A random sample of 24 data is selected and inspected. The sample standard deviation is 14596.29. At alpha=0.05, can it be concluded that the standard deviation has changed?"
      ]
    },
    {
      "cell_type": "markdown",
      "metadata": {
        "id": "HohuxcDsoq4Y"
      },
      "source": [
        "Since only standard deviations of population and sample are given, chi-square test is applied."
      ]
    },
    {
      "cell_type": "code",
      "metadata": {
        "id": "H-wzotskhirm",
        "colab": {
          "base_uri": "https://localhost:8080/"
        },
        "outputId": "6949c3ed-8202-4bf2-dc0e-b7cbbe329523"
      },
      "source": [
        "#Step 1:\n",
        "#H0 : σ = 15429.52 , Ha : σ < 15429.52 (claim)\n",
        "n = 24\n",
        "degrees_of_freedom = n-1\n",
        "s = 14596.29\n",
        "sigma = 15429.52\n",
        "alpha = 0.05\n",
        "\n",
        "#Step 2:\n",
        "chi_square = ((n-1)*(s**2))/sigma**2\n",
        "chi_square =round(chi_square,2)\n",
        "print(colored(\"Chi-square value\",'red'),chi_square)\n",
        "\n",
        "#Step 3: Critical value for left-tailed test\n",
        "chi_square_critical = st.chi2.ppf(alpha, degrees_of_freedom) \n",
        "chi_square_critical=round(chi_square_critical,2)\n",
        "print(colored(\"CRITICAL VALUE:\",'green'),chi_square_critical)\n",
        "\n",
        "#Step 4:\n",
        "print(\"DECISION:\")\n",
        "if (chi_square > chi_square_critical):\n",
        "  print(colored(\"Failed to reject null hypothesis\",'blue'))\n",
        "else:\n",
        "  print(colored(\"Reject null hypothesis\",'red'))\n",
        "\n",
        "#Step 5:\n",
        "print(\"CONCLUSION:\")\n",
        "if (chi_square > chi_square_critical):\n",
        "  print(colored(\"There is not enough evidence to support the researcher's claim that the that the standard deviation of GDP per Capita in the year 2003 is less than 15429.52.\",'blue'))\n",
        "else:\n",
        "  print(colored(\"There is enough evidence to support the researcher's claim that the that the standard deviation of GDP per Capita in the year 2003 is less than 15429.52. \",'red'))"
      ],
      "execution_count": null,
      "outputs": [
        {
          "output_type": "stream",
          "text": [
            "\u001b[31mChi-square value\u001b[0m 20.58\n",
            "\u001b[32mCRITICAL VALUE:\u001b[0m 13.09\n",
            "DECISION:\n",
            "\u001b[34mFailed to reject null hypothesis\u001b[0m\n",
            "CONCLUSION:\n",
            "\u001b[34mThere is not enough evidence to support the researcher's claim that the that the standard deviation of GDP per Capita in the year 2003 is less than 15429.52.\u001b[0m\n"
          ],
          "name": "stdout"
        }
      ]
    },
    {
      "cell_type": "markdown",
      "metadata": {
        "id": "jLK4jbImzSuQ"
      },
      "source": [
        "Failing to reject the null indicates that our sample did not provide sufficient evidence to conclude that the effect exists. However, at the same time, that lack of evidence doesn’t prove that the effect does not exist. Not enough evidence is available to suggest the null is false at the 95% confidence level."
      ]
    },
    {
      "cell_type": "code",
      "metadata": {
        "id": "LeCxfgai2IO-",
        "colab": {
          "base_uri": "https://localhost:8080/",
          "height": 418
        },
        "outputId": "dab58a67-c93f-46ed-dcfd-af24c644131f"
      },
      "source": [
        "fig = plt.figure(figsize=(12,6))\n",
        "ax = fig.subplots()\n",
        "df=23\n",
        "x = np.linspace(0,30, 100)\n",
        "y = st.chi2.pdf(x,df)\n",
        "ax.vlines(chi_square_critical, 0,st.chi2.pdf(chi_square_critical,df), color='red', linestyle='--')\n",
        "ax.fill_between(x, 0, y, color='limegreen', alpha=0.1,where=(x > chi_square_critical))\n",
        "ax.fill_between(x,0,y,color='red',alpha=0.1,where=(x < chi_square_critical))\n",
        "ax.vlines(chi_square,0,st.chi2.pdf(chi_square,df), color='green', linestyle='--')\n",
        "plt.xlabel('Value',size=20)\n",
        "plt.ylabel('PDF',size=20)\n",
        "plt.title('Chi-square Distribution',size=20)\n",
        "plt.text(chi_square_critical,st.chi2.pdf(t_critical,df), \"{0:.3f}\".format(chi_square_critical), fontsize=12,rotation=90, va=\"bottom\", ha=\"right\")\n",
        "plt.text((chi_square), st.chi2.pdf(chi_square,df), \"{0:.3f}\".format(chi_square),fontsize=12);"
      ],
      "execution_count": null,
      "outputs": [
        {
          "output_type": "display_data",
          "data": {
            "image/png": "[encoded data removed]",
            "text/plain": [
              "<Figure size 864x432 with 1 Axes>"
            ]
          },
          "metadata": {
            "tags": [],
            "needs_background": "light"
          }
        }
      ]
    },
    {
      "cell_type": "markdown",
      "metadata": {
        "id": "gcdIjLZo9FRG"
      },
      "source": [
        "Since chi-square-score does not lie in the critical region, null hypothesis is failed to rejected."
      ]
    }
  ]
}